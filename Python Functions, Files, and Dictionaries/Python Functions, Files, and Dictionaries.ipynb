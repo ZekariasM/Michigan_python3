{
 "cells": [
  {
   "cell_type": "markdown",
   "metadata": {},
   "source": [
    "# Python Functions, Files, and Dictionaries"
   ]
  },
  {
   "cell_type": "markdown",
   "metadata": {},
   "source": [
    "## Introduction: Working with Data Files\n",
    "In Python, we must **open** files before we can use them and **close** them when we are done with them. As you might expect, **once a file is opened it becomes a Python object** just like all other data. The followoing shows the functions and methods that can be used to open and close files.\n",
    "\n",
    "    `open` | `open(filename,'r')` --> Open a file called filename and use it for reading. This will return a reference to a file object.\n",
    "\n",
    "    `open` | `open(filename,'w')` -----> Open a file called filename and use it for writing. This will also return a reference to a file object.\n",
    "\n",
    "    `close` | `filevariable.close()` -----> File use is complete."
   ]
  },
  {
   "cell_type": "markdown",
   "metadata": {},
   "source": [
    "## Reading a File\n",
    "As an example, suppose we have a text file called `olympics.txt` that contains the data representing about olympians across different years. The contents of the file are shown at the bottom of the page.\n",
    "\n",
    "To `open` this file, we would call the open function. The variable, `fileref`, now holds a reference to the file object returned by open. When we are finished with the file, we can close it by using the `close` method. After the file is closed any further attempts to use `fileref` will result in an error.`"
   ]
  },
  {
   "cell_type": "markdown",
   "metadata": {},
   "source": [
    "we can illustrate how `file reading` works. Python provides some functions for reading data from an existing file. There are two steps. First, you call the `open` function to open the file. So, here we have an invocation of the open function, and we pass in two arguments. One is the string, that's the name of the file, Olympics.text. And the other says what to do with the file. In our case, `r` for reading. Later on, we'll see `w` for writing. The open function returns an object. It's a file object, and we are assigning it to this variable name called `fileref`. There's going to be an additional step that we're going to have to do to actually read the contents. So, this step that we're showing so far just creates the file object. Then, they're going to be some lines of code that we haven't written yet, that will actually get the contents from the file and do something with it. Then, there is a corresponding close operation that lets Python know that we're done working with this file object, and it's okay to stop keeping track of it. So, there's a line three, `fileref.close`. Now, if I run this, we're actually not going to see any output because all we've done is open the file and then close it. We haven't actually read the contents in, and we certainly haven't printed anything out, so you're not seeing anything in the output window. "
   ]
  },
  {
   "cell_type": "code",
   "execution_count": 3,
   "metadata": {},
   "outputs": [],
   "source": [
    "fileref = open(\"olympics.txt\", \"r\")\n",
    "## other code here that refers to variable fileref\n",
    "fileref.close()"
   ]
  },
  {
   "cell_type": "markdown",
   "metadata": {},
   "source": [
    "What if we did want to read the contents and print them out? There's a few different ways of working with file objects. The first method that we'll use is `.read`, **which is going to bring in the entire contents of the file as a single string.** So, we call the `.read` method on the `fileref` object. That returns a string, and I'm assigning that to the variable called `contents`, and then I can just print out, let's print out the first 100 characters of it. Now, we'll see something in the \"Output\" window. So, we're seeing the first 100 characters from the file, which got us three lines and a little bit of the fourth line. \n",
    "\n"
   ]
  },
  {
   "cell_type": "code",
   "execution_count": 4,
   "metadata": {},
   "outputs": [
    {
     "name": "stdout",
     "output_type": "stream",
     "text": [
      "Name,Sex,Age,Team,Event,Medal\n",
      "A Dijiang,M,24,China,Basketball,NA\n",
      "A Lamusi,M,23,China,Judo,NA\n",
      "Gunnar \n"
     ]
    }
   ],
   "source": [
    "fileref = open(\"olympics.txt\", \"r\")\n",
    "contents = fileref.read()\n",
    "print(contents[:100])\n",
    "fileref.close()"
   ]
  },
  {
   "cell_type": "markdown",
   "metadata": {},
   "source": [
    "You'll rarely use this method of reading the entire contents of the file all at once as a big string, partly because if you had a really big file, it would be a problem for your computer to handle all of that in memory all at once. **The only times we're going to use this dot read method is if you wanted to grab the whole file and as a string and pass it to some other function that parses it**. Even then, it will usually be some other function available that will directly read from the file object a little bit at a time, and parse its contents. \n",
    "\n",
    "The second method, instead of reading it all at once, we have a dot read lines | `.readline()`| method. **Instead of getting everything as a single string, it returns a list of strings, one string for each line in the file**. So, let's print out. Let's say the first four lines of the file this way. Let's call it lines because I called it lines on line two. \n"
   ]
  },
  {
   "cell_type": "code",
   "execution_count": 5,
   "metadata": {},
   "outputs": [
    {
     "name": "stdout",
     "output_type": "stream",
     "text": [
      "['Name,Sex,Age,Team,Event,Medal\\n', 'A Dijiang,M,24,China,Basketball,NA\\n', 'A Lamusi,M,23,China,Judo,NA\\n', 'Gunnar Nielsen Aaby,M,24,Denmark,Football,NA\\n']\n"
     ]
    }
   ],
   "source": [
    "fileref = open(\"olympics.txt\", \"r\")\n",
    "lines = fileref.readlines()\n",
    "print(lines[:4])\n",
    "fileref.close()"
   ]
  },
  {
   "cell_type": "markdown",
   "metadata": {},
   "source": [
    "You can see now that we're printing out a list, and we've got the square brackets. __Inside the list, there are four strings__. Each of the strings you notice is ending with this special backslash `n` character. **That's the new line character, because in the file, we have a bunch of lines of text**. So, when we read these lines in, each of these strings has a backslash `n` at the end of it. Instead of just printing out all these lines, I could maybe get a slightly prettier print out, if I iterate through them. So, for line in lines and maybe I'll just take the first four lines again. First five lines, and I'm going to print the individual line. So, now, when I run it, it's going to iterate through these four lines, and each one of them is going to go on its own line. We're no longer going to get the square brackets to show up because we're not printing the whole list. We're iterating through the individual strings. We're also not going to get these quote marks because we're going to pass the strings, and when we print those out, we just show their contents in the \"Output\" window. So, let's see how that looks when we run it, and sure enough, we get each of the lines separately. \n",
    "\n"
   ]
  },
  {
   "cell_type": "code",
   "execution_count": 6,
   "metadata": {},
   "outputs": [
    {
     "name": "stdout",
     "output_type": "stream",
     "text": [
      "Name,Sex,Age,Team,Event,Medal\n",
      "\n",
      "A Dijiang,M,24,China,Basketball,NA\n",
      "\n",
      "A Lamusi,M,23,China,Judo,NA\n",
      "\n",
      "Gunnar Nielsen Aaby,M,24,Denmark,Football,NA\n",
      "\n"
     ]
    }
   ],
   "source": [
    "fileref = open(\"olympics.txt\", \"r\")\n",
    "lines = fileref.readlines()\n",
    "for lin in lines[:4]:\n",
    "    print(lin)\n",
    "fileref.close()"
   ]
  },
  {
   "cell_type": "markdown",
   "metadata": {},
   "source": [
    "Now, you might notice something a little strange here, which is that we get these blank lines. **The reason for that is that each of the strings, you'll remember had that newline character at the end, which meant do a carriage return. The print function always does a a carriage return, and so we're getting two of those. One is starting us on a new line, and the other one is starting us on a new line again, so we get a blank line. What if we didn't want to have that extra blank line?** \n",
    "\n",
    "Well, you've seen the **`.strip`** method before. I can strip the whitespace from the beginning and ends of each of these lines, so the `.strip` method gets rid of any whitespace at the beginning or the end. **Whitespace is the space character, a tab character, or a new line character.** So, if I call this, now, I'm going to get the printout that doesn't have the blank lines, and sure enough, we've got the first four lines from the file. \n"
   ]
  },
  {
   "cell_type": "code",
   "execution_count": 7,
   "metadata": {},
   "outputs": [
    {
     "name": "stdout",
     "output_type": "stream",
     "text": [
      "Name,Sex,Age,Team,Event,Medal\n",
      "A Dijiang,M,24,China,Basketball,NA\n",
      "A Lamusi,M,23,China,Judo,NA\n",
      "Gunnar Nielsen Aaby,M,24,Denmark,Football,NA\n"
     ]
    }
   ],
   "source": [
    "fileref = open(\"olympics.txt\", \"r\")\n",
    "lines = fileref.readlines()\n",
    "for lin in lines[:4]:\n",
    "    print(lin.strip())\n",
    "fileref.close()"
   ]
  },
  {
   "cell_type": "markdown",
   "metadata": {},
   "source": [
    "**Now, there's a shorter way to iterate over the lines if that's all we're going to do is iterate over all of them**. So, let me show you that because it's the more Pythonic way rather than reading the entire file into a list. We can just directly iterate over all of the lines by saying for line in `fileref`. So, here, it's a file object. It's not a list, but it knows how to be iterated over and each time we get one more line. So, this is going to do exactly the same thing that we had before. Except now, we're going to get all the lines in the file."
   ]
  },
  {
   "cell_type": "code",
   "execution_count": 8,
   "metadata": {},
   "outputs": [
    {
     "name": "stdout",
     "output_type": "stream",
     "text": [
      "Name,Sex,Age,Team,Event,Medal\n",
      "A Dijiang,M,24,China,Basketball,NA\n",
      "A Lamusi,M,23,China,Judo,NA\n",
      "Gunnar Nielsen Aaby,M,24,Denmark,Football,NA\n",
      "Edgar Lindenau Aabye,M,34,Denmark/Sweden,Tug-Of-War,Gold\n",
      "Christine Jacoba Aaftink,F,21,Netherlands,Speed Skating,NA\n",
      "Christine Jacoba Aaftink,F,21,Netherlands,Speed Skating,NA\n",
      "Christine Jacoba Aaftink,F,25,Netherlands,Speed Skating,NA\n",
      "Christine Jacoba Aaftink,F,25,Netherlands,Speed Skating,NA\n",
      "Christine Jacoba Aaftink,F,27,Netherlands,Speed Skating,NA\n",
      "Christine Jacoba Aaftink,F,27,Netherlands,Speed Skating,NA\n",
      "Per Knut Aaland,M,31,United States,Cross Country Skiing,NA\n",
      "Per Knut Aaland,M,31,United States,Cross Country Skiing,NA\n",
      "Per Knut Aaland,M,31,United States,Cross Country Skiing,NA\n",
      "Per Knut Aaland,M,31,United States,Cross Country Skiing,NA\n",
      "Per Knut Aaland,M,33,United States,Cross Country Skiing,NA\n",
      "Per Knut Aaland,M,33,United States,Cross Country Skiing,NA\n",
      "Per Knut Aaland,M,33,United States,Cross Country Skiing,NA\n",
      "Per Knut Aaland,M,33,United States,Cross Country Skiing,NA\n",
      "John Aalberg,M,31,United States,Cross Country Skiing,NA\n",
      "John Aalberg,M,31,United States,Cross Country Skiing,NA\n",
      "John Aalberg,M,31,United States,Cross Country Skiing,NA\n",
      "John Aalberg,M,31,United States,Cross Country Skiing,NA\n",
      "John Aalberg,M,33,United States,Cross Country Skiing,NA\n",
      "John Aalberg,M,33,United States,Cross Country Skiing,NA\n",
      "John Aalberg,M,33,United States,Cross Country Skiing,NA\n",
      "John Aalberg,M,33,United States,Cross Country Skiing,NA\n",
      "\"Cornelia \"\"Cor\"\" Aalten (-Strannood)\",F,18,Netherlands,Athletics,NA\n",
      "\"Cornelia \"\"Cor\"\" Aalten (-Strannood)\",F,18,Netherlands,Athletics,NA\n",
      "Antti Sami Aalto,M,26,Finland,Ice Hockey,NA\n",
      "\"Einar Ferdinand \"\"Einari\"\" Aalto\",M,26,Finland,Swimming,NA\n",
      "Jorma Ilmari Aalto,M,22,Finland,Cross Country Skiing,NA\n",
      "Jyri Tapani Aalto,M,31,Finland,Badminton,NA\n",
      "Minna Maarit Aalto,F,30,Finland,Sailing,NA\n",
      "Minna Maarit Aalto,F,34,Finland,Sailing,NA\n",
      "Pirjo Hannele Aalto (Mattila-),F,32,Finland,Biathlon,NA\n",
      "Arvo Ossian Aaltonen,M,22,Finland,Swimming,NA\n",
      "Arvo Ossian Aaltonen,M,22,Finland,Swimming,NA\n",
      "Arvo Ossian Aaltonen,M,30,Finland,Swimming,Bronze\n",
      "Arvo Ossian Aaltonen,M,30,Finland,Swimming,Bronze\n",
      "Arvo Ossian Aaltonen,M,34,Finland,Swimming,NA\n",
      "Juhamatti Tapio Aaltonen,M,28,Finland,Ice Hockey,Bronze\n",
      "Paavo Johannes Aaltonen,M,28,Finland,Gymnastics,Bronze\n",
      "Paavo Johannes Aaltonen,M,28,Finland,Gymnastics,Gold\n",
      "Paavo Johannes Aaltonen,M,28,Finland,Gymnastics,NA\n",
      "Paavo Johannes Aaltonen,M,28,Finland,Gymnastics,Gold\n",
      "Paavo Johannes Aaltonen,M,28,Finland,Gymnastics,NA\n",
      "Paavo Johannes Aaltonen,M,28,Finland,Gymnastics,NA\n",
      "Paavo Johannes Aaltonen,M,28,Finland,Gymnastics,NA\n",
      "Paavo Johannes Aaltonen,M,28,Finland,Gymnastics,Gold\n",
      "Paavo Johannes Aaltonen,M,32,Finland,Gymnastics,NA\n",
      "Paavo Johannes Aaltonen,M,32,Finland,Gymnastics,Bronze\n",
      "Paavo Johannes Aaltonen,M,32,Finland,Gymnastics,NA\n",
      "Paavo Johannes Aaltonen,M,32,Finland,Gymnastics,NA\n",
      "Paavo Johannes Aaltonen,M,32,Finland,Gymnastics,NA\n",
      "Paavo Johannes Aaltonen,M,32,Finland,Gymnastics,NA\n",
      "Paavo Johannes Aaltonen,M,32,Finland,Gymnastics,NA\n",
      "Paavo Johannes Aaltonen,M,32,Finland,Gymnastics,NA\n",
      "Timo Antero Aaltonen,M,31,Finland,Athletics,NA\n",
      "Win Valdemar Aaltonen,M,54,Finland,Art Competitions,NA\n"
     ]
    }
   ],
   "source": [
    "fileref = open(\"olympics.txt\", \"r\")\n",
    "#lines = fileref.readlines()\n",
    "for lin in lines:\n",
    "    print(lin.strip())\n",
    "fileref.close()"
   ]
  },
  {
   "cell_type": "markdown",
   "metadata": {},
   "source": [
    "So, we can iterate over this file object directly. **We can't do this thing of taking a slice of it like we did with lists**. That gives us an error. "
   ]
  },
  {
   "cell_type": "code",
   "execution_count": 10,
   "metadata": {},
   "outputs": [
    {
     "ename": "TypeError",
     "evalue": "'_io.TextIOWrapper' object is not subscriptable",
     "output_type": "error",
     "traceback": [
      "\u001b[1;31m---------------------------------------------------------------------------\u001b[0m",
      "\u001b[1;31mTypeError\u001b[0m                                 Traceback (most recent call last)",
      "\u001b[1;32m<ipython-input-10-02e28b6ee017>\u001b[0m in \u001b[0;36m<module>\u001b[1;34m()\u001b[0m\n\u001b[0;32m      1\u001b[0m \u001b[0mfileref\u001b[0m \u001b[1;33m=\u001b[0m \u001b[0mopen\u001b[0m\u001b[1;33m(\u001b[0m\u001b[1;34m\"olympics.txt\"\u001b[0m\u001b[1;33m,\u001b[0m \u001b[1;34m\"r\"\u001b[0m\u001b[1;33m)\u001b[0m\u001b[1;33m\u001b[0m\u001b[0m\n\u001b[1;32m----> 2\u001b[1;33m \u001b[1;32mfor\u001b[0m \u001b[0mlin\u001b[0m \u001b[1;32min\u001b[0m \u001b[0mfileref\u001b[0m\u001b[1;33m[\u001b[0m\u001b[1;33m:\u001b[0m\u001b[1;36m4\u001b[0m\u001b[1;33m]\u001b[0m\u001b[1;33m:\u001b[0m\u001b[1;33m\u001b[0m\u001b[0m\n\u001b[0m\u001b[0;32m      3\u001b[0m     \u001b[0mprint\u001b[0m\u001b[1;33m(\u001b[0m\u001b[0mlin\u001b[0m\u001b[1;33m.\u001b[0m\u001b[0mstrip\u001b[0m\u001b[1;33m(\u001b[0m\u001b[1;33m)\u001b[0m\u001b[1;33m)\u001b[0m\u001b[1;33m\u001b[0m\u001b[0m\n\u001b[0;32m      4\u001b[0m \u001b[0mfileref\u001b[0m\u001b[1;33m.\u001b[0m\u001b[0mclose\u001b[0m\u001b[1;33m(\u001b[0m\u001b[1;33m)\u001b[0m\u001b[1;33m\u001b[0m\u001b[0m\n",
      "\u001b[1;31mTypeError\u001b[0m: '_io.TextIOWrapper' object is not subscriptable"
     ]
    }
   ],
   "source": [
    "fileref = open(\"olympics.txt\", \"r\")\n",
    "for lin in fileref[:4]:\n",
    "    print(lin.strip())\n",
    "fileref.close()"
   ]
  },
  {
   "cell_type": "markdown",
   "metadata": {},
   "source": [
    "**So, a file object supports iteration, but it does not support taking slices.** So, if we wanted to just do something with the first four lines, we'd have to use the `.readlines()`, rather than just iterating over the file object. If we're prepared to process all the lines, which is the normal thing that you're going to do with a file, this is the standard Pythonic idiom. \n",
    "\n",
    "Now, when should you actually call `.readlines` or `.read`? Well, one reason to call `.readlines` is, if you wanted to take slices. Another reason might be that you wanted to just get a `count` of how many lines are in the file. So, if I get all of the lines and put them in a variable, I could now print out the length of lines, and that would tell me how many lines were in the file. Turns out there are 60 lines in the file. "
   ]
  },
  {
   "cell_type": "code",
   "execution_count": 15,
   "metadata": {},
   "outputs": [
    {
     "name": "stdout",
     "output_type": "stream",
     "text": [
      "60\n"
     ]
    }
   ],
   "source": [
    "fileref = open(\"olympics.txt\", \"r\")\n",
    "lines = fileref.readlines()\n",
    "print(len(lines))"
   ]
  },
  {
   "cell_type": "markdown",
   "metadata": {},
   "source": [
    "If I wanted to find out how many _characters_ are in the file, I could read the entire file as one character string, and then I could ask for it's length. \n",
    "\n"
   ]
  },
  {
   "cell_type": "code",
   "execution_count": 16,
   "metadata": {},
   "outputs": [
    {
     "name": "stdout",
     "output_type": "stream",
     "text": [
      "3178\n"
     ]
    }
   ],
   "source": [
    "fileref = open(\"olympics.txt\", \"r\")\n",
    "contents = fileref.read()\n",
    "print(len(contents))"
   ]
  },
  {
   "cell_type": "markdown",
   "metadata": {},
   "source": [
    "**So, except in those special cases, the more common thing that you're going to want to do is to just iterate over the file object itself. We won't use dot read or dot readlines, instead will just iterate over the file object itself. This is the most common way that you'll be working with files. So, that's Python code for reading from a file.**"
   ]
  },
  {
   "cell_type": "markdown",
   "metadata": {},
   "source": [
    "## Alternative File Reading Methods\n",
    "![image](img/06Capture.PNG)\n",
    "![image](img/07Capture.PNG)"
   ]
  },
  {
   "cell_type": "markdown",
   "metadata": {},
   "source": [
    "**Note**: A common error that novice programmers make is not realizing that all these ways of reading the file contents, use up the file. **After you call readlines(), if you call it again you’ll get an empty list.**"
   ]
  },
  {
   "cell_type": "markdown",
   "metadata": {},
   "source": [
    "### Check your Understanding"
   ]
  },
  {
   "cell_type": "markdown",
   "metadata": {},
   "source": [
    "1. Using the file `school_prompt2.txt`, find the number of characters in the file and assign that value to the variable `num_char`."
   ]
  },
  {
   "cell_type": "code",
   "execution_count": 20,
   "metadata": {},
   "outputs": [
    {
     "name": "stdout",
     "output_type": "stream",
     "text": [
      "536\n",
      "....................\n",
      "Writing es\n"
     ]
    }
   ],
   "source": [
    "fileref = open(\"school_prompt2.txt\", \"r\")\n",
    "contents = fileref.read()\n",
    "num_char = len(contents)\n",
    "print(num_char)\n",
    "print('....................')\n",
    "print(contents[0:10])"
   ]
  },
  {
   "cell_type": "markdown",
   "metadata": {},
   "source": [
    "2. Find the number of lines in the file, `travel_plans2.txt`, and assign it to the variable num_lines.\n",
    "\n"
   ]
  },
  {
   "cell_type": "code",
   "execution_count": 24,
   "metadata": {},
   "outputs": [
    {
     "name": "stdout",
     "output_type": "stream",
     "text": [
      "11\n",
      "..................\n",
      "['This summer I will be travelling.\\n', 'I will go to...\\n', 'Italy: Rome\\n']\n"
     ]
    }
   ],
   "source": [
    "fileref = open(\"travel_plans2.txt\", 'r')\n",
    "lines = fileref.readlines()\n",
    "num_lines = len(lines)\n",
    "print(num_lines)\n",
    "print('..................')\n",
    "print(lines[:3])"
   ]
  },
  {
   "cell_type": "markdown",
   "metadata": {},
   "source": [
    "3. Create a string called `first_forty` that is comprised of the first 40 characters of `emotion_words2.txt`."
   ]
  },
  {
   "cell_type": "code",
   "execution_count": 25,
   "metadata": {},
   "outputs": [
    {
     "name": "stdout",
     "output_type": "stream",
     "text": [
      "Sad upset blue down melancholy somber bi\n"
     ]
    }
   ],
   "source": [
    "fileref = open(\"emotion_words2.txt\", \"r\")\n",
    "contents = fileref.read()\n",
    "first_forty = contents[:40]\n",
    "print(first_forty)"
   ]
  },
  {
   "cell_type": "markdown",
   "metadata": {},
   "source": [
    "##  Iterating over lines in a file\n",
    "We will now use this file as input in a program that will do some data processing. In the program, we will **examine each line of the file and print it with some additional text. Because `readlines()` returns a list of lines of text, we can use the `for loop` to iterate through each line of the file**.\n",
    "\n",
    "A **line** of a file is defined to be a sequence of characters up to and including a special character called the **newline** character. If you evaluate a string that contains a newline character you will see the character represented as `\\n`. If you print a string that contains a newline you will not see the `\\n`, you will just see its effects (a carriage return).\n",
    "\n",
    "As the for loop iterates through each line of the file the loop variable will contain the current line of the file as a string of characters. The general pattern for processing each line of a text file is as follows:\n",
    "        \n",
    "        for line in myFile.readlines():\n",
    "            statement1\n",
    "            statement2\n",
    "            ...\n",
    "To process all of our olypmics data, we will use a `for loop` to iterate over the lines of the file. **Using the `split` method, we can break each line into a list containing all the fields of interest about the athlete**. We can then take the values corresponding to name, team and event to construct a simple sentence."
   ]
  },
  {
   "cell_type": "code",
   "execution_count": 71,
   "metadata": {},
   "outputs": [
    {
     "name": "stdout",
     "output_type": "stream",
     "text": [
      "Name is from Team and is on the roster for Event\n",
      "A Dijiang is from China and is on the roster for Basketball\n",
      "A Lamusi is from China and is on the roster for Judo\n",
      "Gunnar Nielsen Aaby is from Denmark and is on the roster for Football\n",
      "Edgar Lindenau Aabye is from Denmark/Sweden and is on the roster for Tug-Of-War\n",
      "Christine Jacoba Aaftink is from Netherlands and is on the roster for Speed Skating\n",
      "Christine Jacoba Aaftink is from Netherlands and is on the roster for Speed Skating\n",
      "Christine Jacoba Aaftink is from Netherlands and is on the roster for Speed Skating\n",
      "Christine Jacoba Aaftink is from Netherlands and is on the roster for Speed Skating\n",
      "Christine Jacoba Aaftink is from Netherlands and is on the roster for Speed Skating\n",
      "Christine Jacoba Aaftink is from Netherlands and is on the roster for Speed Skating\n",
      "Per Knut Aaland is from United States and is on the roster for Cross Country Skiing\n",
      "Per Knut Aaland is from United States and is on the roster for Cross Country Skiing\n",
      "Per Knut Aaland is from United States and is on the roster for Cross Country Skiing\n",
      "Per Knut Aaland is from United States and is on the roster for Cross Country Skiing\n",
      "Per Knut Aaland is from United States and is on the roster for Cross Country Skiing\n",
      "Per Knut Aaland is from United States and is on the roster for Cross Country Skiing\n",
      "Per Knut Aaland is from United States and is on the roster for Cross Country Skiing\n",
      "Per Knut Aaland is from United States and is on the roster for Cross Country Skiing\n",
      "John Aalberg is from United States and is on the roster for Cross Country Skiing\n",
      "John Aalberg is from United States and is on the roster for Cross Country Skiing\n",
      "John Aalberg is from United States and is on the roster for Cross Country Skiing\n",
      "John Aalberg is from United States and is on the roster for Cross Country Skiing\n",
      "John Aalberg is from United States and is on the roster for Cross Country Skiing\n",
      "John Aalberg is from United States and is on the roster for Cross Country Skiing\n",
      "John Aalberg is from United States and is on the roster for Cross Country Skiing\n",
      "John Aalberg is from United States and is on the roster for Cross Country Skiing\n",
      "\"Cornelia \"\"Cor\"\" Aalten (-Strannood)\" is from Netherlands and is on the roster for Athletics\n",
      "\"Cornelia \"\"Cor\"\" Aalten (-Strannood)\" is from Netherlands and is on the roster for Athletics\n",
      "Antti Sami Aalto is from Finland and is on the roster for Ice Hockey\n",
      "\"Einar Ferdinand \"\"Einari\"\" Aalto\" is from Finland and is on the roster for Swimming\n",
      "Jorma Ilmari Aalto is from Finland and is on the roster for Cross Country Skiing\n",
      "Jyri Tapani Aalto is from Finland and is on the roster for Badminton\n",
      "Minna Maarit Aalto is from Finland and is on the roster for Sailing\n",
      "Minna Maarit Aalto is from Finland and is on the roster for Sailing\n",
      "Pirjo Hannele Aalto (Mattila-) is from Finland and is on the roster for Biathlon\n",
      "Arvo Ossian Aaltonen is from Finland and is on the roster for Swimming\n",
      "Arvo Ossian Aaltonen is from Finland and is on the roster for Swimming\n",
      "Arvo Ossian Aaltonen is from Finland and is on the roster for Swimming\n",
      "Arvo Ossian Aaltonen is from Finland and is on the roster for Swimming\n",
      "Arvo Ossian Aaltonen is from Finland and is on the roster for Swimming\n",
      "Juhamatti Tapio Aaltonen is from Finland and is on the roster for Ice Hockey\n",
      "Paavo Johannes Aaltonen is from Finland and is on the roster for Gymnastics\n",
      "Paavo Johannes Aaltonen is from Finland and is on the roster for Gymnastics\n",
      "Paavo Johannes Aaltonen is from Finland and is on the roster for Gymnastics\n",
      "Paavo Johannes Aaltonen is from Finland and is on the roster for Gymnastics\n",
      "Paavo Johannes Aaltonen is from Finland and is on the roster for Gymnastics\n",
      "Paavo Johannes Aaltonen is from Finland and is on the roster for Gymnastics\n",
      "Paavo Johannes Aaltonen is from Finland and is on the roster for Gymnastics\n",
      "Paavo Johannes Aaltonen is from Finland and is on the roster for Gymnastics\n",
      "Paavo Johannes Aaltonen is from Finland and is on the roster for Gymnastics\n",
      "Paavo Johannes Aaltonen is from Finland and is on the roster for Gymnastics\n",
      "Paavo Johannes Aaltonen is from Finland and is on the roster for Gymnastics\n",
      "Paavo Johannes Aaltonen is from Finland and is on the roster for Gymnastics\n",
      "Paavo Johannes Aaltonen is from Finland and is on the roster for Gymnastics\n",
      "Paavo Johannes Aaltonen is from Finland and is on the roster for Gymnastics\n",
      "Paavo Johannes Aaltonen is from Finland and is on the roster for Gymnastics\n",
      "Paavo Johannes Aaltonen is from Finland and is on the roster for Gymnastics\n",
      "Timo Antero Aaltonen is from Finland and is on the roster for Athletics\n",
      "Win Valdemar Aaltonen is from Finland and is on the roster for Art Competitions\n"
     ]
    }
   ],
   "source": [
    "olypmicsfile = open(\"olympics.txt\", \"r\")\n",
    "for aline in olypmicsfile.readlines():\n",
    "    values = aline.split(\",\")\n",
    "    print(values[0], \"is from\", values[3], \"and is on the roster for\", values[4])\n",
    "olypmicsfile.close()"
   ]
  },
  {
   "cell_type": "markdown",
   "metadata": {},
   "source": [
    "To make the code a little simpler, and to allow for more efficient processing, Python provides a built-in way to iterate through the contents of a file one line at a time, without first reading them all into a list. "
   ]
  },
  {
   "cell_type": "code",
   "execution_count": 27,
   "metadata": {},
   "outputs": [],
   "source": [
    "olypmicsfile = open(\"olympics.txt\", \"r\")\n",
    "for aline in olypmicsfile:\n",
    "    values = aline.split(\",\")\n",
    "#    print(values[0], \"is from\", values[3], \"and is on the roster for\", values[4])\n",
    "olypmicsfile.close()"
   ]
  },
  {
   "cell_type": "markdown",
   "metadata": {},
   "source": [
    "Write code to find out how many lines are in the file `emotion_words.txt` as shown above. Save this value to the variable `num_lines`. **Do not use the len method**."
   ]
  },
  {
   "cell_type": "code",
   "execution_count": 28,
   "metadata": {},
   "outputs": [
    {
     "name": "stdout",
     "output_type": "stream",
     "text": [
      "7\n"
     ]
    }
   ],
   "source": [
    "fileref = open(\"emotion_words.txt\", \"r\")\n",
    "num_lines = 0\n",
    "lines = fileref.readlines()\n",
    "for lin in lines:\n",
    "    num_lines += 1\n",
    "print(num_lines)"
   ]
  },
  {
   "cell_type": "markdown",
   "metadata": {},
   "source": [
    "## Finding a File in Your File System\n",
    "![image](img/09Capture.PNG)\n",
    "![image](img/08Capture.PNG)\n",
    "If your file and your Python program **are in the same directory you can simply use the filename.** For example, with the file hierarchy in the diagram, the file myPythonProgram.py could contain the code `open('data1.txt', 'r')`\n",
    "\n",
    "If your file and your Python program **are in different directories, however, then you need to specify a `path`.** You can think of the filename as the short name for a file, and the **path as the full name**. Typically, you will specify a relative file path, which says where to find the file to open, relative to the directory where the code is running from. For example, the file `myPythonProgram.py` could contain the code `open('../myData/data2.txt', 'r')`. The `../` means to go up one level in the directory structure, to the containing folder `(allProjects); myData/` says to descend into the `myData` subfolder.\n",
    "\n",
    "There is also an option to use an `absolute file path`. For example, suppose the **file structure in the figure is stored on a computer in the user’s home directory**, `/Users/joebob01/myFiles`. Then code in any Python program running from any file folder could open `data2.txt` via `open('/Users/joebob01/myFiles/allProjects/myData/data2.txt', 'r')`. \n",
    "\n",
    " [**Further Reading**](https://runestone.academy/runestone/books/published/fopp/Files/FindingaFileonyourDisk.html)"
   ]
  },
  {
   "cell_type": "markdown",
   "metadata": {},
   "source": [
    "## Writing Text Files\n",
    "Recall that text files contain sequences of characters. We usually think of these character sequences as being the lines of the file where each line ends with the newline `\\n` character. Be very careful to notice that the `write` method takes one parameter, a string."
   ]
  },
  {
   "cell_type": "code",
   "execution_count": 30,
   "metadata": {},
   "outputs": [
    {
     "name": "stdout",
     "output_type": "stream",
     "text": [
      "1\n",
      "4\n",
      "9\n"
     ]
    }
   ],
   "source": [
    "for number in range(1,4):\n",
    "    square = number * number\n",
    "    print(square)\n",
    "        "
   ]
  },
  {
   "cell_type": "markdown",
   "metadata": {},
   "source": [
    "Once we are satisfied that it is creating the appropriate output, the next step is to add the necessary pieces to produce an output file and write the data lines to it. To start, we need to open a new output file by calling the `open` function, `outfile = open(\"squared_numbers.txt\",'w')`, using the `'w'` flag."
   ]
  },
  {
   "cell_type": "code",
   "execution_count": 31,
   "metadata": {},
   "outputs": [
    {
     "name": "stdout",
     "output_type": "stream",
     "text": [
      "1\n",
      "4\n",
      "9\n",
      "16\n"
     ]
    }
   ],
   "source": [
    "outfile = open(\"squared_numbers.txt\", 'w')\n",
    "for number in range(1, 5):\n",
    "    square = number * number\n",
    "    print(square)\n",
    "outfile.close()"
   ]
  },
  {
   "cell_type": "markdown",
   "metadata": {},
   "source": [
    "Once the file has been created, we just need to call the `write` method passing the string that we wish to add to the file. In this case, the string is already being printed so we will just change the `print` into a call to the `write` method. However, there is an additional step to take, since the write method can only accept a string as input. We’ll need to convert the number to a string. Then, we just need to add one extra character to the string. The newline character needs to be concatenated to the end of the line. The entire line now becomes `outfile.write(str(square)+ '\\n')`. "
   ]
  },
  {
   "cell_type": "code",
   "execution_count": 32,
   "metadata": {},
   "outputs": [],
   "source": [
    "outfile = open(\"squared_numbers.txt\", \"w\")\n",
    "for number in range(1,13):\n",
    "    square = number * number\n",
    "    outfile.write(str(square)) #we don't have here a newline character\n",
    "outfile.close()"
   ]
  },
  {
   "cell_type": "markdown",
   "metadata": {},
   "source": [
    "but the output form the above equation is quite diffrent from what we expect and it becomes like:14916253649.... so we need to add `'\\n'` to separate each line"
   ]
  },
  {
   "cell_type": "code",
   "execution_count": 33,
   "metadata": {},
   "outputs": [],
   "source": [
    "outfile = open(\"squared_numbers.txt\", \"w\")\n",
    "for number in range(1,13):\n",
    "    square = number * number\n",
    "    outfile.write(str(square)) #we don't have here a newline character\n",
    "    outfile.write('\\n') #we add here a newline character\n",
    "outfile.close()"
   ]
  },
  {
   "cell_type": "code",
   "execution_count": 34,
   "metadata": {},
   "outputs": [
    {
     "name": "stdout",
     "output_type": "stream",
     "text": [
      "1\n",
      "4\n",
      "9\n",
      "16\n",
      "2\n"
     ]
    }
   ],
   "source": [
    "outfile = open(\"squared_numbers.txt\", \"w\")\n",
    "for number in range(1,13):\n",
    "    square = number * number\n",
    "    # outfile.write(str(square)) #we don't have here a newline character\n",
    "    # outfile.write('\\n') #we add here a newline character\n",
    "    outfile.write(str(square) + '\\n') #combine the two\n",
    "outfile.close()\n",
    "\n",
    "new_outfile = open(\"squared_numbers.txt\", \"r\")\n",
    "print(new_outfile.read()[:10])\n",
    "new_outfile.close()\n"
   ]
  },
  {
   "cell_type": "markdown",
   "metadata": {},
   "source": [
    "## Using with for Files\n",
    "The Python with statement makes using context managers easy. The general form of a with statement is:\n",
    "\n",
    "    with <create some object that understands context> as <some name>:\n",
    "        do some stuff with the object\n",
    "        ...\n",
    "A simple example will clear up all of this abstract discussion of contexts. Here are the contents of a file called “mydata.txt”."
   ]
  },
  {
   "cell_type": "code",
   "execution_count": 35,
   "metadata": {},
   "outputs": [
    {
     "name": "stdout",
     "output_type": "stream",
     "text": [
      "1 2 3\n",
      "\n",
      "4 5 6\n"
     ]
    }
   ],
   "source": [
    "with open('mydata.txt', 'r') as md: #which is equal to: md = open('mydata.txt', 'r')\n",
    "    for line in md:\n",
    "        print(line)"
   ]
  },
  {
   "cell_type": "markdown",
   "metadata": {},
   "source": [
    "The above is equivaletn to"
   ]
  },
  {
   "cell_type": "code",
   "execution_count": 36,
   "metadata": {
    "scrolled": true
   },
   "outputs": [
    {
     "name": "stdout",
     "output_type": "stream",
     "text": [
      "1 2 3\n",
      "\n",
      "4 5 6\n"
     ]
    }
   ],
   "source": [
    "md = open('mydata.txt', 'r')\n",
    "for line in md:\n",
    "    print(line)\n",
    "md.close()"
   ]
  },
  {
   "cell_type": "markdown",
   "metadata": {},
   "source": [
    "## ***"
   ]
  },
  {
   "cell_type": "code",
   "execution_count": 37,
   "metadata": {},
   "outputs": [],
   "source": [
    "fname = 'mydata2.txt'\n",
    "with open(fname, 'w') as md:\n",
    "    #md.read()\n",
    "    #md.readlines()\n",
    "    #for line in md:\n",
    "    for num in range(10):\n",
    "        md.write(str(num))\n",
    "        md.write('\\n')\n",
    "    "
   ]
  },
  {
   "cell_type": "markdown",
   "metadata": {},
   "source": [
    "### Recipe for Reading and Processing a File\n",
    "Here’s a foolproof recipe for processing the contents of a text file. If you’ve fully digested the previous sections, you’ll understand that there are other options as well. Some of those options are preferable for some situations, and some are preferred by python programmers for efficiency reasons. In this course, though, you can always succeed by following this recipe.\n",
    "1. Open the file using `with` and `open`.\n",
    "2. Use `.readlines()` to get a list of the lines of text in the file.\n",
    "3. Use a `for` loop to iterate through the strings in the list, each being one line from the file. On each iteration, process that line of text\n",
    "4. When you are done extracting data from the file, continue writing your code outside of the indentation. Using `with` will automatically close the file once the program exits the with block."
   ]
  },
  {
   "cell_type": "code",
   "execution_count": 38,
   "metadata": {},
   "outputs": [
    {
     "ename": "SyntaxError",
     "evalue": "unexpected EOF while parsing (<ipython-input-38-7d6de401ffb4>, line 6)",
     "output_type": "error",
     "traceback": [
      "\u001b[1;36m  File \u001b[1;32m\"<ipython-input-38-7d6de401ffb4>\"\u001b[1;36m, line \u001b[1;32m6\u001b[0m\n\u001b[1;33m    #some other code not relying on fileref   # ste\u001b[0m\n\u001b[1;37m                                                   ^\u001b[0m\n\u001b[1;31mSyntaxError\u001b[0m\u001b[1;31m:\u001b[0m unexpected EOF while parsing\n"
     ]
    }
   ],
   "source": [
    "fname = \"yourfile.txt\"\n",
    "with open(fname, 'r') as fileref:         # step 1\n",
    "    lines = fileref.readlines()           # step 2\n",
    "    for lin in lines:                     # step 3\n",
    "        #some code that references the variable lin\n",
    "#some other code not relying on fileref   # ste"
   ]
  },
  {
   "cell_type": "markdown",
   "metadata": {},
   "source": [
    "This option involves iterating over the file itself while still iterating over each line in the file:\n",
    "\n"
   ]
  },
  {
   "cell_type": "code",
   "execution_count": 39,
   "metadata": {},
   "outputs": [
    {
     "ename": "SyntaxError",
     "evalue": "unexpected EOF while parsing (<ipython-input-39-6adeb413e4f6>, line 5)",
     "output_type": "error",
     "traceback": [
      "\u001b[1;36m  File \u001b[1;32m\"<ipython-input-39-6adeb413e4f6>\"\u001b[1;36m, line \u001b[1;32m5\u001b[0m\n\u001b[1;33m    #some other code not relying on fileref   # step 3\u001b[0m\n\u001b[1;37m                                                      ^\u001b[0m\n\u001b[1;31mSyntaxError\u001b[0m\u001b[1;31m:\u001b[0m unexpected EOF while parsing\n"
     ]
    }
   ],
   "source": [
    "fname = \"yourfile.txt\"\n",
    "with open(fname, 'r') as fileref:         # step 1\n",
    "    for lin in fileref:                   # step 2\n",
    "        ## some code that reference the variable lin\n",
    "#some other code not relying on fileref   # step 3"
   ]
  },
  {
   "cell_type": "markdown",
   "metadata": {},
   "source": [
    "## csv Format"
   ]
  },
  {
   "cell_type": "markdown",
   "metadata": {},
   "source": [
    "#### Reading in data from a CSV File\n",
    "\n",
    "All file methods that we have mentioned - `read`, `readline`, and `readlines`, and simply iterating over the file object itself - will work on CSV files. In our examples, we will iterate over the lines. Because the values on each line are separated with commas, we can use the `.split()` method to parse each line into a collection of separate value."
   ]
  },
  {
   "cell_type": "code",
   "execution_count": 41,
   "metadata": {},
   "outputs": [
    {
     "name": "stdout",
     "output_type": "stream",
     "text": [
      "Name,Sex,Age,Team,Event,Medal\n",
      "A Dijiang,M,24,China,Basketball,NA\n",
      "A Lamusi,M,23,China,Judo,NA\n",
      "Gunnar Nielsen Aaby,M,24,Denmark,Football,NA\n",
      "Edgar Lindenau Aabye,M,34,Denmark/Sweden,Tug-Of-War,Gold\n",
      "Christine Jacoba Aaftink,F,21,Netherlands,Speed Skating,NA\n"
     ]
    }
   ],
   "source": [
    "fileconnection = open(\"olympics.txt\", 'r')\n",
    "lines = fileconnection.readlines()\n",
    "for lin in lines[:6]:\n",
    "    print(lin.strip())"
   ]
  },
  {
   "cell_type": "code",
   "execution_count": 42,
   "metadata": {},
   "outputs": [
    {
     "name": "stdout",
     "output_type": "stream",
     "text": [
      "['Name', 'Sex', 'Age', 'Team', 'Event', 'Medal']\n"
     ]
    }
   ],
   "source": [
    "header = lines[0]\n",
    "field_names = header.strip().split(\",\")\n",
    "print(field_names)"
   ]
  },
  {
   "cell_type": "code",
   "execution_count": 43,
   "metadata": {},
   "outputs": [
    {
     "name": "stdout",
     "output_type": "stream",
     "text": [
      "Edgar Lindenau Aabye:Tug-Of-War;Gold\n",
      "Arvo Ossian Aaltonen:Swimming;Bronze\n",
      "Arvo Ossian Aaltonen:Swimming;Bronze\n",
      "Juhamatti Tapio Aaltonen:Ice Hockey;Bronze\n",
      "Paavo Johannes Aaltonen:Gymnastics;Bronze\n",
      "Paavo Johannes Aaltonen:Gymnastics;Gold\n",
      "Paavo Johannes Aaltonen:Gymnastics;Gold\n",
      "Paavo Johannes Aaltonen:Gymnastics;Gold\n",
      "Paavo Johannes Aaltonen:Gymnastics;Bronze\n"
     ]
    }
   ],
   "source": [
    "for row in lines[1:]:\n",
    "    vals = row.strip().split(\",\")\n",
    "    if vals[5] != \"NA\":\n",
    "        print(\"{}:{};{}\".format(vals[0],vals[4], vals[5]))"
   ]
  },
  {
   "cell_type": "markdown",
   "metadata": {},
   "source": [
    " If you get a file using a different separator, you can just call the `.split('|')` or `.split('\\\\t')`."
   ]
  },
  {
   "cell_type": "markdown",
   "metadata": {},
   "source": [
    "### Writing data to a CSV File\n",
    "\n",
    "The typical pattern for writing data to a CSV file will be to write a header row and loop through the items in a list, outputting one row for each. Here we a have a list of tuples, each representing one Olympian, a subset of the rows and columns from the file we have been reading from."
   ]
  },
  {
   "cell_type": "code",
   "execution_count": 44,
   "metadata": {},
   "outputs": [],
   "source": [
    "olympians = [(\"John Aalberg\", 31, \"Cross Country Skiing\"),\n",
    "             (\"Minna Maarit Aalto\", 30, \"Sailing\"),\n",
    "             (\"Win Valdemar Aaltonen\", 54, \"Art Competitions\"),\n",
    "             (\"Wakako Abe\", 18, \"Cycling\")]\n",
    "\n",
    "outfile = open(\"reduced_olympics.csv\", \"w\")\n",
    "# output the header now\n",
    "outfile.write('Name, Age, Sport')\n",
    "outfile.write('\\n')\n",
    "#oupue each of the rows:\n",
    "for olympian in olympians:\n",
    "    row_string = '{},{},{}'.format(olympian[0], olympian[1], olympian[2])\n",
    "    outfile.write(row_string)\n",
    "    outfile.write('\\n')\n",
    "outfile.close()"
   ]
  },
  {
   "cell_type": "markdown",
   "metadata": {},
   "source": [
    "**There are a few things worth noting in the code above**.\n",
    "\n",
    "* First, using `.format()` makes it really clear what we’re doing when we create the variable `row_string`. We are making a comma separated set of values; the `{}` curly braces indicated where to substitute in the actual values. The equivalent `string concatenation` would be very hard to read. An alternative, also clear way to do it would be with the `.join method: row_string = ','.join(olympian[0], olympian[1], olympian[2])`.\n",
    "\n",
    "* Second, unlike the print statement, remember that the `.write()` method on a file object **does not automatically insert a newline. Instead, we have to explicitly add the character `('\\n')` at the end of each line.\n",
    "\n",
    "* Third, we have to explicitly refer to each of the elements of olympian when building the string to write. Note that just putting `.format(olympian)` **wouldn’t work** because the interpreter would see only one value (a tuple) when it was expecting three values to try to substitute into the string template. Later in the book we will see that python provides an advanced technique for automatically unpacking the three values from the tuple, with `.format(*olympian)`.\n",
    "\n",
    "As described previously, if one or more columns contain text, and that text could contain commas, we need to do something to distinguish a comma in the text from a comma that is separating different values (cells in the table). If we want to enclose each value in double quotes, it can start to get a little tricky, because we will need to have the double quote character inside the string output. But it is doable. Indeed, one reason Python allows strings to be delimited with either single quotes or double quotes is so that one can be used to delimit the string and the other can be a character in the string. If you get to the point where you need to quote all of the values, we recommend learning to use python’s csv module."
   ]
  },
  {
   "cell_type": "code",
   "execution_count": 19,
   "metadata": {},
   "outputs": [],
   "source": [
    "olympians = [(\"John Aalberg\", 31, \"Cross Country Skiing, 15KM\"),\n",
    "             (\"Minna Maarit Aalto\", 30, \"Sailing\"),\n",
    "             (\"Win Valdemar Aaltonen\", 54, \"Art Competitions\"),\n",
    "             (\"Wakako Abe\", 18, \"Cycling\")]\n",
    "\n",
    "outfile = open(\"reduced_olympics2.csv\", \"w\")\n",
    "# output the header row\n",
    "outfile.write('\"Name\",\"Age\",\"Sport\"')\n",
    "outfile.write('\\n')\n",
    "# output each of the rows:\n",
    "for olympian in olympians:\n",
    "    row_string = '\"{}\", \"{}\", \"{}\"'.format(olympian[0], olympian[1], olympian[2])\n",
    "    outfile.write(row_string)\n",
    "    outfile.write('\\n')\n",
    "outfile.close()\n"
   ]
  },
  {
   "cell_type": "markdown",
   "metadata": {},
   "source": [
    "# Course 2 Assessment 1"
   ]
  },
  {
   "cell_type": "markdown",
   "metadata": {},
   "source": [
    "1. The textfile, `travel_plans.txt`, contains the summer travel plans for someone with some commentary. Find the total number of characters in the file and save to the variable `num`."
   ]
  },
  {
   "cell_type": "code",
   "execution_count": 47,
   "metadata": {
    "scrolled": true
   },
   "outputs": [
    {
     "ename": "FileNotFoundError",
     "evalue": "[Errno 2] No such file or directory: 'travel_plans.txt'",
     "output_type": "error",
     "traceback": [
      "\u001b[1;31m---------------------------------------------------------------------------\u001b[0m",
      "\u001b[1;31mFileNotFoundError\u001b[0m                         Traceback (most recent call last)",
      "\u001b[1;32m<ipython-input-47-6487303561ab>\u001b[0m in \u001b[0;36m<module>\u001b[1;34m()\u001b[0m\n\u001b[1;32m----> 1\u001b[1;33m \u001b[0mfilename\u001b[0m \u001b[1;33m=\u001b[0m \u001b[0mopen\u001b[0m\u001b[1;33m(\u001b[0m\u001b[1;34m\"travel_plans.txt\"\u001b[0m\u001b[1;33m,\u001b[0m \u001b[1;34m'r'\u001b[0m\u001b[1;33m)\u001b[0m\u001b[1;33m\u001b[0m\u001b[0m\n\u001b[0m\u001b[0;32m      2\u001b[0m \u001b[0mchars\u001b[0m \u001b[1;33m=\u001b[0m \u001b[0mfilename\u001b[0m\u001b[1;33m.\u001b[0m\u001b[0mread\u001b[0m\u001b[1;33m(\u001b[0m\u001b[1;33m)\u001b[0m\u001b[1;33m\u001b[0m\u001b[0m\n\u001b[0;32m      3\u001b[0m \u001b[0mnum\u001b[0m \u001b[1;33m=\u001b[0m \u001b[0mlen\u001b[0m\u001b[1;33m(\u001b[0m\u001b[0mchars\u001b[0m\u001b[1;33m)\u001b[0m\u001b[1;33m\u001b[0m\u001b[0m\n\u001b[0;32m      4\u001b[0m \u001b[0mprint\u001b[0m\u001b[1;33m(\u001b[0m\u001b[0mnum\u001b[0m\u001b[1;33m)\u001b[0m\u001b[1;33m\u001b[0m\u001b[0m\n",
      "\u001b[1;31mFileNotFoundError\u001b[0m: [Errno 2] No such file or directory: 'travel_plans.txt'"
     ]
    }
   ],
   "source": [
    "filename = open(\"travel_plans.txt\", 'r')\n",
    "chars = filename.read()\n",
    "num = len(chars)\n",
    "print(num)"
   ]
  },
  {
   "cell_type": "markdown",
   "metadata": {},
   "source": [
    "2. We have provided a file called `emotion_words.txt` that contains lines of words that describe emotions. Find the total number of words in the file and assign this value to the variable `num_words`"
   ]
  },
  {
   "cell_type": "code",
   "execution_count": 41,
   "metadata": {},
   "outputs": [
    {
     "name": "stdout",
     "output_type": "stream",
     "text": [
      "48\n"
     ]
    }
   ],
   "source": [
    "fname = open(\"emotion_words.txt\", 'r')\n",
    "words = fname.read()\n",
    "num_words = len(words.split())\n",
    "print(num_words)"
   ]
  },
  {
   "cell_type": "markdown",
   "metadata": {},
   "source": [
    "3. Assign to the variable `num_lines` the number of lines in the file `school_prompt.txt`."
   ]
  },
  {
   "cell_type": "code",
   "execution_count": 43,
   "metadata": {},
   "outputs": [
    {
     "name": "stdout",
     "output_type": "stream",
     "text": [
      "10\n"
     ]
    }
   ],
   "source": [
    "fname = open(\"school_prompt2.txt\", \"r\")\n",
    "lines = fname.readlines()\n",
    "num_lines = len(lines)\n",
    "print(num_lines)"
   ]
  },
  {
   "cell_type": "markdown",
   "metadata": {},
   "source": [
    "4. Assign the first 30 characters of `school_prompt.txt` as a string to the variable `beginning_chars`."
   ]
  },
  {
   "cell_type": "code",
   "execution_count": 44,
   "metadata": {},
   "outputs": [
    {
     "name": "stdout",
     "output_type": "stream",
     "text": [
      "Writing essays for school can \n"
     ]
    }
   ],
   "source": [
    "fname = open(\"school_prompt2.txt\", \"r\")\n",
    "chars = fname.read()\n",
    "beginning_chars = chars[:30]\n",
    "print(beginning_chars)"
   ]
  },
  {
   "cell_type": "markdown",
   "metadata": {},
   "source": [
    "5. **Challenge**: Using the file `school_prompt.txt`, assign the third word of every line to a list called `three`."
   ]
  },
  {
   "cell_type": "code",
   "execution_count": 72,
   "metadata": {},
   "outputs": [
    {
     "name": "stdout",
     "output_type": "stream",
     "text": [
      "['for', 'find', 'to', 'many', 'they', 'solid', 'for', 'have', 'some', 'ups,']\n"
     ]
    }
   ],
   "source": [
    "fname = open(\"school_prompt2.txt\", \"r\")\n",
    "lines = fname.readlines()\n",
    "three = []\n",
    "for lin in lines:\n",
    "    words = lin.split()\n",
    "    three.append(words[2])\n",
    "print(three)"
   ]
  },
  {
   "cell_type": "markdown",
   "metadata": {},
   "source": [
    "6. **Challenge**: Create a list called `emotions` that contains the first word of every line in `emotion_words.txt`."
   ]
  },
  {
   "cell_type": "code",
   "execution_count": 50,
   "metadata": {},
   "outputs": [
    {
     "name": "stdout",
     "output_type": "stream",
     "text": [
      "['Sad', 'Angry', 'Happy', 'Confused', 'Excited', 'Scared', 'Nervous']\n"
     ]
    }
   ],
   "source": [
    "fname = open(\"emotion_words.txt\", \"r\")\n",
    "lines = fname.readlines()\n",
    "emotions = []\n",
    "for lin in lines:\n",
    "    words = lin.split()\n",
    "    #print(words)\n",
    "    emotions.append(words[0])\n",
    "print(emotions)"
   ]
  },
  {
   "cell_type": "markdown",
   "metadata": {},
   "source": [
    "7. Assign the first 33 characters from the textfile, `travel_plans.txt` to the variable `first_chars`."
   ]
  },
  {
   "cell_type": "code",
   "execution_count": 76,
   "metadata": {},
   "outputs": [
    {
     "name": "stdout",
     "output_type": "stream",
     "text": [
      "This summer I will be travelling.\n"
     ]
    }
   ],
   "source": [
    "fname = open(\"travel_plans2.txt\", \"r\")\n",
    "char = fname.read()\n",
    "#for lin in lines:\n",
    "#    words = lin.split()\n",
    "#    emotions.append(words[0])\n",
    "first_chars = char[:33]\n",
    "print(first_chars)"
   ]
  },
  {
   "cell_type": "markdown",
   "metadata": {},
   "source": [
    "8. Challenge: Using the file `school_prompt.txt`, if the character ‘p’ is in a word, then add the word to a list called `p_words`."
   ]
  },
  {
   "cell_type": "code",
   "execution_count": 59,
   "metadata": {},
   "outputs": [
    {
     "name": "stdout",
     "output_type": "stream",
     "text": [
      "['topic', 'point', 'papers,', 'ups,', 'scripts.']\n"
     ]
    }
   ],
   "source": [
    "fname = open(\"school_prompt2.txt\", \"r\")\n",
    "words = fname.read().split()\n",
    "#print(words)\n",
    "p_words = []\n",
    "for aword in words:\n",
    "    if \"p\" in aword:\n",
    "        p_words.append(aword)\n",
    "print(p_words)\n",
    "\n",
    "\n"
   ]
  },
  {
   "cell_type": "code",
   "execution_count": 61,
   "metadata": {},
   "outputs": [
    {
     "name": "stdout",
     "output_type": "stream",
     "text": [
      "['Writing', 'essays', 'for', 'school', 'can', 'be', 'difficult', 'but']\n",
      "['many', 'students', 'find', 'that', 'by', 'researching', 'their', 'topic', 'that', 'they']\n",
      "['have', 'more', 'to', 'say', 'and', 'are', 'better', 'informed.', 'Here', 'are', 'the', 'university']\n",
      "['we', 'require', 'many', 'undergraduate', 'students', 'to', 'take', 'a', 'first', 'year', 'writing', 'requirement']\n",
      "['so', 'that', 'they', 'can']\n",
      "['have', 'a', 'solid', 'foundation', 'for', 'their', 'writing', 'skills.', 'This', 'comes']\n",
      "['in', 'handy', 'for', 'many', 'students.']\n",
      "['Different', 'schools', 'have', 'different', 'requirements,', 'but', 'everyone', 'uses']\n",
      "['writing', 'at', 'some', 'point', 'in', 'their', 'academic', 'career,', 'be', 'it', 'essays,', 'research', 'papers,']\n",
      "['technical', 'write', 'ups,', 'or', 'scripts.']\n"
     ]
    }
   ],
   "source": [
    "fname = open(\"school_prompt2.txt\", \"r\")\n",
    "for lines in fname.readlines():\n",
    "    lines = lines.split()\n",
    "    print(lines)"
   ]
  },
  {
   "cell_type": "code",
   "execution_count": 62,
   "metadata": {},
   "outputs": [
    {
     "name": "stdout",
     "output_type": "stream",
     "text": [
      "['topic', 'point', 'papers,', 'ups,', 'scripts.']\n"
     ]
    }
   ],
   "source": [
    "fileref = open('school_prompt2.txt', 'r')\n",
    "words = fileref.read().split()\n",
    "p_words = [word for word in words if 'p' in word]\n",
    "print(p_words)\n",
    "\n",
    "# line 3 of the above quivalent to:\n",
    "# p_words = []\n",
    "# for word in words:\n",
    "#    if \"p\" in word:\n",
    "#        p_words.append(word)"
   ]
  },
  {
   "cell_type": "markdown",
   "metadata": {},
   "source": [
    "## Dictionary Mechanics\n",
    "One way to create a dictionary is to start with the empty dictionary and add `key-value pairs`. The empty dictionary is denoted `{}`."
   ]
  },
  {
   "cell_type": "code",
   "execution_count": 63,
   "metadata": {},
   "outputs": [
    {
     "name": "stdout",
     "output_type": "stream",
     "text": [
      "{'one': 'uno', 'two': 'dos', 'three': 'tres'}\n"
     ]
    }
   ],
   "source": [
    "eng2sp = {}\n",
    "eng2sp['one'] = 'uno'\n",
    "eng2sp['two'] = 'dos'\n",
    "eng2sp['three'] = 'tres'\n",
    "print(eng2sp)"
   ]
  },
  {
   "cell_type": "markdown",
   "metadata": {},
   "source": [
    "Here is how we use a key to look up the corresponding value.\n",
    "\n"
   ]
  },
  {
   "cell_type": "code",
   "execution_count": 64,
   "metadata": {},
   "outputs": [
    {
     "name": "stdout",
     "output_type": "stream",
     "text": [
      "dos\n",
      "_____\n",
      "uno\n"
     ]
    }
   ],
   "source": [
    "value = eng2sp['two']\n",
    "print(value)\n",
    "print('_____')\n",
    "print(eng2sp['one'])"
   ]
  },
  {
   "cell_type": "markdown",
   "metadata": {},
   "source": [
    "**for understanding**: Create a dictionary that keeps track of the USA’s Olympic medal count. Each key of the dictionary should be the type of medal (gold, silver, or bronze) and each key’s value should be the number of that type of medal the USA’s won. Currently, the USA has 33 gold medals, 17 silver, and 12 bronze. Create a dictionary saved in the variable `medals` that reflects this information."
   ]
  },
  {
   "cell_type": "code",
   "execution_count": 65,
   "metadata": {},
   "outputs": [
    {
     "name": "stdout",
     "output_type": "stream",
     "text": [
      "{'gold': 33, 'silver': 17, 'bronze': 12}\n"
     ]
    }
   ],
   "source": [
    "medals = {'gold': 33, 'silver': 17, 'bronze': 12}\n",
    "print(medals)"
   ]
  },
  {
   "cell_type": "markdown",
   "metadata": {},
   "source": [
    "You are keeping track of olympic medals for Italy in the 2016 Rio Summer Olympics! At the moment, Italy has 7 gold medals, 8 silver metals, and 6 bronze medals. Create a dictionary called `olympics` where the keys are the types of medals, and the values are the number of that type of medals that Italy has won so far."
   ]
  },
  {
   "cell_type": "code",
   "execution_count": 66,
   "metadata": {},
   "outputs": [
    {
     "name": "stdout",
     "output_type": "stream",
     "text": [
      "{'gold': 7, 'silver': 8, 'bronze': 6}\n"
     ]
    }
   ],
   "source": [
    "# ths same wit the above but we can do it in a aifferent way: by adding elements\n",
    "olympics = {}\n",
    "olympics['gold'] = 7\n",
    "olympics['silver'] = 8\n",
    "olympics['bronze'] = 6\n",
    "print(olympics)"
   ]
  },
  {
   "cell_type": "markdown",
   "metadata": {},
   "source": [
    "### Dictionary Operations"
   ]
  },
  {
   "cell_type": "markdown",
   "metadata": {},
   "source": [
    "The `del` statement removes a key-value pair from a dictionary. "
   ]
  },
  {
   "cell_type": "code",
   "execution_count": 67,
   "metadata": {},
   "outputs": [
    {
     "name": "stdout",
     "output_type": "stream",
     "text": [
      "{'apples': 430, 'bananas': 312, 'oranges': 525, 'pears': 217}\n",
      "{'apples': 430, 'bananas': 312, 'oranges': 525}\n"
     ]
    }
   ],
   "source": [
    "inventory = {'apples': 430, 'bananas': 312, 'oranges': 525, 'pears': 217}\n",
    "print(inventory)\n",
    "del inventory['pears']\n",
    "print(inventory)"
   ]
  },
  {
   "cell_type": "markdown",
   "metadata": {},
   "source": [
    "Dictionaries are **mutable**, as the delete operation above indicates. As we’ve seen before with lists, this means that the dictionary can be modified by referencing an association on the left hand side of the assignment statement. In the previous example, instead of deleting the entry for pears, we could have set the inventory to `0`."
   ]
  },
  {
   "cell_type": "code",
   "execution_count": 68,
   "metadata": {},
   "outputs": [
    {
     "name": "stdout",
     "output_type": "stream",
     "text": [
      "{'apples': 430, 'bananas': 312, 'oranges': 525, 'pears': 0}\n"
     ]
    }
   ],
   "source": [
    "inventory = {'apples': 430, 'bananas': 312, 'oranges': 525, 'pears': 217}\n",
    "inventory['pears'] = 0\n",
    "print(inventory)"
   ]
  },
  {
   "cell_type": "markdown",
   "metadata": {},
   "source": [
    "Similarily, a new shipment of 200 bananas arriving could be handled like this. Notice that there are now 512 bananas— the dictionary has been modified. Note also that the `len` function also works on dictionaries. It returns the number of `key-value pairs`."
   ]
  },
  {
   "cell_type": "code",
   "execution_count": 9,
   "metadata": {},
   "outputs": [
    {
     "name": "stdout",
     "output_type": "stream",
     "text": [
      "{'apples': 430, 'bananas': 512, 'oranges': 525, 'pears': 217}\n"
     ]
    }
   ],
   "source": [
    "inventory = {'apples': 430, 'bananas': 312, 'oranges': 525, 'pears': 217}\n",
    "inventory['bananas'] = inventory['bananas'] + 200\n",
    "print(inventory)"
   ]
  },
  {
   "cell_type": "code",
   "execution_count": 10,
   "metadata": {},
   "outputs": [
    {
     "name": "stdout",
     "output_type": "stream",
     "text": [
      "4\n"
     ]
    }
   ],
   "source": [
    "numItems = len(inventory)\n",
    "print(numItems)"
   ]
  },
  {
   "cell_type": "markdown",
   "metadata": {},
   "source": [
    "Update the value for “Phelps” in the dictionary `swimmers` to include his medals from the Rio Olympics by adding 5 to the current value (Phelps will now have 28 total medals). Do not rewrite the dictionary."
   ]
  },
  {
   "cell_type": "code",
   "execution_count": 11,
   "metadata": {
    "scrolled": true
   },
   "outputs": [
    {
     "name": "stdout",
     "output_type": "stream",
     "text": [
      "28\n",
      "{'Manuel': 4, 'Lochte': 12, 'Adrian': 7, 'Ledecky': 5, 'Dirado': 4, 'Phelps': 28}\n"
     ]
    }
   ],
   "source": [
    "swimmers = {'Manuel':4, 'Lochte':12, 'Adrian':7, 'Ledecky':5, 'Dirado':4, 'Phelps':23}\n",
    "swimmers['Phelps'] = swimmers['Phelps'] + 5\n",
    "print(swimmers['Phelps'])\n",
    "print(swimmers)"
   ]
  },
  {
   "cell_type": "markdown",
   "metadata": {},
   "source": [
    "### Dictionary methods\n",
    "![image](img/10Capture.PNG)"
   ]
  },
  {
   "cell_type": "code",
   "execution_count": 22,
   "metadata": {},
   "outputs": [
    {
     "name": "stdout",
     "output_type": "stream",
     "text": [
      "Got key apples which maps the value 430\n",
      "Got key bananas which maps the value 312\n",
      "Got key oranges which maps the value 525\n",
      "Got key pears which maps the value 217\n"
     ]
    }
   ],
   "source": [
    "inventory = {'apples': 430, 'bananas': 312, 'oranges': 525, 'pears': 217}\n",
    "for akey in inventory.keys(): # here we can remove .keys()\n",
    "    print(\"Got key\", akey, \"which maps the value\", inventory[akey])\n",
    "    "
   ]
  },
  {
   "cell_type": "code",
   "execution_count": 23,
   "metadata": {
    "scrolled": true
   },
   "outputs": [
    {
     "name": "stdout",
     "output_type": "stream",
     "text": [
      "['apples', 'bananas', 'oranges', 'pears']\n"
     ]
    }
   ],
   "source": [
    "# lists of a dictionary\n",
    "ks = list(inventory.keys())\n",
    "print(ks)"
   ]
  },
  {
   "cell_type": "markdown",
   "metadata": {},
   "source": [
    "It’s so common to **iterate over the keys in a dictionary** that you can omit the keys method call in the `for` loop — **iterating over a dictionary implicitly iterates over its keys**."
   ]
  },
  {
   "cell_type": "code",
   "execution_count": 24,
   "metadata": {},
   "outputs": [
    {
     "name": "stdout",
     "output_type": "stream",
     "text": [
      "got key apples\n",
      "got key bananas\n",
      "got key oranges\n",
      "got key pears\n"
     ]
    }
   ],
   "source": [
    "inventory = {'apples': 430, 'bananas': 312, 'oranges': 525, 'pears': 217}\n",
    "for k in inventory:\n",
    "    print(\"got key\", k)"
   ]
  },
  {
   "cell_type": "markdown",
   "metadata": {},
   "source": [
    "The `values` and `items` methods are similar to `keys`. They return the objects which can be iterated over. Note that the item objects are tuples containing the key and the associated value."
   ]
  },
  {
   "cell_type": "code",
   "execution_count": 69,
   "metadata": {},
   "outputs": [
    {
     "name": "stdout",
     "output_type": "stream",
     "text": [
      "keys: ['apples', 'bananas', 'oranges', 'pears']\n",
      "values: [430, 312, 525, 217]\n",
      "Items: [('apples', 430), ('bananas', 312), ('oranges', 525), ('pears', 217)]\n"
     ]
    }
   ],
   "source": [
    "inventory = {'apples': 430, 'bananas': 312, 'oranges': 525, 'pears': 217}\n",
    "print(\"keys:\", list(inventory.keys()))\n",
    "print(\"values:\", list(inventory.values()))\n",
    "print(\"Items:\", list(inventory.items()))"
   ]
  },
  {
   "cell_type": "code",
   "execution_count": 70,
   "metadata": {},
   "outputs": [
    {
     "name": "stdout",
     "output_type": "stream",
     "text": [
      "Got apples that mapts to 430\n",
      "Got bananas that mapts to 312\n",
      "Got oranges that mapts to 525\n",
      "Got pears that mapts to 217\n"
     ]
    }
   ],
   "source": [
    "for k in inventory:\n",
    "    print(\"Got\", k, \"that mapts to\", inventory[k])"
   ]
  },
  {
   "cell_type": "markdown",
   "metadata": {},
   "source": [
    "The `in` and `not in` operators can test if a key is in the dictionary:"
   ]
  },
  {
   "cell_type": "code",
   "execution_count": 72,
   "metadata": {},
   "outputs": [
    {
     "name": "stdout",
     "output_type": "stream",
     "text": [
      "True\n",
      "False\n",
      "...................\n",
      "312\n"
     ]
    }
   ],
   "source": [
    "inventory = {'apples': 430, 'bananas': 312, 'oranges': 525, 'pears': 217}\n",
    "print('apples' in inventory)\n",
    "print(\"cherries\" in inventory)\n",
    "print('...................')\n",
    "\n",
    "if 'bananas' in inventory:\n",
    "    print(inventory['bananas'])\n",
    "else:\n",
    "    print(\"We have no bananas\")"
   ]
  },
  {
   "cell_type": "markdown",
   "metadata": {},
   "source": [
    "The `get` method allows us to access the value associated with a key, similar to the `[ ]` operator. The important difference is that `get` will not cause a runtime error if the key is not present. It will instead return None. There exists a variation of `get` that allows a second parameter that serves as an alternative return value in the case where the key is not present. "
   ]
  },
  {
   "cell_type": "code",
   "execution_count": 74,
   "metadata": {},
   "outputs": [
    {
     "name": "stdout",
     "output_type": "stream",
     "text": [
      "430\n",
      "430\n",
      "None\n",
      "0\n",
      "430\n"
     ]
    }
   ],
   "source": [
    "inventory = {'apples': 430, 'bananas': 312, 'oranges': 525, 'pears': 217}\n",
    "\n",
    "print(inventory.get('apples'))\n",
    "print(inventory['apples'])\n",
    "\n",
    "print(inventory.get('cherries'))\n",
    "print(inventory.get('cherries', 0))\n",
    "print(inventory.get('apples', 0))\n"
   ]
  },
  {
   "cell_type": "code",
   "execution_count": 38,
   "metadata": {},
   "outputs": [
    {
     "name": "stdout",
     "output_type": "stream",
     "text": [
      "43\n"
     ]
    }
   ],
   "source": [
    "# Checking Understanding\n",
    "# What is printed by the following statements?\n",
    "total = 0\n",
    "mydict = {\"cat\":12, \"dog\":6, \"elephant\":23, \"bear\":20}\n",
    "for akey in mydict:\n",
    "   if len(akey) > 3:\n",
    "      total = total + mydict[akey]\n",
    "print(total)"
   ]
  },
  {
   "cell_type": "markdown",
   "metadata": {},
   "source": [
    "Every four years, the summer Olympics are held in a different country. Add a key-value pair to the dictionary places that reflects that the 2016 Olympics were held in Brazil."
   ]
  },
  {
   "cell_type": "code",
   "execution_count": 39,
   "metadata": {},
   "outputs": [
    {
     "name": "stdout",
     "output_type": "stream",
     "text": [
      "{'Australia': 2000, 'Greece': 2004, 'China': 2008, 'England': 2012}\n",
      "{'Australia': 2000, 'Greece': 2004, 'China': 2008, 'England': 2012, 'Brazil': 2016}\n"
     ]
    }
   ],
   "source": [
    "places = {\"Australia\":2000, \"Greece\":2004, \"China\":2008, \"England\":2012}\n",
    "print(places)\n",
    "places['Brazil'] = 2016\n",
    "print(places)\n"
   ]
  },
  {
   "cell_type": "markdown",
   "metadata": {},
   "source": [
    "We have a dictionary of the specific events that Italy has won medals in and the number of medals they have won for each event. Assign to the variable `events` a list of the keys from the dictionary `medal_events`."
   ]
  },
  {
   "cell_type": "code",
   "execution_count": 42,
   "metadata": {},
   "outputs": [
    {
     "name": "stdout",
     "output_type": "stream",
     "text": [
      "dict_keys(['Shooting', 'Fencing', 'Judo', 'Swimming', 'Diving'])\n",
      ".......\n",
      "['Shooting', 'Fencing', 'Judo', 'Swimming', 'Diving']\n"
     ]
    }
   ],
   "source": [
    "\n",
    "medal_events = {'Shooting': 7, 'Fencing': 4, 'Judo': 2, 'Swimming': 3, 'Diving': 2}\n",
    "events = medal_events.keys()\n",
    "print(events)\n",
    "print('.......')\n",
    "print(list(events))"
   ]
  },
  {
   "cell_type": "markdown",
   "metadata": {},
   "source": [
    "#### Aliasing and copying\n",
    "Because dictionaries are `mutable`, you need to be aware of `aliasing` (as we saw with lists). Whenever two variables refer to the same dictionary object, changes to one affect the other. For example, opposites is a dictionary that contains pairs of opposites."
   ]
  },
  {
   "cell_type": "code",
   "execution_count": 75,
   "metadata": {},
   "outputs": [
    {
     "name": "stdout",
     "output_type": "stream",
     "text": [
      "True\n",
      "left\n",
      "left\n"
     ]
    }
   ],
   "source": [
    "opposites = {'up': 'down', 'right': 'wrong', 'true': 'false'}\n",
    "alias = opposites\n",
    "\n",
    "print(alias is opposites)\n",
    "\n",
    "alias['right'] = 'left'\n",
    "print(opposites['right'])\n",
    "print(alias['right'])"
   ]
  },
  {
   "cell_type": "markdown",
   "metadata": {},
   "source": [
    "**Note**: As you can see from the is operator, alias and opposites refer to the same object. If you want to modify a dictionary and keep a `copy` of the original, use the dictionary copy method. Since acopy is a copy of the dictionary, changes to it will not effect the original."
   ]
  },
  {
   "cell_type": "code",
   "execution_count": 45,
   "metadata": {},
   "outputs": [
    {
     "name": "stdout",
     "output_type": "stream",
     "text": [
      "{'up': 'down', 'right': 'left', 'true': 'false'}\n",
      "{'up': 'down', 'right': 'wrong', 'true': 'false'}\n"
     ]
    }
   ],
   "source": [
    "opposites = {'up': 'down', 'right': 'wrong', 'true': 'false'}\n",
    "acopy = opposites.copy()\n",
    "acopy['right'] = 'left'    # does not change opposites\n",
    "print(acopy)\n",
    "print(opposites)"
   ]
  },
  {
   "cell_type": "code",
   "execution_count": 46,
   "metadata": {},
   "outputs": [
    {
     "name": "stdout",
     "output_type": "stream",
     "text": [
      "999\n"
     ]
    }
   ],
   "source": [
    "# What is printed by the following statements?\n",
    "\n",
    "mydict = {\"cat\":12, \"dog\":6, \"elephant\":23, \"bear\":20}\n",
    "yourdict = mydict\n",
    "yourdict[\"elephant\"] = 999\n",
    "print(mydict[\"elephant\"])"
   ]
  },
  {
   "cell_type": "markdown",
   "metadata": {},
   "source": [
    "## Course 2 Assessment 2\n",
    "\n",
    "1. At the halfway point during the Rio Olympics, the United States had 70 medals, Great Britain had 38 medals, China had 45 medals, Russia had 30 medals, and Germany had 17 medals. Create a dictionary assigned to the variable `medal_count` with the country names as the keys and the number of medals the country had as each key’s value.\n"
   ]
  },
  {
   "cell_type": "code",
   "execution_count": 47,
   "metadata": {},
   "outputs": [],
   "source": [
    "medal_count = {\"United States\":70, \"Great Britain\":38, \"China\":45, \"Russia\":30, \"Germany\" : 17}"
   ]
  },
  {
   "cell_type": "markdown",
   "metadata": {},
   "source": [
    "2. Given the dictionary swimmers, add an additional key-value pair to the dictionary with \"Phelps\" as the key and the integer 23 as the value. Do not rewrite the entire dictionary."
   ]
  },
  {
   "cell_type": "code",
   "execution_count": 48,
   "metadata": {},
   "outputs": [
    {
     "name": "stdout",
     "output_type": "stream",
     "text": [
      "{'Manuel': 4, 'Lochte': 12, 'Adrian': 7, 'Ledecky': 5, 'Dirado': 4, 'Phelps': 23}\n"
     ]
    }
   ],
   "source": [
    "\n",
    "swimmers = {'Manuel':4, 'Lochte':12, 'Adrian':7, 'Ledecky':5, 'Dirado':4}\n",
    "swimmers['Phelps'] = 23\n",
    "print(swimmers)"
   ]
  },
  {
   "cell_type": "markdown",
   "metadata": {},
   "source": [
    "3. The dictionary golds contains information about how many gold medals each country won in the 2016 Olympics. But today, Spain won 2 more gold medals. Update golds to reflect this information."
   ]
  },
  {
   "cell_type": "code",
   "execution_count": 50,
   "metadata": {},
   "outputs": [
    {
     "name": "stdout",
     "output_type": "stream",
     "text": [
      "{'Italy': 12, 'USA': 33, 'Brazil': 15, 'China': 27, 'Spain': 21, 'Canada': 22, 'Argentina': 8, 'England': 29}\n"
     ]
    }
   ],
   "source": [
    "golds = {\"Italy\": 12, \"USA\": 33, \"Brazil\": 15, \"China\": 27, \"Spain\": 19, \"Canada\": 22, \"Argentina\": 8, \"England\": 29}\n",
    "golds['Spain'] = golds['Spain'] + 2\n",
    "print(golds)"
   ]
  },
  {
   "cell_type": "markdown",
   "metadata": {},
   "source": [
    "4. Create a list of the countries that are in the dictionary golds, and assign that list to the variable name countries. Do not hard code this."
   ]
  },
  {
   "cell_type": "code",
   "execution_count": 51,
   "metadata": {},
   "outputs": [
    {
     "name": "stdout",
     "output_type": "stream",
     "text": [
      "['Italy', 'USA', 'Brazil', 'China', 'Spain', 'Canada', 'Argentina', 'England']\n"
     ]
    }
   ],
   "source": [
    "golds = {\"Italy\": 12, \"USA\": 33, \"Brazil\": 15, \"China\": 27, \"Spain\": 19, \"Canada\": 22, \"Argentina\": 8, \"England\": 29}\n",
    "countries = list(golds.keys())\n",
    "print(countries)"
   ]
  },
  {
   "cell_type": "markdown",
   "metadata": {},
   "source": [
    "5. Provided is the dictionary, medal_count, which lists countries and their respective medal count at the halfway point in the 2016 Rio Olympics. Using dictionary mechanics, assign the medal count value for \"Belarus\" to the variable belarus. Do not hardcode this."
   ]
  },
  {
   "cell_type": "code",
   "execution_count": 55,
   "metadata": {},
   "outputs": [
    {
     "name": "stdout",
     "output_type": "stream",
     "text": [
      "4\n"
     ]
    }
   ],
   "source": [
    "medal_count = {'United States': 70, 'Great Britain':38, 'China':45, 'Russia':30, 'Germany':17, 'Italy':22, 'France': 22, 'Japan':26, 'Australia':22, 'South Korea':14, 'Hungary':12, 'Netherlands':10, 'Spain':5, 'New Zealand':8, 'Canada':13, 'Kazakhstan':8, 'Colombia':4, 'Switzerland':5, 'Belgium':4, 'Thailand':4, 'Croatia':3, 'Iran':3, 'Jamaica':3, 'South Africa':7, 'Sweden':6, 'Denmark':7, 'North Korea':6, 'Kenya':4, 'Brazil':7, 'Belarus':4, 'Cuba':5, 'Poland':4, 'Romania':4, 'Slovenia':3, 'Argentina':2, 'Bahrain':2, 'Slovakia':2, 'Vietnam':2, 'Czech Republic':6, 'Uzbekistan':5}\n",
    "belarus = medal_count[\"Belarus\"]\n",
    "print(belarus)"
   ]
  },
  {
   "cell_type": "markdown",
   "metadata": {},
   "source": [
    "6. The dictionary total_golds contains the total number of gold medals that countries have won over the course of history. Use dictionary mechanics to find the number of golds Chile has won, and assign that number to the variable name chile_golds. Do not hard code this!"
   ]
  },
  {
   "cell_type": "code",
   "execution_count": 56,
   "metadata": {},
   "outputs": [
    {
     "name": "stdout",
     "output_type": "stream",
     "text": [
      "13\n"
     ]
    }
   ],
   "source": [
    "total_golds = {\"Italy\": 114, \"Germany\": 782, \"Pakistan\": 10, \"Sweden\": 627, \"USA\": 2681, \"Zimbabwe\": 8, \"Greece\": 111, \"Mongolia\": 24, \"Brazil\": 108, \"Croatia\": 34, \"Algeria\": 15, \"Switzerland\": 323, \"Yugoslavia\": 87, \"China\": 526, \"Egypt\": 26, \"Norway\": 477, \"Spain\": 133, \"Australia\": 480, \"Slovakia\": 29, \"Canada\": 22, \"New Zealand\": 100, \"Denmark\": 180, \"Chile\": 13, \"Argentina\": 70, \"Thailand\": 24, \"Cuba\": 209, \"Uganda\": 7,  \"England\": 806, \"Denmark\": 180, \"Ukraine\": 122, \"Bahamas\": 12}\n",
    "chile_golds = total_golds['Chile']\n",
    "print(chile_golds)"
   ]
  },
  {
   "cell_type": "markdown",
   "metadata": {},
   "source": [
    "## Accumulating Multiple Results In a Dictionary\n",
    "Rather than accumulating a single result, it’s possible to accumulate many results. Suppose, for example, we wanted to find out which letters are used most frequently in English.\n",
    "\n",
    "If we want to find out how often the letter `t` occurs, we can accumulate the result in a count variable."
   ]
  },
  {
   "cell_type": "code",
   "execution_count": 4,
   "metadata": {},
   "outputs": [
    {
     "name": "stdout",
     "output_type": "stream",
     "text": [
      "There are 15886 occurence of t.\n"
     ]
    }
   ],
   "source": [
    "f = open('scarlet.txt', 'r')\n",
    "txt = f.read()\n",
    "# now txt is one long string containing all the characters\n",
    "t_count = 0\n",
    "for c in txt:\n",
    "    if c == 't':\n",
    "        t_count = t_count + 1\n",
    "print('There are '+ str(t_count)+ \" occurence of t.\")"
   ]
  },
  {
   "cell_type": "markdown",
   "metadata": {},
   "source": [
    "We can accumulate counts for more than one character as we traverse the text. Suppose, for example, we wanted to compare the counts of `t` and `s` in the text."
   ]
  },
  {
   "cell_type": "code",
   "execution_count": 6,
   "metadata": {},
   "outputs": [
    {
     "name": "stdout",
     "output_type": "stream",
     "text": [
      "There are 15886 occurences of t.\n",
      "There are 10989 occurences of s.\n"
     ]
    }
   ],
   "source": [
    "f = open('scarlet.txt', 'r')\n",
    "txt = f.read()\n",
    "t_count = 0\n",
    "s_count = 0\n",
    "for c in txt:\n",
    "    if c == 't':\n",
    "        t_count += 1\n",
    "    elif c == 's':\n",
    "        s_count += 1\n",
    "print('There are '+ str(t_count)+ \" occurences of t.\")\n",
    "print('There are '+ str(s_count)+ \" occurences of s.\")"
   ]
  },
  {
   "cell_type": "markdown",
   "metadata": {},
   "source": [
    "You can see this is going to get tedious if we try to accumulate counts for all the letters. We will have to initialize a lot of accumulators, and there will be a very long if..elif..elif statement. **Using a dictionary, we can do a lot better**.\n",
    "\n",
    "One dictionary can hold all of the accumulator variables. Each `key` in the dictionary will be one letter, and the corresponding value will be the count so far of how many times that letter has occurred."
   ]
  },
  {
   "cell_type": "code",
   "execution_count": 12,
   "metadata": {},
   "outputs": [
    {
     "name": "stdout",
     "output_type": "stream",
     "text": [
      "There are 15886 occurences of t.\n",
      "There are 10989 occurences of s.\n",
      "x =: {'t': 15886, 's': 10989}\n"
     ]
    }
   ],
   "source": [
    "f = open('scarlet.txt', 'r')\n",
    "txt = f.read()\n",
    "x = {}\n",
    "x['t'] = 0\n",
    "x['s'] = 0\n",
    "\n",
    "for c in txt:\n",
    "    if c == 't':\n",
    "        x['t'] = x['t'] + 1\n",
    "    elif c == 's':\n",
    "        x['s'] = x['s'] + 1\n",
    "\n",
    "print('There are '+ str(x['t'])+ \" occurences of t.\")\n",
    "print('There are '+ str(x['s'])+ \" occurences of s.\")        \n",
    "print('x =:', x)    "
   ]
  },
  {
   "cell_type": "code",
   "execution_count": 9,
   "metadata": {},
   "outputs": [
    {
     "name": "stdout",
     "output_type": "stream",
     "text": [
      "{'t': 15886, 's': 10989}\n"
     ]
    }
   ],
   "source": [
    "print(x)"
   ]
  },
  {
   "cell_type": "markdown",
   "metadata": {},
   "source": [
    "This hasn’t really improved things yet, but look closely at lines 8-11 in the code above. Whichever character we’re seeing, `t` or `s`, we’re incrementing the counter for that character. So lines 9 and 11 could really be the same.\n",
    "\n",
    "Previously, our assignment statements referred directly to keys, with `x['s']` and `x['t']`. Here we are just using a variable `c` whose value is `‘s’` or `‘t’`, or some other character"
   ]
  },
  {
   "cell_type": "code",
   "execution_count": 13,
   "metadata": {},
   "outputs": [
    {
     "name": "stdout",
     "output_type": "stream",
     "text": [
      "There are 15886 occurences of t.\n",
      "There are 10989 occurences of s.\n",
      "x =: {'t': 15886, 's': 10989}\n"
     ]
    }
   ],
   "source": [
    "f = open('scarlet.txt', 'r')\n",
    "txt = f.read()\n",
    "x = {}\n",
    "x['t'] = 0\n",
    "x['s'] = 0\n",
    "\n",
    "for c in txt:\n",
    "    if c == 't':\n",
    "        x[c] = x[c] + 1\n",
    "    elif c == 's':\n",
    "        x[c] = x[c] + 1\n",
    "\n",
    "print('There are '+ str(x['t'])+ \" occurences of t.\")\n",
    "print('There are '+ str(x['s'])+ \" occurences of s.\")        \n",
    "print('x =:', x) "
   ]
  },
  {
   "cell_type": "markdown",
   "metadata": {},
   "source": [
    "We can do better still. One other nice thing about using a dictionary is that **we don’t have to prespecify what all the letters will be.** In this case, we know in advance what the alphabet for English is, but later in the chapter we will count the occurrences of words, and we do not know in advance all the of the words that may be used. **Rather than pre-specifying which letters to keep accumulator counts for, we can start with an empty dictionary and add a counter to the dictionary each time we encounter a new thing that we want to start keeping count of.**"
   ]
  },
  {
   "cell_type": "code",
   "execution_count": 29,
   "metadata": {},
   "outputs": [
    {
     "name": "stdout",
     "output_type": "stream",
     "text": [
      "t: 15886 occurrences\n",
      "s: 10989 occurrences\n",
      ".......................\n",
      "14774\n",
      "134\n",
      "2\n",
      "False\n"
     ]
    }
   ],
   "source": [
    "f = open('scarlet.txt', 'r')\n",
    "txt = f.read()\n",
    "# now txt is one long string containing all the characters\n",
    "x = {} # start with an empty dictionary\n",
    "for c in txt:\n",
    "    if c not in x:\n",
    "        # we have not seen this character before, so initialize a counter for it\n",
    "        x[c] = 0\n",
    "\n",
    "    #whether we've seen it before or not, increment its counter\n",
    "    x[c] = x[c] + 1\n",
    "\n",
    "print(\"t: \" + str(x['t']) + \" occurrences\")\n",
    "print(\"s: \" + str(x['s']) + \" occurrences\")\n",
    "print('.......................')\n",
    "print(str(x['a']))\n",
    "print(str(x['z']))\n",
    "print(str(x['Z']))\n",
    "\n",
    "print(x['e'] < x['t'])"
   ]
  },
  {
   "cell_type": "markdown",
   "metadata": {},
   "source": [
    "Note that the print statements at the end pick out the specific keys ‘t’ and ‘s’. **We can generalize that, too, to print out the occurrence counts for all of the characters, using a for loop to iterate through the keys in x.**"
   ]
  },
  {
   "cell_type": "markdown",
   "metadata": {},
   "source": [
    "\n"
   ]
  },
  {
   "cell_type": "code",
   "execution_count": 34,
   "metadata": {},
   "outputs": [
    {
     "name": "stdout",
     "output_type": "stream",
     "text": [
      "I: 2 occurrences\n",
      "N: 1 occurrences\n",
      " : 9 occurrences\n",
      "t: 3 occurrences\n",
      "h: 1 occurrences\n",
      "e: 5 occurrences\n",
      "y: 2 occurrences\n",
      "a: 1 occurrences\n",
      "r: 3 occurrences\n",
      "1: 1 occurrences\n",
      "8: 2 occurrences\n",
      "7: 1 occurrences\n",
      "o: 5 occurrences\n",
      "k: 1 occurrences\n",
      "m: 1 occurrences\n",
      "d: 1 occurrences\n",
      "g: 1 occurrences\n",
      "f: 1 occurrences\n",
      "D: 1 occurrences\n",
      "c: 1 occurrences\n",
      "...................\n",
      "dict_keys(['I', 'N', ' ', 't', 'h', 'e', 'y', 'a', 'r', '1', '8', '7', 'o', 'k', 'm', 'd', 'g', 'f', 'D', 'c'])\n",
      "dict_values([2, 1, 9, 3, 1, 5, 2, 1, 3, 1, 2, 1, 5, 1, 1, 1, 1, 1, 1, 1])\n",
      "[('I', 2), ('N', 1), (' ', 9), ('t', 3), ('h', 1), ('e', 5), ('y', 2), ('a', 1), ('r', 3), ('1', 1), ('8', 2), ('7', 1), ('o', 5), ('k', 1), ('m', 1), ('d', 1), ('g', 1), ('f', 1), ('D', 1), ('c', 1)]\n"
     ]
    }
   ],
   "source": [
    "f = open('scarlet2.txt', 'r') # the text file is modifid to avoid the lengthy of the letters to be listed\n",
    "txt = f.read()\n",
    "# now txt is one long string containing all the characters\n",
    "letter_counts = {} # start with an empty dictionary\n",
    "for c in txt:\n",
    "    if c not in letter_counts:\n",
    "        # we have not seen this character before, so initialize a counter for it\n",
    "        letter_counts[c] = 0\n",
    "    #whether we've seen it before or not, increment its counter\n",
    "    letter_counts[c] = letter_counts[c] + 1\n",
    "\n",
    "for c in letter_counts.keys():\n",
    "    print(c + \": \" + str(letter_counts[c]) + \" occurrences\")\n",
    "    \n",
    "print('...................')\n",
    "print(letter_counts.keys())\n",
    "print(letter_counts.values())\n",
    "print(list(letter_counts.items()))"
   ]
  },
  {
   "cell_type": "markdown",
   "metadata": {},
   "source": [
    "Note that only those letters that actually occur in the text are shown. Some punctuation marks that are possible in English, but were never used in the text, are omitted completely. The blank line partway through the output may surprise you. That’s actually saying that the newline character, `\\\\n`, appears 5155 times in the text. In other words, there are 5155 lines of text in the file. Let’s test that hypothesis."
   ]
  },
  {
   "cell_type": "code",
   "execution_count": 40,
   "metadata": {},
   "outputs": [
    {
     "name": "stdout",
     "output_type": "stream",
     "text": [
      "4647\n",
      "..............\n",
      "['exuberance of my joy, I asked him to lunch with me at the Holborn, and\\n', 'we started off together in a hansom.\\n', '\\n', '“Whatever have you been doing with yourself, Watson?” he asked in\\n', 'undisguised wonder, as we rattled through the crowded London streets.\\n']\n"
     ]
    }
   ],
   "source": [
    "f = open('scarlet.txt', 'r')\n",
    "txt_lines = f.readlines()\n",
    "print(len(txt_lines))\n",
    "print('..............')\n",
    "print(txt_lines[70:75])"
   ]
  },
  {
   "cell_type": "markdown",
   "metadata": {},
   "source": [
    "2. Provided is a string saved to the variable name `sentence`. Split the string into a list of words, then create a dictionary that contains each word and the number of times it occurs. Save this dictionary to the variable name `word_counts`."
   ]
  },
  {
   "cell_type": "code",
   "execution_count": 47,
   "metadata": {},
   "outputs": [
    {
     "name": "stdout",
     "output_type": "stream",
     "text": [
      "{'The': 1, 'dog': 1, 'chased': 1, 'the': 3, 'rabbit': 2, 'into': 1, 'forest': 1, 'but': 1, 'was': 1, 'too': 1, 'quick.': 1}\n"
     ]
    }
   ],
   "source": [
    "sentence = \"The dog chased the rabbit into the forest but the rabbit was too quick.\"\n",
    "words = sentence.split()\n",
    "word_counts = {}\n",
    "for w in words:\n",
    "    if w not in word_counts:\n",
    "        word_counts[w] = 0\n",
    "    word_counts[w] +=  1\n",
    "print(word_counts)\n",
    "        "
   ]
  },
  {
   "cell_type": "markdown",
   "metadata": {},
   "source": [
    "3. Create a dictionary called `char_d` from the string `stri`, so that the key is a character and the value is how many times it occurs."
   ]
  },
  {
   "cell_type": "code",
   "execution_count": 48,
   "metadata": {},
   "outputs": [
    {
     "name": "stdout",
     "output_type": "stream",
     "text": [
      "{'w': 1, 'h': 1, 'a': 2, 't': 1, ' ': 3, 'c': 1, 'n': 1, 'I': 1, 'd': 1, 'o': 1}\n"
     ]
    }
   ],
   "source": [
    "stri = \"what can I do\"\n",
    "char_d = {}\n",
    "for c in stri:\n",
    "    if c not in char_d:\n",
    "        char_d[c] = 0\n",
    "    char_d[c] += 1\n",
    "print(char_d)\n"
   ]
  },
  {
   "cell_type": "markdown",
   "metadata": {},
   "source": [
    "Just as we have iterated through the elements of a list to accumulate a result, we can also iterate through the keys in a dictionary, accumulating a result that may depend on the values associated with each of the keys.\n",
    "\n",
    "For example, suppose that we wanted to compute a Scrabble score for the Study in Scarlet text. Each occurrence of the letter ‘e’ earns one point, but ‘q’ earns 10. We have a second dictionary, stored in the variable `letter_values`. Now, to compute the total score, we start an accumulator at 0 and go through each of the letters in the counts dictionary. For each of those letters that has a letter value (no points for spaces, punctuation, capital letters, etc.), we add to the total score."
   ]
  },
  {
   "cell_type": "code",
   "execution_count": 51,
   "metadata": {},
   "outputs": [
    {
     "name": "stdout",
     "output_type": "stream",
     "text": [
      "309998\n"
     ]
    }
   ],
   "source": [
    "f = open('scarlet.txt', 'r')\n",
    "txt = f.read()\n",
    "# now txt is one long string containing all the characters\n",
    "x = {} # start with an empty dictionary\n",
    "for c in txt:\n",
    "    if c not in x:\n",
    "        # we have not seen this character before, so initialize a counter for it\n",
    "        x[c] = 0\n",
    "    #whether we've seen it before or not, increment its counter\n",
    "    x[c] = x[c] + 1\n",
    "\n",
    "letter_values = {'a': 1, 'b': 3, 'c': 3, 'd': 2, 'e': 1, 'f':4, 'g': 2, 'h':4, 'i':1, 'j':8, 'k':5, 'l':1, 'm':3, 'n':1, 'o':1, 'p':3, 'q':10, 'r':1, 's':1, 't':1, 'u':1, 'v':4, 'w':4, 'x':8, 'y':4, 'z':10}\n",
    "\n",
    "tot = 0\n",
    "\n",
    "for y in x:\n",
    "    if y in letter_values:\n",
    "        tot = tot + letter_values[y] * x[y]\n",
    "\n",
    "print(tot)\n"
   ]
  },
  {
   "cell_type": "markdown",
   "metadata": {},
   "source": [
    "1. The dictionary travel contains the number of countries within each continent that Jackie has traveled to. Find the total number of countries that Jackie has been to, and save this number to the variable name `total`. Do not hard code this!"
   ]
  },
  {
   "cell_type": "code",
   "execution_count": 76,
   "metadata": {},
   "outputs": [
    {
     "name": "stdout",
     "output_type": "stream",
     "text": [
      "19\n"
     ]
    }
   ],
   "source": [
    "travel = {\"North America\": 2, \"Europe\": 8, \"South America\": 3, \"Asia\": 4, \"Africa\":1, \"Antarctica\": 0, \"Australia\": 1}\n",
    "total = 0\n",
    "for t in travel:\n",
    "    total = total + travel[t] \n",
    "print(total)\n"
   ]
  },
  {
   "cell_type": "markdown",
   "metadata": {},
   "source": [
    "2. schedule is a dictionary where a class name is a key and its value is how many credits it was worth. Go through and accumulate the total number of credits that have been earned so far and assign that to the variable `total_credits`. Do not hardcode."
   ]
  },
  {
   "cell_type": "code",
   "execution_count": 77,
   "metadata": {},
   "outputs": [
    {
     "name": "stdout",
     "output_type": "stream",
     "text": [
      "63\n"
     ]
    }
   ],
   "source": [
    "schedule = {\"UARTS 150\": 3, \"SPANISH 103\": 4, \"ENGLISH 125\": 4, \"SI 110\": 4, \"ENS 356\": 2, \"WOMENSTD 240\": 4, \"SI 106\": 4, \"BIO 118\": 3, \"SPANISH 231\": 4, \"PSYCH 111\": 4, \"LING 111\": 3, \"SPANISH 232\": 4, \"STATS 250\": 4, \"SI 206\": 4, \"COGSCI 200\": 4, \"AMCULT 202\": 4, \"ANTHRO 101\": 4}\n",
    "total_credits = 0\n",
    "for t in schedule:\n",
    "    total_credits = total_credits + schedule[t] \n",
    "print(total_credits)"
   ]
  },
  {
   "cell_type": "markdown",
   "metadata": {},
   "source": [
    "### Accumulating the Best Key\n",
    "Now what if we want to find the key associated with the maximum value? It would be nice to just find the maximum value as above, and then look up the key associated with it, but dictionaries don’t work that way. You can look up the value associated with a key, but not the key associated with a value. (The reason for that is there may be more than one key that has the same value).\n",
    "\n",
    "__The trick is to have the accumulator keep track of the best key so far instead of the best value so far__. For simplicity, let’s assume that there are at least two keys in the dictionary. Then, similar to our first version of computing the max of a list, we can initialize the best-key-so-far to be the first key, and loop through the keys, replacing the best-so-far whenever we find a better one."
   ]
  },
  {
   "cell_type": "markdown",
   "metadata": {},
   "source": [
    "Write a program that finds the key in a dictionary that has the maximum value. If two keys have the same maximum value, it’s OK to print out either one. Fill in the skeleton code"
   ]
  },
  {
   "cell_type": "code",
   "execution_count": 78,
   "metadata": {},
   "outputs": [
    {
     "name": "stdout",
     "output_type": "stream",
     "text": [
      "key e has the highest value, 312\n"
     ]
    }
   ],
   "source": [
    "d = {'a': 194, 'b': 54, 'c':34, 'd': 44, 'e': 312, 'full':31}\n",
    "\n",
    "ks = d.keys()\n",
    "best_key_so_far = list(ks)[0]  # Have to turn ks into a real list before using [] to select an item\n",
    "# initialize variable best_key_so_far to be the first key in d\n",
    "for k in ks:\n",
    "      if d[k] > d[best_key_so_far]:\n",
    "        best_key_so_far = k\n",
    "    # check if the value associated with the current key is\n",
    "    # bigger than the value associated with the best_key_so_far\n",
    "    # if so, save the current key as the best so far\n",
    "       \n",
    "\n",
    "print(\"key \" + best_key_so_far + \" has the highest value, \" + str(d[best_key_so_far]))\n"
   ]
  },
  {
   "cell_type": "markdown",
   "metadata": {},
   "source": [
    "### Check your Understanding\n",
    "\n"
   ]
  },
  {
   "cell_type": "markdown",
   "metadata": {},
   "source": [
    "1. Create a dictionary called `d` that keeps track of all the characters in the string `placement` and notes how many times each character was seen. Then, find the key with the lowest value in this dictionary and assign that key to `min_value`.\n"
   ]
  },
  {
   "cell_type": "code",
   "execution_count": 78,
   "metadata": {},
   "outputs": [
    {
     "name": "stdout",
     "output_type": "stream",
     "text": [
      "{'B': 2, 'e': 17, 'a': 12, 'c': 8, 'h': 4, 's': 10, ' ': 27, 'r': 7, 'o': 10, 'l': 8, 'p': 6, 't': 8, 'v': 3, 'i': 13, 'n': 7, 'g': 2, 'w': 3, 'M': 3, 'k': 2, 'd': 2, '.': 2, 'x': 1}\n",
      "Min value:.... B\n",
      "x\n",
      "key x has the lowest value, 1\n"
     ]
    }
   ],
   "source": [
    "placement = \"Beaches are cool places to visit in spring however the Mackinaw Bridge is near. Most people visit Mackinaw later since the island is a cool place to explore.\"\n",
    "d = {}\n",
    "for cha in placement:\n",
    "    if cha not in d:\n",
    "        d[cha] = 0\n",
    "    d[cha] = d[cha] + 1\n",
    "print(d)\n",
    "ks = d.keys()\n",
    "min_value = list(ks)[0]\n",
    "print(\"Min value:....\", min_value)\n",
    "for k in ks:\n",
    "      if d[k] < d[min_value]:\n",
    "        min_value = k\n",
    "print(min_value)\n",
    "print(\"key \" + min_value + \" has the lowest value, \" + str(d[min_value]))"
   ]
  },
  {
   "cell_type": "markdown",
   "metadata": {},
   "source": [
    "5. Create a dictionary called `lett_d` that keeps track of all of the characters in the string `product` and notes how many times each character was seen. Then, find the key with the highest value in this dictionary and assign that key to `max_value`."
   ]
  },
  {
   "cell_type": "code",
   "execution_count": 87,
   "metadata": {},
   "outputs": [
    {
     "name": "stdout",
     "output_type": "stream",
     "text": [
      "{'i': 2, 'p': 2, 'h': 2, 'o': 3, 'n': 4, 'e': 2, ' ': 3, 'a': 2, 'd': 3, 'r': 1, 's': 1}\n",
      "......................\n",
      "n\n",
      "The maximum value is : 4\n"
     ]
    }
   ],
   "source": [
    "product = \"iphone and android phones\"\n",
    "lett_d = {}\n",
    "for c in product:\n",
    "    if c not in lett_d:\n",
    "        lett_d[c] = 0\n",
    "    lett_d[c] += 1\n",
    "print(lett_d)\n",
    "print(\"......................\")\n",
    "ks = lett_d.keys()\n",
    "max_value = list(ks)[0]\n",
    "for k in ks:\n",
    "    if lett_d[k] > lett_d[max_value]:\n",
    "        max_value = k\n",
    "print(max_value)\n",
    "print(\"The maximum value is :\", lett_d['n'])"
   ]
  },
  {
   "cell_type": "markdown",
   "metadata": {},
   "source": [
    "## Course 2 Assessment 3"
   ]
  },
  {
   "cell_type": "markdown",
   "metadata": {},
   "source": [
    "1. The dictionary `Junior` shows a schedule for a junior year semester. The key is the course name and the value is the number of credits. Find the total number of credits taken this semester and assign it to the variable `credits`. "
   ]
  },
  {
   "cell_type": "code",
   "execution_count": 89,
   "metadata": {},
   "outputs": [
    {
     "name": "stdout",
     "output_type": "stream",
     "text": [
      "18\n"
     ]
    }
   ],
   "source": [
    "Junior = {'SI 206':4, 'SI 310':4, 'BL 300':3, 'TO 313':3, 'BCOM 350':1, 'MO 300':3}\n",
    "credits = 0\n",
    "for d in Junior:\n",
    "    credits = credits + Junior[d]\n",
    "print(credits)\n"
   ]
  },
  {
   "cell_type": "markdown",
   "metadata": {},
   "source": [
    "2. Create a dictionary, `freq`, that displays each character in string `str1` as the key and its frequency as the value."
   ]
  },
  {
   "cell_type": "code",
   "execution_count": 115,
   "metadata": {},
   "outputs": [
    {
     "name": "stdout",
     "output_type": "stream",
     "text": [
      "{'p': 9, 'e': 8, 't': 1, 'r': 3, ' ': 7, 'i': 3, 'c': 3, 'k': 3, 'd': 2, 'a': 1, 'o': 1, 'f': 1, 'l': 1, 's': 1}\n"
     ]
    }
   ],
   "source": [
    "str1 = \"peter piper picked a peck of pickled peppers\"\n",
    "freq = {}\n",
    "for c in str1:\n",
    "    if c not in freq:\n",
    "        freq[c] = 0\n",
    "    freq[c] += 1\n",
    "print(freq)\n"
   ]
  },
  {
   "cell_type": "markdown",
   "metadata": {},
   "source": [
    "3. Provided is a string saved to the variable name `s1`. Create a dictionary named `counts` that contains each letter in `s1` and the number of times it occurs."
   ]
  },
  {
   "cell_type": "code",
   "execution_count": 91,
   "metadata": {},
   "outputs": [
    {
     "name": "stdout",
     "output_type": "stream",
     "text": [
      "{'h': 1, 'e': 1, 'l': 2, 'o': 1}\n"
     ]
    }
   ],
   "source": [
    "s1 = \"hello\"\n",
    "counts = {}\n",
    "for c in s1:\n",
    "    if c not in counts:\n",
    "        counts[c] = 0\n",
    "    counts[c] += 1\n",
    "print(counts)"
   ]
  },
  {
   "cell_type": "markdown",
   "metadata": {},
   "source": [
    "4. Create a dictionary, `freq_words`, that contains each word in string `str1` as the key and its frequency as the value."
   ]
  },
  {
   "cell_type": "code",
   "execution_count": 94,
   "metadata": {},
   "outputs": [
    {
     "name": "stdout",
     "output_type": "stream",
     "text": [
      "{'I': 2, 'wish': 2, 'with': 2, 'all': 1, 'my': 1, 'heart': 1, 'to': 1, 'fly': 1, 'dragons': 1, 'in': 1, 'a': 1, 'land': 1, 'apart': 1}\n"
     ]
    }
   ],
   "source": [
    "str1 = \"I wish I wish with all my heart to fly with dragons in a land apart\"\n",
    "words = str1.split()\n",
    "freq_words = {}\n",
    "for c in words:\n",
    "    if c not in freq_words:\n",
    "        freq_words[c] = 0\n",
    "    freq_words[c] += 1\n",
    "print(freq_words)"
   ]
  },
  {
   "cell_type": "markdown",
   "metadata": {},
   "source": [
    "5. Create a dictionary called `wrd_d` from the string `sent`, so that the key is a word and the value is how many times you have seen that word."
   ]
  },
  {
   "cell_type": "code",
   "execution_count": 95,
   "metadata": {},
   "outputs": [
    {
     "name": "stdout",
     "output_type": "stream",
     "text": [
      "{'Singing': 1, 'in': 2, 'the': 2, 'rain': 2, 'and': 1, 'playing': 1, 'are': 1, 'two': 1, 'entirely': 1, 'different': 1, 'situations': 1, 'but': 1, 'both': 1, 'can': 1, 'be': 1, 'good': 1}\n"
     ]
    }
   ],
   "source": [
    "sent = \"Singing in the rain and playing in the rain are two entirely different situations but both can be good\"\n",
    "words = sent.split()\n",
    "wrd_d = {}\n",
    "for c in words:\n",
    "    if c not in wrd_d:\n",
    "        wrd_d[c] = 0\n",
    "    wrd_d[c] += 1\n",
    "print(wrd_d)\n",
    "\n"
   ]
  },
  {
   "cell_type": "markdown",
   "metadata": {},
   "source": [
    "6. Create the dictionary `characters` that shows each character from the string `sally` and its frequency. Then, find the most frequent letter based on the dictionary. Assign this letter to the variable `best_char`."
   ]
  },
  {
   "cell_type": "code",
   "execution_count": 102,
   "metadata": {},
   "outputs": [
    {
     "name": "stdout",
     "output_type": "stream",
     "text": [
      "s\n"
     ]
    }
   ],
   "source": [
    "sally = \"sally sells sea shells by the sea shore\"\n",
    "characters = {}\n",
    "for c in sally:\n",
    "    if c not in characters:\n",
    "        characters[c] = 0\n",
    "    characters[c] = characters[c] + 1\n",
    "#print(\"d :.........\", d)\n",
    "#d :......... {'s': 8, 'a': 3, 'l': 6, 'y': 2, ' ': 7, 'e': 6, 'h': 3, 'b': 1, 't': 1, 'o': 1, 'r': 1}\n",
    "\n",
    "ks = characters.keys()\n",
    "best_char = list(ks)[0]\n",
    "for k in ks:\n",
    "    if characters[k] > characters[best_char]:\n",
    "        best_char = k\n",
    "print(best_char)"
   ]
  },
  {
   "cell_type": "markdown",
   "metadata": {},
   "source": [
    "7. Find the least frequent letter. Create the dictionary `characters` that shows each character from string `sally` and its frequency. Then, find the least frequent letter in the string and assign the letter to the variable `worst_char`."
   ]
  },
  {
   "cell_type": "code",
   "execution_count": 103,
   "metadata": {},
   "outputs": [
    {
     "name": "stdout",
     "output_type": "stream",
     "text": [
      "n\n"
     ]
    }
   ],
   "source": [
    "sally = \"sally sells sea shells by the sea shore and by the road\"\n",
    "characters = {}\n",
    "for c in sally:\n",
    "    if c not in characters:\n",
    "        characters[c] = 0\n",
    "    characters[c] = characters[c] + 1\n",
    "#print(\"d :.........\", d)\n",
    "#d :......... {'s': 8, 'a': 3, 'l': 6, 'y': 2, ' ': 7, 'e': 6, 'h': 3, 'b': 1, 't': 1, 'o': 1, 'r': 1}\n",
    "\n",
    "ks = characters.keys()\n",
    "worst_char = list(ks)[0]\n",
    "for k in ks:\n",
    "    if characters[k] < characters[worst_char]:\n",
    "        worst_char = k\n",
    "print(worst_char)\n"
   ]
  },
  {
   "cell_type": "markdown",
   "metadata": {},
   "source": [
    "8. Create a dictionary named `letter_counts` that contains each letter and the number of times it occurs in `string1`. **Challenge**: Letters should not be counted separately as upper-case and lower-case. Intead, all of them should be counted as lower-case."
   ]
  },
  {
   "cell_type": "code",
   "execution_count": 106,
   "metadata": {},
   "outputs": [
    {
     "name": "stdout",
     "output_type": "stream",
     "text": [
      "{'t': 19, 'h': 11, 'e': 29, 'r': 12, ' ': 53, 'i': 14, 's': 15, 'a': 17, 'd': 7, 'n': 15, 'f': 9, 'o': 17, 'm': 4, ',': 4, 'w': 6, 'c': 3, 'k': 2, 'l': 11, 'u': 8, '.': 4, 'v': 3, 'y': 1, 'g': 1, 'b': 1}\n"
     ]
    }
   ],
   "source": [
    "string1 = \"There is a tide in the affairs of men, Which taken at the flood, leads on to fortune. Omitted, all the voyage of their life is bound in shallows and in miseries. On such a full sea are we now afloat. And we must take the current when it serves, or lose our ventures.\"\n",
    "letter_counts = {}\n",
    "for c in string1:\n",
    "    c = c.lower()\n",
    "    if c not in letter_counts:\n",
    "        letter_counts[c] = 0\n",
    "    letter_counts[c] += 1\n",
    "print(letter_counts)"
   ]
  },
  {
   "cell_type": "markdown",
   "metadata": {},
   "source": [
    "9. Create a dictionary called `low_d` that keeps track of all the characters in the string `p` and notes how many times each character was seen. Make sure that there are no repeats of characters as keys, such that `“T”` and `“t”` are both seen as a `“t”` for example."
   ]
  },
  {
   "cell_type": "code",
   "execution_count": 108,
   "metadata": {},
   "outputs": [
    {
     "name": "stdout",
     "output_type": "stream",
     "text": [
      "{'s': 5, 'u': 7, 'm': 3, 'e': 12, 'r': 3, ' ': 20, 'i': 3, 'a': 6, 'g': 3, 't': 9, 'o': 8, 'd': 1, '.': 2, 'y': 1, 'h': 6, 'v': 1, 'b': 2, 'c': 2, 'f': 3, 'l': 1, 'n': 1}\n"
     ]
    }
   ],
   "source": [
    "p = \"Summer is a great time to go outside. You have to be careful of the sun though because of the heat.\"\n",
    "low_d = {}\n",
    "for c in p:\n",
    "    c = c.lower()\n",
    "    if c not in low_d:\n",
    "        low_d[c] = 0\n",
    "    low_d[c] += 1\n",
    "print(low_d)"
   ]
  },
  {
   "cell_type": "markdown",
   "metadata": {},
   "source": [
    "## Python Functions, Files, and Dictionaries\n"
   ]
  },
  {
   "cell_type": "markdown",
   "metadata": {},
   "source": [
    "### Introduction: Functions\n",
    "In Python, a function is a chunk of code that performs some operation that is meaningful for a person to think about as a whole unit..... In this chapter you will learn about named functions, functions that can be referred to by name when you want to execute them."
   ]
  },
  {
   "cell_type": "markdown",
   "metadata": {},
   "source": [
    "### Function Definition\n",
    "The syntax for creating a named function, a **function definition**, is:\n",
    "\n",
    "    def name( parameters ):\n",
    "        statements\n",
    "In a function definition, the keyword in the header is `def`, which is followed by the name of the function and some parameter names enclosed in parentheses. The parameter list may be empty, or it may contain any number of parameters separated from one another by commas."
   ]
  },
  {
   "cell_type": "code",
   "execution_count": 3,
   "metadata": {},
   "outputs": [],
   "source": [
    "def hello():\n",
    "    \"\"\"This function says hello and greets you\"\"\"\n",
    "    print(\"Hello\")\n",
    "    print(\"Glad to meet you\")\n",
    "# this don't print anything "
   ]
  },
  {
   "cell_type": "code",
   "execution_count": 4,
   "metadata": {},
   "outputs": [
    {
     "name": "stdout",
     "output_type": "stream",
     "text": [
      "Hello\n",
      "Glad to meet you\n"
     ]
    }
   ],
   "source": [
    "hello()"
   ]
  },
  {
   "cell_type": "code",
   "execution_count": 83,
   "metadata": {},
   "outputs": [],
   "source": [
    "import turtle\n",
    "\n",
    "def drawSquare(t, sz):\n",
    "    \"\"\"Make turtle t draw a square of with side sz.\"\"\"\n",
    "\n",
    "    for i in range(4):\n",
    "        t.forward(sz)\n",
    "        t.left(90)\n",
    "\n",
    "\n",
    "wn = turtle.Screen()      # Set up the window and its attributes\n",
    "wn.bgcolor(\"lightgreen\")\n",
    "\n",
    "alex = turtle.Turtle()    # create alex\n",
    "drawSquare(alex, 50)      # Call the function to draw the square passing the actual turtle and the actual side size\n",
    "\n",
    "wn.exitonclick()\n"
   ]
  },
  {
   "cell_type": "markdown",
   "metadata": {},
   "source": [
    "This function is named `drawSquare`. It has two parameters — one to tell the function which turtle to move around and the other to tell it the size of the square we want drawn. In the function definition they are called `t` and `sz` respectively. Make sure you know where the body of the function ends — it depends on the indentation and the blank lines don’t count for this purpose!"
   ]
  },
  {
   "cell_type": "markdown",
   "metadata": {},
   "source": [
    "#### Function Invocation\n",
    "Defining a new function does not make the function run. To execute the function, we need a **function call**. This is also known as a **function invocation**.\n",
    "\n",
    "__The way to invoke a function is to refer to it by name, followed by parentheses__. Since there are no parameters for the function hello, we won’t need to put anything inside the parentheses when we call it."
   ]
  },
  {
   "cell_type": "code",
   "execution_count": 3,
   "metadata": {},
   "outputs": [],
   "source": [
    "def hello():\n",
    "    print(\"Hello\")\n",
    "    print(\"Nice to meet you\")"
   ]
  },
  {
   "cell_type": "code",
   "execution_count": 8,
   "metadata": {},
   "outputs": [
    {
     "name": "stdout",
     "output_type": "stream",
     "text": [
      "<class 'function'>\n",
      "..............\n",
      "<class 'str'>\n",
      "..............\n",
      "Hello\n",
      "Nice to meet you\n"
     ]
    }
   ],
   "source": [
    "print(type(hello))\n",
    "print('..............')\n",
    "print(type('hello'))\n",
    "print('..............')\n",
    "hello()"
   ]
  },
  {
   "cell_type": "markdown",
   "metadata": {},
   "source": [
    "### Function Parameters\n",
    "Named functions are nice because, once they are defined and we understand what they do, we can refer to them by name and not think too much about what they do.\n",
    "\n",
    "In the definition, the parameter list is sometimes referred to as the __formal parameters or parameter names__. These names can be any valid variable name. If there is more than one, they are separated by commas."
   ]
  },
  {
   "cell_type": "code",
   "execution_count": 11,
   "metadata": {},
   "outputs": [],
   "source": [
    "def hello2(s):\n",
    "    print(\"Hello \" + s)\n",
    "    print(\"Glad to meet you\")"
   ]
  },
  {
   "cell_type": "code",
   "execution_count": 12,
   "metadata": {},
   "outputs": [
    {
     "name": "stdout",
     "output_type": "stream",
     "text": [
      "Hello Iman\n",
      "Glad to meet you\n",
      "...............\n",
      "Hello Jackie\n",
      "Glad to meet you\n"
     ]
    }
   ],
   "source": [
    "hello2(\"Iman\")\n",
    "print(\"...............\")\n",
    "hello2(\"Jackie\")"
   ]
  },
  {
   "cell_type": "code",
   "execution_count": 18,
   "metadata": {},
   "outputs": [
    {
     "name": "stdout",
     "output_type": "stream",
     "text": [
      "Hello Imanand Jackie\n",
      "Glad to mee you\n",
      "...................\n",
      "Hello class class class \n",
      "Glad to mee you\n"
     ]
    }
   ],
   "source": [
    "def hello2(s):\n",
    "    print(\"Hello \" + s)\n",
    "    print(\"Glad to mee you\")\n",
    "\n",
    "hello2(\"Iman\" +  \"and Jackie\")\n",
    "print('...................')\n",
    "hello2(\"class \" * 3) "
   ]
  },
  {
   "cell_type": "markdown",
   "metadata": {},
   "source": [
    "Now let’s consider a function with two parameters. This version of hello takes a parameter that controls how many times the greeting will be printed."
   ]
  },
  {
   "cell_type": "code",
   "execution_count": 23,
   "metadata": {},
   "outputs": [
    {
     "name": "stdout",
     "output_type": "stream",
     "text": [
      "Hello wei Hello wei Hello wei Hello wei \n",
      ".................\n",
      "Hello  \n",
      ".................\n",
      "Hello 3 \n",
      ".................\n",
      "Hello Zeki \n"
     ]
    }
   ],
   "source": [
    "def hello3(s , n):\n",
    "    greeting = \"Hello {} \".format(s)\n",
    "    print(greeting * n)\n",
    "    \n",
    "hello3(\"wei\", 4)\n",
    "print('.................')\n",
    "hello3(\"\", 1)\n",
    "print('.................')\n",
    "hello3(3, 1)\n",
    "print('.................')\n",
    "hello3(\"Zeki\", 1)\n",
    "\n",
    "    "
   ]
  },
  {
   "cell_type": "markdown",
   "metadata": {},
   "source": [
    "### Returning a value from a function\n",
    "Not only can you pass a parameter value into a function, a function can also produce a value. You have already seen this in some previous functions that you have used. For example, `len` takes a list or string as a parameter value and returns a number, the length of that list or string. `range` takes an integer as a parameter value and returns a list containing all the numbers from 0 up to that parameter value.\n",
    "\n",
    "Functions that return values are sometimes called -__fruitful functions__. In many other languages, a function that doesn’t return a value is called a __procedure__, but we will stick here with the Python way of also calling it a __function__, or if we want to stress it, a non-fruitful function."
   ]
  },
  {
   "cell_type": "code",
   "execution_count": 62,
   "metadata": {},
   "outputs": [
    {
     "name": "stdout",
     "output_type": "stream",
     "text": [
      "The result of 10 squared is 100.\n",
      "The result of 10 squared multiplied by 2 is 200.\n"
     ]
    }
   ],
   "source": [
    "def square(x):\n",
    "    y = x * x\n",
    "    return y\n",
    "\n",
    "toSquare = 10\n",
    "result = square(toSquare)\n",
    "result2 = 2 * square(toSquare)\n",
    "\n",
    "print(\"The result of {} squared is {}.\".format(toSquare, result))\n",
    "print(\"The result of {} squared multiplied by 2 is {}.\".format(toSquare, result2))\n"
   ]
  },
  {
   "cell_type": "code",
   "execution_count": 58,
   "metadata": {},
   "outputs": [
    {
     "name": "stdout",
     "output_type": "stream",
     "text": [
      "The result of 10 squared is 100.\n"
     ]
    }
   ],
   "source": [
    "def square(x):\n",
    "    y = x * x\n",
    "    return y\n",
    "\n",
    "x = 10\n",
    "result = square(x)\n",
    "#result = 2 * square(x)\n",
    "#result = 3 * square(x)\n",
    "\n",
    "print(\"The result of {} squared is {}.\".format(x, result))\n"
   ]
  },
  {
   "cell_type": "markdown",
   "metadata": {},
   "source": [
    "__There is one more aspect of function return values that should be noted__. All Python functions return the special value `None` unless there is an explicit return statement with a value other than `None`. Consider the following common mistake made by beginning Python programmers"
   ]
  },
  {
   "cell_type": "code",
   "execution_count": 59,
   "metadata": {},
   "outputs": [
    {
     "name": "stdout",
     "output_type": "stream",
     "text": [
      "100\n",
      "The result of 10 squared is None.\n"
     ]
    }
   ],
   "source": [
    "def square(x):\n",
    "    y = x * x\n",
    "    print(y)   # Bad! This is confusing! Should use return instead!\n",
    "\n",
    "toSquare = 10\n",
    "squareResult = square(toSquare)\n",
    "print(\"The result of {} squared is {}.\".format(toSquare, squareResult))\n"
   ]
  },
  {
   "cell_type": "markdown",
   "metadata": {},
   "source": [
    "Since line 6 uses the return value as the right hand side of an assignment statement, squareResult will have None as its value and the result printed in line 7 is incorrect. Typically, functions will return values that can be printed or processed in some other way by the caller."
   ]
  },
  {
   "cell_type": "markdown",
   "metadata": {},
   "source": [
    "In the following code, when line 3 executes, the value 5 is returned and assigned to the variable x, then printed. Lines 4 and 5 never execute. Run the following code and try making some modifications of it to make sure you understand why “there” and 10 never print out."
   ]
  },
  {
   "cell_type": "code",
   "execution_count": 46,
   "metadata": {},
   "outputs": [
    {
     "name": "stdout",
     "output_type": "stream",
     "text": [
      "here\n",
      "5\n"
     ]
    }
   ],
   "source": [
    "def weird():\n",
    "    print(\"here\")\n",
    "    return 5\n",
    "    print(\"there\") \n",
    "    return 10\n",
    "\n",
    "print(weird())"
   ]
  },
  {
   "cell_type": "code",
   "execution_count": 51,
   "metadata": {},
   "outputs": [
    {
     "name": "stdout",
     "output_type": "stream",
     "text": [
      "here\n"
     ]
    }
   ],
   "source": [
    "  \n",
    "x = weird()\n"
   ]
  },
  {
   "cell_type": "code",
   "execution_count": 52,
   "metadata": {},
   "outputs": [
    {
     "name": "stdout",
     "output_type": "stream",
     "text": [
      "5\n"
     ]
    }
   ],
   "source": [
    "print(x)"
   ]
  },
  {
   "cell_type": "code",
   "execution_count": 50,
   "metadata": {},
   "outputs": [
    {
     "name": "stdout",
     "output_type": "stream",
     "text": [
      "here\n"
     ]
    },
    {
     "data": {
      "text/plain": [
       "5"
      ]
     },
     "execution_count": 50,
     "metadata": {},
     "output_type": "execute_result"
    }
   ],
   "source": [
    "weird() "
   ]
  },
  {
   "cell_type": "markdown",
   "metadata": {},
   "source": [
    "Consider a situation where you want to write a function to find out, from a class attendance list, whether anyone’s first name is longer than five letters, called __longer_than_five__. If there is anyone in class whose first name is longer than 5 letters, the function should return `True`. Otherwise, it should return `False`."
   ]
  },
  {
   "cell_type": "code",
   "execution_count": 53,
   "metadata": {},
   "outputs": [
    {
     "name": "stdout",
     "output_type": "stream",
     "text": [
      "False\n",
      "True\n"
     ]
    }
   ],
   "source": [
    "def longer_than_five(list_of_names):\n",
    "    for name in list_of_names: # iterate over the list to look at each name\n",
    "        if len(name) > 5: # as soon as you see a name longer than 5 letters,\n",
    "            return True # then return True!\n",
    "            # If Python executes that return statement, the function is over and the rest of the code will not run -- you already have your answer!\n",
    "    return False # You will only get to this line if you\n",
    "    # iterated over the whole list and did not get a name where\n",
    "    # the if expression evaluated to True, so at this point, it's correct to return False!\n",
    "\n",
    "# Here are a couple sample calls to the function with different lists of names. Try running this code in Codelens a few times and make sure you understand exactly what is happening.\n",
    "\n",
    "list1 = [\"Sam\",\"Tera\",\"Sal\",\"Amita\"]\n",
    "list2 = [\"Rey\",\"Ayo\",\"Lauren\",\"Natalie\"]\n",
    "\n",
    "print(longer_than_five(list1))\n",
    "print(longer_than_five(list2))"
   ]
  },
  {
   "cell_type": "markdown",
   "metadata": {},
   "source": [
    "### Check your understanding\n",
    "\n"
   ]
  },
  {
   "cell_type": "code",
   "execution_count": 63,
   "metadata": {},
   "outputs": [
    {
     "name": "stdout",
     "output_type": "stream",
     "text": [
      "50\n"
     ]
    }
   ],
   "source": [
    "#What will the following code output?\n",
    "def square(x):\n",
    "    y = x * x\n",
    "    return y\n",
    "\n",
    "print(square(5) + square(5))"
   ]
  },
  {
   "cell_type": "code",
   "execution_count": 64,
   "metadata": {},
   "outputs": [
    {
     "name": "stdout",
     "output_type": "stream",
     "text": [
      "16\n"
     ]
    }
   ],
   "source": [
    "# What will the following code output?\n",
    "\n",
    "def square(x):\n",
    "    y = x * x\n",
    "    return y\n",
    "\n",
    "print(square(square(2)))"
   ]
  },
  {
   "cell_type": "code",
   "execution_count": 67,
   "metadata": {},
   "outputs": [
    {
     "name": "stdout",
     "output_type": "stream",
     "text": [
      "First one was longer\n"
     ]
    }
   ],
   "source": [
    "#What will the following code output?\n",
    "\n",
    "def cyu2(s1, s2):\n",
    "    x = len(s1)\n",
    "    y = len(s2)\n",
    "    return x-y\n",
    "\n",
    "z = cyu2(\"Yes\", \"no\")\n",
    "if z > 0:\n",
    "    print(\"First one was longer\")\n",
    "else:\n",
    "    print(\"Second one was at least as long\")"
   ]
  },
  {
   "cell_type": "code",
   "execution_count": 68,
   "metadata": {},
   "outputs": [
    {
     "name": "stdout",
     "output_type": "stream",
     "text": [
      "g\n",
      "square\n",
      "25\n"
     ]
    }
   ],
   "source": [
    "# Which will print out first, square, g, or a number?\n",
    "\n",
    "def square(x):\n",
    "    print(\"square\")\n",
    "    return x*x\n",
    "\n",
    "def g(y):\n",
    "    print(\"g\")\n",
    "    return y + 3\n",
    "\n",
    "print(square(g(2)))"
   ]
  },
  {
   "cell_type": "code",
   "execution_count": 71,
   "metadata": {},
   "outputs": [
    {
     "name": "stdout",
     "output_type": "stream",
     "text": [
      "10\n",
      "Next we'll accumulate the sum\n"
     ]
    },
    {
     "data": {
      "text/plain": [
       "9"
      ]
     },
     "execution_count": 71,
     "metadata": {},
     "output_type": "execute_result"
    }
   ],
   "source": [
    "# How many lines will the following code print?\n",
    "\n",
    "def show_me_numbers(list_of_ints):\n",
    "    print(10)\n",
    "    print(\"Next we'll accumulate the sum\")\n",
    "    accum = 0\n",
    "    for num in list_of_ints:\n",
    "        accum = accum + num\n",
    "    return accum\n",
    "    print(\"All done with accumulation!\")\n",
    "\n",
    "show_me_numbers([4,2,3])\n",
    "##################### Two printed lines, and then the function body execution reaches a return statement."
   ]
  },
  {
   "cell_type": "markdown",
   "metadata": {},
   "source": [
    "8. Write a function named same that takes a string as input, and simply returns that string.\n",
    "\n"
   ]
  },
  {
   "cell_type": "code",
   "execution_count": 90,
   "metadata": {},
   "outputs": [
    {
     "data": {
      "text/plain": [
       "'Hello'"
      ]
     },
     "execution_count": 90,
     "metadata": {},
     "output_type": "execute_result"
    }
   ],
   "source": [
    "def same(s):\n",
    "    new_string =  s\n",
    "    return new_string\n",
    "s = \"Hello\"\n",
    "same(s)\n",
    "    "
   ]
  },
  {
   "cell_type": "markdown",
   "metadata": {},
   "source": [
    "9. Write a function called same_thing that returns the parameter, unchanged."
   ]
  },
  {
   "cell_type": "code",
   "execution_count": 91,
   "metadata": {},
   "outputs": [
    {
     "data": {
      "text/plain": [
       "2"
      ]
     },
     "execution_count": 91,
     "metadata": {},
     "output_type": "execute_result"
    }
   ],
   "source": [
    "def same_thing(z):\n",
    "    y = z\n",
    "    return y\n",
    "z = 2\n",
    "same_thing(z)"
   ]
  },
  {
   "cell_type": "markdown",
   "metadata": {},
   "source": [
    "10. Write a function called `subtract_three` that takes an integer or any number as input, and returns that number minus three."
   ]
  },
  {
   "cell_type": "code",
   "execution_count": 96,
   "metadata": {},
   "outputs": [
    {
     "data": {
      "text/plain": [
       "3"
      ]
     },
     "execution_count": 96,
     "metadata": {},
     "output_type": "execute_result"
    }
   ],
   "source": [
    "def subtract_three(x):\n",
    "    y = x - 3\n",
    "    return y\n",
    "subtract_three(6)"
   ]
  },
  {
   "cell_type": "markdown",
   "metadata": {},
   "source": [
    "11. Write a function called change that takes one number as its input and returns that number, plus 7."
   ]
  },
  {
   "cell_type": "code",
   "execution_count": 97,
   "metadata": {},
   "outputs": [
    {
     "data": {
      "text/plain": [
       "13"
      ]
     },
     "execution_count": 97,
     "metadata": {},
     "output_type": "execute_result"
    }
   ],
   "source": [
    "def change(x):\n",
    "    y = x + 7\n",
    "    return y\n",
    "change(6)"
   ]
  },
  {
   "cell_type": "markdown",
   "metadata": {},
   "source": [
    "12. Write a function named `intro` that takes a string as input. Given the string “Becky” as input, the function should return: “Hello, my name is Becky and I love SI 106.”"
   ]
  },
  {
   "cell_type": "code",
   "execution_count": 104,
   "metadata": {},
   "outputs": [
    {
     "name": "stdout",
     "output_type": "stream",
     "text": [
      "Hello, my name is Becky and I love SI 106\n"
     ]
    }
   ],
   "source": [
    "def intro(si):\n",
    "    xi = (\"Hello, my name is \" + si + \" and I love SI 106\")\n",
    "    return xi\n",
    "\n",
    "print(intro(\"Becky\"))"
   ]
  },
  {
   "cell_type": "markdown",
   "metadata": {},
   "source": [
    "13. Write a function called `s_change` that takes one string as input and returns that string, concatenated with the string ” for fun.”."
   ]
  },
  {
   "cell_type": "code",
   "execution_count": 111,
   "metadata": {},
   "outputs": [
    {
     "name": "stdout",
     "output_type": "stream",
     "text": [
      "We go to the beach for fun.\n"
     ]
    }
   ],
   "source": [
    "def s_change(si):\n",
    "    xi = si + \" for fun.\"\n",
    "    return xi\n",
    "\n",
    "yi = \"We go to the beach\"\n",
    "print(s_change(yi))"
   ]
  },
  {
   "cell_type": "markdown",
   "metadata": {},
   "source": [
    "14. Write a function called `decision` that takes a string as input, and then checks the number of characters. If it has over 17 characters, return “This is a long string”, if it is shorter or has 17 characters, return “This is a short string”."
   ]
  },
  {
   "cell_type": "code",
   "execution_count": 122,
   "metadata": {},
   "outputs": [
    {
     "name": "stdout",
     "output_type": "stream",
     "text": [
      "This is a short string\n"
     ]
    }
   ],
   "source": [
    "def decision(s1):\n",
    "    count = 0\n",
    "    for c in s1:\n",
    "        count = count + 1\n",
    "    return count\n",
    "    \n",
    "s2 = \"Hello World!\"\n",
    "s3 = decision(s2)\n",
    "\n",
    "if s3 > 17:\n",
    "    print(\"This is a long string\")\n",
    "else:\n",
    "    print(\"This is a short string\")"
   ]
  },
  {
   "cell_type": "markdown",
   "metadata": {},
   "source": [
    "### Way of the Programmer: Decoding a Function\n",
    "To build your understanding of any function, you should aim to answer the following questions:\n",
    "1. How many parameters does it have?\n",
    "2. What is the type of values that will be passed when the function is invoked?\n",
    "3. What is the type of the return value that the function produces when it executes?\n",
    "\n",
    "The second and third questions are not always so easy to answer. In Python, unlike some other programming languages, variables are not declared to have fixed types, and the same holds true for the variable names that appear as formal parameters of functions. You have to figure it out from context.\n",
    "\n",
    "Here are some clues that can help you determine the type of object associated with any variable, including a function parameter. If you see…\n",
    "* `len(x)`, then x must be a string or a list. (Actually, it can also be a dictionary, in which case it is equivalent to the expression len(x.keys()). Later in the course, we will also see some other sequence types that it could be). x can’t be a number or a Boolean.\n",
    "* `x - y`, x and y must be numbers (integer or float)\n",
    "* `x + y`, x and y must both be numbers, both be strings, or both be lists\n",
    "* `x[3]`, x must be a string or a list containing at least four items, or x must be a dictionary that includes 3 as a key.\n",
    "* `x['3']`, x must be a dictionary, with ‘3’ as a key.\n",
    "* `x[y:z]`, x must be a sequence (string or list), and y and z must be integers\n",
    "* `x and y`, x and y must be Boolean\n",
    "* `for x in y`, y must be a sequence (string or list) or a dictionary (in which case it’s really the dictionary’s keys); x must be a character if y is a string; if y is a list, x could be of any type."
   ]
  },
  {
   "cell_type": "markdown",
   "metadata": {},
   "source": [
    "### A function that accumulates\n",
    "Now that we know how to define functions, we could define len ourselves if it did not exist. Previously, we have used the accumlator pattern to count the number of lines in a file. Let’s use that same idea and just wrap it in a function definition. We’ll call it mylen to distinguish it from the real len which already exists. We actually could call it len, but that wouldn’t be a very good idea, because it would replace the original len function, and our implementation may not be a very good one."
   ]
  },
  {
   "cell_type": "code",
   "execution_count": 131,
   "metadata": {},
   "outputs": [
    {
     "name": "stdout",
     "output_type": "stream",
     "text": [
      "11\n",
      "3\n"
     ]
    }
   ],
   "source": [
    "def mylen(seq):\n",
    "    c = 0 # initialize count variable to 0\n",
    "    for _ in seq: \n",
    "        c = c + 1   # increment the counter for each item in seq\n",
    "    return c\n",
    "\n",
    "print(mylen(\"hello, Zeki\"))\n",
    "print(mylen([1, 2, 7]))"
   ]
  },
  {
   "cell_type": "markdown",
   "metadata": {},
   "source": [
    " 1. Write a function named `total` that takes a list of integers as input, and returns the total value of all those integers added together."
   ]
  },
  {
   "cell_type": "code",
   "execution_count": 132,
   "metadata": {},
   "outputs": [
    {
     "name": "stdout",
     "output_type": "stream",
     "text": [
      "18\n"
     ]
    }
   ],
   "source": [
    "# First see this accumlation, turn this function\n",
    "lst = [2,5,4,7]\n",
    "total = 0\n",
    "for c in lst:\n",
    "    total = total + c # plus 1 is to count the numbers/lists\n",
    "    \n",
    "print(total) \n"
   ]
  },
  {
   "cell_type": "markdown",
   "metadata": {},
   "source": [
    "In function form"
   ]
  },
  {
   "cell_type": "code",
   "execution_count": 134,
   "metadata": {},
   "outputs": [
    {
     "data": {
      "text/plain": [
       "18"
      ]
     },
     "execution_count": 134,
     "metadata": {},
     "output_type": "execute_result"
    }
   ],
   "source": [
    "def total(lst):\n",
    "    tot = 0\n",
    "    for c in lst:\n",
    "        tot = tot + c\n",
    "    return tot\n",
    "\n",
    "mylist = [2,5,4,7]\n",
    "total(mylist)"
   ]
  },
  {
   "cell_type": "markdown",
   "metadata": {},
   "source": [
    "2. Write a function called `count` that takes a list of numbers as input and returns a count of the number of elements in the list"
   ]
  },
  {
   "cell_type": "code",
   "execution_count": 136,
   "metadata": {},
   "outputs": [
    {
     "data": {
      "text/plain": [
       "6"
      ]
     },
     "execution_count": 136,
     "metadata": {},
     "output_type": "execute_result"
    }
   ],
   "source": [
    "def total(lst):\n",
    "    tot = 0\n",
    "    for c in lst:\n",
    "        tot = tot + 1 # sucstitute c by 1 in order to count the lists\n",
    "    return tot\n",
    "\n",
    "mylist = [1, 5, 9, -2, 9, 23]\n",
    "total(mylist)"
   ]
  },
  {
   "cell_type": "markdown",
   "metadata": {},
   "source": [
    "__Jock__: Why the functons stop calling each other? Because they have many arguments. "
   ]
  },
  {
   "cell_type": "markdown",
   "metadata": {},
   "source": [
    "## Local and Global Variables, and Side Effects\n",
    "In this lesson, we're going to highlight a few subtleties with functions including: _that each execution gets a fresh set of local variables that disappear at the end of the function execution, that functions can call other functions, and that functions can have side effects on mutable objects_. \n",
    "At the end of this lesson, you should be able to:\n",
    "1. avoid the use of global variables and function definitions by creating formal parameters for all values that are needed, and,\n",
    "2. identify whether a function has any side effects, Including mutations to lists and dictionaries. We'll see you at the end.\n",
    "\n",
    "### Local and Global Variables\n"
   ]
  },
  {
   "cell_type": "code",
   "execution_count": 88,
   "metadata": {},
   "outputs": [
    {
     "name": "stdout",
     "output_type": "stream",
     "text": [
      "33\n"
     ]
    }
   ],
   "source": [
    "# What is the result of the following code?\n",
    "\n",
    "def adding(x):\n",
    "    y = 3\n",
    "    z = y + x + x\n",
    "    return z\n",
    "\n",
    "def producing(x):\n",
    " \n",
    "    z = x * y\n",
    "    return z\n",
    "y = 3 \n",
    "print(producing(adding(4)))"
   ]
  },
  {
   "cell_type": "markdown",
   "metadata": {},
   "source": [
    "✔️ Yes! There is an error because we reference y in the producing function, but it was defined in adding. Because y is a local variable, we can't use it in both functions without initializing it in both. If we initialized y as 3 in both though, the answer would be 33."
   ]
  },
  {
   "cell_type": "markdown",
   "metadata": {},
   "source": [
    "#### Global Variables\n",
    "Variable names that are at the _top-level_, not inside any function definition, are called __global__.\n",
    "\n",
    "It is legal for a function to access a global variable. However, this is considered __bad form__ by nearly all programmers and should be avoided. things can get pretty confusing when you mix local and global variables, and that you really shouldn’t do it.\n",
    "\n",
    "Look at the following, nonsensical variation of the square function. Although the badsquare function works, it is silly and poorly written. We have done it here to illustrate an important rule about how variables are looked up in Python. First, Python looks at the variables that are defined as __local variables in the function. We call this the `local scope`. If the variable name is not found in the local scope, then Python looks at the global variables, or `global scope`__. This is exactly the case illustrated in the code above. `power` is not found locally in `badsquare` but it does exist globally. "
   ]
  },
  {
   "cell_type": "code",
   "execution_count": 4,
   "metadata": {},
   "outputs": [
    {
     "name": "stdout",
     "output_type": "stream",
     "text": [
      "100\n"
     ]
    }
   ],
   "source": [
    "def badsquare(x):\n",
    "    y = x ** power\n",
    "    return y\n",
    "\n",
    "power = 2\n",
    "result = badsquare(10)\n",
    "print(result)"
   ]
  },
  {
   "cell_type": "markdown",
   "metadata": {},
   "source": [
    "The appropriate way to write this function would be to pass power as a parameter. For practice, you should rewrite the badsquare example to have a second parameter called power.\n",
    "\n",
    "__Assignment statements in the local function cannot change variables defined outside the function__. Consider the following codelens example:"
   ]
  },
  {
   "cell_type": "code",
   "execution_count": 5,
   "metadata": {},
   "outputs": [
    {
     "name": "stdout",
     "output_type": "stream",
     "text": [
      "100\n"
     ]
    }
   ],
   "source": [
    "def powerof(x,p):\n",
    "    power = p   # Another dumb mistake\n",
    "    y = x ** power\n",
    "    return y\n",
    "\n",
    "power = 3\n",
    "result = powerof(10,2)\n",
    "print(result)"
   ]
  },
  {
   "cell_type": "markdown",
   "metadata": {},
   "source": [
    "The value of `power` in the local scope was different than the `global` scope. That is because in this example power was used on the left hand side of the assignment statement `power = p`. When a variable name is used on the left hand side of an assignment statement Python creates a local variable. When a local variable has the same name as a global variable we say that the local shadows the global. A **shadow** means that the global variable cannot be accessed by Python because the local variable will be found first. This is another good reason not to use global variables. As you can see, it makes your code confusing and difficult to understand."
   ]
  },
  {
   "cell_type": "code",
   "execution_count": 6,
   "metadata": {},
   "outputs": [
    {
     "name": "stdout",
     "output_type": "stream",
     "text": [
      "100\n"
     ]
    }
   ],
   "source": [
    "def powerof(x,p):\n",
    "    y = x ** p\n",
    "    return y\n",
    "\n",
    "result = powerof(10,2)\n",
    "print(result)"
   ]
  },
  {
   "cell_type": "markdown",
   "metadata": {},
   "source": [
    "If you really want to change the value of a global variable inside a function, you can can do it by explicitly declaring the variable to be global, as in the example below. **Again, you should not do this in your code**. The example is here only to cement your understanding of how python works"
   ]
  },
  {
   "cell_type": "code",
   "execution_count": 7,
   "metadata": {},
   "outputs": [
    {
     "name": "stdout",
     "output_type": "stream",
     "text": [
      "100\n",
      "2\n"
     ]
    }
   ],
   "source": [
    "def powerof(x,p):\n",
    "    global power\n",
    "    power = p\n",
    "    y = x ** power\n",
    "    return y\n",
    "\n",
    "power = 3\n",
    "result = powerof(10,2)\n",
    "print(result)\n",
    "print(power)"
   ]
  },
  {
   "cell_type": "markdown",
   "metadata": {},
   "source": [
    "#### Functions can call other functions (Composition)\n",
    "It is important to understand that each of the functions we write can be used and called from other functions we write. This is one of the most important ways that computer programmers take a large problem and break it down into a group of smaller problems. This process of breaking a problem into smaller subproblems is called __functional decomposition__.\n",
    "\n",
    "Here’s a simple example of functional decomposition using two functions. The first function called `square` simply computes the square of a given number. The second function called `sum_of_squares` makes use of square to compute the sum of three numbers that have been squared.\n",
    "\n",
    "Note that the body of `square` is __not executed until it is called from inside the `sum_of_squares` function for the first time on line 6__. Also notice that when square is called (at Step 8, for example), there are two groups of local variables, one for square and one for sum_of_squares. Each group of local variables is called a **stack frame**. The variables x, and y are local variables in both functions. **These are completely different variables, even though they have the same name**. Each function invocation creates a new frame, and variables are looked up in that frame."
   ]
  },
  {
   "cell_type": "code",
   "execution_count": 9,
   "metadata": {},
   "outputs": [
    {
     "name": "stdout",
     "output_type": "stream",
     "text": [
      "129\n"
     ]
    }
   ],
   "source": [
    "def square(x):\n",
    "    y = x * x\n",
    "    return y\n",
    "\n",
    "def sum_of_squares(x,y,z):   \n",
    "    a = square(x)\n",
    "    b = square(y)\n",
    "    c = square(z)\n",
    "    \n",
    "    return a+b+c\n",
    "\n",
    "a = -5\n",
    "b = 2\n",
    "c = 10\n",
    "result = sum_of_squares(a,b,c)\n",
    "print(result)"
   ]
  },
  {
   "cell_type": "markdown",
   "metadata": {},
   "source": [
    "Let’s use **composition** to build up a little more useful function. Recall from the dictionaries chapter that we had a two-step process for finding the letter that appears most frequently in a text string:\n",
    "1. Accumulate a dictionary with letters as keys and counts as values. \n",
    "2. Find the best key from that dictionary.\n",
    "\n",
    "We can make functions for each of those and then compose them into a single function that finds the most common letter."
   ]
  },
  {
   "cell_type": "code",
   "execution_count": 17,
   "metadata": {},
   "outputs": [
    {
     "name": "stdout",
     "output_type": "stream",
     "text": [
      "b\n"
     ]
    }
   ],
   "source": [
    "def most_common_letter(s):\n",
    "    frequencies = count_freqs(s)\n",
    "    return best_key(frequencies)\n",
    "\n",
    "def count_freqs(st):\n",
    "    d = {}\n",
    "    for c in st:\n",
    "        if c not in d:\n",
    "             d[c] = 0\n",
    "        d[c] = d[c] + 1\n",
    "    return d     # --- this function generates d = {'a': 1, 'b': 11, 'c': 4, 'd': 5} / or print(d)\n",
    "\n",
    "# the best_key function identifay the best key form a given dictionary: d = {'a': 1, 'b': 11, 'c': 4, 'd': 5}\n",
    "\n",
    "def best_key(dictionary):\n",
    "    ks = dictionary.keys()\n",
    "    best_key_so_far = list(ks)[0]  # Have to turn ks into a real list before using [] to select an item\n",
    "    for k in ks:\n",
    "        if dictionary[k] > dictionary[best_key_so_far]:\n",
    "            best_key_so_far = k\n",
    "    return best_key_so_far\n",
    "\n",
    "print(most_common_letter(\"abbbbbbbbbbbccccddddd\"))\n"
   ]
  },
  {
   "cell_type": "markdown",
   "metadata": {},
   "source": [
    "1. Write two functions, one called `addit` and one called `mult`. addit takes one number as an input and adds 5. `mult` takes one number as an input, and multiplies that input by whatever is returned by `addit`, and then returns the result."
   ]
  },
  {
   "cell_type": "code",
   "execution_count": 30,
   "metadata": {},
   "outputs": [
    {
     "name": "stdout",
     "output_type": "stream",
     "text": [
      "104\n"
     ]
    }
   ],
   "source": [
    "def addit(a):\n",
    "    y = a + 5\n",
    "    return y\n",
    "\n",
    "def mult(a):\n",
    "    z = a * addit(a)\n",
    "    return z\n",
    "\n",
    "print(mult(addit(3)))"
   ]
  },
  {
   "cell_type": "markdown",
   "metadata": {},
   "source": [
    "#### Flow of Execution Summary\n",
    "When you are working with functions it is really important to know **the order in which statements are executed**. This is called the **flow of execution**.\n",
    "Execution always begins at the first statement of the program. Statements are executed one at a time, in order, from top to bottom. Function definitions do not alter the flow of execution of the program, but remember that statements inside the function are not executed until the function is called. Function calls are like a detour in the flow of execution. Instead of going to the next statement, the flow jumps to the first line of the called function, executes all the statements there, and then comes back to pick up where it left off. \n",
    "\n",
    "**Don’t read from top to bottom. Instead, follow the flow of execution. This means that you will read the def statements as you are scanning from top to bottom, but you should skip the body of the function until you reach a point where that function is called**."
   ]
  },
  {
   "cell_type": "code",
   "execution_count": 31,
   "metadata": {},
   "outputs": [
    {
     "name": "stdout",
     "output_type": "stream",
     "text": [
      "25\n"
     ]
    }
   ],
   "source": [
    "# Consider the following Python code. What does this function print?\n",
    "\n",
    "def pow(b, p):\n",
    "    y = b ** p\n",
    "    return y\n",
    "\n",
    "def square(x):\n",
    "    a = pow(x, 2)\n",
    "    return a\n",
    "\n",
    "n = 5\n",
    "result = square(n)\n",
    "print(result)"
   ]
  },
  {
   "cell_type": "markdown",
   "metadata": {},
   "source": [
    "#### Passing Mutable Objects"
   ]
  },
  {
   "cell_type": "code",
   "execution_count": 32,
   "metadata": {},
   "outputs": [
    {
     "name": "stdout",
     "output_type": "stream",
     "text": [
      "5\n",
      "['Michigan', 'Wolverines', 'are', 'awesome']\n"
     ]
    }
   ],
   "source": [
    "def double(y):\n",
    "    y = 2 * y\n",
    "\n",
    "def changeit(lst):\n",
    "    lst[0] = \"Michigan\"\n",
    "    lst[1] = \"Wolverines\"\n",
    "\n",
    "y = 5\n",
    "double(y)\n",
    "print(y)\n",
    "\n",
    "mylst = ['our', 'students', 'are', 'awesome']\n",
    "changeit(mylst)\n",
    "print(mylst)"
   ]
  },
  {
   "cell_type": "markdown",
   "metadata": {},
   "source": [
    "Similar to examples we have seen before, running `double` does not change the global y. But running `changeit` does change `mylst`. The explanation is above, about the sharing of mutable objects."
   ]
  },
  {
   "cell_type": "code",
   "execution_count": 33,
   "metadata": {},
   "outputs": [
    {
     "name": "stdout",
     "output_type": "stream",
     "text": [
      "5\n",
      "['Michigan', 'Wolverines', 'are', 'awesome']\n"
     ]
    }
   ],
   "source": [
    "def double(n):\n",
    "    n = 2 * n\n",
    "\n",
    "def changeit(lst):\n",
    "    lst[0] = \"Michigan\"\n",
    "    lst[1] = \"Wolverines\"\n",
    "\n",
    "y = 5\n",
    "double(y)\n",
    "print(y)\n",
    "\n",
    "mylst = ['106', 'students', 'are', 'awesome']\n",
    "changeit(mylst)\n",
    "print(mylst)"
   ]
  },
  {
   "cell_type": "markdown",
   "metadata": {},
   "source": [
    "We say that the function `changeit` has a **side effect** on the list object that is passed to it. Global variables are another way to have side effects. For example, similar to examples you have seen above, we could make `double` have a side effect on the global variable y."
   ]
  },
  {
   "cell_type": "code",
   "execution_count": 36,
   "metadata": {},
   "outputs": [
    {
     "name": "stdout",
     "output_type": "stream",
     "text": [
      "10\n"
     ]
    }
   ],
   "source": [
    "def double(n):\n",
    "    global y\n",
    "    y = 2 * n\n",
    "\n",
    "y = 5\n",
    "double(y)\n",
    "print(y)"
   ]
  },
  {
   "cell_type": "markdown",
   "metadata": {},
   "source": [
    "**Notice the differnce**"
   ]
  },
  {
   "cell_type": "code",
   "execution_count": 37,
   "metadata": {},
   "outputs": [
    {
     "name": "stdout",
     "output_type": "stream",
     "text": [
      "5\n"
     ]
    }
   ],
   "source": [
    "def double(n):\n",
    "    #global y\n",
    "    y = 2 * n\n",
    "\n",
    "y = 5\n",
    "double(y)\n",
    "print(y)"
   ]
  },
  {
   "cell_type": "markdown",
   "metadata": {},
   "source": [
    "**Note:** You can use the same coding pattern to avoid confusing side effects with sharing of mutable objects. To do that, explicitly make a copy of an object and pass the copy in to the function. Then return the modified copy and reassign it to the original variable if you want to save the changes. The built-in `list` function, which takes a sequence as a parameter and returns a new list, works to copy an existing list. For dictionaries, you can similarly call the `dict` function, passing in a dictionary to get a copy of the dictionary back as a return value.\n",
    "\n",
    "**In general, any lasting effect that occurs in a function, not through its return value, is called a side effect.**\n",
    "\n"
   ]
  },
  {
   "cell_type": "code",
   "execution_count": 38,
   "metadata": {},
   "outputs": [
    {
     "name": "stdout",
     "output_type": "stream",
     "text": [
      "['106', 'students', 'are', 'awesome']\n",
      "['Michigan', 'Wolverines', 'are', 'awesome']\n"
     ]
    }
   ],
   "source": [
    "def changeit(lst):\n",
    "    lst[0] = \"Michigan\"\n",
    "    lst[1] = \"Wolverines\"\n",
    "    return lst\n",
    "\n",
    "mylst = ['106', 'students', 'are', 'awesome']\n",
    "newlst = changeit(list(mylst))\n",
    "print(mylst)\n",
    "print(newlst)"
   ]
  },
  {
   "cell_type": "markdown",
   "metadata": {},
   "source": [
    "## Course 2 Assessment 4"
   ]
  },
  {
   "cell_type": "markdown",
   "metadata": {},
   "source": [
    "1. Write a function called `int_return` that takes an integer as input and returns the same integer."
   ]
  },
  {
   "cell_type": "code",
   "execution_count": 39,
   "metadata": {},
   "outputs": [
    {
     "name": "stdout",
     "output_type": "stream",
     "text": [
      "2\n"
     ]
    }
   ],
   "source": [
    "def int_return(x):\n",
    "    return x\n",
    "a = 2\n",
    "print(int_return(a))"
   ]
  },
  {
   "cell_type": "markdown",
   "metadata": {},
   "source": [
    "2. Write a function called `add` that takes any number as its input and returns that sum with 2 added."
   ]
  },
  {
   "cell_type": "code",
   "execution_count": 40,
   "metadata": {},
   "outputs": [
    {
     "name": "stdout",
     "output_type": "stream",
     "text": [
      "4\n"
     ]
    }
   ],
   "source": [
    "def add(x):\n",
    "    z = x + 2\n",
    "    return z\n",
    "\n",
    "a = 2\n",
    "print(add(a))"
   ]
  },
  {
   "cell_type": "markdown",
   "metadata": {},
   "source": [
    "3. Write a function called `change` that takes any string, adds `“Nice to meet you!”` to the end of the argument given, and returns that new string."
   ]
  },
  {
   "cell_type": "code",
   "execution_count": 42,
   "metadata": {},
   "outputs": [
    {
     "name": "stdout",
     "output_type": "stream",
     "text": [
      "Hello, Nice to meet you!\n"
     ]
    }
   ],
   "source": [
    "def change(s1):\n",
    "    s2 = s1 + \"Nice to meet you!\"\n",
    "    return s2\n",
    "\n",
    "a = \"Hello, \"\n",
    "print(change(a))"
   ]
  },
  {
   "cell_type": "markdown",
   "metadata": {},
   "source": [
    "4. Write a function, `accum`, that takes a list of integers as input and returns the sum of those integers.\n"
   ]
  },
  {
   "cell_type": "code",
   "execution_count": 44,
   "metadata": {},
   "outputs": [
    {
     "name": "stdout",
     "output_type": "stream",
     "text": [
      "36\n"
     ]
    }
   ],
   "source": [
    "def accum(lst):\n",
    "    ls = 0\n",
    "    for i in lst:\n",
    "        ls = ls + i\n",
    "    return ls\n",
    "    \n",
    "intigers = [1,2,3,4,5,6,7,8]\n",
    "print(accum(intigers))\n"
   ]
  },
  {
   "cell_type": "markdown",
   "metadata": {},
   "source": [
    "5. Write a function, `length`, that takes in a list as the input. If the length of the list is greater than or equal to 5, return “Longer than 5”. If the length is less than 5, return “Less than 5”."
   ]
  },
  {
   "cell_type": "code",
   "execution_count": 68,
   "metadata": {},
   "outputs": [
    {
     "data": {
      "text/plain": [
       "'Longer than 5'"
      ]
     },
     "execution_count": 68,
     "metadata": {},
     "output_type": "execute_result"
    }
   ],
   "source": [
    "def length(x):\n",
    "    if len(x) >= 5:\n",
    "        return \"Longer than 5\"\n",
    "    return \"Less than 5\"\n",
    "\n",
    "x = [1,2,3,4,5]\n",
    "length(x)"
   ]
  },
  {
   "cell_type": "code",
   "execution_count": 70,
   "metadata": {},
   "outputs": [
    {
     "name": "stdout",
     "output_type": "stream",
     "text": [
      "Longer than 5\n"
     ]
    }
   ],
   "source": [
    "#But if you want a shorter code, use:\n",
    "\n",
    "def length(x):\n",
    "    return '%s than 5' % ['Less', 'Longer'][len(x) >= 5]\n",
    "\n",
    "x = [1,2,3,4,5]\n",
    "print(length(x))"
   ]
  },
  {
   "cell_type": "code",
   "execution_count": 71,
   "metadata": {},
   "outputs": [
    {
     "name": "stdout",
     "output_type": "stream",
     "text": [
      "Longer than 5\n"
     ]
    }
   ],
   "source": [
    "#OR\n",
    "def length(x):\n",
    "    return '{} than 5'.format(['Less', 'Longer'][len(x) >= 5])\n",
    "\n",
    "x = [1,2,3,4,5]\n",
    "print(length(x))"
   ]
  },
  {
   "cell_type": "markdown",
   "metadata": {},
   "source": [
    "6. You will need to write two functions for this problem. The first function, `divide` that takes in any number and returns that same number divided by 2. The second function called `sum` should take any number, divide it by 2, and add 6. It should return this new number. You should call the divide function within the `sum` function. Do not worry about decimals."
   ]
  },
  {
   "cell_type": "code",
   "execution_count": 73,
   "metadata": {},
   "outputs": [
    {
     "name": "stdout",
     "output_type": "stream",
     "text": [
      "6.5\n"
     ]
    }
   ],
   "source": [
    "def divide(a):\n",
    "    y = a//2\n",
    "    return y\n",
    "\n",
    "def sum(b):\n",
    "    z = b/2 + 6\n",
    "    return z\n",
    "\n",
    "a = 2\n",
    "b=  2\n",
    "\n",
    "print(sum(divide(a)))"
   ]
  },
  {
   "cell_type": "markdown",
   "metadata": {},
   "source": [
    "## Tuples\n",
    "I just want to introduce a cool feature, __packing and unpacking__. Doesn't really let you do anything new, but it lets your code be a little more readable. At the end of this lesson, you should be able to: \n",
    "1. recognize when code is using `implicit tuple packing`, and use implicit tuple packing to return multiple values from a function, \n",
    "2. and you should be able to read and write code that unpacks a tuple into multiple variables. \n",
    "\n",
    "You have previously seen tuples, a sequence type that works just like lists except that they are immutable. When working with multiple values or multiple variable names, the Python interpreter does some automatic packing and unpacking to and from tuples, which allows some simplifications in the code you write.\n",
    "\n",
    "#### Tuple Packing\n",
    "**Wherever python expects a single value, if multiple expressions are provided, separated by commas**, they are automatically **packed** into a tuple. For example, we can omit the parentheses when assigning a tuple of values to a single variable"
   ]
  },
  {
   "cell_type": "code",
   "execution_count": 74,
   "metadata": {},
   "outputs": [
    {
     "name": "stdout",
     "output_type": "stream",
     "text": [
      "2009\n"
     ]
    }
   ],
   "source": [
    "julia = (\"Julia\", \"Roberts\", 1967, \"Duplicity\", 2009, \"Actress\", \"Atlanta, Georgia\")\n",
    "# or equivalently\n",
    "julia = \"Julia\", \"Roberts\", 1967, \"Duplicity\", 2009, \"Actress\", \"Atlanta, Georgia\"\n",
    "print(julia[4])"
   ]
  },
  {
   "cell_type": "markdown",
   "metadata": {},
   "source": [
    "One place where this is especially useful is when a function wants to return multiple values.\n",
    "For example, in this code, `circleInfo` is a function\n",
    "and it wants to return two values. The circumference of the circle, and the area of the circle.\n",
    "**You can only return one value from a Python function, but that value can be a tuple as we've done here.**"
   ]
  },
  {
   "cell_type": "code",
   "execution_count": 75,
   "metadata": {},
   "outputs": [
    {
     "name": "stdout",
     "output_type": "stream",
     "text": [
      "(62.8318, 314.159)\n"
     ]
    }
   ],
   "source": [
    "def circleInfo(r):\n",
    "    '''Return(circmfrance, area) of a circle of radius r'''\n",
    "    c = 2 * 3.14159 * r\n",
    "    a = 3.14159 * r * r\n",
    "    return c, a\n",
    "\n",
    "print(circleInfo(10))"
   ]
  },
  {
   "cell_type": "code",
   "execution_count": 78,
   "metadata": {},
   "outputs": [
    {
     "name": "stdout",
     "output_type": "stream",
     "text": [
      "('y', 'h', 'z', 'x')\n",
      "<class 'tuple'>\n"
     ]
    }
   ],
   "source": [
    "#2. Create a tuple called practice that has four elements: ‘y’, ‘h’, ‘z’, and ‘x’.\n",
    "\n",
    "practice = ('y','h','z','x')\n",
    "print(practice)\n",
    "print(type(practice))"
   ]
  },
  {
   "cell_type": "markdown",
   "metadata": {},
   "source": [
    "4. Provided is a list of tuples. Create another list called `t_check` that contains the third element of every tuple.\n",
    "\n"
   ]
  },
  {
   "cell_type": "code",
   "execution_count": 89,
   "metadata": {},
   "outputs": [
    {
     "name": "stdout",
     "output_type": "stream",
     "text": [
      "('Zaptos', 'Charizard', 'Diglett', 'Tauros', 'Lanturn', 'Wailord')\n"
     ]
    }
   ],
   "source": [
    "lst_tups = [('Articuno', 'Moltres', 'Zaptos'), ('Beedrill', 'Metapod', 'Charizard', 'Venasaur', 'Squirtle'), ('Oddish', 'Poliwag', 'Diglett', 'Bellsprout'), ('Ponyta', \"Farfetch'd\", \"Tauros\", 'Dragonite'), ('Hoothoot', 'Chikorita', 'Lanturn', 'Flaaffy', 'Unown', 'Teddiursa', 'Phanpy'), ('Loudred', 'Volbeat', 'Wailord', 'Seviper', 'Sealeo')]\n",
    "t_check = []\n",
    "for lin in lst_tups:\n",
    "    t_check.append(lin[2])\n",
    "print(tuple(t_check))\n"
   ]
  },
  {
   "cell_type": "markdown",
   "metadata": {},
   "source": [
    "5. Below, we have provided a list of tuples. Write a for loop that saves the second element of each tuple into a list called `seconds`.\n",
    "\n"
   ]
  },
  {
   "cell_type": "code",
   "execution_count": 93,
   "metadata": {},
   "outputs": [
    {
     "name": "stdout",
     "output_type": "stream",
     "text": [
      "('b', 7, 'green', 9.99, 'chipmunk')\n"
     ]
    }
   ],
   "source": [
    "tups = [('a', 'b', 'c'), (8, 7, 6, 5), ('blue', 'green', 'yellow', 'orange', 'red'), (5.6, 9.99, 2.5, 8.2), ('squirrel', 'chipmunk')]\n",
    "seconds  = []\n",
    "for lin in tups:\n",
    "    seconds.append(lin[1])\n",
    "print(tuple(seconds))"
   ]
  },
  {
   "cell_type": "markdown",
   "metadata": {},
   "source": [
    "#### Tuples as Return Values\n",
    "#### Tuple Assignment with Unpacking\n",
    "Python has a very powerful **tuple assignment** feature that allows **a tuple of variable names on the left of an assignment statement to be assigned values from a tuple on the right of the assignment**. Another way to think of this is that the tuple of values is **unpacked** into the variable names."
   ]
  },
  {
   "cell_type": "code",
   "execution_count": 95,
   "metadata": {},
   "outputs": [
    {
     "name": "stdout",
     "output_type": "stream",
     "text": [
      "Julia\n"
     ]
    }
   ],
   "source": [
    "julia = \"Julia\", \"Roberts\", 1967, \"Duplicity\", 2009, \"Actress\", \"Atlanta, Georgia\"\n",
    "name, surname, birth_year, movie, movie_year, profession, birth_place = julia"
   ]
  },
  {
   "cell_type": "markdown",
   "metadata": {},
   "source": [
    "**This does the equivalent of seven assignment statements, all on one easy line.**\n",
    "Naturally, **the number of variables on the left and the number of values on the right have to be the same.**\n",
    "\n",
    "Unpacking into multiple variable names also works with lists, or any other sequence type, as long as there is exactly one value for each variable. For example, you can write `x, y = [3, 4]`.\n",
    "\n",
    "#### Swapping Values between Variables\n",
    "This feature is used to `enable swapping` the values of two variables. With conventional assignment statements, `we have to use a temporary variable`. For example, to swap `a` and `b`:"
   ]
  },
  {
   "cell_type": "code",
   "execution_count": 96,
   "metadata": {},
   "outputs": [
    {
     "name": "stdout",
     "output_type": "stream",
     "text": [
      "2 1 1\n"
     ]
    }
   ],
   "source": [
    "a = 1\n",
    "b = 2\n",
    "temp = a \n",
    "a = b \n",
    "b = temp \n",
    "print(a, b, temp)"
   ]
  },
  {
   "cell_type": "markdown",
   "metadata": {},
   "source": [
    "**Tuple assignment solves this problem neatly:**"
   ]
  },
  {
   "cell_type": "code",
   "execution_count": 99,
   "metadata": {},
   "outputs": [
    {
     "name": "stdout",
     "output_type": "stream",
     "text": [
      "2 1\n"
     ]
    }
   ],
   "source": [
    "a = 1\n",
    "b = 2\n",
    "(a, b) = (b, a)\n",
    "print(a,b)\n",
    "# The left side is a tuple of variables; the right side is a tuple of values. \n",
    "# Each value is assigned to its respective variable"
   ]
  },
  {
   "cell_type": "markdown",
   "metadata": {},
   "source": [
    "### Unpacking Into Iterator Variables\n",
    "Multiple assignment with unpacking is particularly useful when you iterate through a list of tuples. You can unpack each tuple into several loop variables. For example: on the first iteration the tuple ('Paul', 'Resnick') is unpacked into the two variables first_name and last_name, and so on. "
   ]
  },
  {
   "cell_type": "code",
   "execution_count": 101,
   "metadata": {},
   "outputs": [
    {
     "name": "stdout",
     "output_type": "stream",
     "text": [
      "First name: Paul , Last name: Resnick\n",
      "First name: Brad , Last name: Miller\n",
      "First name: Lauren , Last name: Murphy\n",
      "First name: Zeki , Last name: Mulu\n"
     ]
    }
   ],
   "source": [
    "authors = [('Paul', 'Resnick'), ('Brad', 'Miller'), ('Lauren', 'Murphy'), ('Zeki', 'Mulu')]\n",
    "for first_name, last_name in authors:\n",
    "    print(\"First name:\", first_name, \", Last name:\", last_name)"
   ]
  },
  {
   "cell_type": "markdown",
   "metadata": {},
   "source": [
    "#### The Pythonic Way to Enumerate Items in a Sequence\n",
    "When we first introduced the for loop, we provided an example of how to iterate through the indexes of a sequence, and thus **enumerate the items and their positions in the sequence.**. Compare this with the next one. "
   ]
  },
  {
   "cell_type": "code",
   "execution_count": 102,
   "metadata": {
    "scrolled": true
   },
   "outputs": [
    {
     "name": "stdout",
     "output_type": "stream",
     "text": [
      "0 apple\n",
      "1 pear\n",
      "2 apricot\n",
      "3 cherry\n",
      "4 peach\n"
     ]
    }
   ],
   "source": [
    "fruits = ['apple', 'pear', 'apricot', 'cherry', 'peach']\n",
    "for n in range(len(fruits)):\n",
    "    print(n, fruits[n])"
   ]
  },
  {
   "cell_type": "markdown",
   "metadata": {},
   "source": [
    "It's important understand a more pythonic approach to enumerating items in a sequence. Python provides a built-in function `enumerate`. **It takes a sequence as input and returns a sequence of tuples. In each tuple, the first element is an integer and the second is an item from the original sequence**. (It actually produces an “iterable” rather than a list, but we can use it in a for loop as the sequence to iterate over.)"
   ]
  },
  {
   "cell_type": "code",
   "execution_count": 108,
   "metadata": {},
   "outputs": [
    {
     "name": "stdout",
     "output_type": "stream",
     "text": [
      "(0, 'apple')\n",
      "(1, 'pear')\n",
      "(2, 'apricot')\n",
      "(3, 'cherry')\n",
      "(4, 'peach')\n"
     ]
    }
   ],
   "source": [
    "fruits = ['apple', 'pear', 'apricot', 'cherry', 'peach']\n",
    "for item in enumerate(fruits):\n",
    "    print(item)\n",
    "   # print(item[0], item[1])\n"
   ]
  },
  {
   "cell_type": "code",
   "execution_count": 109,
   "metadata": {},
   "outputs": [
    {
     "name": "stdout",
     "output_type": "stream",
     "text": [
      "0 apple\n",
      "1 pear\n",
      "2 apricot\n",
      "3 cherry\n",
      "4 peach\n"
     ]
    }
   ],
   "source": [
    "fruits = ['apple', 'pear', 'apricot', 'cherry', 'peach']\n",
    "for item in enumerate(fruits):\n",
    "    print(item[0], item[1])"
   ]
  },
  {
   "cell_type": "markdown",
   "metadata": {},
   "source": [
    "**The pythonic way to consume the results of enumerate, however, is to unpack the tuples while iterating through them, so that the code is easier to understand.**"
   ]
  },
  {
   "cell_type": "code",
   "execution_count": 114,
   "metadata": {},
   "outputs": [
    {
     "name": "stdout",
     "output_type": "stream",
     "text": [
      "0 apple\n",
      "1 pear\n",
      "2 apricot\n",
      "3 cherry\n",
      "4 peach\n"
     ]
    }
   ],
   "source": [
    "fruits = ['apple', 'pear', 'apricot', 'cherry', 'peach']\n",
    "for idx, fruit in enumerate(fruits):\n",
    "    print(idx, fruit)"
   ]
  },
  {
   "cell_type": "markdown",
   "metadata": {},
   "source": [
    "**For understanding:** With only one line of code, assign the variables water, fire, electric, and grass to the values “Squirtle”, “Charmander”, “Pikachu”, and “Bulbasaur”"
   ]
  },
  {
   "cell_type": "code",
   "execution_count": 124,
   "metadata": {},
   "outputs": [],
   "source": [
    "water, fire, electric, grass = \"Squirtle\", \"Charmander\", \"Pikachu\",  \"Bulbasaur\""
   ]
  },
  {
   "cell_type": "markdown",
   "metadata": {},
   "source": [
    "2. If you remember, the `.items()` dictionary method produces a sequence of tuples. Keeping this in mind, we have provided you a dictionary called `pokemon`. For every key value pair, append the key to the list `p_names`, and append the value to the list `p_number`. Do not use the `.keys()` or `.values()` methods."
   ]
  },
  {
   "cell_type": "code",
   "execution_count": 151,
   "metadata": {},
   "outputs": [
    {
     "name": "stdout",
     "output_type": "stream",
     "text": [
      "['Rattata', 'Machop', 'Seel', 'Volbeat', 'Solrock']\n",
      "[19, 66, 86, 86, 126]\n"
     ]
    }
   ],
   "source": [
    "pokemon = {'Rattata': 19, 'Machop': 66, 'Seel': 86, 'Volbeat': 86, 'Solrock': 126}\n",
    "p_names = []\n",
    "p_number = []\n",
    "for i in pokemon.items():\n",
    "    p_names.append(i[0])\n",
    "    p_number.append(i[1])\n",
    "    \n",
    "print(p_names)\n",
    "print(p_number)  "
   ]
  },
  {
   "cell_type": "markdown",
   "metadata": {},
   "source": [
    "3. The `.items()` method produces a sequence of key-value pair tuples. With this in mind, write code to create a list of keys from the dictionary `track_medal_counts` and assign the list to the variable name `track_events`. Do NOT use the `.keys()` method"
   ]
  },
  {
   "cell_type": "code",
   "execution_count": 158,
   "metadata": {},
   "outputs": [
    {
     "name": "stdout",
     "output_type": "stream",
     "text": [
      "['shot put', 'long jump', '100 meters', '400 meters', '100 meter hurdles', 'triple jump', 'steeplechase', '1500 meters', '5K', '10K', 'marathon', '200 meters', '400 meter hurdles', 'high jump']\n"
     ]
    }
   ],
   "source": [
    "track_medal_counts = {'shot put': 1, 'long jump': 3, '100 meters': 2, '400 meters': 2, '100 meter hurdles': 3, 'triple jump': 3, 'steeplechase': 2, '1500 meters': 1, '5K': 0, '10K': 0, 'marathon': 0, '200 meters': 0, '400 meter hurdles': 0, 'high jump': 1}\n",
    "track_events = []\n",
    "for dics in track_medal_counts.items():\n",
    "    track_events.append(dics[0])\n",
    "print(track_events)"
   ]
  },
  {
   "cell_type": "markdown",
   "metadata": {},
   "source": [
    "### Tuples as Return Values\n",
    "Functions can return tuples as return values. This is very useful — we often want to know some batsman’s highest and lowest score, or we want to find the mean and the standard deviation, or we want to know the year, the month, and the day, or if we’re doing some ecological modeling we may want to know the number of rabbits and the number of wolves on an island at a given time. In each case, a function (which can only return a single value), can create a single tuple holding multiple elements."
   ]
  },
  {
   "cell_type": "code",
   "execution_count": 159,
   "metadata": {},
   "outputs": [
    {
     "name": "stdout",
     "output_type": "stream",
     "text": [
      "(62.8318, 314.159)\n"
     ]
    }
   ],
   "source": [
    "def circleInfo(r):\n",
    "    \"\"\" Return (circumference, area) of a circle of radius r \"\"\"\n",
    "    c = 2 * 3.14159 * r\n",
    "    a = 3.14159 * r * r\n",
    "    return (c, a)\n",
    "# or return c, a to make it more readable\n",
    "\n",
    "print(circleInfo(10))"
   ]
  },
  {
   "cell_type": "markdown",
   "metadata": {},
   "source": [
    "**It’s common to unpack the returned values into multiple variables.**"
   ]
  },
  {
   "cell_type": "code",
   "execution_count": 160,
   "metadata": {},
   "outputs": [
    {
     "name": "stdout",
     "output_type": "stream",
     "text": [
      "(62.8318, 314.159)\n",
      "62.8318\n",
      "314.159\n",
      "282.74309999999997\n",
      "6361.719749999999\n"
     ]
    }
   ],
   "source": [
    "def circleInfo(r):\n",
    "    \"\"\" Return (circumference, area) of a circle of radius r \"\"\"\n",
    "    c = 2 * 3.14159 * r\n",
    "    a = 3.14159 * r * r\n",
    "    return c, a\n",
    "\n",
    "print(circleInfo(10))\n",
    "\n",
    "circumference, area = circleInfo(10)\n",
    "print(circumference)\n",
    "print(area)\n",
    "\n",
    "circumference_two, area_two = circleInfo(45)\n",
    "print(circumference_two)\n",
    "print(area_two)"
   ]
  },
  {
   "cell_type": "markdown",
   "metadata": {},
   "source": [
    "Define a function called `information` that takes as input, the variables `name`, `birth_year`, `fav_color`, and `hometown`. It should return a tuple of these variables in this order."
   ]
  },
  {
   "cell_type": "code",
   "execution_count": 188,
   "metadata": {},
   "outputs": [
    {
     "name": "stdout",
     "output_type": "stream",
     "text": [
      "(0, 'name')\n"
     ]
    }
   ],
   "source": [
    "def info(x):\n",
    "    for var in range(len(x)):\n",
    "        a = var\n",
    "        b = x[var]\n",
    "        return (a,b)\n",
    "    \n",
    "\n",
    "vars = [\"name\", \"birth_year\", \"fav_color\", \"hometown\"]\n",
    "print(info(vars))\n",
    "       \n",
    "#???????????????????   "
   ]
  },
  {
   "cell_type": "markdown",
   "metadata": {},
   "source": [
    "#### Unpacking Tuples as Arguments to Function Calls\n",
    "Python even provides a way to pass a single tuple to a function and have it be unpacked for assignment to the named parameters. This won’t quite work. It will cause an error, because the function add is expecting two parameters, but you’re only passing one parameter (a tuple). If only there was a way to tell python to unpack that tuple and use the first element to assign to x and the second to y.\n",
    "\n",
    "Actually, there is a way."
   ]
  },
  {
   "cell_type": "code",
   "execution_count": 192,
   "metadata": {},
   "outputs": [
    {
     "name": "stdout",
     "output_type": "stream",
     "text": [
      "7\n",
      "9\n"
     ]
    }
   ],
   "source": [
    "def add(x, y):\n",
    "    return x + y\n",
    "\n",
    "print(add(3, 4))\n",
    "z = (5, 4)\n",
    "print(add(*z)) # this line will cause the values to be unpacked\n",
    "# print(add(z)) # this line will cause an error"
   ]
  },
  {
   "cell_type": "markdown",
   "metadata": {},
   "source": [
    "## Course 2 Assessment 5"
   ]
  },
  {
   "cell_type": "markdown",
   "metadata": {},
   "source": [
    "1. Create a tuple called `olympics` with four elements: “Beijing”, “London”, “Rio”, “Tokyo”."
   ]
  },
  {
   "cell_type": "code",
   "execution_count": 193,
   "metadata": {},
   "outputs": [
    {
     "name": "stdout",
     "output_type": "stream",
     "text": [
      "<class 'tuple'>\n"
     ]
    }
   ],
   "source": [
    "olympics = (\"Beijing\", \"London\", \"Rio\", \"Tokyo\")\n",
    "print(type(olympics))"
   ]
  },
  {
   "cell_type": "markdown",
   "metadata": {},
   "source": [
    "2. The list below, `tuples_lst`, is a list of tuples. Create a list of the second elements of each tuple and assign this list to the variable `country`."
   ]
  },
  {
   "cell_type": "code",
   "execution_count": 196,
   "metadata": {},
   "outputs": [
    {
     "name": "stdout",
     "output_type": "stream",
     "text": [
      "['China', 'England', 'Brazil', 'Japan']\n"
     ]
    }
   ],
   "source": [
    "tuples_lst = [('Beijing', 'China', 2008), ('London', 'England', 2012), ('Rio', 'Brazil', 2016, 'Current'), ('Tokyo', 'Japan', 2020, 'Future')]\n",
    "country = []\n",
    "for i in tuples_lst:\n",
    "    country.append(i[1])\n",
    "print(country)"
   ]
  },
  {
   "cell_type": "markdown",
   "metadata": {},
   "source": [
    "3. With only one line of code, assign the variables `city`, `country`, and `year` to the values of the tuple `olymp`."
   ]
  },
  {
   "cell_type": "code",
   "execution_count": 197,
   "metadata": {},
   "outputs": [],
   "source": [
    "olymp = ('Rio', 'Brazil', 2016)\n",
    "city, country,  year = olymp"
   ]
  },
  {
   "cell_type": "markdown",
   "metadata": {},
   "source": [
    "4. Define a function called `info` with five parameters: `name`, `gender`, `age, `bday_month`, and `hometown`. The function should then return a tuple with all five parameters in that order"
   ]
  },
  {
   "cell_type": "code",
   "execution_count": 198,
   "metadata": {},
   "outputs": [
    {
     "name": "stdout",
     "output_type": "stream",
     "text": [
      "('name', 'gender', 'age', 'bday_month', 'hometown')\n"
     ]
    }
   ],
   "source": [
    "def info(a,b,c,d,e):\n",
    "    return a, b, c, d, e\n",
    "\n",
    "a, b, c, d, e = (\"name\", \"gender\", \"age\", \"bday_month\",  \"hometown\")\n",
    "print(info(a, b, c, d, e))"
   ]
  },
  {
   "cell_type": "markdown",
   "metadata": {},
   "source": [
    "5. Given is the dictionary, `gold`, which shows the country and the number of gold medals they have earned so far in the 2016 Olympics. Create a list, `num_medals`, that contains only the number of medals for each country. You must use the .items() method. Note: The .items() method provides a list of tuples. Do not use .keys() method."
   ]
  },
  {
   "cell_type": "code",
   "execution_count": 199,
   "metadata": {},
   "outputs": [
    {
     "name": "stdout",
     "output_type": "stream",
     "text": [
      "[31, 19, 19, 13, 12, 10, 8, 8]\n"
     ]
    }
   ],
   "source": [
    "gold = {'USA':31, 'Great Britain':19, 'China':19, 'Germany':13, 'Russia':12, 'Japan':10, 'France':8, 'Italy':8}\n",
    "num_medals = []\n",
    "for mum in gold.items():\n",
    "    num_medals.append(mum[1])\n",
    "print(num_medals)"
   ]
  },
  {
   "cell_type": "markdown",
   "metadata": {},
   "source": [
    "# The while Statement\n",
    " Similar to the if statement, it uses a boolean expression to control the flow of execution. The body of while will be repeated as long as the controlling boolean expression evaluates to True.\n",
    " \n",
    "We can use the while loop to create any type of iteration we wish, including anything that we have previously done with a for loop. For example, the program in the previous section could be rewritten using while. Instead of relying on the range function to produce the numbers for our summation, we will need to produce them ourselves"
   ]
  },
  {
   "cell_type": "code",
   "execution_count": 4,
   "metadata": {},
   "outputs": [
    {
     "name": "stdout",
     "output_type": "stream",
     "text": [
      "0\n",
      "1\n",
      "3\n",
      "6\n",
      "10\n",
      "55\n",
      "5050\n"
     ]
    }
   ],
   "source": [
    "def sumTo(aBound):\n",
    "        \"\"\" Return the sum of 1+2+3 ... n \"\"\"\n",
    "        theSum = 0\n",
    "        aNumber = 1\n",
    "        while aNumber <= aBound:\n",
    "            theSum = theSum + aNumber\n",
    "            aNumber = aNumber + 1\n",
    "        return theSum\n",
    "\n",
    "print(sumTo(0))\n",
    "print(sumTo(1))\n",
    "print(sumTo(2))\n",
    "print(sumTo(3))\n",
    "print(sumTo(4))\n",
    "print(sumTo(10))\n",
    "print(sumTo(100))\n"
   ]
  },
  {
   "cell_type": "markdown",
   "metadata": {},
   "source": [
    "More formally, here is the flow of execution for a while statement:\n",
    "\n",
    "1. Evaluate the condition, yielding False or True.\n",
    "2. If the condition is False, exit the while statement and continue execution at the next statement.\n",
    "3. If the condition is True, execute each of the statements in the body and then go back to step 1.\n",
    "\n",
    "The body consists of all of the statements below the header with the same indentation.\n",
    "This type of flow is called a loop because the third step loops back around to the top. Notice that if the condition is False the first time through the loop, the statements inside the loop are never executed.\n",
    "The body of the loop should change the value of one or more variables so that eventually the condition becomes False and the loop terminates. Otherwise the loop will repeat forever. This is called an infinite loop\n",
    "\n",
    "**Check for Understanding:**\n",
    "1. Write a `while` loop that is initialized at 0 and stops at 15. If the counter is an even number, append the counter to a list called `eve_nums`."
   ]
  },
  {
   "cell_type": "code",
   "execution_count": 13,
   "metadata": {},
   "outputs": [
    {
     "name": "stdout",
     "output_type": "stream",
     "text": [
      "15\n",
      "[0, 2, 4, 6, 8, 10, 12, 14]\n"
     ]
    }
   ],
   "source": [
    "count = 0\n",
    "eve_nums = []\n",
    "while count < 15:\n",
    "    if count % 2 == 0: # if we change the order we don't get the 0 in the list becuase 1 will be added on it.\n",
    "        eve_nums.append(count)\n",
    "    count = count + 1\n",
    "\n",
    "print(count)\n",
    "print(eve_nums)\n",
    "    "
   ]
  },
  {
   "cell_type": "markdown",
   "metadata": {},
   "source": [
    "2. Below, we’ve provided a for loop that sums all the elements of `list1`. Write code that accomplishes the same task, but instead uses a while loop. Assign the accumulator variable to the name `accum`."
   ]
  },
  {
   "cell_type": "code",
   "execution_count": 18,
   "metadata": {},
   "outputs": [
    {
     "name": "stdout",
     "output_type": "stream",
     "text": [
      "7\n",
      "42\n"
     ]
    }
   ],
   "source": [
    "list1 = [8, 3, 4, 5, 6, 7, 9]\n",
    "\n",
    "count = 0\n",
    "accum = 0\n",
    "\n",
    "while count < len(list1):\n",
    "    accum = accum + list1[count]\n",
    "    count = count + 1\n",
    "\n",
    "print(count)\n",
    "print(accum)"
   ]
  },
  {
   "cell_type": "markdown",
   "metadata": {},
   "source": [
    "3. Write a function called `stop_at_four` that iterates through a list of numbers. Using a while loop, append each number to a new list until the number 4 appears. The function should return the new list"
   ]
  },
  {
   "cell_type": "code",
   "execution_count": 4,
   "metadata": {},
   "outputs": [
    {
     "name": "stdout",
     "output_type": "stream",
     "text": [
      "[3, 2, 3]\n"
     ]
    }
   ],
   "source": [
    "list = [3,2,3,4,5]\n",
    "\n",
    "def stop_at_four(list):\n",
    "    count = 0\n",
    "    accum = []\n",
    "    while list[count] != 4:\n",
    "        accum.append(list[count])\n",
    "        count = count + 1\n",
    "    return accum\n",
    "print(stop_at_four(list))"
   ]
  },
  {
   "cell_type": "markdown",
   "metadata": {},
   "source": [
    "## The Listener Loop\n"
   ]
  },
  {
   "cell_type": "markdown",
   "metadata": {},
   "source": [
    "At the end of the previous section, __we advised using a for loop whenever it will be known at the beginning of the iteration process how many times the block of code needs to be executed__. Usually, in python, you will use a for loop rather than a while loop. When is it not known at the beginning of the iteration how many times the code block needs to be executed? The answer is, when it depends on something that happens during the execution.\n",
    "\n",
    "One very common pattern is called a **listener loop**. Inside the while loop there is a function call to get user input. The loop repeats indefinitely, until a particular input is received."
   ]
  },
  {
   "cell_type": "code",
   "execution_count": 6,
   "metadata": {},
   "outputs": [
    {
     "name": "stdout",
     "output_type": "stream",
     "text": [
      "next number to add up (enter 0 if no more numbers): 5\n",
      "next number to add up (enter 0 if no more numbers): 5\n",
      "next number to add up (enter 0 if no more numbers): 7\n",
      "next number to add up (enter 0 if no more numbers): 04\n",
      "next number to add up (enter 0 if no more numbers): 5\n",
      "next number to add up (enter 0 if no more numbers): 0\n",
      "26\n"
     ]
    }
   ],
   "source": [
    "theSum = 0\n",
    "x = -1\n",
    "while (x != 0):\n",
    "    x = int(input(\"next number to add up (enter 0 if no more numbers): \"))\n",
    "    theSum = theSum + x\n",
    "\n",
    "print(theSum)"
   ]
  },
  {
   "cell_type": "markdown",
   "metadata": {},
   "source": [
    "### Other uses of while: Sentinel Values"
   ]
  },
  {
   "cell_type": "code",
   "execution_count": 1,
   "metadata": {},
   "outputs": [
    {
     "name": "stdout",
     "output_type": "stream",
     "text": [
      "Enter price of item (0 when done): 0\n"
     ]
    },
    {
     "ename": "ZeroDivisionError",
     "evalue": "division by zero",
     "output_type": "error",
     "traceback": [
      "\u001b[1;31m---------------------------------------------------------------------------\u001b[0m",
      "\u001b[1;31mZeroDivisionError\u001b[0m                         Traceback (most recent call last)",
      "\u001b[1;32m<ipython-input-1-ec0e8109b525>\u001b[0m in \u001b[0;36m<module>\u001b[1;34m()\u001b[0m\n\u001b[0;32m     16\u001b[0m     \u001b[0mprint\u001b[0m\u001b[1;33m(\u001b[0m\u001b[1;34m'Average price per item: $'\u001b[0m\u001b[1;33m,\u001b[0m \u001b[0maverage\u001b[0m\u001b[1;33m)\u001b[0m\u001b[1;33m\u001b[0m\u001b[0m\n\u001b[0;32m     17\u001b[0m \u001b[1;33m\u001b[0m\u001b[0m\n\u001b[1;32m---> 18\u001b[1;33m \u001b[0mcheckout\u001b[0m\u001b[1;33m(\u001b[0m\u001b[1;33m)\u001b[0m\u001b[1;33m\u001b[0m\u001b[0m\n\u001b[0m",
      "\u001b[1;32m<ipython-input-1-ec0e8109b525>\u001b[0m in \u001b[0;36mcheckout\u001b[1;34m()\u001b[0m\n\u001b[0;32m     11\u001b[0m         \u001b[1;32melse\u001b[0m\u001b[1;33m:\u001b[0m\u001b[1;33m\u001b[0m\u001b[0m\n\u001b[0;32m     12\u001b[0m             \u001b[0mmoreItems\u001b[0m \u001b[1;33m=\u001b[0m \u001b[1;32mFalse\u001b[0m\u001b[1;33m\u001b[0m\u001b[0m\n\u001b[1;32m---> 13\u001b[1;33m     \u001b[0maverage\u001b[0m \u001b[1;33m=\u001b[0m \u001b[0mtotal\u001b[0m \u001b[1;33m/\u001b[0m \u001b[0mcount\u001b[0m\u001b[1;33m\u001b[0m\u001b[0m\n\u001b[0m\u001b[0;32m     14\u001b[0m     \u001b[0mprint\u001b[0m\u001b[1;33m(\u001b[0m\u001b[1;34m'Total items:'\u001b[0m\u001b[1;33m,\u001b[0m \u001b[0mcount\u001b[0m\u001b[1;33m)\u001b[0m\u001b[1;33m\u001b[0m\u001b[0m\n\u001b[0;32m     15\u001b[0m     \u001b[0mprint\u001b[0m\u001b[1;33m(\u001b[0m\u001b[1;34m'Total $'\u001b[0m\u001b[1;33m,\u001b[0m \u001b[0mtotal\u001b[0m\u001b[1;33m)\u001b[0m\u001b[1;33m\u001b[0m\u001b[0m\n",
      "\u001b[1;31mZeroDivisionError\u001b[0m: division by zero"
     ]
    }
   ],
   "source": [
    "def checkout():\n",
    "    total = 0\n",
    "    count = 0\n",
    "    moreItems = True\n",
    "    while moreItems:\n",
    "        price = float(input('Enter price of item (0 when done): '))\n",
    "        if price != 0:\n",
    "            count = count + 1\n",
    "            total = total + price\n",
    "            print('Subtotal: $', total)\n",
    "        else:\n",
    "            moreItems = False\n",
    "    average = total / count\n",
    "    print('Total items:', count)\n",
    "    print('Total $', total)\n",
    "    print('Average price per item: $', average)\n",
    "\n",
    "checkout()\n"
   ]
  },
  {
   "cell_type": "markdown",
   "metadata": {},
   "source": [
    "### Validating Input\n",
    "You can also use a `while` loop when you want to __validate__ input; when you want to make sure the user has entered valid input for a prompt. Let’s say you want a function that asks a yes-or-no question. In this case, you want to make sure that the person using your program enters either a Y for yes or N for no (in either upper or lower case). Here is a program that uses a `while` loop to keep asking until it receives a valid answer. As a preview of coming attractions, it uses the `upper()` method which is described in String Methods to convert a string to upper case. When you run the following code, try typing something other than Y or N to see how the code reacts:"
   ]
  },
  {
   "cell_type": "code",
   "execution_count": 8,
   "metadata": {},
   "outputs": [
    {
     "name": "stdout",
     "output_type": "stream",
     "text": [
      "Do you like lima beans? Y)es or N)o: v\n",
      "Please enter Y for yes or N for no.\n",
      "Do you like lima beans? Y)es or N)o: \n",
      "Please enter Y for yes or N for no.\n",
      "Do you like lima beans? Y)es or N)o: y\n",
      "Great! They are very healthy.\n"
     ]
    }
   ],
   "source": [
    "def get_yes_or_no(message):\n",
    "    valid_input = False\n",
    "    while not valid_input:\n",
    "        answer = input(message)\n",
    "        answer = answer.upper() # convert to upper case\n",
    "        if answer == 'Y' or answer == 'N':\n",
    "            valid_input = True\n",
    "        else:\n",
    "            print('Please enter Y for yes or N for no.')\n",
    "    return answer\n",
    "\n",
    "response = get_yes_or_no('Do you like lima beans? Y)es or N)o: ')\n",
    "if response == 'Y':\n",
    "    print('Great! They are very healthy.')\n",
    "else:\n",
    "    print('Too bad. If cooked right, they are quite tasty.')\n"
   ]
  },
  {
   "cell_type": "markdown",
   "metadata": {},
   "source": [
    "### Randomly Walking Turtles\n",
    "Suppose we want to entertain ourselves by watching a turtle wander around randomly inside the screen. When we run the program we want the turtle and program to behave in the following way:\n",
    "1. The turtle begins in the center of the screen.\n",
    "2. Flip a coin. If it’s heads then turn to the left 90 degrees. If it’s tails then turn to the right 90 degrees.\n",
    "3. Take 50 steps forward.\n",
    "4. If the turtle has moved outside the screen then stop, otherwise go back to step 2 and repeat.\n",
    "\n",
    "Notice that we cannot predict how many times the turtle will need to flip the coin before it wanders out of the screen, so we can’t use a for loop in this case. In fact, although very unlikely, this program might never end, that is why we call this indefinite iteration."
   ]
  },
  {
   "cell_type": "code",
   "execution_count": 11,
   "metadata": {},
   "outputs": [],
   "source": [
    "import random\n",
    "import turtle\n",
    "\n",
    "def isInScreen(w, t):\n",
    "    if random.random() > 0.1:\n",
    "        return True\n",
    "    else:\n",
    "        return False\n",
    "\n",
    "t = turtle.Turtle()\n",
    "wn = turtle.Screen()\n",
    "\n",
    "t.shape('turtle')\n",
    "while isInScreen(wn, t):\n",
    "    coin = random.randrange(0, 2)\n",
    "    if coin == 0:              # heads\n",
    "        t.left(90)\n",
    "    else:                      # tails\n",
    "        t.right(90)\n",
    "\n",
    "    t.forward(50)\n",
    "\n",
    "wn.exitonclick()"
   ]
  },
  {
   "cell_type": "markdown",
   "metadata": {},
   "source": [
    "### Break and Continue\n",
    "Python provides ways for us to control the flow of iteration with a two keywords: `break and continue`.\n",
    "`break` allows the program to immediately ‘break out’ of the loop, regardless of the loop’s conditional structure."
   ]
  },
  {
   "cell_type": "code",
   "execution_count": 12,
   "metadata": {},
   "outputs": [
    {
     "name": "stdout",
     "output_type": "stream",
     "text": [
      "this phrase will always print\n",
      "We are done with the while loop.\n"
     ]
    }
   ],
   "source": [
    "while True:\n",
    "    print(\"this phrase will always print\")\n",
    "    break\n",
    "    print(\"Does this phrase print?\")\n",
    "\n",
    "print(\"We are done with the while loop.\")"
   ]
  },
  {
   "cell_type": "markdown",
   "metadata": {},
   "source": [
    "Using `continue` allows the program to immediately “continue” with the next iteration. The program will skip the rest of the iteration, recheck the condition, and maybe does another iteration depending on the condition set for the while loop."
   ]
  },
  {
   "cell_type": "code",
   "execution_count": 13,
   "metadata": {
    "scrolled": true
   },
   "outputs": [
    {
     "name": "stdout",
     "output_type": "stream",
     "text": [
      "we are incrementing x\n",
      "we are incrementing x\n",
      "we are incrementing x\n",
      "Done with our loop! X has the value: 15\n"
     ]
    }
   ],
   "source": [
    "x = 0\n",
    "while x < 10:\n",
    "    print(\"we are incrementing x\")\n",
    "    if x % 2 == 0:\n",
    "        x += 3\n",
    "        continue\n",
    "    if x % 3 == 0:\n",
    "        x += 5\n",
    "    x += 1\n",
    "print(\"Done with our loop! X has the value: \" + str(x))"
   ]
  },
  {
   "cell_type": "markdown",
   "metadata": {},
   "source": [
    "## Course 2 Assessment 6\n",
    "1. Write a function, `sublist`, that takes in a list of numbers as the parameter. In the function, use a while loop to return a sublist of the input list. The sublist should contain the same values of the original list up until it reaches the number 5 (it should not contain the number 5)."
   ]
  },
  {
   "cell_type": "code",
   "execution_count": 25,
   "metadata": {},
   "outputs": [
    {
     "name": "stdout",
     "output_type": "stream",
     "text": [
      "[3, 4]\n"
     ]
    }
   ],
   "source": [
    "def sublist(x):\n",
    "    y = []\n",
    "    sub = 0\n",
    "    while x[sub] != 5:\n",
    "        y.append(x[sub])\n",
    "        sub = sub + 1\n",
    "    return y\n",
    "\n",
    "x = [3,4,5,4]\n",
    "#print(sublist(x)) --- this works but cause runtime error due to infinit loop on line 4"
   ]
  },
  {
   "cell_type": "markdown",
   "metadata": {},
   "source": [
    "2. Write a function called `check_nums` that takes a list as its parameter, and contains a while loop that only stops once the element of the list is the number 7. What is returned is a list of all of the numbers up until it reaches 7.\n"
   ]
  },
  {
   "cell_type": "code",
   "execution_count": 26,
   "metadata": {},
   "outputs": [
    {
     "name": "stdout",
     "output_type": "stream",
     "text": [
      "[0]\n"
     ]
    }
   ],
   "source": [
    "def check_nums(x):\n",
    "    y = []\n",
    "    sub = 0\n",
    "    while sub < len(x) and x[sub] !=7:\n",
    "        y.append(x[sub])\n",
    "        sub = sub + 1\n",
    "    return y\n",
    "\n",
    "x = [0,7]\n",
    "print(check_nums(x))"
   ]
  },
  {
   "cell_type": "markdown",
   "metadata": {},
   "source": [
    "3. Write a function, `sublist`, that takes in a list of strings as the parameter. In the function, use a while loop to return a sublist of the input list. The sublist should contain the same values of the original list up until it reaches the string “STOP” (it should not contain the string “STOP”)."
   ]
  },
  {
   "cell_type": "code",
   "execution_count": 27,
   "metadata": {},
   "outputs": [
    {
     "name": "stdout",
     "output_type": "stream",
     "text": [
      "['it', 'should', 'not', 'contain', 'the']\n"
     ]
    }
   ],
   "source": [
    "#stp = \"it should not contain the stop string\"\n",
    "#stg = stp.split().upper()\n",
    "\n",
    "def sublist(stg):\n",
    "    lt = []\n",
    "    cha = 0\n",
    "    while cha < len(stg) and stg[cha] != 'STOP':\n",
    "        lt.append(stg[cha])\n",
    "        cha += 1\n",
    "    return lt\n",
    "\n",
    "stg = ['it', 'should', 'not', 'contain', 'the', 'STOP', 'string']\n",
    "print(sublist(stg))\n",
    "    "
   ]
  },
  {
   "cell_type": "markdown",
   "metadata": {},
   "source": [
    "4. Write a function called `stop_at_z` that iterates through a list of strings. Using a while loop, append each string to a new list until the string that appears is “z”. The function should return the new list."
   ]
  },
  {
   "cell_type": "code",
   "execution_count": 32,
   "metadata": {},
   "outputs": [
    {
     "name": "stdout",
     "output_type": "stream",
     "text": [
      "['A', ' ', 't', 'h', 'e', 's', 'i', 's', ' ', 'c', 'a', 'n', ' ', 'b', 'e', ' ', 'd', 'o']\n"
     ]
    }
   ],
   "source": [
    "def stop_at_z(stg):\n",
    "    lt = []\n",
    "    cha = 0\n",
    "    while cha < len(stg) and stg[cha] != 'z':\n",
    "        lt.append(stg[cha])\n",
    "        cha += 1\n",
    "    return lt\n",
    "\n",
    "\n",
    "stg = \"A thesis can be dozens of pages in mathematics\"\n",
    "print(stop_at_z(stg))"
   ]
  },
  {
   "cell_type": "markdown",
   "metadata": {},
   "source": [
    "5. Below is a for loop that works. Underneath the for loop, rewrite the problem so that it does the same thing, but using a while loop instead of a for loop. Assign the accumulated total in the while loop code to the variable `sum2`. Once complete, `sum2` should equal sum1."
   ]
  },
  {
   "cell_type": "code",
   "execution_count": 36,
   "metadata": {},
   "outputs": [
    {
     "name": "stdout",
     "output_type": "stream",
     "text": [
      "4\n",
      "197\n"
     ]
    }
   ],
   "source": [
    "lst = [65, 78, 21, 33]\n",
    "sum1 = 0\n",
    "sum2 = 0\n",
    "\n",
    "while sum1 < len(lst):\n",
    "    sum2 = sum2 + lst[sum1]\n",
    "    sum1 = sum1 + 1\n",
    "\n",
    "print(sum1)\n",
    "print(sum2)"
   ]
  },
  {
   "cell_type": "markdown",
   "metadata": {},
   "source": [
    "5. __Challenge__: Write a function called `beginning` that takes a list as input and contains a while loop that only stops once the element of the list is the string ‘bye’. What is returned is a list that contains up to the first 10 strings, regardless of where the loop stops. (i.e., if it stops on the 32nd element, the first 10 are returned. If “bye” is the 5th element, the first 4 are returned.) If you want to make this even more of a challenge, do this without slicing\n"
   ]
  },
  {
   "cell_type": "code",
   "execution_count": 41,
   "metadata": {},
   "outputs": [
    {
     "name": "stdout",
     "output_type": "stream",
     "text": [
      "['list', 'as', 'input', 'and', 'contains', 'a', 'while', 'loop', 'that', 'only']\n"
     ]
    }
   ],
   "source": [
    "lst = \"list as input and contains  a while loop that only stops once the element of the list is the string bye\"\n",
    "stg = lst.split()\n",
    "\n",
    "\n",
    "def beginning(stg):\n",
    "    lt = []\n",
    "    cha = 0\n",
    "    while cha < 10 and stg[cha] != 'bye':\n",
    "        lt.append(stg[cha])\n",
    "        cha += 1\n",
    "    return lt\n",
    "\n",
    "print(beginning(stg))    "
   ]
  },
  {
   "cell_type": "markdown",
   "metadata": {},
   "source": [
    "## Advanced \n",
    "### Introduction: Optional Parameters\n",
    "When defining a function, you can specify a default value for a parameter. That parameter then becomes an optional parameter when the function is called. The way to specify a default value is with an assignment statement inside the parameter list. Consider the following code, for example."
   ]
  },
  {
   "cell_type": "code",
   "execution_count": 42,
   "metadata": {},
   "outputs": [
    {
     "name": "stdout",
     "output_type": "stream",
     "text": [
      "x, y, z, are: 2, 3, 7\n",
      "x, y, z, are: 2, 5, 7\n",
      "x, y, z, are: 2, 5, 8\n"
     ]
    }
   ],
   "source": [
    "initial = 7\n",
    "def f(x, y =3, z=initial):\n",
    "    print(\"x, y, z, are: \" + str(x) + \", \" + str(y) + \", \" + str(z))\n",
    "\n",
    "f(2)\n",
    "f(2, 5)\n",
    "f(2, 5, 8)\n"
   ]
  },
  {
   "cell_type": "markdown",
   "metadata": {},
   "source": [
    "The second tricky thing is that if the default value is set to a mutable object, such as a list or a dictionary, that object will be shared in all invocations of the function. This can get very confusing, __so I suggest that you never set a default value that is a mutable object__. For example, follow the exceution of this one carefully."
   ]
  },
  {
   "cell_type": "code",
   "execution_count": 44,
   "metadata": {},
   "outputs": [
    {
     "name": "stdout",
     "output_type": "stream",
     "text": [
      "[1]\n",
      "[1, 2]\n",
      "[1, 2, 3]\n",
      "['Hello', 4]\n",
      "['Hello', 5]\n"
     ]
    }
   ],
   "source": [
    "def f(a, L=[]):\n",
    "    L.append(a)\n",
    "    return L\n",
    "\n",
    "print(f(1))\n",
    "print(f(2))\n",
    "print(f(3))\n",
    "print(f(4, [\"Hello\"]))\n",
    "print(f(5, [\"Hello\"]))\n"
   ]
  },
  {
   "cell_type": "markdown",
   "metadata": {},
   "source": [
    "3. Write a function called `str_mult` that takes in a required string parameter and an optional integer parameter. The default value for the integer parameter should be 3. The function should return the string multiplied by the integer parameter."
   ]
  },
  {
   "cell_type": "code",
   "execution_count": 6,
   "metadata": {},
   "outputs": [
    {
     "name": "stdout",
     "output_type": "stream",
     "text": [
      "hahahahahaha\n"
     ]
    }
   ],
   "source": [
    "def str_mult(a,b=3):\n",
    "    l = a * b\n",
    "    return l\n",
    "print(str_mult('haha'))"
   ]
  },
  {
   "cell_type": "markdown",
   "metadata": {},
   "source": [
    "## Keyword Parameters\n",
    "In the previous section, on Optional Parameters you learned how to define default values for formal parameters, which made it optional to provide values for those parameters when invoking the functions.\n",
    "\n",
    "Here, you’ll see one more way to invoke functions with optional parameters, **with keyword-based parameter passing. This is particularly convenient when there are several optional parameters and you want to provide a value for one of the later parameters while not providing a value for the earlier ones**.\n",
    "\n",
    "Don’t worry about the def `cheeseshop(kind, *arguments, **keywords)`: example. You should be able to get by without understanding `*parameters` and `**parameters` in this course. But do make sure you understand the stuff above that.\n",
    "\n",
    "The basic idea of passing arguments by keyword is very simple. When invoking a function, inside the parentheses there are always 0 or more values, separated by commas. With keyword arguments, some of the values can be of the form `paramname = <expr>` instead of just `<expr>`. Note that when you have `paramname = <expr>` in a function definition, it is defining the default value for a parameter when no value is provided in the invocation; when you have `paramname = <expr> `in the invocation, it is supplying a value, overriding the default for that paramname.\n"
   ]
  },
  {
   "cell_type": "code",
   "execution_count": 16,
   "metadata": {},
   "outputs": [
    {
     "name": "stdout",
     "output_type": "stream",
     "text": [
      "-- This parrot wouldn't VOOOOOM\n",
      "If you put 1000000 volts through it.\n",
      "-- Lovely plumage, the Norwegian Blue\n",
      "-- It's a stiff!\n"
     ]
    }
   ],
   "source": [
    "def parrot(voltage, state='a stiff', action='voom', type='Norwegian Blue'):\n",
    "    print(\"-- This parrot wouldn't \" + action,)\n",
    "    print(\"If you put \" + str(voltage) + \" volts through it.\")\n",
    "    print(\"-- Lovely plumage, the \" +  type)\n",
    "    print(\"-- It's \" + state + \"!\")\n",
    "\n",
    "#parrot(1000)                                          # 1 positional argument\n",
    "#parrot(voltage=1000)                                  # 1 keyword argument\n",
    "parrot(voltage=1000000, action='VOOOOOM')             # 2 keyword arguments\n",
    "#parrot(action='VOOOOOM', voltage=1000000)             # 2 keyword arguments\n",
    "#parrot('a million', 'bereft of life', 'jump')         # 3 positional arguments\n",
    "#parrot('a thousand', state='pushing up the daisies')  # 1 positional, 1 keyword"
   ]
  },
  {
   "cell_type": "markdown",
   "metadata": {},
   "source": [
    "## Keyword Parameters with .format"
   ]
  },
  {
   "cell_type": "markdown",
   "metadata": {},
   "source": [
    "Earlier you learned how to use the `format` method for strings, which allows you to structure strings like fill-in-the-blank sentences. Now that you’ve learned about optional and keyword parameters, we can introduce a new way to use the `format` method.\n",
    "\n",
    "This other option is to specifically refer to keywords for __interpolation values__, like below."
   ]
  },
  {
   "cell_type": "code",
   "execution_count": 17,
   "metadata": {},
   "outputs": [
    {
     "name": "stdout",
     "output_type": "stream",
     "text": [
      "The scores Jack got were: 67,89,91.\n",
      "The scores Emily got were: 72,95,42.\n",
      "The scores Taylor got were: 83,92,86.\n"
     ]
    }
   ],
   "source": [
    "names_scores = [(\"Jack\",[67,89,91]),(\"Emily\",[72,95,42]),(\"Taylor\",[83,92,86])]\n",
    "for name, scores in names_scores:\n",
    "    print(\"The scores {nm} got were: {s1},{s2},{s3}.\".format(nm=name,s1=scores[0],s2=scores[1],s3=scores[2]))"
   ]
  },
  {
   "cell_type": "markdown",
   "metadata": {},
   "source": [
    "Sometimes, you may want to use the `.format` method to insert the same value into a string multiple times. You can do this by simply passing the same string into the format method, assuming you have included `{}` s in the string everywhere you want to interpolate them. But you can also use positional passing references to do this! The order in which you pass arguments into the format method matters: the first one is argument `0`, the second is argument `1`, and so on."
   ]
  },
  {
   "cell_type": "code",
   "execution_count": 19,
   "metadata": {},
   "outputs": [
    {
     "name": "stdout",
     "output_type": "stream",
     "text": [
      "'Jack!' she yelled. 'Jack! Jack, say hello!'\n",
      "'Jill!' she yelled. 'Jill! Jill, say hello!'\n",
      "'Mary!' she yelled. 'Mary! Mary, say hello!'\n",
      "................................\n",
      "'Jack!' she yelled. 'Jack! Jack, say hello!'\n",
      "'Jill!' she yelled. 'Jill! Jill, say hello!'\n",
      "'Mary!' she yelled. 'Mary! Mary, say hello!'\n"
     ]
    }
   ],
   "source": [
    "# this works\n",
    "names = [\"Jack\",\"Jill\",\"Mary\"]\n",
    "for n in names:\n",
    "    print(\"'{}!' she yelled. '{}! {}, {}!'\".format(n,n,n,\"say hello\"))\n",
    "print(\"................................\")\n",
    "# but this also works!\n",
    "names = [\"Jack\",\"Jill\",\"Mary\"]\n",
    "for n in names:\n",
    "    print(\"'{0}!' she yelled. '{0}! {0}, {1}!'\".format(n,\"say hello\"))"
   ]
  },
  {
   "cell_type": "markdown",
   "metadata": {},
   "source": [
    "### Check your understanding\n",
    "\n"
   ]
  },
  {
   "cell_type": "code",
   "execution_count": 20,
   "metadata": {},
   "outputs": [
    {
     "name": "stdout",
     "output_type": "stream",
     "text": [
      "x, y, z are: 2 5 7\n"
     ]
    }
   ],
   "source": [
    "# What value will be printed for z?\n",
    "\n",
    "initial = 7\n",
    "def f(x, y = 3, z = initial):\n",
    "    print(\"x, y, z are:\", x, y, z)\n",
    "\n",
    "f(2, 5)"
   ]
  },
  {
   "cell_type": "code",
   "execution_count": 21,
   "metadata": {},
   "outputs": [
    {
     "name": "stdout",
     "output_type": "stream",
     "text": [
      "x, y, z are: 2 3 10\n"
     ]
    }
   ],
   "source": [
    "#What value will be printed for y?\n",
    "\n",
    "initial = 7\n",
    "def f(x, y = 3, z = initial):\n",
    "    print(\"x, y, z are:\", x, y, z)\n",
    "\n",
    "f(2, z = 10)"
   ]
  },
  {
   "cell_type": "code",
   "execution_count": 23,
   "metadata": {},
   "outputs": [
    {
     "name": "stdout",
     "output_type": "stream",
     "text": [
      "'Catalina!' she yelled. 'Come here, Catalina! Alexey, Misuki, and Pablo are here!'\n"
     ]
    }
   ],
   "source": [
    "#What value will be printed below?\n",
    "\n",
    "names = [\"Alexey\", \"Catalina\", \"Misuki\", \"Pablo\"]\n",
    "print(\"'{first}!' she yelled. 'Come here, {first}! {f_one}, {f_two}, and {f_three} are here!'\"\n",
    "      .format(first = names[1], f_one = names[0], f_two = names[2], f_three = names[3]))"
   ]
  },
  {
   "cell_type": "markdown",
   "metadata": {},
   "source": [
    "5. Define a function called `multiply`. It should have one required parameter, a string. It should also have one optional parameter, an integer, named `mult_int`, with a default value of 10. The function should return the string multiplied by the integer. (i.e.: Given inputs “Hello”, mult_int=3, the function should return “HelloHelloHello”)"
   ]
  },
  {
   "cell_type": "code",
   "execution_count": 25,
   "metadata": {},
   "outputs": [
    {
     "name": "stdout",
     "output_type": "stream",
     "text": [
      "Hello Hello Hello Hello Hello Hello Hello Hello Hello Hello \n"
     ]
    }
   ],
   "source": [
    "def multiply(a, mult_int = 10):\n",
    "    resp = a * mult_int\n",
    "    return resp\n",
    "print(multiply('Hello '))\n"
   ]
  },
  {
   "cell_type": "markdown",
   "metadata": {},
   "source": [
    "## Anonymous Function with Lambda Expressions\n",
    "To further drive home the idea that we are passing a function object as a parameter to the sorted object, let’s see an alternative notation for creating a function, a __lambda expression__. The syntax of a lambda expression is the word “lambda” followed by parameter names, separated by commas but not inside (parentheses), followed by a colon and then an expression. `lambda arguments: expression` yields a function object. This unnamed object behaves just like the function object constructed below.\n",
    "\n",
    "    def fname(arguments):\n",
    "    return expression\n",
    "Then:\n",
    "\n",
    "    def func(args):\n",
    "        return ret_value\n",
    "\n",
    "is equivalent to \n",
    "\n",
    "    lambda args: ret_value\n"
   ]
  },
  {
   "cell_type": "code",
   "execution_count": 36,
   "metadata": {},
   "outputs": [
    {
     "name": "stdout",
     "output_type": "stream",
     "text": [
      "<function f at 0x0000000005130A60>\n",
      "<class 'function'>\n",
      "2\n",
      "...........................\n",
      "<function <lambda> at 0x00000000051309D8>\n",
      "<class 'function'>\n",
      "4\n"
     ]
    }
   ],
   "source": [
    "def f(x):\n",
    "    return x - 1\n",
    "\n",
    "print(f)\n",
    "print(type(f))\n",
    "print(f(3))\n",
    "print(\"...........................\")\n",
    "print(lambda x: x-2)\n",
    "print(type(lambda x: x-2))\n",
    "print((lambda x: x-2)(6))"
   ]
  },
  {
   "cell_type": "markdown",
   "metadata": {},
   "source": [
    "The lambda expression had to go in parentheses just for the purposes of grouping all its contents together."
   ]
  },
  {
   "cell_type": "code",
   "execution_count": 45,
   "metadata": {},
   "outputs": [
    {
     "data": {
      "text/plain": [
       "4"
      ]
     },
     "execution_count": 45,
     "metadata": {},
     "output_type": "execute_result"
    }
   ],
   "source": [
    "(lambda x: x-2) (6)"
   ]
  },
  {
   "cell_type": "markdown",
   "metadata": {},
   "source": [
    "Say we want to create a function that takes a string and returns the last character in that string. What might this look like with the functions you’ve used before?\n",
    "    \n",
    "    def last_char(s):\n",
    "    return s[-1]"
   ]
  },
  {
   "cell_type": "code",
   "execution_count": 54,
   "metadata": {},
   "outputs": [
    {
     "data": {
      "text/plain": [
       "'T'"
      ]
     },
     "execution_count": 54,
     "metadata": {},
     "output_type": "execute_result"
    }
   ],
   "source": [
    "s = \"LAST\"\n",
    "\n",
    "last_char = lambda s:s[-1]\n",
    "\n",
    "last_char(s)\n"
   ]
  },
  {
   "cell_type": "code",
   "execution_count": 55,
   "metadata": {},
   "outputs": [
    {
     "data": {
      "text/plain": [
       "'z'"
      ]
     },
     "execution_count": 55,
     "metadata": {},
     "output_type": "execute_result"
    }
   ],
   "source": [
    "x = 'xyz'\n",
    "(lambda s:s[-1])(x)\n"
   ]
  },
  {
   "cell_type": "markdown",
   "metadata": {},
   "source": [
    "## Course 2 Assessment 7\n",
    "1. Create a function called `mult` that has two parameters, the first is required and should be an integer, the second is an optional parameter that can either be a number or a string but whose default is 6. The function should return the first parameter multiplied by the second."
   ]
  },
  {
   "cell_type": "code",
   "execution_count": 63,
   "metadata": {},
   "outputs": [
    {
     "name": "stdout",
     "output_type": "stream",
     "text": [
      "XYZ XYZ XYZ XYZ XYZ XYZ \n"
     ]
    }
   ],
   "source": [
    "def mult(a, b = 6):\n",
    "    m = a * b\n",
    "    return m\n",
    "print(mult(\"XYZ \"))"
   ]
  },
  {
   "cell_type": "markdown",
   "metadata": {},
   "source": [
    "2. The following function, `greeting`, does not work. Please fix the code so that it runs without error. This only requires one change in the definition of the function."
   ]
  },
  {
   "cell_type": "code",
   "execution_count": 64,
   "metadata": {},
   "outputs": [
    {
     "name": "stdout",
     "output_type": "stream",
     "text": [
      "Hello Bob!\n",
      "Hello !\n",
      "Hello Bob!!!\n"
     ]
    }
   ],
   "source": [
    "def greeting(name, greeting=\"Hello \", excl=\"!\"):\n",
    "    return greeting + name + excl\n",
    "\n",
    "print(greeting(\"Bob\"))\n",
    "print(greeting(\"\"))\n",
    "print(greeting(\"Bob\", excl=\"!!!\"))"
   ]
  },
  {
   "cell_type": "markdown",
   "metadata": {},
   "source": [
    "4. Write a function, `test`, that takes in three parameters: a required integer, an optional boolean whose default value is `True`, and an optional dictionary, called `dict1`, whose default value is `{2:3, 4:5, 6:8}`. If the boolean parameter is True, the function should test to see if the integer is a key in the dictionary. The value of that key should then be returned. If the boolean parameter is False, return the boolean value “False”."
   ]
  },
  {
   "cell_type": "code",
   "execution_count": 65,
   "metadata": {},
   "outputs": [
    {
     "data": {
      "text/plain": [
       "3"
      ]
     },
     "execution_count": 65,
     "metadata": {},
     "output_type": "execute_result"
    }
   ],
   "source": [
    "def test(x, abool = True, dict1 = {2:3, 4:5, 6:8}):\n",
    "    return abool and dict1.get(x, False)\n",
    "test(2)"
   ]
  },
  {
   "cell_type": "markdown",
   "metadata": {},
   "source": [
    "5. Write a function called `checkingIfIn` that takes three parameters. The first is a required parameter, which should be a string. The second is an optional parameter called direction with a default value of True. The third is an optional parameter called `d` that has a default value of `{'apple': 2, 'pear': 1, 'fruit': 19, 'orange': 5, 'banana': 3, 'grapes': 2, 'watermelon': 7}`. Write the function `checkingIfIn` so that when the second parameter is `True`, it checks to see if the first parameter is a key in the third parameter; if it is, return True, otherwise return False. But if the second paramter is False, then the function should check to see if the first parameter is not a key of the third.' If it’s not, the function should return True in this case, and if it is, it should return False."
   ]
  },
  {
   "cell_type": "code",
   "execution_count": 66,
   "metadata": {},
   "outputs": [
    {
     "data": {
      "text/plain": [
       "True"
      ]
     },
     "execution_count": 66,
     "metadata": {},
     "output_type": "execute_result"
    }
   ],
   "source": [
    "def checkingIfIn(a, direction = True, \n",
    "                 d = {'apple': 2, 'pear': 1, 'fruit': 19, 'orange': 5, 'banana': 3, 'grapes': 2, 'watermelon': 7}):\n",
    "    if direction == True:\n",
    "        if a in d:\n",
    "            return True \n",
    "        else:\n",
    "            return False\n",
    "    else:\n",
    "        if a not in d:\n",
    "            return True\n",
    "        else:\n",
    "            return False\n",
    "checkingIfIn('pear')"
   ]
  },
  {
   "cell_type": "markdown",
   "metadata": {},
   "source": [
    "6. We have provided the function `checkingIfIn` such that if the first input parameter is in the third, dictionary, input parameter, then the function returns that value, and otherwise, it returns False. Follow the instructions in the active code window for specific variable assignmemts.\n"
   ]
  },
  {
   "cell_type": "code",
   "execution_count": 67,
   "metadata": {},
   "outputs": [
    {
     "name": "stdout",
     "output_type": "stream",
     "text": [
      "False\n",
      "True\n",
      "19\n",
      "8\n"
     ]
    }
   ],
   "source": [
    "def checkingIfIn(a, direction = True, \n",
    "                 d = {'apple': 2, 'pear': 1, 'fruit': 19, 'orange': 5, 'banana': 3, 'grapes': 2, 'watermelon': 7}):\n",
    "    if direction == True:\n",
    "        if a in d:\n",
    "            return d[a]\n",
    "        else:\n",
    "            return False\n",
    "    else:\n",
    "        if a not in d:\n",
    "            return True\n",
    "        else:\n",
    "            return d[a]\n",
    "\n",
    "# Call the function so that it returns False and assign that function call to the variable c_false\n",
    "c_false = checkingIfIn('peas')\n",
    "print(c_false)\n",
    "# Call the fucntion so that it returns True and assign it to the variable c_true\n",
    "c_true = checkingIfIn('apples', False, {'carrots': 1, 'peas': 9, 'potatos': 8, 'corn': 32, 'beans': 1})\n",
    "print(c_true)\n",
    "# Call the function so that the value of fruit is assigned to the variable fruit_ans\n",
    "fruit_ans= checkingIfIn('fruit')\n",
    "print(fruit_ans)\n",
    "# Call the function using the first and third parameter so that the value 8 is assigned to the variable param_check\n",
    "param_check = checkingIfIn('potatos', False, {'carrots': 1, 'peas': 9, 'potatos': 8, 'corn': 32, 'beans': 1})\n",
    "print(param_check)\n",
    "\n"
   ]
  },
  {
   "cell_type": "markdown",
   "metadata": {},
   "source": [
    "### Sorting with Sort and Sorted"
   ]
  },
  {
   "cell_type": "code",
   "execution_count": 62,
   "metadata": {},
   "outputs": [
    {
     "name": "stdout",
     "output_type": "stream",
     "text": [
      "[-2, 1, 3, 4, 7]\n",
      "['Apple', 'Blueberry', 'Cherry']\n"
     ]
    }
   ],
   "source": [
    "L1 = [1, 7, 4, -2, 3]\n",
    "L2 = [\"Cherry\", \"Apple\", \"Blueberry\"]\n",
    "\n",
    "L1.sort()\n",
    "print(L1)\n",
    "L2.sort()\n",
    "print(L2)"
   ]
  },
  {
   "cell_type": "markdown",
   "metadata": {},
   "source": [
    "Note that the `sort` method does not return a sorted version of the list. In fact, it returns the value None. But the list itself has been modified. This kind of operation that works by having a _side effect_ on the list can be quite confusing.\n",
    "\n",
    "Here, we will generally use an alternative way of sorting, the **function `sorted`** rather than the **method `sort`**. Because it is a function rather than a method, it is invoked on a list by passing the list as a parameter inside the parentheses, rather than putting the list before the period. _More importantly, sorted does not change the original list. Instead, it returns a new list_.\n",
    "\n"
   ]
  },
  {
   "cell_type": "code",
   "execution_count": 2,
   "metadata": {},
   "outputs": [
    {
     "name": "stdout",
     "output_type": "stream",
     "text": [
      "['Apple', 'Blueberry', 'Cherry']\n",
      "['Apple', 'Blueberry', 'Cherry']\n",
      "['Cherry', 'Apple', 'Blueberry']\n",
      "----\n",
      "['Apple', 'Blueberry', 'Cherry']\n",
      "None\n"
     ]
    }
   ],
   "source": [
    "L2 = [\"Cherry\", \"Apple\", \"Blueberry\"]\n",
    "\n",
    "L3 = sorted(L2)\n",
    "print(L3)\n",
    "print(sorted(L2))\n",
    "print(L2) # unchanged\n",
    "\n",
    "print(\"----\")\n",
    "\n",
    "L2.sort()\n",
    "print(L2)\n",
    "print(L2.sort())  #return value is None"
   ]
  },
  {
   "cell_type": "markdown",
   "metadata": {},
   "source": [
    "### Optional reverse parameter\n",
    "The sorted function takes some optional parameters. \n",
    "- The first optional parameter is a key function, which will be described later. \n",
    "- The second optional parameter is a Boolean value which determines whether to sort the items in _reverse order_. By default, it is False, but if you set it to True, the list will be sorted in reverse order."
   ]
  },
  {
   "cell_type": "code",
   "execution_count": 3,
   "metadata": {},
   "outputs": [
    {
     "name": "stdout",
     "output_type": "stream",
     "text": [
      "['Cherry', 'Blueberry', 'Apple']\n"
     ]
    }
   ],
   "source": [
    "L2 = [\"Cherry\", \"Apple\", \"Blueberry\"]\n",
    "print(sorted(L2, reverse=True))"
   ]
  },
  {
   "cell_type": "markdown",
   "metadata": {},
   "source": [
    "1. Sort the list, `lst` from largest to smallest. Save this new list to the variable `lst_sorted`."
   ]
  },
  {
   "cell_type": "code",
   "execution_count": 4,
   "metadata": {},
   "outputs": [
    {
     "name": "stdout",
     "output_type": "stream",
     "text": [
      "[9, 7, 6, 5, 5, 3, 2, 1, -2]\n"
     ]
    }
   ],
   "source": [
    "lst = [3, 5, 1, 6, 7, 2, 9, -2, 5]\n",
    "lst_sorted = sorted(lst, reverse=True)\n",
    "print(lst_sorted)"
   ]
  },
  {
   "cell_type": "markdown",
   "metadata": {},
   "source": [
    "### Optional key parameter\n",
    "If you want to sort things in some order **other than the “natural” or its reverse**, you can provide an additional parameter, the key parameter. For example, suppose you want to sort a list of numbers based on their absolute value, so that -4 comes after 3? Or suppose you have a dictionary with strings as the keys and numbers as the values. Instead of sorting them in alphabetic order based on the keys, you might like to sort them in order based on their values."
   ]
  },
  {
   "cell_type": "code",
   "execution_count": 68,
   "metadata": {},
   "outputs": [
    {
     "name": "stdout",
     "output_type": "stream",
     "text": [
      "3\n",
      "119\n",
      "1\n",
      "7\n",
      "4\n",
      "2\n",
      "3\n"
     ]
    }
   ],
   "source": [
    "L1 = [1, 7, 4, -2, 3]\n",
    "\n",
    "def absolute(x):\n",
    "    if x >= 0:\n",
    "        return x\n",
    "    else:\n",
    "        return -x\n",
    "\n",
    "print(absolute(3))\n",
    "print(absolute(-119))\n",
    "\n",
    "for y in L1:\n",
    "    print(absolute(y))"
   ]
  },
  {
   "cell_type": "markdown",
   "metadata": {},
   "source": [
    "**Now, we can pass the `absolute function` to sorted in order to specify that we want the items sorted in order of their absolute value, rather than in order of their actual value.**"
   ]
  },
  {
   "cell_type": "code",
   "execution_count": 69,
   "metadata": {},
   "outputs": [
    {
     "name": "stdout",
     "output_type": "stream",
     "text": [
      "[1, -2, 3, 4, 7]\n",
      "[7, 4, 3, -2, 1]\n"
     ]
    }
   ],
   "source": [
    "L1 = [1, 7, 4, -2, 3]\n",
    "\n",
    "def absolute(x):\n",
    "    if x >= 0:\n",
    "        return x\n",
    "    else:\n",
    "        return -x\n",
    "\n",
    "L2 = sorted(L1, key=absolute)\n",
    "print(L2)\n",
    "\n",
    "#or in reverse order\n",
    "print(sorted(L1, reverse=True, key=absolute))\n"
   ]
  },
  {
   "cell_type": "markdown",
   "metadata": {},
   "source": [
    "#### Check Your Understanding\n",
    "1. You will be sorting the following list by each element’s second letter, a to z. Create a function to use when sorting, called `second_let`. It will take a string as input and return the second letter of that string. Then sort the list, create a variable called `sorted_by_second_let` and assign the sorted list to it. Do not use lambda.\n"
   ]
  },
  {
   "cell_type": "code",
   "execution_count": 132,
   "metadata": {},
   "outputs": [
    {
     "name": "stdout",
     "output_type": "stream",
     "text": [
      "['dance', 'zebra', 'hi', 'how are you', 'apple', 'bye']\n"
     ]
    }
   ],
   "source": [
    "ex_lst = ['hi', 'how are you', 'bye', 'apple', 'zebra', 'dance']\n",
    "def second_let(wrd):\n",
    "    return wrd[1]\n",
    "sorted_by_second_let = sorted(ex_lst, key=second_let)\n",
    "print(sorted_by_second_let)"
   ]
  },
  {
   "cell_type": "code",
   "execution_count": 115,
   "metadata": {},
   "outputs": [
    {
     "data": {
      "text/plain": [
       "['dance', 'zebra', 'hi', 'how are you', 'apple', 'bye']"
      ]
     },
     "execution_count": 115,
     "metadata": {},
     "output_type": "execute_result"
    }
   ],
   "source": [
    "#With lambda function\n",
    "ex_lst = ['hi', 'how are you', 'bye', 'apple', 'zebra', 'dance']\n",
    "\n",
    "sorted(ex_lst, key=lambda x: x[1])\n",
    "# ['dance', 'zebra', 'hi', 'how are you', 'apple', 'bye']"
   ]
  },
  {
   "cell_type": "markdown",
   "metadata": {},
   "source": [
    "2. Below, we have provided a list of strings called `nums`. Write a function called `last_char` that takes a string as input, and returns only its last character. Use this function to sort the list `nums` by the last digit of each number, from highest to lowest, and save this as a new list called `nums_sorted`.\n",
    "\n"
   ]
  },
  {
   "cell_type": "code",
   "execution_count": 117,
   "metadata": {},
   "outputs": [
    {
     "name": "stdout",
     "output_type": "stream",
     "text": [
      "['19', '14378', '8907', '16', '1005', '44', '33', '32', '871', '1450']\n"
     ]
    }
   ],
   "source": [
    "nums = ['1450', '33', '871', '19', '14378', '32', '1005', '44', '8907', '16']\n",
    "\n",
    "def last_char(num):\n",
    "    return num[-1]\n",
    "\n",
    "nums_sorted = sorted(nums, reverse=True, key=last_char)\n",
    "print(nums_sorted)"
   ]
  },
  {
   "cell_type": "markdown",
   "metadata": {},
   "source": [
    "3. Once again, sort the list `nums` based on the last digit of each number from highest to lowest. However, now you should do so by writing a lambda function. Save the new list as `nums_sorted_lambda`."
   ]
  },
  {
   "cell_type": "code",
   "execution_count": 119,
   "metadata": {},
   "outputs": [
    {
     "name": "stdout",
     "output_type": "stream",
     "text": [
      "['19', '14378', '8907', '16', '1005', '44', '33', '32', '871', '1450']\n"
     ]
    }
   ],
   "source": [
    "nums = ['1450', '33', '871', '19', '14378', '32', '1005', '44', '8907', '16']\n",
    "\n",
    "nums_sorted_lambda = sorted(nums, key=lambda num: num[-1], reverse=True)\n",
    "\n",
    "print(nums_sorted_lambda)\n",
    "\n",
    "#sorted(ex_lst, key=lambda x: x[1])"
   ]
  },
  {
   "cell_type": "markdown",
   "metadata": {},
   "source": [
    "### Sorting a Dictionary"
   ]
  },
  {
   "cell_type": "markdown",
   "metadata": {},
   "source": [
    "Previously, you have used a dictionary to accumulate counts, such as the frequencies of letters or words in a text. For example, the following code counts the frequencies of different numbers in the list."
   ]
  },
  {
   "cell_type": "code",
   "execution_count": 121,
   "metadata": {},
   "outputs": [
    {
     "name": "stdout",
     "output_type": "stream",
     "text": [
      "E appears 2 times\n",
      "F appears 1 times\n",
      "B appears 2 times\n",
      "A appears 2 times\n",
      "D appears 4 times\n",
      "I appears 2 times\n",
      "C appears 1 times\n",
      "{'E': 2, 'F': 1, 'B': 2, 'A': 2, 'D': 4, 'I': 2, 'C': 1}\n"
     ]
    }
   ],
   "source": [
    "L = ['E', 'F', 'B', 'A', 'D', 'I', 'I', 'C', 'B', 'A', 'D', 'D', 'E', 'D']\n",
    "\n",
    "d = {}\n",
    "for x in L:\n",
    "    if x in d:\n",
    "        d[x] = d[x] + 1\n",
    "    else:\n",
    "        d[x] = 1\n",
    "for x in d.keys():\n",
    "    print(\"{} appears {} times\".format(x, d[x]))\n",
    "print(d)"
   ]
  },
  {
   "cell_type": "markdown",
   "metadata": {},
   "source": [
    "We can force the results to be displayed in some fixed ordering, by sorting the keys."
   ]
  },
  {
   "cell_type": "code",
   "execution_count": 191,
   "metadata": {},
   "outputs": [
    {
     "name": "stdout",
     "output_type": "stream",
     "text": [
      "A appears 2 times.\n",
      "B appears 2 times.\n",
      "C appears 1 times.\n",
      "D appears 4 times.\n",
      "E appears 2 times.\n",
      "F appears 1 times.\n",
      "I appears 2 times.\n"
     ]
    }
   ],
   "source": [
    "L = ['E', 'F', 'B', 'A', 'D', 'I', 'I', 'C', 'B', 'A', 'D', 'D', 'E', 'D']\n",
    "\n",
    "d = {}\n",
    "\n",
    "for x in L:\n",
    "    if x in d:\n",
    "        d[x] = d[x] +1\n",
    "    else:\n",
    "        d[x] = 1\n",
    "\n",
    "y = sorted(d.keys())\n",
    "for k in y:\n",
    "    print(\"{} appears {} times.\".format(k, d[k]))"
   ]
  },
  {
   "cell_type": "markdown",
   "metadata": {},
   "source": [
    "__With a dictionary that’s maintaining counts or some other kind of score, we might prefer to get the outputs sorted based on the count rather than based on the items. The standard way to do that in python is to sort based on a property of the key, in particular its value in the dictionary.__\n",
    "\n",
    "The key function always takes as input one item from the sequence and returns a property of the item. In our case, the items to be sorted are the dictionary’s keys, so each item is one key from the dictionary. To remind ourselves of that, we’ve named the parameter in tha lambda expression k. The property of key k that is supposed to be returned is its associated value in the dictionary. Hence, we have the lambda expression `lambda k: d[k]`."
   ]
  },
  {
   "cell_type": "code",
   "execution_count": 138,
   "metadata": {},
   "outputs": [
    {
     "name": "stdout",
     "output_type": "stream",
     "text": [
      "D appears 4 times\n",
      "E appears 2 times\n",
      "B appears 2 times\n",
      "A appears 2 times\n",
      "I appears 2 times\n",
      "F appears 1 times\n",
      "C appears 1 times\n"
     ]
    }
   ],
   "source": [
    "L = ['E', 'F', 'B', 'A', 'D', 'I', 'I', 'C', 'B', 'A', 'D', 'D', 'E', 'D']\n",
    "\n",
    "d = {}\n",
    "for x in L:\n",
    "    if x in d:\n",
    "        d[x] = d[x] + 1\n",
    "    else:\n",
    "        d[x] = 1\n",
    "\n",
    "y = sorted(d.keys(), key=lambda k: d[k], reverse=True)\n",
    "for k in y:\n",
    "    print(\"{} appears {} times\".format(k, d[k]))"
   ]
  },
  {
   "cell_type": "markdown",
   "metadata": {},
   "source": [
    "Here’s a version of that using a named function."
   ]
  },
  {
   "cell_type": "code",
   "execution_count": 141,
   "metadata": {},
   "outputs": [
    {
     "name": "stdout",
     "output_type": "stream",
     "text": [
      "D appears 4 times.\n",
      "E appears 2 times.\n",
      "B appears 2 times.\n",
      "A appears 2 times.\n",
      "I appears 2 times.\n",
      "F appears 1 times.\n",
      "C appears 1 times.\n"
     ]
    }
   ],
   "source": [
    "L = ['E', 'F', 'B', 'A', 'D', 'I', 'I', 'C', 'B', 'A', 'D', 'D', 'E', 'D']\n",
    "\n",
    "d = {}\n",
    "for x in L:\n",
    "    if x in d:\n",
    "        d[x] = d[x] + 1\n",
    "    else:\n",
    "        d[x] = 1\n",
    "        \n",
    "def g(k):\n",
    "    return d[k]\n",
    "\n",
    "y = (sorted(d.keys(), key=g, reverse=True))\n",
    "\n",
    "for k in y:\n",
    "    print(\"{} appears {} times.\".format(k, d[k]))"
   ]
  },
  {
   "cell_type": "markdown",
   "metadata": {},
   "source": [
    "**Note:** When we sort the keys, passing a function with `key=lambda x: d[x]` does not specify to sort the keys of a dictionary. The lists of keys are passed as the first parameter value in the invocation of sort. The key parameter provides a function that says how to sort them.\n",
    "\n",
    "An experienced programmer would probably not even separate out the sorting step. And they might take advantage of the fact that when you pass a dictionary to something that is expecting a list, its the same as passing the list of keys"
   ]
  },
  {
   "cell_type": "code",
   "execution_count": 143,
   "metadata": {},
   "outputs": [
    {
     "name": "stdout",
     "output_type": "stream",
     "text": [
      "D appears 4 times.\n",
      "E appears 2 times.\n",
      "B appears 2 times.\n",
      "A appears 2 times.\n",
      "I appears 2 times.\n",
      "F appears 1 times.\n",
      "C appears 1 times.\n"
     ]
    }
   ],
   "source": [
    "L = ['E', 'F', 'B', 'A', 'D', 'I', 'I', 'C', 'B', 'A', 'D', 'D', 'E', 'D']\n",
    "\n",
    "d = {}\n",
    "for x in L:\n",
    "    if x in d:\n",
    "        d[x] = d[x] + 1\n",
    "    else:\n",
    "        d[x] = 1\n",
    "\n",
    "# now loop through the sorted keys\n",
    "for k in sorted(d, key=lambda k:d[k], reverse=True):\n",
    "    print(\"{} appears {} times.\".format(k, d[k]))\n"
   ]
  },
  {
   "cell_type": "markdown",
   "metadata": {},
   "source": [
    "### Check Your Understanding\n",
    "\n"
   ]
  },
  {
   "cell_type": "markdown",
   "metadata": {},
   "source": [
    "1. Which of the following will sort the keys of d in ascending order of their values (i.e., from lowest to highest)?"
   ]
  },
  {
   "cell_type": "code",
   "execution_count": 168,
   "metadata": {},
   "outputs": [
    {
     "name": "stdout",
     "output_type": "stream",
     "text": [
      "5 appears 1 times\n",
      "2 appears 1 times\n",
      "4 appears 2 times\n",
      "1 appears 2 times\n",
      "0 appears 2 times\n",
      "8 appears 2 times\n",
      "3 appears 4 times\n"
     ]
    }
   ],
   "source": [
    "#The lambda function takes just one parameter, and calls g with two parameters.\n",
    "#  `sorted(ks, key=lambda x: g(x, d))`\n",
    "#The lambda function looks up the value of x in d.\n",
    "#   sorted(ks, key=lambda x: d[x])\n",
    "\n",
    "L = [4, 5, 1, 0, 3, 8, 8, 2, 1, 0, 3, 3, 4, 3]\n",
    "\n",
    "d = {}\n",
    "for x in L:\n",
    "    if x in d:\n",
    "        d[x] = d[x] + 1\n",
    "    else:\n",
    "        d[x] = 1\n",
    "\n",
    "#def g(k, d):\n",
    "#    return d[k]\n",
    "\n",
    "ks = sorted(d.keys(), key=lambda x:d[x])\n",
    "\n",
    "for k in ks:\n",
    "    print(\"{} appears {} times\".format(k, d[k]))\n"
   ]
  },
  {
   "cell_type": "code",
   "execution_count": 173,
   "metadata": {},
   "outputs": [
    {
     "name": "stdout",
     "output_type": "stream",
     "text": [
      "5 appears 1 times\n",
      "2 appears 1 times\n",
      "4 appears 2 times\n",
      "1 appears 2 times\n",
      "0 appears 2 times\n",
      "8 appears 2 times\n",
      "3 appears 4 times\n"
     ]
    }
   ],
   "source": [
    "#The lambda function takes just one parameter, and calls g with two parameters.\n",
    "#  `sorted(ks, key=lambda x: g(x, d))`\n",
    "#The lambda function looks up the value of x in d.\n",
    "#   sorted(ks, key=lambda x: d[x])\n",
    "\n",
    "L = [4, 5, 1, 0, 3, 8, 8, 2, 1, 0, 3, 3, 4, 3]\n",
    "\n",
    "d = {}\n",
    "for x in L:\n",
    "    if x in d:\n",
    "        d[x] = d[x] + 1\n",
    "    else:\n",
    "        d[x] = 1\n",
    "\n",
    "def g(k, d):\n",
    "    return d[k]\n",
    "\n",
    "ks = sorted(d.keys(), key=lambda x:g(x,d))\n",
    "\n",
    "for k in ks:\n",
    "    print(\"{} appears {} times\".format(k, d[k]))"
   ]
  },
  {
   "cell_type": "markdown",
   "metadata": {},
   "source": [
    "2. Sort the following dictionary based on the keys so that they are sorted a to z. Assign the resulting value to the variable `sorted_keys`."
   ]
  },
  {
   "cell_type": "code",
   "execution_count": 177,
   "metadata": {},
   "outputs": [
    {
     "name": "stdout",
     "output_type": "stream",
     "text": [
      "['Chairs', 'Firepit', 'Flowers', 'Grill', 'Lights', 'Trees']\n"
     ]
    }
   ],
   "source": [
    "dictionary = {\"Flowers\": 10, 'Trees': 20, 'Chairs': 6, \"Firepit\": 1, 'Grill': 2, 'Lights': 14}\n",
    "\n",
    "sorted_keys = sorted(dictionary.keys())\n",
    "print(sorted_keys)"
   ]
  },
  {
   "cell_type": "markdown",
   "metadata": {},
   "source": [
    "3. Below, we have provided the dictionary `groceries`, whose keys are grocery items, and values are the number of each item that you need to buy at the store. Sort the dictionary’s keys into alphabetical order, and save them as a list called `grocery_keys_sorted`."
   ]
  },
  {
   "cell_type": "code",
   "execution_count": 178,
   "metadata": {},
   "outputs": [
    {
     "name": "stdout",
     "output_type": "stream",
     "text": [
      "['apples', 'bananas', 'carrots', 'cereal', 'coffee', 'granola bars', 'onions', 'orange juice', 'pasta', 'peanut butter', 'popcorn', 'rice', 'salsa', 'spinach']\n"
     ]
    }
   ],
   "source": [
    "groceries = {'apples': 5, 'pasta': 3, 'carrots': 12, 'orange juice': 2, 'bananas': 8, 'popcorn': 1, 'salsa': 3, 'cereal': 4, 'coffee': 5, 'granola bars': 15, 'onions': 7, 'rice': 1, 'peanut butter': 2, 'spinach': 9}\n",
    "\n",
    "grocery_keys_sorted = sorted(groceries.keys())\n",
    "\n",
    "print(grocery_keys_sorted)"
   ]
  },
  {
   "cell_type": "markdown",
   "metadata": {},
   "source": [
    "4. Sort the following dictionary’s keys based on the value from highest to lowest. Assign the resulting value to the variable `sorted_values`"
   ]
  },
  {
   "cell_type": "code",
   "execution_count": 193,
   "metadata": {},
   "outputs": [
    {
     "name": "stdout",
     "output_type": "stream",
     "text": [
      "['Trees', 'Lights', 'Flowers', 'Chairs', 'Grill', 'Firepit']\n"
     ]
    }
   ],
   "source": [
    "dictionary = {\"Flowers\": 10, \"Trees\": 20, \"Chairs\": 6, \"Firepit\": 1, \"Grill\": 2, \"Lights\": 14}\n",
    "\n",
    "sorted_values = sorted(dictionary.keys(), key=lambda k: dictionary[k], reverse=True)\n",
    "\n",
    "print(sorted_values)\n",
    "\n"
   ]
  },
  {
   "cell_type": "markdown",
   "metadata": {},
   "source": [
    "### Breaking Ties: Second Sorting\n",
    "What happens when two items are “tied” in the sort order? For example, suppose we sort a list of words by their lengths. Which five letter word will appear first?\n",
    "The answer is that the python interpreter will sort the tied items in the same order they were in before the sorting.\n",
    "\n",
    "First, let’s see how python sorts tuples. We’ve already seen that there’s a built-in sort order, if we don’t specify any key function. For numbers, it’s lowest to highest. For strings, it’s alphabetic order. For a sequence of tuples, the default sort order is based on the default sort order for the first elements of the tuples, with ties being broken by the second elements, and then third elements if necessary, etc. For example,"
   ]
  },
  {
   "cell_type": "code",
   "execution_count": 194,
   "metadata": {},
   "outputs": [
    {
     "name": "stdout",
     "output_type": "stream",
     "text": [
      "('A', 2, 4)\n",
      "('A', 3, 2)\n",
      "('B', 3, 1)\n",
      "('C', 1, 2)\n",
      "('C', 1, 4)\n"
     ]
    }
   ],
   "source": [
    "tups = [('A', 3, 2),\n",
    "        ('C', 1, 4),\n",
    "        ('B', 3, 1),\n",
    "        ('A', 2, 4),\n",
    "        ('C', 1, 2)]\n",
    "for tup in sorted(tups):\n",
    "    print(tup)"
   ]
  },
  {
   "cell_type": "markdown",
   "metadata": {},
   "source": [
    "In the code below, we are going to sort a list of fruit words first by their length, smallest to largest, and then alphabetically to break ties among words of the same length. To do that, we have __the key function return a tuple whose first element is the length of the fruit’s name, and second element is the fruit name itself__."
   ]
  },
  {
   "cell_type": "code",
   "execution_count": 195,
   "metadata": {},
   "outputs": [
    {
     "name": "stdout",
     "output_type": "stream",
     "text": [
      "kiwi\n",
      "pear\n",
      "apple\n",
      "mango\n",
      "peach\n",
      "papaya\n",
      "blueberry\n"
     ]
    }
   ],
   "source": [
    "fruits = ['peach', 'kiwi', 'apple', 'blueberry', 'papaya', 'mango', 'pear']\n",
    "new_order = sorted(fruits, key=lambda fruit_name: (len(fruit_name), fruit_name))\n",
    "for fruit in new_order:\n",
    "    print(fruit)"
   ]
  },
  {
   "cell_type": "markdown",
   "metadata": {},
   "source": [
    "Here, each word is evaluated first on it’s length, then by its alphabetical order. Note that we could continue to specify other conditions by including more elements in the tuple.\n",
    "\n",
    "What would happen though if we wanted to sort it by largest to smallest, and then by alphabetical order?"
   ]
  },
  {
   "cell_type": "code",
   "execution_count": 202,
   "metadata": {},
   "outputs": [
    {
     "name": "stdout",
     "output_type": "stream",
     "text": [
      "blueberry\n",
      "papaya\n",
      "peach\n",
      "mango\n",
      "apple\n",
      "pear\n",
      "kiwi\n"
     ]
    }
   ],
   "source": [
    "fruits = ['peach', 'kiwi', 'apple', 'blueberry', 'papaya', 'mango', 'pear']\n",
    "new_order = sorted(fruits, key=lambda fruit_name: (len(fruit_name), fruit_name), reverse=True)\n",
    "for fruit in new_order:\n",
    "    print(fruit)"
   ]
  },
  {
   "cell_type": "markdown",
   "metadata": {},
   "source": [
    "Do you see a problem here? Not only does it sort the words from largest to smallest, but also in reverse alphabetical order! Can you think of any ways you can solve this issue?\n",
    "\n",
    "__One solution is to add a negative sign in front of len(fruit_name), which will convert all positive numbers to negative, and all negative numbers to positive. As a result, the longest elements would be first and the shortest elements would be last__.\n",
    "\n",
    "We can use this for any numerical value that we want to sort, however this will not work for strings."
   ]
  },
  {
   "cell_type": "code",
   "execution_count": 203,
   "metadata": {},
   "outputs": [
    {
     "name": "stdout",
     "output_type": "stream",
     "text": [
      "blueberry\n",
      "papaya\n",
      "apple\n",
      "mango\n",
      "peach\n",
      "kiwi\n",
      "pear\n"
     ]
    }
   ],
   "source": [
    "fruits = ['peach', 'kiwi', 'apple', 'blueberry', 'papaya', 'mango', 'pear']\n",
    "new_order = sorted(fruits, key=lambda fruit_name: (-len(fruit_name), fruit_name))\n",
    "for fruit in new_order:\n",
    "    print(fruit)"
   ]
  },
  {
   "cell_type": "markdown",
   "metadata": {},
   "source": [
    "#### Check Your Understanding"
   ]
  },
  {
   "cell_type": "code",
   "execution_count": 207,
   "metadata": {},
   "outputs": [
    {
     "name": "stdout",
     "output_type": "stream",
     "text": [
      "['Berlin', 'Buenos Aires', 'Cairo', 'Caloocan', 'Reykjavik']\n"
     ]
    }
   ],
   "source": [
    "# 1: What will the sorted function sort by?\n",
    "\n",
    "weather = {'Reykjavik': {'temp':60, 'condition': 'rainy'},\n",
    "           'Buenos Aires': {'temp': 55, 'condition': 'cloudy'},\n",
    "           'Cairo': {'temp': 96, 'condition': 'sunny'},\n",
    "           'Berlin': {'temp': 89, 'condition': 'sunny'},\n",
    "           'Caloocan': {'temp': 78, 'condition': 'sunny'}}\n",
    "\n",
    "sorted_weather = sorted(weather, key=lambda w: (w, weather[w]['temp']))\n",
    "\n",
    "print(sorted_weather)\n",
    "\n",
    "# first city name (alphabetically), then temperature (lowest to highest)"
   ]
  },
  {
   "cell_type": "code",
   "execution_count": 208,
   "metadata": {},
   "outputs": [
    {
     "name": "stdout",
     "output_type": "stream",
     "text": [
      "['Reykjavik', 'Caloocan', 'Cairo', 'Buenos Aires', 'Berlin']\n"
     ]
    }
   ],
   "source": [
    "#2: What how will the following data be sorted?\n",
    "\n",
    "weather = {'Reykjavik': {'temp':60, 'condition': 'rainy'},\n",
    "           'Buenos Aires': {'temp': 55, 'condition': 'cloudy'},\n",
    "           'Cairo': {'temp': 96, 'condition': 'sunny'},\n",
    "           'Berlin': {'temp': 89, 'condition': 'sunny'},\n",
    "           'Caloocan': {'temp': 78, 'condition': 'sunny'}}\n",
    "\n",
    "sorted_weather = sorted(weather, key=lambda w: (w, -weather[w]['temp']), reverse=True)\n",
    "print(sorted_weather)\n",
    "\n",
    "#first city name (reverse alphabetically), then temperature (lowest to highest)"
   ]
  },
  {
   "cell_type": "markdown",
   "metadata": {},
   "source": [
    "### When to use a Lambda Expression\n",
    "_Though you can often use a lambda expression or a named function interchangeably when sorting, it’s generally best to use lambda expressions until the process is too complicated, and then a function should be used._\n",
    "\n",
    "For example, in the following examples, we’ll be sorting a dictionary’s keys by properties of its values. Each key is a state name and each value is a list of city names.\n",
    "\n",
    "For our first sort order, we want to sort the `states` in order by the length of the first city name. Here, it’s pretty easy to compute that property. `states[state]` is the list of cities associated with a particular state. So If `state` is a list of city strings, `len(states[state][0])` is the length of the first city name. Thus, we can use a `lambda` expression:"
   ]
  },
  {
   "cell_type": "code",
   "execution_count": 210,
   "metadata": {},
   "outputs": [
    {
     "name": "stdout",
     "output_type": "stream",
     "text": [
      "['Washington', 'Minnesota', 'Michigan']\n"
     ]
    }
   ],
   "source": [
    "states = {\"Minnesota\": [\"St. Paul\", \"Minneapolis\", \"Saint Cloud\", \"Stillwater\"],\n",
    "          \"Michigan\": [\"Ann Arbor\", \"Traverse City\", \"Lansing\", \"Kalamazoo\"],\n",
    "          \"Washington\": [\"Seattle\", \"Tacoma\", \"Olympia\", \"Vancouver\"]}\n",
    "\n",
    "print(sorted(states, key=lambda state: len(states[state][0])))"
   ]
  },
  {
   "cell_type": "markdown",
   "metadata": {},
   "source": [
    "That’s already pushing the limits of complex a lambda expression can be before it’s reall hard to read (or debug).\n",
    "\n",
    "For our second sort order, the property we want to sort by is the number of cities that begin with the letter ‘S’. The function defining this property is harder to express, requiring a filter and count accumulation pattern. So we are better off defining a separate, named function. Here, we’ve chosen to make a lambda expression that looks up the value associated with the particular state and pass that value to the named function s_cities_count. We could have passed just the key, but then the function would have to look up the value, and it would be a little confusing, from the code, to figure out what dictionary the key is supposed to be looked up in. Here, we’ve done the lookup right in the lambda expression, which makes it a little bit clearer that we’re just sorting the keys of the states dictionary based on a property of their values. It also makes it easier to reuse the counting function on other city lists, even if they aren’t embedded in that particular states dictionary."
   ]
  },
  {
   "cell_type": "code",
   "execution_count": 211,
   "metadata": {},
   "outputs": [
    {
     "name": "stdout",
     "output_type": "stream",
     "text": [
      "['Michigan', 'Washington', 'Minnesota']\n"
     ]
    }
   ],
   "source": [
    "def s_cities_count(city_list):\n",
    "    ct = 0\n",
    "    for city in city_list:\n",
    "        if city[0] == \"S\":\n",
    "            ct += 1\n",
    "    return ct\n",
    "\n",
    "states = {\"Minnesota\": [\"St. Paul\", \"Minneapolis\", \"Saint Cloud\", \"Stillwater\"],\n",
    "          \"Michigan\": [\"Ann Arbor\", \"Traverse City\", \"Lansing\", \"Kalamazoo\"],\n",
    "          \"Washington\": [\"Seattle\", \"Tacoma\", \"Olympia\", \"Vancouver\"]}\n",
    "\n",
    "print(sorted(states, key=lambda state: s_cities_count(states[state])))\n"
   ]
  },
  {
   "cell_type": "markdown",
   "metadata": {},
   "source": [
    "## Course 2 Assessment 8\n",
    "1. Sort the following string alphabetically, from z to a, and assign it to the variable `sorted_letters`"
   ]
  },
  {
   "cell_type": "code",
   "execution_count": 212,
   "metadata": {},
   "outputs": [
    {
     "name": "stdout",
     "output_type": "stream",
     "text": [
      "['z', 'w', 'w', 'u', 's', 's', 'n', 'l', 'l', 'l', 'k', 'j', 'i', 'i', 'f', 'e', 'e', 'd', 'a', 'a', 'a', 'a']\n"
     ]
    }
   ],
   "source": [
    "letters = \"alwnfiwaksuezlaeiajsdl\"\n",
    "sorted_letters = sorted(letters, reverse=True)\n",
    "print(sorted_letters)"
   ]
  },
  {
   "cell_type": "markdown",
   "metadata": {},
   "source": [
    "2. Sort the list below, animals, into alphabetical order, a-z. Save the new list as `animals_sorted`.\n",
    "\n"
   ]
  },
  {
   "cell_type": "code",
   "execution_count": 213,
   "metadata": {},
   "outputs": [
    {
     "name": "stdout",
     "output_type": "stream",
     "text": [
      "['antelope', 'bear', 'cat', 'cow', 'deer', 'elephant', 'elk', 'giraffe', 'goat', 'minx', 'moose', 'otter', 'rabbit', 'salamander', 'tiger', 'yak', 'zebra']\n"
     ]
    }
   ],
   "source": [
    "animals = ['elephant', 'cat', 'moose', 'antelope', 'elk', 'rabbit', 'zebra', 'yak', 'salamander', 'deer', 'otter', 'minx', 'giraffe', 'goat', 'cow', 'tiger', 'bear']\n",
    "\n",
    "animals_sorted = sorted(animals)\n",
    "print(animals_sorted)"
   ]
  },
  {
   "cell_type": "markdown",
   "metadata": {},
   "source": [
    "3. The dictionary, `medals`, shows the medal count for six countries during the Rio Olympics. Sort the country names so they appear alphabetically. Save this list to the variable `alphabetical`"
   ]
  },
  {
   "cell_type": "code",
   "execution_count": 214,
   "metadata": {},
   "outputs": [
    {
     "name": "stdout",
     "output_type": "stream",
     "text": [
      "['China', 'Germany', 'Japan', 'Russia', 'South Korea', 'United States']\n"
     ]
    }
   ],
   "source": [
    "medals = {'Japan':41, 'Russia':56, 'South Korea':21, 'United States':121, 'Germany':42, 'China':70}\n",
    "\n",
    "alphabetical = sorted(medals.keys())\n",
    "print(alphabetical)\n"
   ]
  },
  {
   "cell_type": "markdown",
   "metadata": {},
   "source": [
    "**4. Given the same dictionary, `medals`, now sort by the medal count. Save the three countries with the highest medal count to the list, `top_three`**"
   ]
  },
  {
   "cell_type": "code",
   "execution_count": 229,
   "metadata": {},
   "outputs": [
    {
     "name": "stdout",
     "output_type": "stream",
     "text": [
      "['United States', 'China', 'Russia']\n"
     ]
    }
   ],
   "source": [
    "medals = {'Japan':41, 'Russia':56, 'South Korea':21, 'United States':121, 'Germany':42, 'China':70}\n",
    "\n",
    "top_three = sorted(medals, key= lambda x:medals[x], reverse=True)[:3]\n",
    "print(top_three)"
   ]
  },
  {
   "cell_type": "markdown",
   "metadata": {},
   "source": [
    "5. We have provided the dictionary `groceries`. You should return a list of its keys, but they should be sorted by their values, from highest to lowest. Save the new list as `most_needed`"
   ]
  },
  {
   "cell_type": "code",
   "execution_count": 232,
   "metadata": {},
   "outputs": [
    {
     "name": "stdout",
     "output_type": "stream",
     "text": [
      "['granola bars', 'carrots', 'spinach', 'bananas', 'onions', 'apples', 'coffee', 'cereal', 'pasta', 'salsa', 'orange juice', 'peanut butter', 'popcorn', 'rice']\n"
     ]
    }
   ],
   "source": [
    "groceries = {'apples': 5, 'pasta': 3, 'carrots': 12, 'orange juice': 2, \n",
    "             'bananas': 8, 'popcorn': 1, 'salsa': 3, 'cereal': 4, 'coffee': 5, \n",
    "             'granola bars': 15, 'onions': 7, 'rice': 1, 'peanut butter': 2, 'spinach': 9}\n",
    "\n",
    "most_needed  = sorted(groceries, key=lambda k:groceries[k], reverse=True)\n",
    "print(most_needed)"
   ]
  },
  {
   "cell_type": "markdown",
   "metadata": {},
   "source": [
    "6. Create a function called `last_four` that takes in an ID number and returns the last four digits. For example, the number 17573005 should return 3005. Then, use this function to sort the list of ids stored in the variable, ids, from lowest to highest. Save this sorted list in the variable, `sorted_ids`. Hint: _Remember that only strings can be indexed, so conversions may be needed_."
   ]
  },
  {
   "cell_type": "code",
   "execution_count": 250,
   "metadata": {},
   "outputs": [
    {
     "name": "stdout",
     "output_type": "stream",
     "text": [
      "[17570002, 17572342, 17572345, 17573005, 17579000, 17579329]\n"
     ]
    }
   ],
   "source": [
    "\n",
    "def last_four(x):\n",
    "    return str(x)[-4:]\n",
    "\n",
    "ids = [17573005, 17572342, 17579000, 17570002, 17572345, 17579329]\n",
    "\n",
    "sorted_ids = sorted(ids, key=last_four)\n",
    "print(sorted_ids)"
   ]
  },
  {
   "cell_type": "markdown",
   "metadata": {},
   "source": [
    "7. Sort the list ids by the last four digits of each id. Do this using `lambda` and not using a defined function. Save this sorted list in the variable `sorted_id`."
   ]
  },
  {
   "cell_type": "code",
   "execution_count": 253,
   "metadata": {},
   "outputs": [
    {
     "name": "stdout",
     "output_type": "stream",
     "text": [
      "[17570002, 17572342, 17572345, 17573005, 17579000, 17579329]\n"
     ]
    }
   ],
   "source": [
    "ids = [17573005, 17572342, 17579000, 17570002, 17572345, 17579329]\n",
    "\n",
    "sorted_id = sorted(ids, key=lambda x:str(x)[-4:])\n",
    "\n",
    "print(sorted_id)"
   ]
  },
  {
   "cell_type": "markdown",
   "metadata": {},
   "source": [
    "8. Sort the following list by each element’s second letter a to z. Do so by using lambda. Assign the resulting value to the variable `lambda_sort`"
   ]
  },
  {
   "cell_type": "code",
   "execution_count": 254,
   "metadata": {},
   "outputs": [
    {
     "name": "stdout",
     "output_type": "stream",
     "text": [
      "['dance', 'zebra', 'hi', 'how are you', 'apple', 'bye']\n"
     ]
    }
   ],
   "source": [
    "#With lambda function\n",
    "ex_lst = ['hi', 'how are you', 'bye', 'apple', 'zebra', 'dance']\n",
    "\n",
    "lambda_sort = sorted(ex_lst, key=lambda x: x[1])\n",
    "\n",
    "print(lambda_sort)"
   ]
  },
  {
   "cell_type": "markdown",
   "metadata": {},
   "source": [
    "# Project - Part 1: Sentiment Classifier"
   ]
  },
  {
   "cell_type": "markdown",
   "metadata": {},
   "source": [
    "We have provided some synthetic (fake, semi-randomly generated) twitter data in a csv file named `project_twitter_data.csv` which has the text of a tweet, the number of retweets of that tweet, and the number of replies to that tweet. We have also words that express `positive sentiment` and `negative sentiment`, in the files `positive_words.txt` and `negative_words.txt`.\n",
    "\n",
    "**Your task is to build a sentiment classifier, which will detect how positive or negative each tweet is**. You will create a csv file, which contains columns for the Number of Retweets, Number of Replies, Positive Score (which is how many happy words are in the tweet), Negative Score (which is how many angry words are in the tweet), and the Net Score for each tweet. At the end, you upload the csv file to Excel or Google Sheets, and produce a graph of the Net Score vs Number of Retweets.\n",
    "\n",
    "To start, define a function called `strip_punctuation` which takes one parameter, a string which represents a word, and removes characters considered punctuation from everywhere in the word. (Hint: remember the .replace() method for strings.)"
   ]
  },
  {
   "cell_type": "code",
   "execution_count": null,
   "metadata": {},
   "outputs": [],
   "source": []
  }
 ],
 "metadata": {
  "kernelspec": {
   "display_name": "Python 3",
   "language": "python",
   "name": "python3"
  },
  "language_info": {
   "codemirror_mode": {
    "name": "ipython",
    "version": 3
   },
   "file_extension": ".py",
   "mimetype": "text/x-python",
   "name": "python",
   "nbconvert_exporter": "python",
   "pygments_lexer": "ipython3",
   "version": "3.6.6"
  }
 },
 "nbformat": 4,
 "nbformat_minor": 2
}
