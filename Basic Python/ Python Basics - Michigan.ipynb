{
 "cells": [
  {
   "cell_type": "markdown",
   "metadata": {},
   "source": [
    "## 6.1. Introduction: Sequences"
   ]
  },
  {
   "cell_type": "markdown",
   "metadata": {},
   "source": [
    " Objectives: (1)\n",
    "Predict the output of split and join operations\n",
    "(2) Read and write expressions that use slices\n",
    "(3) Read and write expressions that use concatenation and repetition"
   ]
  },
  {
   "cell_type": "markdown",
   "metadata": {},
   "source": [
    "6.3. Index Operator"
   ]
  },
  {
   "cell_type": "code",
   "execution_count": 2,
   "metadata": {},
   "outputs": [
    {
     "name": "stdout",
     "output_type": "stream",
     "text": [
      "t\n",
      "e\n"
     ]
    }
   ],
   "source": [
    "school = \"Luther College\"\n",
    "m = school[2]\n",
    "print(m)\n",
    "\n",
    "lastchar = school[-1]\n",
    "print(lastchar)"
   ]
  },
  {
   "cell_type": "code",
   "execution_count": 3,
   "metadata": {},
   "outputs": [],
   "source": [
    "new_lst = [\"NFLX\", \"AMZN\", \"GOOGL\", \"DIS\", \"XOM\"]\n",
    "part_of_new_lst = new_lst[0]"
   ]
  },
  {
   "cell_type": "markdown",
   "metadata": {},
   "source": [
    "1. Write one for loop to print out each character of the string my_str on a separate line.\n",
    "\n"
   ]
  },
  {
   "cell_type": "code",
   "execution_count": 4,
   "metadata": {},
   "outputs": [
    {
     "name": "stdout",
     "output_type": "stream",
     "text": [
      "M\n",
      "I\n",
      "C\n",
      "H\n",
      "I\n",
      "G\n",
      "A\n",
      "N\n"
     ]
    }
   ],
   "source": [
    "my_str = \"MICHIGAN\"\n",
    "for str in my_str:\n",
    "    print(str)"
   ]
  },
  {
   "cell_type": "markdown",
   "metadata": {},
   "source": [
    "2. Write one for loop to print out each element of the list several_things. Then, write another for loop to print out the TYPE of each element of the list several_things. To complete this problem you should have written two different for loops, each of which iterates over the list several_things, but each of those 2 for loops should have a different result.\n",
    "\n"
   ]
  },
  {
   "cell_type": "markdown",
   "metadata": {},
   "source": [
    "several_things = [\"hello\", 2, 4, 6.0, 7.5, 234352354, \"the end\", \"\", 99]\n",
    "for thing in several_things:\n",
    "    print(thing)\n",
    "for thing in several_things:\n",
    "    print(type(thing))\n"
   ]
  },
  {
   "cell_type": "markdown",
   "metadata": {},
   "source": [
    "#### 3. Write code that uses iteration to print out the length of each element of the list stored in str_list.\n",
    "\n"
   ]
  },
  {
   "cell_type": "code",
   "execution_count": 5,
   "metadata": {},
   "outputs": [
    {
     "name": "stdout",
     "output_type": "stream",
     "text": [
      "5\n",
      "0\n",
      "7\n",
      "9\n",
      "13\n"
     ]
    }
   ],
   "source": [
    "str_list = [\"hello\", \"\", \"goodbye\", \"wonderful\", \"I love Python\"]\n",
    "# Write your code here.\n",
    "for str in str_list:\n",
    "    print(len(str))"
   ]
  },
  {
   "cell_type": "markdown",
   "metadata": {},
   "source": [
    "#### 4. Write code to count the number of characters in original_str using the accumulation pattern and assign the answer to a variable num_chars. Do NOT use the len function to solve the problem (if you use it while you are working on this problem, comment it out afterward!)"
   ]
  },
  {
   "cell_type": "code",
   "execution_count": 38,
   "metadata": {},
   "outputs": [
    {
     "ename": "SyntaxError",
     "evalue": "unexpected EOF while parsing (<ipython-input-38-e4caa7e344b1>, line 5)",
     "output_type": "error",
     "traceback": [
      "\u001b[1;36m  File \u001b[1;32m\"<ipython-input-38-e4caa7e344b1>\"\u001b[1;36m, line \u001b[1;32m5\u001b[0m\n\u001b[1;33m    #  print(len(i))\u001b[0m\n\u001b[1;37m                    ^\u001b[0m\n\u001b[1;31mSyntaxError\u001b[0m\u001b[1;31m:\u001b[0m unexpected EOF while parsing\n"
     ]
    }
   ],
   "source": [
    "original_str = \"The quick brown rhino jumped over the extremely lazy fox.\"\n",
    "num_chars = len(original_str)\n",
    "print(len(original_str))\n",
    "for i in original_str:\n",
    "#  print(len(i))"
   ]
  },
  {
   "cell_type": "code",
   "execution_count": 7,
   "metadata": {},
   "outputs": [
    {
     "name": "stdout",
     "output_type": "stream",
     "text": [
      "55\n",
      "55\n"
     ]
    }
   ],
   "source": [
    "accum = 0\n",
    "for w in range(11):\n",
    "    accum = accum + w\n",
    "print(accum)\n",
    "\n",
    "# or, if you use two inputs for the range function\n",
    "\n",
    "sec_accum = 0\n",
    "for w in range(1,11):\n",
    "    sec_accum = sec_accum + w\n",
    "print(sec_accum)"
   ]
  },
  {
   "cell_type": "code",
   "execution_count": 8,
   "metadata": {},
   "outputs": [
    {
     "name": "stdout",
     "output_type": "stream",
     "text": [
      "10\n"
     ]
    }
   ],
   "source": [
    "nums = [1, 2, 3, 4, 5, 6, 7, 8, 9, 10]\n",
    "count = 0\n",
    "for w in nums:\n",
    "    count = count + 1\n",
    "print(count)"
   ]
  },
  {
   "cell_type": "code",
   "execution_count": 9,
   "metadata": {},
   "outputs": [
    {
     "name": "stdout",
     "output_type": "stream",
     "text": [
      "10\n"
     ]
    }
   ],
   "source": [
    "nums = [1, 2, 3, 4, 5, 6, 7, 8, 9, 10]\n",
    "for w in nums:\n",
    "   accum = 0\n",
    "   accum = accum + w\n",
    "print(accum)"
   ]
  },
  {
   "cell_type": "markdown",
   "metadata": {},
   "source": [
    "# Intro: What we can do with Turtles and Conditionals\n",
    "So far, our programs have either been a series of statements which always execute sequentially or operations that are applied to each item in an iterable. Yet programs frequently need to be more subtle with their behavior. For example, a messaging app might only set a message’s title bold if it has not been read by the user. Or a video game needs to update the position of all the characters that are not asleep. This is done with something called a **selection or a conditional statement**.\n",
    "\n",
    "In the context of turtle drawings, using this kind of statement will allow us to check conditions and change the behavior of the program accordingly"
   ]
  },
  {
   "cell_type": "code",
   "execution_count": 10,
   "metadata": {},
   "outputs": [],
   "source": [
    "import turtle \n",
    "wn = turtle.Screen()\n",
    "\n",
    "amy = turtle.Turtle()\n",
    "amy.pencolor(\"Pink\")\n",
    "amy.forward(50)\n",
    "if amy.pencolor()==\"Pink\":\n",
    "    amy.right(60)\n",
    "    amy.forward(100)\n",
    "else:\n",
    "    amy.left(60)\n",
    "    amy.forward(100)\n",
    "    \n",
    "kenji = turtle.Turtle()\n",
    "kenji.forward(60)\n",
    "if kenji.pencolor ()==\"Pink\":\n",
    "    kenji.right(60)\n",
    "    kenji.forward(100)\n",
    "else:\n",
    "    kenji.left(60)\n",
    "    kenji.forward(100)"
   ]
  },
  {
   "cell_type": "markdown",
   "metadata": {},
   "source": [
    "It might seem a bit odd to add the conditionals in this example. Wouldn’t we already know that we set up amy and kenji’s colors, so why would we need a conditional? While it’s true that this isn’t the best place to use a conditional, we can combine conditional statements with for loops to make something pretty cool!"
   ]
  },
  {
   "cell_type": "code",
   "execution_count": 11,
   "metadata": {},
   "outputs": [],
   "source": [
    "import turtle\n",
    "wn = turtle.Screen()\n",
    "\n",
    "amy = turtle.Turtle()\n",
    "amy.pencolor(\"Pink\")\n",
    "amy.right(170)\n",
    "\n",
    "colors = [\"Purple\", \"Yellow\", \"Orange\", \"Yellow\", \"Purple\", \"Orange\", \"Purple\", \"Yellow\", \"Orange\", \"Pink\", \"Orange\",  \"Purple\", \"Yellow\", \"Orange\", \"Pink\", \"Orange\", \"Yellow\", \"Purple\", \"Yellow\"]\n",
    "\n",
    "for color in colors:\n",
    "    if amy.pencolor()==\"Purple\":\n",
    "        amy.forward(50)\n",
    "        amy.right(59)\n",
    "    elif amy.pencolor()==\"Yellow\":\n",
    "        amy.forward(65)\n",
    "        amy.left(98)\n",
    "    elif amy.pencolor()==\"Orange\":\n",
    "        amy.forward(30)\n",
    "        amy.left(60)\n",
    "    elif amy.pencolor()==\"Pink\":\n",
    "        amy.forward(50)\n",
    "        amy.right(57)\n",
    "    amy.pencolor(color)\n",
    "    "
   ]
  },
  {
   "cell_type": "markdown",
   "metadata": {},
   "source": [
    "# 8.4. The `in` and `not in` operators\n",
    "\n",
    "The `in` operator tests if one string is a substring of another:"
   ]
  },
  {
   "cell_type": "code",
   "execution_count": 12,
   "metadata": {},
   "outputs": [
    {
     "name": "stdout",
     "output_type": "stream",
     "text": [
      "True\n",
      "False\n",
      "True\n",
      "False\n"
     ]
    }
   ],
   "source": [
    "print('p' in 'apple')\n",
    "print('i' in 'apple')\n",
    "print('ap' in 'apple')\n",
    "print('pa' in 'apple')"
   ]
  },
  {
   "cell_type": "code",
   "execution_count": 13,
   "metadata": {},
   "outputs": [
    {
     "name": "stdout",
     "output_type": "stream",
     "text": [
      "True\n",
      "True\n",
      "True\n",
      "True\n"
     ]
    }
   ],
   "source": [
    "print('a' in 'a')\n",
    "print('apple' in 'apple')\n",
    "# Note that a string is a substring of itself, and the empty string is a substring of any other string. \n",
    "print('' in 'a')\n",
    "print('' in 'apple')"
   ]
  },
  {
   "cell_type": "markdown",
   "metadata": {},
   "source": [
    "The `not in` operator returns the logical opposite result of `in`."
   ]
  },
  {
   "cell_type": "code",
   "execution_count": 14,
   "metadata": {},
   "outputs": [
    {
     "name": "stdout",
     "output_type": "stream",
     "text": [
      "True\n"
     ]
    }
   ],
   "source": [
    "print('x' not in 'apple')"
   ]
  },
  {
   "cell_type": "markdown",
   "metadata": {},
   "source": [
    "We can also use the `in` and `not in` operators on **lists**!"
   ]
  },
  {
   "cell_type": "code",
   "execution_count": 15,
   "metadata": {},
   "outputs": [
    {
     "name": "stdout",
     "output_type": "stream",
     "text": [
      "True\n",
      "True\n",
      "False\n",
      "False\n"
     ]
    }
   ],
   "source": [
    "print(\"a\" in [\"a\", \"b\", \"c\", \"d\"])\n",
    "print(9 in [3, 2, 9, 10, 9.0])\n",
    "print('wow' not in ['gee wiz', 'gosh golly', 'wow'])\n",
    "# Note: if there is 'a' in the list\n",
    "print(\"a\" in [ \"apple\", \"absolutely\", \"application\"])"
   ]
  },
  {
   "cell_type": "markdown",
   "metadata": {},
   "source": [
    "## 8.6. Conditional Execution: Binary Selection"
   ]
  },
  {
   "cell_type": "markdown",
   "metadata": {},
   "source": [
    "In order to write useful programs, we almost always need *the ability to check conditions and change the behavior of the program accordingly*. **Selection statements**, sometimes also referred to as **conditional statements**, give us this ability. The simplest form of selection is the **if statement**. This is sometimes referred to as **binary selection** since there are two possible paths of execution."
   ]
  },
  {
   "cell_type": "code",
   "execution_count": 16,
   "metadata": {},
   "outputs": [
    {
     "name": "stdout",
     "output_type": "stream",
     "text": [
      "15 is odd\n"
     ]
    }
   ],
   "source": [
    "x = 15\n",
    "if x % 2 == 0:\n",
    "    print(x, \"is even\")\n",
    "else:\n",
    "    print(x, \"is odd\")"
   ]
  },
  {
   "cell_type": "markdown",
   "metadata": {},
   "source": [
    "Write code to assign the string \"You can apply to SI!\" to output if the string \"SI 106\" is in the list courses. If it is not in courses, assign the value \"Take SI 106!\" to the variable output."
   ]
  },
  {
   "cell_type": "code",
   "execution_count": 17,
   "metadata": {},
   "outputs": [
    {
     "ename": "SyntaxError",
     "evalue": "invalid syntax (<ipython-input-17-a521043cd3f3>, line 3)",
     "output_type": "error",
     "traceback": [
      "\u001b[1;36m  File \u001b[1;32m\"<ipython-input-17-a521043cd3f3>\"\u001b[1;36m, line \u001b[1;32m3\u001b[0m\n\u001b[1;33m    If \"SI 106\" in courses:\u001b[0m\n\u001b[1;37m              ^\u001b[0m\n\u001b[1;31mSyntaxError\u001b[0m\u001b[1;31m:\u001b[0m invalid syntax\n"
     ]
    }
   ],
   "source": [
    "courses = [\"ENGR 101\", \"SI 110\", \"ENG 125\", \"SI 106\", \"CHEM 130\"]\n",
    "\n",
    "If \"SI 106\" in courses:\n",
    "    print(\"You can apply to SI!\")\n",
    "else:\n",
    "    print(\"Take SI 106\")"
   ]
  },
  {
   "cell_type": "code",
   "execution_count": null,
   "metadata": {},
   "outputs": [],
   "source": [
    "courses = [\"ENGR 101\", \"SI 110\", \"ENG 125\", \"SI 106\", \"CHEM 130\"]\n",
    "if \"SI 106\" in courses:\n",
    "    print(\"You can apply to SI!\")\n",
    "else:\n",
    "    print(\"Take SI 106\")"
   ]
  },
  {
   "cell_type": "markdown",
   "metadata": {},
   "source": [
    "Create a variable, b, and assign it the value of 15. Then, write code to see if the value b is greater than that of a. If it is, a’s value should be multiplied by 2. If the value of b is less than or equal to a, nothing should happen. Finally, create variable c and assign it the value of the sum of a and b."
   ]
  },
  {
   "cell_type": "code",
   "execution_count": null,
   "metadata": {},
   "outputs": [],
   "source": [
    "a = 20\n",
    "b = 15\n",
    "if b > a:\n",
    "    a = a * b\n",
    "elif b <= a:\n",
    "    c = a + b"
   ]
  },
  {
   "cell_type": "markdown",
   "metadata": {},
   "source": [
    "##  8.7. Omitting the else Clause: Unary Selection"
   ]
  },
  {
   "cell_type": "markdown",
   "metadata": {},
   "source": [
    "Another form of the if statement is one in which the `else` clause is omitted entirely. This creates what is sometimes called **unary selection**. In this case, when the condition evaluates to True, the statements are executed. Otherwise the flow of execution continues to the statement after the body of the `if`."
   ]
  },
  {
   "cell_type": "code",
   "execution_count": null,
   "metadata": {},
   "outputs": [],
   "source": [
    "x = 10\n",
    "if x < 0:\n",
    "    print(\"The negative number \",  x, \" is not valid here.\")\n",
    "print(\"This is always printed\")"
   ]
  },
  {
   "cell_type": "markdown",
   "metadata": {},
   "source": [
    "x = 10\n",
    "if x < 0:\n",
    "    print(\"The negative number \",  x, \" is not valid here.\")\n",
    "else:\n",
    "    print(x, \" is a positive number\")\n",
    "else:\n",
    "    print(\"This is always printed\") "
   ]
  },
  {
   "cell_type": "markdown",
   "metadata": {},
   "source": [
    "## 8.8. Nested conditionals\n",
    "\n",
    "One conditional can also be nested within another. For example, assume we have two integer variables, `x` and `y`. The following pattern of selection shows how we might decide how they are related to each other."
   ]
  },
  {
   "cell_type": "code",
   "execution_count": null,
   "metadata": {},
   "outputs": [],
   "source": [
    "x = 8\n",
    "y = 8\n",
    "if x < y:\n",
    "    print(\"x is less than y\")\n",
    "else:\n",
    "    if x > y:\n",
    "        print(\"x is greater than y\")\n",
    "    else:\n",
    "        print(\"x and y must be equal\")"
   ]
  },
  {
   "cell_type": "code",
   "execution_count": null,
   "metadata": {},
   "outputs": [],
   "source": [
    "x = -10\n",
    "if x < 0:\n",
    "    print(\"The negative number \",  x, \" is not valid here.\")\n",
    "else:\n",
    "    if x > 0:\n",
    "        print(x, \" is a positive number\")\n",
    "    else:\n",
    "        print(x,\" is 0\")"
   ]
  },
  {
   "cell_type": "markdown",
   "metadata": {},
   "source": [
    "## 8.9. Chained conditionals\n",
    "Sometimes there are more than two possibilities and we need more than two branches. One way to express a computation like that is a **chained conditional**:\n",
    "\n",
    "Python provides an alternative way to write nested selection such as the one shown in the previous section. This is sometimes referred to as a `chained conditional`."
   ]
  },
  {
   "cell_type": "code",
   "execution_count": null,
   "metadata": {},
   "outputs": [],
   "source": [
    "x = 5\n",
    "y = 5\n",
    "if x < y:\n",
    "    print(\"x is less than y\")\n",
    "elif x > y:\n",
    "    print(\"x is geater than y\")\n",
    "else:\n",
    "    print(\"x must be equal to y\")"
   ]
  },
  {
   "cell_type": "markdown",
   "metadata": {},
   "source": [
    "`elif` is an abbreviation of `else if`. Again, exactly one branch will be executed. There is no limit of the number of `elif` statements but only a single (and optional) final `else` statement is allowed and it must be the last branch in the statement."
   ]
  },
  {
   "cell_type": "code",
   "execution_count": null,
   "metadata": {},
   "outputs": [],
   "source": [
    "str1 = \"Today you are you! That is truer than true! There is no one alive who is you-er than you!\"\n",
    "if \"false\" in str1:\n",
    "    output = \"False. You aren’t you?\"\n",
    "elif \"true\" in str1:\n",
    "    output = \"True! You are you!\"\n",
    "else:\n",
    "    output = \"Neither ture nor false!\"\n",
    "print(output)"
   ]
  },
  {
   "cell_type": "markdown",
   "metadata": {},
   "source": [
    "Create an empty list called resps. Using the list percent_rain, for each percent, if it is above 90, add the string ‘Bring an umbrella.’ to resps, otherwise if it is above 80, add the string ‘Good for the flowers?’ to resps, otherwise if it is above 50, add the string ‘Watch out for clouds!’ to resps, otherwise, add the string ‘Nice day!’ to resps. Note: if you’re sure you’ve got the problem right but it doesn’t pass, then check that you’ve matched up the strings exactly."
   ]
  },
  {
   "cell_type": "code",
   "execution_count": null,
   "metadata": {},
   "outputs": [],
   "source": [
    "percent_rain = [94.3, 45, 100, 78, 16, 5.3, 79, 86]\n",
    "resps = []\n",
    "for percent in percent_rain:\n",
    "    if percent > 90:\n",
    "        resps.append('Bring an umbrella.')\n",
    "    elif percent > 80:\n",
    "        resps.append('Good for the flowers?') \n",
    "    elif percent > 50:\n",
    "        resps.append('Watch out for clouds!')  \n",
    "    else:\n",
    "        resps.append('Nice day!')\n",
    "print(resps)"
   ]
  },
  {
   "cell_type": "markdown",
   "metadata": {},
   "source": [
    "We have created conditionals for you to use. Do not change the provided conditional statements. Find an integer value for x that will cause output to hold the values True and None. (Drawing diagrams or flow charts for yourself may help!)"
   ]
  },
  {
   "cell_type": "code",
   "execution_count": null,
   "metadata": {},
   "outputs": [],
   "source": [
    "x = 66\n",
    "output = []\n",
    "if x > 63:\n",
    "    output.append(True)\n",
    "elif x > 55:\n",
    "    output.append(False)\n",
    "else:\n",
    "    output.append(\"Neither\")\n",
    "\n",
    "if x > 67:\n",
    "    output.append(True)\n",
    "else:\n",
    "    output.append(None)\n",
    "print(output)"
   ]
  },
  {
   "cell_type": "markdown",
   "metadata": {},
   "source": [
    "## 8.10. The Accumulator Pattern with Conditionals\n",
    "Sometimes when we’re accumulating, we don’t want to add to our accumulator every time we iterate. Consider, for example, the following program which counts the number of letters in a phrase."
   ]
  },
  {
   "cell_type": "markdown",
   "metadata": {},
   "source": [
    "phrase = \"What a wonderful day to program\"\n",
    "tot = 0\n",
    "for char in phrase:\n",
    "    if char != \" \":\n",
    "        tot = tot+1\n",
    "print(tot)"
   ]
  },
  {
   "cell_type": "markdown",
   "metadata": {},
   "source": [
    "We can use conditionals to also count if particular items are in a string or list. The following code finds all occurrences of vowels in the following string."
   ]
  },
  {
   "cell_type": "code",
   "execution_count": 20,
   "metadata": {},
   "outputs": [
    {
     "name": "stdout",
     "output_type": "stream",
     "text": [
      "8\n"
     ]
    }
   ],
   "source": [
    "s = \"what if we went to the zoo\"\n",
    "x = 0\n",
    "for i in s:\n",
    "    if i in ['a', 'e', 'i', 'o']:\n",
    "        x = x+1\n",
    "print(x)\n",
    "    "
   ]
  },
  {
   "cell_type": "markdown",
   "metadata": {},
   "source": [
    "We can also use == to execute a similar operation. Here, we’ll check to see if the character we are iterating over is an “o”. If it is an “o” then we will update our counter."
   ]
  },
  {
   "cell_type": "code",
   "execution_count": 35,
   "metadata": {},
   "outputs": [
    {
     "name": "stdout",
     "output_type": "stream",
     "text": [
      "4\n"
     ]
    }
   ],
   "source": [
    "words = \"onomatopoeia\"\n",
    "#count: the number of 'o's in word\n",
    "o_count = 0\n",
    "for c in words:\n",
    "    if c == 'o':\n",
    "        o_count= o_count + 1\n",
    "#print('There are ' + str(o_count) + \" o's in \" + words) #but this works on python cmd\n",
    "print(o_count)"
   ]
  },
  {
   "cell_type": "markdown",
   "metadata": {},
   "source": [
    "## 8.10.1. Accumulating the Max Value\n",
    "\n",
    "We can also use the accumulation pattern with conditionals to find the maximum or minimum value. Instead of continuing to build up the accumulator value like we have when counting or finding a sum, we can reassign the accumulator variable to a different value.\n",
    "\n",
    "The following example shows how we can get the maximum value from a list of integers."
   ]
  },
  {
   "cell_type": "code",
   "execution_count": 39,
   "metadata": {},
   "outputs": [
    {
     "name": "stdout",
     "output_type": "stream",
     "text": [
      "29\n"
     ]
    }
   ],
   "source": [
    "nums = [9, 3, 8, 11, 5, 29, 2]\n",
    "best_num = 0\n",
    "for n in nums:\n",
    "    if n > best_num:\n",
    "        best_num = n\n",
    "print(best_num)\n"
   ]
  },
  {
   "cell_type": "markdown",
   "metadata": {},
   "source": [
    "You may notice that the current structure could be a problem. If the numbers were all negative what would happen to our code? What if we were looking for the smallest number but we initialized best_num with zero? To get around this issue, we can initialize the accumulator variable using one of the numbers in the list."
   ]
  },
  {
   "cell_type": "code",
   "execution_count": 40,
   "metadata": {},
   "outputs": [
    {
     "name": "stdout",
     "output_type": "stream",
     "text": [
      "29\n"
     ]
    }
   ],
   "source": [
    "nums = [9, 3, 8, 11, 5, 29, 2]\n",
    "best_num = nums[0]\n",
    "for n in nums:\n",
    "    if n > best_num:\n",
    "        best_num = n\n",
    "print(best_num)\n"
   ]
  },
  {
   "cell_type": "markdown",
   "metadata": {},
   "source": [
    "### Excercise\n",
    "For each string in the list words, find the number of characters in the string. If the number of characters in the string is greater than 3, add 1 to the variable num_words so that num_words should end up with the total number of words with more than 3 characters."
   ]
  },
  {
   "cell_type": "code",
   "execution_count": 63,
   "metadata": {},
   "outputs": [
    {
     "name": "stdout",
     "output_type": "stream",
     "text": [
      "3\n"
     ]
    }
   ],
   "source": [
    "words = [\"water\", \"chair\", \"pen\", \"basket\", \"hi\", \"car\"]\n",
    "num_words = 0\n",
    "for charaters in words:\n",
    "    if len(charaters) > 3:\n",
    "        num_words += 1\n",
    "print(num_words)"
   ]
  },
  {
   "cell_type": "markdown",
   "metadata": {},
   "source": [
    "**Challenge** For each word in words, add ‘d’ to the end of the word if the word ends in “e” to make it past tense. Otherwise, add ‘ed’ to make it past tense. Save these past tense words to a list called past_tense."
   ]
  },
  {
   "cell_type": "code",
   "execution_count": 64,
   "metadata": {},
   "outputs": [
    {
     "name": "stdout",
     "output_type": "stream",
     "text": [
      "['adopted', 'baked', 'beamed', 'confided', 'grilled', 'planted', 'timed', 'waved', 'wished']\n"
     ]
    }
   ],
   "source": [
    "words = [\"adopt\", \"bake\", \"beam\", \"confide\", \"grill\", \"plant\", \"time\", \"wave\", \"wish\"]\n",
    "past_tense = []\n",
    "for word in words:\n",
    "    if word[-1]=='e':\n",
    "        past_tense.append(word+'d')\n",
    "    else:\n",
    "        past_tense.append(word+'ed')\n",
    "print(past_tense)  "
   ]
  },
  {
   "cell_type": "markdown",
   "metadata": {},
   "source": [
    "## Course 1 Assessment 7"
   ]
  },
  {
   "cell_type": "markdown",
   "metadata": {},
   "source": [
    "**1)**    `rainfall_mi` is a string that contains the average number of inches of rainfall in Michigan for every month (in inches) with every month separated by a comma. Write code to compute the number of months that have more than 3 inches of rainfall. Store the result in the variable `num_rainy_months`. In other words, count the number of items with values > 3.0.\n",
    "\n",
    "Hard-coded answers will receive no credit."
   ]
  },
  {
   "cell_type": "code",
   "execution_count": 8,
   "metadata": {},
   "outputs": [
    {
     "name": "stdout",
     "output_type": "stream",
     "text": [
      "5\n"
     ]
    }
   ],
   "source": [
    "rainfall_mi = \"1.65, 1.46, 2.05, 3.03, 3.35, 3.46, 2.83, 3.23, 3.5, 2.52, 2.8, 1.85\"\n",
    "rainfall_mi_split = rainfall_mi.split(\",\")\n",
    "num_rainy_months = 0\n",
    "for x in rainfall_mi_split:\n",
    "    x = float(x)\n",
    "    if x > 3.0:\n",
    "        num_rainy_months += 1\n",
    "print(num_rainy_months)      "
   ]
  },
  {
   "cell_type": "markdown",
   "metadata": {},
   "source": [
    "**2)** The variable `sentence` stores a string. Write code to determine how many words in sentence start and end with the same letter, including one-letter words. Store the result in the variable `same_letter_count`.\n",
    "\n",
    "Hard-coded answers will receive no credit."
   ]
  },
  {
   "cell_type": "code",
   "execution_count": 101,
   "metadata": {},
   "outputs": [
    {
     "name": "stdout",
     "output_type": "stream",
     "text": [
      "2\n"
     ]
    }
   ],
   "source": [
    "sentence = \"students flock to the arb for a variety of outdoor activities such as jogging and picnicking\"\n",
    "sentence_split = sentence.split(\" \")\n",
    "same_letter_count = 0\n",
    "for words in sentence_split:\n",
    "    if words[0] == words[-1]: # possible to modefie to `if len(words) > 1 and words[0] == words[-1]` not to add 'a'\n",
    "        same_letter_count = same_letter_count + 1\n",
    "print(same_letter_count)\n",
    "    \n"
   ]
  },
  {
   "cell_type": "markdown",
   "metadata": {},
   "source": [
    "**3)** Write code to count the number of strings in list `items` that have the character `w` in it. Assign that number to the variable `acc_num`.\n",
    "\n",
    "HINT 1: Use the accumulation pattern!\n",
    "\n",
    "HINT 2: the `in` operator checks whether a substring is present in a string.\n",
    "\n",
    "Hard-coded answers will receive no credit."
   ]
  },
  {
   "cell_type": "code",
   "execution_count": 102,
   "metadata": {},
   "outputs": [
    {
     "name": "stdout",
     "output_type": "stream",
     "text": [
      "4\n"
     ]
    }
   ],
   "source": [
    "items = [\"whirring\", \"wow!\", \"calendar\", \"wry\", \"glass\", \"\", \"llama\",\"tumultuous\",\"owing\"]\n",
    "acc_num = 0\n",
    "for words in items:\n",
    "    if 'w' in words:\n",
    "        acc_num = acc_num + 1\n",
    "print(acc_num)\n",
    "    \n"
   ]
  },
  {
   "cell_type": "markdown",
   "metadata": {},
   "source": [
    "**4** Write code that counts the number of words in `sentence` that contain either an “a” or an “e”. Store the result in the variable `num_a_or_e`.\n",
    "\n",
    "Note 1: be sure to not double-count words that contain both an a and an e.\n",
    "\n",
    "HINT 1: Use the `in` operator.\n",
    "\n",
    "HINT 2: You can either use `or` or `elif`.\n",
    "\n",
    "Hard-coded answers will receive no credit."
   ]
  },
  {
   "cell_type": "code",
   "execution_count": 105,
   "metadata": {},
   "outputs": [
    {
     "name": "stdout",
     "output_type": "stream",
     "text": [
      "14\n"
     ]
    }
   ],
   "source": [
    "sentence = \"python is a high level general purpose programming language that can be applied to many different classes of problems.\"\n",
    "sentence_split = sentence.split(\" \")\n",
    "num_a_or_e = 0\n",
    "for words in sentence_split:\n",
    "    if 'a' in words:\n",
    "        num_a_or_e = num_a_or_e + 1\n",
    "    elif 'e' in words:\n",
    "        num_a_or_e = num_a_or_e + 1\n",
    "print(num_a_or_e)"
   ]
  },
  {
   "cell_type": "markdown",
   "metadata": {},
   "source": [
    "**5)** Write code that will count the number of vowels in the sentence `s` and assign the result to the variable `num_vowels`. For this problem, vowels are only a, e, i, o, and u. Hint: use the `in` operator with `vowels`"
   ]
  },
  {
   "cell_type": "code",
   "execution_count": 106,
   "metadata": {},
   "outputs": [
    {
     "name": "stdout",
     "output_type": "stream",
     "text": [
      "32\n"
     ]
    }
   ],
   "source": [
    "s = \"singing in the rain and playing in the rain are two entirely different situations but both can be fun\"\n",
    "vowels = ['a','e','i','o','u']\n",
    "num_vowels = 0\n",
    "for x in s:\n",
    "    if x in vowels:\n",
    "        num_vowels += 1\n",
    "print(num_vowels)"
   ]
  },
  {
   "cell_type": "markdown",
   "metadata": {},
   "source": [
    "# Sequence Mutation and Accumulation Patterns"
   ]
  },
  {
   "cell_type": "markdown",
   "metadata": {},
   "source": [
    "#### Introduction: Transforming Sequences\n",
    "The sequences that we have used so far have been *`static`: a list of colors that doesn’t change or the characters in a string that stays the same*. The real world is more complicated than that. A list of users for your social network may need to grow to accommodate new users (or shrink when users leave your service). The letters in a string may need to be modified to personalize a message (“Welcome to Wonderland, <your name>”), or to encode a secret message.\n",
    "\n",
    "The following chapter will detail more of the **methods that can be used to transform lists and strings**. Generally, the two methods that can be used are changing the list object, in place, by *mutating* it; or by *constructing a new string object using a copy-with-change operation*.\n",
    "\n",
    "9.1.1. **Learning Goals**\n",
    "* To understand the concepts of mutable and immutable data types\n",
    "* To understand that methods on strings leave the origninal string alone but return a new string\n",
    "* To understand that lists are mutable data types and that mutating methods on lists return None\n",
    "\n",
    "9.1.2. **Objectives**\n",
    "Demonstrate the correct use of:\n",
    "* concatenate\n",
    "* index operator\n",
    "* substring (slice)\n",
    "* search - contains in / not in and index\n",
    "* find method\n",
    "* append\n",
    "* join\n",
    "* split\n",
    "* string format method"
   ]
  },
  {
   "cell_type": "markdown",
   "metadata": {},
   "source": [
    "**Mutability** : \n",
    "Some Python collection types - strings and lists so far - are able to change and some are not. ***If a type is able to change, then it is said to be mutable***. If the type is not able to change then it is said to be **immutable**. This will be expanded below."
   ]
  },
  {
   "cell_type": "markdown",
   "metadata": {},
   "source": [
    "**Lists are Mutable** : \n",
    "Unlike strings, lists are mutable. This means we can change an item in a list by accessing it directly as part of the assignment statement. Using the indexing operator (square brackets) on the left side of an assignment, we can update one of the list items."
   ]
  },
  {
   "cell_type": "code",
   "execution_count": 107,
   "metadata": {},
   "outputs": [
    {
     "name": "stdout",
     "output_type": "stream",
     "text": [
      "['banana', 'apple', 'cherry']\n",
      "['pear', 'apple', 'orange']\n"
     ]
    }
   ],
   "source": [
    "fruit = [\"banana\", \"apple\", \"cherry\"]\n",
    "print(fruit)\n",
    "\n",
    "fruit[0] = \"pear\"\n",
    "fruit[-1] = \"orange\"\n",
    "print(fruit)"
   ]
  },
  {
   "cell_type": "markdown",
   "metadata": {},
   "source": [
    "An assignment to an element of a list is called **item assignment**. Item assignment does not work for strings. Recall that strings are immutable.\n",
    "\n",
    "By combining assignment with the slice operator we can update several elements at once."
   ]
  },
  {
   "cell_type": "code",
   "execution_count": 108,
   "metadata": {},
   "outputs": [
    {
     "name": "stdout",
     "output_type": "stream",
     "text": [
      "['a', 'x', 'y', 'd', 'e', 'f']\n"
     ]
    }
   ],
   "source": [
    "alist = ['a', 'b', 'c', 'd', 'e', 'f']\n",
    "alist[1:3] = ['x', 'y']\n",
    "print(alist)"
   ]
  },
  {
   "cell_type": "markdown",
   "metadata": {},
   "source": [
    "We can also remove elements from a list by assigning the empty list to them.\n",
    "\n"
   ]
  },
  {
   "cell_type": "code",
   "execution_count": 109,
   "metadata": {},
   "outputs": [
    {
     "name": "stdout",
     "output_type": "stream",
     "text": [
      "['a', 'd', 'e', 'f']\n"
     ]
    }
   ],
   "source": [
    "alist = ['a', 'b', 'c', 'd', 'e', 'f']\n",
    "alist[1:3] = []\n",
    "print(alist)"
   ]
  },
  {
   "cell_type": "markdown",
   "metadata": {},
   "source": [
    "We can even insert elements into a list by squeezing them into an empty slice at the desired location."
   ]
  },
  {
   "cell_type": "code",
   "execution_count": 110,
   "metadata": {},
   "outputs": [
    {
     "name": "stdout",
     "output_type": "stream",
     "text": [
      "['a', 'b', 'c', 'd', 'f']\n",
      "['a', 'b', 'c', 'd', 'e', 'f']\n"
     ]
    }
   ],
   "source": [
    "alist = ['a', 'd', 'f']\n",
    "alist[1:1] = ['b', 'c']\n",
    "print(alist)\n",
    "alist[4:4] = ['e']\n",
    "print(alist)\n"
   ]
  },
  {
   "cell_type": "markdown",
   "metadata": {},
   "source": [
    "**Strings are Immutable** \n",
    "\n",
    "One final thing that makes strings different from some other Python collection types is that **you are not allowed to modify the individual characters in the collection**. It is tempting to use the `[]` operator on the left side of an assignment, with the intention of changing a character in a string. For example, in the following code, we would like to change the first letter of `greeting`.\n",
    "\n",
    "        greeting = \"Hello, world!\"\n",
    "        greeting[0] = 'J'            # ERROR!\n",
    "        print(greeting)\n",
    "\n",
    "Instead of producing the output `Jello, world!`, this code produces the runtime error `TypeError: 'str' object does not support item assignment`.\n",
    "\n",
    "Strings are **immutable**, which means you cannot change an existing string. The best you can do is create a new string that is a variation on the original."
   ]
  },
  {
   "cell_type": "code",
   "execution_count": 111,
   "metadata": {},
   "outputs": [
    {
     "name": "stdout",
     "output_type": "stream",
     "text": [
      "Jello, world!\n",
      "Hello, world!\n"
     ]
    }
   ],
   "source": [
    "greeting = \"Hello, world!\"\n",
    "newGreeting = 'J' + greeting[1:]\n",
    "print(newGreeting)\n",
    "print(greeting)"
   ]
  },
  {
   "cell_type": "markdown",
   "metadata": {},
   "source": [
    "The solution here is to concatenate a new first letter onto a slice of `greeting`. This operation has no effect on the original string.\n",
    "\n",
    "While it’s possible to make up new variable names each time we make changes to existing values, it could become difficult to keep track of them all."
   ]
  },
  {
   "cell_type": "code",
   "execution_count": 112,
   "metadata": {},
   "outputs": [
    {
     "name": "stdout",
     "output_type": "stream",
     "text": [
      "Many moons and many stars litter the night sky!\n"
     ]
    }
   ],
   "source": [
    "phrase = \"many moons\"\n",
    "phrase_expanded = phrase + \" and many stars\"\n",
    "phrase_larger = phrase_expanded + \" litter\"\n",
    "phrase_complete = \"M\" + phrase_larger[1:] + \" the night sky.\"\n",
    "excited_phrase_complete = phrase_complete[:-1] + \"!\"\n",
    "print(excited_phrase_complete)"
   ]
  },
  {
   "cell_type": "markdown",
   "metadata": {},
   "source": [
    "The more that you change the string, the more difficult it is to come up with a new variable to use. It’s perfectly acceptable to re-assign the value to the same variable name in this case.\n",
    "\n",
    "**Tuples are Immutable** \n",
    "\n",
    "As with strings, if we try to use item assignment to modify one of the elements of a tuple, we get an error. **In fact, that’s the key difference between lists and tuples: tuples are like immutable lists**. None of the operations on lists that mutate them are available for tuples. Once a tuple is created, it can’t be changed.\n",
    "\n",
    "            julia[0] = 'X'  # TypeError: 'tuple' object does not support item assignment"
   ]
  },
  {
   "cell_type": "markdown",
   "metadata": {},
   "source": [
    "**List Element Deletion**\n",
    "\n",
    "Using slices to delete list elements can be awkward and therefore error-prone. Python provides an alternative that is more readable. The `del` statement removes an element from a list by using its position."
   ]
  },
  {
   "cell_type": "code",
   "execution_count": 113,
   "metadata": {},
   "outputs": [
    {
     "name": "stdout",
     "output_type": "stream",
     "text": [
      "['one', 'three']\n",
      "['a', 'f']\n"
     ]
    }
   ],
   "source": [
    "a = ['one', 'two', 'three']\n",
    "del a[1]\n",
    "print(a)\n",
    "\n",
    "alist = ['a', 'b', 'c', 'd', 'e', 'f']\n",
    "del alist[1:5]\n",
    "print(alist)\n"
   ]
  },
  {
   "cell_type": "markdown",
   "metadata": {},
   "source": [
    "As you might expect, `del` handles negative indices and causes a runtime error if the index is out of range. In addition, you can use a slice as an index for `del`. As usual, slices select all the elements up to, but not including, the second index."
   ]
  },
  {
   "cell_type": "markdown",
   "metadata": {},
   "source": [
    "**Objects and References**\n",
    "\n",
    "If we execute these assignment statements,\n",
    "\n",
    "    a = \"banana\"\n",
    "    b = \"banana\"\n",
    "we know that `a` and `b` will refer to a string with the letters \"banana\". But we don’t know yet whether they point to the same string.\n",
    "\n",
    "There are two possible ways the Python interpreter could arrange its internal states:\n",
    "\n",
    "![image](img/00Capture.PNG)\n",
    "![image](img/01Capture.PNG)\n",
    "\n",
    "In one case, `a` and `b` refer to two different string objects that have the same value. In the second case, they refer to the same object. Remember that an _object is something a variable can refer to_.\n",
    "\n",
    "We can test whether two names refer to the same object using the `is` operator. The `is` operator will return true if the two references are to the same object. In other words, the references are the same. Try our example from above.\n"
   ]
  },
  {
   "cell_type": "code",
   "execution_count": 115,
   "metadata": {},
   "outputs": [
    {
     "name": "stdout",
     "output_type": "stream",
     "text": [
      "True\n"
     ]
    }
   ],
   "source": [
    "a = \"banana\"\n",
    "b = \"banana\"\n",
    "\n",
    "print(a is b)\n"
   ]
  },
  {
   "cell_type": "markdown",
   "metadata": {},
   "source": [
    "The answer is True. This tells us that both `a` and `b` refer to the same object, and that it is the second of the two reference diagrams that describes the relationship. Python assigns every object a unique id and when we ask `a is b` what python is really doing is checking to see if `id(a) == id(b)`.\n",
    "\n"
   ]
  },
  {
   "cell_type": "code",
   "execution_count": 116,
   "metadata": {},
   "outputs": [
    {
     "name": "stdout",
     "output_type": "stream",
     "text": [
      "90942968\n",
      "90942968\n"
     ]
    }
   ],
   "source": [
    "a = \"banana\"\n",
    "b = \"banana\"\n",
    "\n",
    "print(id(a))\n",
    "print(id(b))"
   ]
  },
  {
   "cell_type": "markdown",
   "metadata": {},
   "source": [
    "Since strings are **immutable**, the Python interpreter often optimizes resources by making two names that refer to the same string value refer to the same object. You shouldn’t count on this (that is, use `==` to compare strings, not `is`), but don’t be surprised if you find that two variables,each bound to the string “banana”, have the same id..\n",
    "\n",
    "_This is not the case with lists, which never share an id just because they have the same contents_. Consider the following example. Here, `a` and `b` refer to two different lists, each of which happens to have the same element values. They need to have different ids so that mutations of list `a` do not affect list `b`."
   ]
  },
  {
   "cell_type": "code",
   "execution_count": 118,
   "metadata": {},
   "outputs": [
    {
     "name": "stdout",
     "output_type": "stream",
     "text": [
      "False\n",
      "True\n",
      "91167368\n",
      "91128648\n"
     ]
    }
   ],
   "source": [
    "a = [81,82,83]\n",
    "b = [81,82,83]\n",
    "\n",
    "print(a is b)\n",
    "\n",
    "print(a == b)\n",
    "\n",
    "print(id(a))\n",
    "print(id(b))"
   ]
  },
  {
   "cell_type": "markdown",
   "metadata": {},
   "source": [
    "`a` and `b` have equivalent values but do not refer to the same object. Because their contents are equivalent, `a==b` evaluates to `True`; because _they are not the same object_, `a` is `b` evaluates to `False`."
   ]
  },
  {
   "cell_type": "markdown",
   "metadata": {},
   "source": [
    "**Aliasing**\n",
    "\n",
    "Since variables refer to objects, if we assign one variable to another, both variables refer to the same object:"
   ]
  },
  {
   "cell_type": "code",
   "execution_count": 119,
   "metadata": {},
   "outputs": [
    {
     "name": "stdout",
     "output_type": "stream",
     "text": [
      "True\n"
     ]
    }
   ],
   "source": [
    "a = [81, 82, 83]\n",
    "b = a\n",
    "print(a is b)"
   ]
  },
  {
   "cell_type": "markdown",
   "metadata": {},
   "source": [
    "Because the same list has two different names, `a` and `b`, we say that it is **aliased**. **Changes made with one alias affect the other**. In the codelens example below, you can see that `a` and `b` refer to the same list after executing the assignment statement `b = a`."
   ]
  },
  {
   "cell_type": "code",
   "execution_count": 120,
   "metadata": {},
   "outputs": [
    {
     "name": "stdout",
     "output_type": "stream",
     "text": [
      "False\n",
      "True\n",
      "True\n",
      "[5, 82, 83]\n"
     ]
    }
   ],
   "source": [
    "a = [81,82,83]\n",
    "b = [81,82,83]\n",
    "print(a is b)\n",
    "\n",
    "b = a\n",
    "print(a == b)\n",
    "print(a is b)\n",
    "\n",
    "b[0] = 5\n",
    "print(a)\n"
   ]
  },
  {
   "cell_type": "markdown",
   "metadata": {},
   "source": [
    "**Cloning Lists**\n",
    "\n",
    "If we want to **modify a list and also keep a copy of the original**, we need to be able to make a copy of the list itself, **not just the reference**. This process is sometimes called **cloning**, to avoid the ambiguity of the word copy.\n",
    "\n",
    "The easiest way to clone a list is to use the `slice operator`.\n",
    "Taking any slice of a creates a new list. In this case the slice happens to consist of the whole list."
   ]
  },
  {
   "cell_type": "code",
   "execution_count": 121,
   "metadata": {},
   "outputs": [
    {
     "name": "stdout",
     "output_type": "stream",
     "text": [
      "True\n",
      "False\n",
      "[81, 82, 83]\n",
      "[5, 82, 83]\n"
     ]
    }
   ],
   "source": [
    "a = [81,82,83]\n",
    "\n",
    "b = a[:]       # make a clone using slice\n",
    "print(a == b)\n",
    "print(a is b)\n",
    "\n",
    "b[0] = 5\n",
    "\n",
    "print(a)\n",
    "print(b)"
   ]
  },
  {
   "cell_type": "markdown",
   "metadata": {},
   "source": [
    "Now we are free to make changes to `b` without worrying about `a`. Again, we can clearly see in codelens that `a` and `b` are entirely different list objects."
   ]
  },
  {
   "cell_type": "code",
   "execution_count": 122,
   "metadata": {},
   "outputs": [
    {
     "name": "stdout",
     "output_type": "stream",
     "text": [
      "[4, 2, 8, 6, 5]\n"
     ]
    }
   ],
   "source": [
    "alist = [4,2,8,6,5]\n",
    "blist = alist * 2\n",
    "blist[3] = 999\n",
    "print(alist)"
   ]
  },
  {
   "cell_type": "markdown",
   "metadata": {},
   "source": [
    "`alist` was unchanged by the assignment statement. `blist` was a copy of the references in `alist`."
   ]
  },
  {
   "cell_type": "markdown",
   "metadata": {},
   "source": [
    "****"
   ]
  },
  {
   "cell_type": "code",
   "execution_count": 124,
   "metadata": {},
   "outputs": [
    {
     "name": "stdout",
     "output_type": "stream",
     "text": [
      "The store has excellent sales right now.\n"
     ]
    }
   ],
   "source": [
    "sent = \"The mall has excellent sales right now.\"\n",
    "wrds = sent.split()\n",
    "wrds[1] = 'store'\n",
    "new_sent = \" \".join(wrds)\n",
    "print(new_sent)"
   ]
  },
  {
   "cell_type": "markdown",
   "metadata": {},
   "source": [
    "# Methods on Lists and Strings\n",
    "### Mutating Methods"
   ]
  },
  {
   "cell_type": "markdown",
   "metadata": {},
   "source": [
    "You’ve seen some methods already, like the count and index methods. Methods are either mutating or non-mutating. Mutating methods are ones that change the object after the method has been used. Non-mutating methods do not change the object after the method has been used.\n",
    "\n",
    "The count and index methods are both non-mutating. Count returns the number of occurances of the argument given but does not change the original string or list. Similarly, index returns the leftmost occurance of the argument but does not change the original string or list. Below we’ll talk about list methods in general. Keep an eye out for methods that are mutating!\n",
    "\n",
    "### List Methods\n",
    "The dot operator can also be used to access built-in methods of list objects. append is a list method which adds the argument passed to it to the end of the list. Continuing with this example, we show several other list methods. Many of them are easy to understand.\n"
   ]
  },
  {
   "cell_type": "markdown",
   "metadata": {},
   "source": [
    "#### Method -            Parameters            -        Result         -               Description\n",
    "\n"
   ]
  },
  {
   "cell_type": "code",
   "execution_count": 137,
   "metadata": {},
   "outputs": [
    {
     "name": "stdout",
     "output_type": "stream",
     "text": [
      "[5, 27, 3, 12]\n"
     ]
    }
   ],
   "source": [
    "# append - item - mutator - Adds a new item to the end of a list\n",
    "mylist = []\n",
    "mylist.append(5)\n",
    "mylist.append(27)\n",
    "mylist.append(3)\n",
    "mylist.append(12)\n",
    "print(mylist)"
   ]
  },
  {
   "cell_type": "code",
   "execution_count": 138,
   "metadata": {},
   "outputs": [
    {
     "name": "stdout",
     "output_type": "stream",
     "text": [
      "[5, 12, 27, 3, 12]\n",
      "2\n"
     ]
    }
   ],
   "source": [
    "# insert - position, item - mutator - Inserts a new item at the position given\n",
    "mylist.insert(1, 12)\n",
    "print(mylist)\n",
    "print(mylist.count(12))"
   ]
  },
  {
   "cell_type": "code",
   "execution_count": 139,
   "metadata": {},
   "outputs": [
    {
     "name": "stdout",
     "output_type": "stream",
     "text": [
      "[3, 5, 12, 12, 27]\n"
     ]
    }
   ],
   "source": [
    "# sort - none - mutator - Modifies a list to be sorted\n",
    "mylist.sort()\n",
    "print(mylist)"
   ]
  },
  {
   "cell_type": "code",
   "execution_count": 140,
   "metadata": {},
   "outputs": [
    {
     "name": "stdout",
     "output_type": "stream",
     "text": [
      "0\n"
     ]
    }
   ],
   "source": [
    "# index - item - return idx - Returns the position of first occurrence of item\n",
    "print(mylist.index(3))\n"
   ]
  },
  {
   "cell_type": "code",
   "execution_count": 142,
   "metadata": {},
   "outputs": [
    {
     "name": "stdout",
     "output_type": "stream",
     "text": [
      "[3, 5, 12, 27]\n"
     ]
    }
   ],
   "source": [
    "# remove - item - mutator - Removes the first occurrence of item\n",
    "mylist.remove(12)\n",
    "print(mylist)"
   ]
  },
  {
   "cell_type": "code",
   "execution_count": 143,
   "metadata": {},
   "outputs": [
    {
     "name": "stdout",
     "output_type": "stream",
     "text": [
      "27\n",
      "[3, 5, 12]\n"
     ]
    }
   ],
   "source": [
    "# pop - none - hybrid - Removes and returns the last item\n",
    "# pop - position - hybrid  - Removes and returns the item at position\n",
    "lastitem = mylist.pop()\n",
    "print(lastitem)\n",
    "print(mylist)"
   ]
  },
  {
   "cell_type": "markdown",
   "metadata": {},
   "source": [
    "There are two ways to use the `pop` method. The first, with no parameter, **will remove and return the last item of the list. If you provide a parameter for the position, pop will remove and return the item at that position**. Either way the list is changed.\n",
    "\n",
    "**The word _mutator_ means that the list is changed by the method but nothing is returned (actually None is returned). A hybrid method is one that not only changes the list but also returns a value as its result**. Finally, if the result is simply a return, then the list is unchanged by the method.\n",
    "\n",
    "It is important to remember that methods like `append, sort`, and `reverse` all return `None`. **They change the list; they don’t produce a new list**. So, while we did reassignment to increment a number, as in `x = x + 1`, doing the analogous thing with these operations will lose the entire list contents (see line 8 below)."
   ]
  },
  {
   "cell_type": "code",
   "execution_count": 144,
   "metadata": {},
   "outputs": [
    {
     "name": "stdout",
     "output_type": "stream",
     "text": [
      "[5, 27, 3, 12]\n",
      "None\n"
     ]
    }
   ],
   "source": [
    "mylist = []\n",
    "mylist.append(5)\n",
    "mylist.append(27)\n",
    "mylist.append(3)\n",
    "mylist.append(12)\n",
    "print(mylist)\n",
    "\n",
    "mylist = mylist.sort()   #probably an error\n",
    "print(mylist)"
   ]
  },
  {
   "cell_type": "markdown",
   "metadata": {},
   "source": [
    "####  Append versus Concatenate\n",
    "The `append` method adds a new item to the end of a list. It is also possible to add a new item to the end of a list by using the `concatenation operator`. However, you need to be careful.\n",
    "\n",
    "Consider the following example. The original list has 3 integers. We want to add the word `“cat”` to the end of the list."
   ]
  },
  {
   "cell_type": "code",
   "execution_count": 149,
   "metadata": {},
   "outputs": [
    {
     "name": "stdout",
     "output_type": "stream",
     "text": [
      "[45, 32, 88, 'cat']\n"
     ]
    }
   ],
   "source": [
    "origlist = [45,32,88]\n",
    "origlist.append(\"cat\")\n",
    "print(origlist)"
   ]
  },
  {
   "cell_type": "markdown",
   "metadata": {},
   "source": [
    "Here we have used append which simply modifies the list. **In order to use concatenation, we need to write an assignment statement that uses the accumulator pattern**:\n",
    "\n",
    "Note that the word “cat” needs to be placed in a list since the **concatenation operator needs two lists to do its work.**"
   ]
  },
  {
   "cell_type": "code",
   "execution_count": 151,
   "metadata": {},
   "outputs": [
    {
     "name": "stdout",
     "output_type": "stream",
     "text": [
      "[45, 32, 88, 'cat', 'cat', 'cat']\n"
     ]
    }
   ],
   "source": [
    "origlist = origlist + [\"cat\"]\n",
    "print(origlist)"
   ]
  },
  {
   "cell_type": "markdown",
   "metadata": {},
   "source": [
    "**It is also important to realize that with `append`, the original list is simply modified. On the other hand, with `concatenation`, an entirely new list is created.** This can be seen in the following codelens example where``newlist`` refers to a list which is a copy of the original list, `origlis`t, with the new item “cat” added to the end. `origlist` still contains the three values it did before the concatenation. This is why the assignment operation is necessary as part of the accumulator pattern.\n",
    "\n",
    "This might be difficult to understand since these two lists appear to be the same. In Python, every object has a unique identification tag. Likewise, there is a built-in function that can be called on any object to return its unique `id`. The function is appropriately called `id` and takes a single parameter, the object that you are interested in knowing about. You can see in the example below that a real id is usually a very large integer value (corresponding to an address in memory). In the textbook though the number will likely be smaller"
   ]
  },
  {
   "cell_type": "code",
   "execution_count": 152,
   "metadata": {},
   "outputs": [
    {
     "data": {
      "text/plain": [
       "90802504"
      ]
     },
     "execution_count": 152,
     "metadata": {},
     "output_type": "execute_result"
    }
   ],
   "source": [
    "alist = [4, 5, 6]\n",
    "id(alist)"
   ]
  },
  {
   "cell_type": "code",
   "execution_count": 153,
   "metadata": {},
   "outputs": [
    {
     "name": "stdout",
     "output_type": "stream",
     "text": [
      "origlist: [45, 32, 88]\n",
      "the identifier: 91010632\n",
      "newlist: [45, 32, 88, 'cat']\n",
      "the identifier: 91167368\n",
      "origlist: [45, 32, 88, 'cat']\n",
      "the identifier: 91010632\n"
     ]
    }
   ],
   "source": [
    "origlist = [45,32,88]\n",
    "print(\"origlist:\", origlist)\n",
    "print(\"the identifier:\", id(origlist))             #id of the list before changes\n",
    "newlist = origlist + ['cat']\n",
    "print(\"newlist:\", newlist)\n",
    "print(\"the identifier:\", id(newlist))              #id of the list after concatentation\n",
    "origlist.append('cat')\n",
    "print(\"origlist:\", origlist)\n",
    "print(\"the identifier:\", id(origlist))             #id of the list after append is used\n"
   ]
  },
  {
   "cell_type": "markdown",
   "metadata": {},
   "source": [
    "Note how even though newlist and origlist appear the same, they have different identifiers.\n",
    "\n",
    "We have previously described `x += 1` as a shorthand for `x = x + 1`. **With lists, `+=` is actually a little different**. In particular, `origlist += [“cat”]` appends “cat” to the end of the original list object. If there is another alias for `origlist`, this can make a difference.\n",
    "\n",
    "We can use `append` or `concatenate` repeatedly to create new objects. **If we had a string and wanted to make a new list, where each element in the list is a character in the string**, where do you think you should start? In both cases, you’ll need to first create a variable to store the new object."
   ]
  },
  {
   "cell_type": "code",
   "execution_count": 154,
   "metadata": {},
   "outputs": [
    {
     "name": "stdout",
     "output_type": "stream",
     "text": [
      "['W', 'a', 'r', 'm', 't', 'h']\n"
     ]
    }
   ],
   "source": [
    "st = \"Warmth\"\n",
    "a = []\n",
    "# Then, character by character, you can add to the empty list. \n",
    "# The process looks different if you concatentate as compared to using append.\n",
    "b = a + [st[0]]\n",
    "c = b + [st[1]]\n",
    "d = c + [st[2]]\n",
    "e = d + [st[3]]\n",
    "f = e + [st[4]]\n",
    "g = f + [st[5]]\n",
    "print(g)"
   ]
  },
  {
   "cell_type": "code",
   "execution_count": 155,
   "metadata": {},
   "outputs": [
    {
     "name": "stdout",
     "output_type": "stream",
     "text": [
      "['W', 'a', 'r', 'm', 't', 'h']\n"
     ]
    }
   ],
   "source": [
    "st = \"Warmth\"\n",
    "a = []\n",
    "a.append(st[0])\n",
    "a.append(st[1])\n",
    "a.append(st[2])\n",
    "a.append(st[3])\n",
    "a.append(st[4])\n",
    "a.append(st[5])\n",
    "print(a)"
   ]
  },
  {
   "cell_type": "markdown",
   "metadata": {},
   "source": [
    "### Non-mutating Methods on Strings\n",
    "There are a wide variety of methods for string objects. Try the following program.\n",
    "\n"
   ]
  },
  {
   "cell_type": "code",
   "execution_count": 156,
   "metadata": {},
   "outputs": [
    {
     "name": "stdout",
     "output_type": "stream",
     "text": [
      "HELLO, WORLD\n",
      "hello, world\n",
      "Hello, World\n"
     ]
    }
   ],
   "source": [
    "ss = \"Hello, World\"\n",
    "print(ss.upper())\n",
    "tt = ss.lower()\n",
    "print(tt)\n",
    "print(ss)"
   ]
  },
  {
   "cell_type": "markdown",
   "metadata": {},
   "source": [
    "You’ve already seen a few methods, such as `count` and `index`, that work with `strings and are non-mutating`. In addition to those and `upper` and `lower`, the following table provides a summary of some other useful string methods. There are a few activecode examples that follow so that you can try them out\n",
    "![image](img/02Capture.PNG)\n",
    "\n",
    "**Note once again that the methods that return `strings` do not change the original.**"
   ]
  },
  {
   "cell_type": "code",
   "execution_count": 158,
   "metadata": {},
   "outputs": [
    {
     "name": "stdout",
     "output_type": "stream",
     "text": [
      "3\n",
      "***Hello, World***\n",
      "    Hell***, W***rld    \n"
     ]
    }
   ],
   "source": [
    "ss = \"    Hello, World    \"\n",
    "els = ss.count(\"l\")\n",
    "print(els)\n",
    "\n",
    "print(\"***\"+ss.strip()+\"***\")\n",
    "\n",
    "news = ss.replace(\"o\", \"***\")\n",
    "print(news)\n"
   ]
  },
  {
   "cell_type": "code",
   "execution_count": 159,
   "metadata": {},
   "outputs": [
    {
     "name": "stdout",
     "output_type": "stream",
     "text": [
      "BANANA BREAD\n"
     ]
    }
   ],
   "source": [
    "food = \"banana bread\"\n",
    "print(food.upper())"
   ]
  },
  {
   "cell_type": "markdown",
   "metadata": {},
   "source": [
    "#### String Format Method\n",
    "Until now, we have created strings with variable content using the `+` operator to `concatenate partial strings together`. That works, but it’s very hard for people to read or debug a code line that includes variable names and strings and complex expressions. Consider the following:"
   ]
  },
  {
   "cell_type": "code",
   "execution_count": 170,
   "metadata": {},
   "outputs": [
    {
     "ename": "TypeError",
     "evalue": "'str' object is not callable",
     "output_type": "error",
     "traceback": [
      "\u001b[1;31m---------------------------------------------------------------------------\u001b[0m",
      "\u001b[1;31mTypeError\u001b[0m                                 Traceback (most recent call last)",
      "\u001b[1;32m<ipython-input-170-ad54b567b98a>\u001b[0m in \u001b[0;36m<module>\u001b[1;34m()\u001b[0m\n\u001b[0;32m      1\u001b[0m \u001b[0mname\u001b[0m \u001b[1;33m=\u001b[0m \u001b[1;34m\"Rodney Dangerfield\"\u001b[0m\u001b[1;33m\u001b[0m\u001b[0m\n\u001b[0;32m      2\u001b[0m \u001b[0mscore\u001b[0m \u001b[1;33m=\u001b[0m \u001b[1;33m-\u001b[0m\u001b[1;36m1\u001b[0m  \u001b[1;31m# No respect!\u001b[0m\u001b[1;33m\u001b[0m\u001b[0m\n\u001b[1;32m----> 3\u001b[1;33m \u001b[0mprint\u001b[0m\u001b[1;33m(\u001b[0m\u001b[1;34m\"Hello \"\u001b[0m \u001b[1;33m+\u001b[0m \u001b[0mname\u001b[0m \u001b[1;33m+\u001b[0m \u001b[1;34m\". Your score is \"\u001b[0m \u001b[1;33m+\u001b[0m \u001b[0mstr\u001b[0m\u001b[1;33m(\u001b[0m\u001b[0mscore\u001b[0m\u001b[1;33m)\u001b[0m\u001b[1;33m)\u001b[0m\u001b[1;33m\u001b[0m\u001b[0m\n\u001b[0m",
      "\u001b[1;31mTypeError\u001b[0m: 'str' object is not callable"
     ]
    }
   ],
   "source": [
    "name = \"Rodney Dangerfield\"\n",
    "score = -1  # No respect!\n",
    "print(\"Hello \" + name + \". Your score is \" + str(score))"
   ]
  },
  {
   "cell_type": "markdown",
   "metadata": {},
   "source": [
    "Or perhaps more realistically:\n",
    "\n"
   ]
  },
  {
   "cell_type": "code",
   "execution_count": 173,
   "metadata": {},
   "outputs": [
    {
     "ename": "TypeError",
     "evalue": "'str' object is not callable",
     "output_type": "error",
     "traceback": [
      "\u001b[1;31m---------------------------------------------------------------------------\u001b[0m",
      "\u001b[1;31mTypeError\u001b[0m                                 Traceback (most recent call last)",
      "\u001b[1;32m<ipython-input-173-5b15da4e13ed>\u001b[0m in \u001b[0;36m<module>\u001b[1;34m()\u001b[0m\n\u001b[0;32m      3\u001b[0m     \u001b[0mname\u001b[0m \u001b[1;33m=\u001b[0m \u001b[0mperson\u001b[0m\u001b[1;33m[\u001b[0m\u001b[1;36m0\u001b[0m\u001b[1;33m]\u001b[0m\u001b[1;33m\u001b[0m\u001b[0m\n\u001b[0;32m      4\u001b[0m     \u001b[0mscore\u001b[0m \u001b[1;33m=\u001b[0m \u001b[0mperson\u001b[0m\u001b[1;33m[\u001b[0m\u001b[1;36m1\u001b[0m\u001b[1;33m]\u001b[0m\u001b[1;33m\u001b[0m\u001b[0m\n\u001b[1;32m----> 5\u001b[1;33m     \u001b[0mprint\u001b[0m\u001b[1;33m(\u001b[0m\u001b[1;34m\"Hello \"\u001b[0m \u001b[1;33m+\u001b[0m \u001b[0mname\u001b[0m \u001b[1;33m+\u001b[0m \u001b[1;34m\". Your score is \"\u001b[0m \u001b[1;33m+\u001b[0m \u001b[0mstr\u001b[0m\u001b[1;33m(\u001b[0m\u001b[0mscore\u001b[0m\u001b[1;33m)\u001b[0m\u001b[1;33m)\u001b[0m\u001b[1;33m\u001b[0m\u001b[0m\n\u001b[0m",
      "\u001b[1;31mTypeError\u001b[0m: 'str' object is not callable"
     ]
    }
   ],
   "source": [
    "scores = [(\"Rodney Dangerfield\", -1), (\"Marlon Brando\", 1), (\"You\", 100)]\n",
    "for person in scores:\n",
    "    name = person[0]\n",
    "    score = person[1]\n",
    "    print(\"Hello \" + name + \". Your score is \" + str(score))"
   ]
  },
  {
   "cell_type": "markdown",
   "metadata": {},
   "source": [
    "In this section, you will learn to write that in a more readable way:"
   ]
  },
  {
   "cell_type": "code",
   "execution_count": 172,
   "metadata": {},
   "outputs": [
    {
     "name": "stdout",
     "output_type": "stream",
     "text": [
      "Hello Rodney Dangerfield. Your score is -1.\n",
      "Hello Marlon Brando. Your score is 1.\n",
      "Hello You. Your score is 100.\n"
     ]
    }
   ],
   "source": [
    "scores = [(\"Rodney Dangerfield\", -1), (\"Marlon Brando\", 1), (\"You\", 100)]\n",
    "for person in scores:\n",
    "    name = person[0]\n",
    "    score = person[1]\n",
    "    print(\"Hello {}. Your score is {}.\".format(name, score))"
   ]
  },
  {
   "cell_type": "markdown",
   "metadata": {},
   "source": [
    "In grade school quizzes a common convention is to use fill-in-the blanks. For instance,\n",
    "\n",
    "Hello _____!\n",
    "\n",
    "and you can fill in the name of the person greeted, and combine given text with a chosen insertion. **We use this as an analogy**: Python has a similar construction, better called fill-in-the-braces. The string method format, makes substitutions into places in a string enclosed in braces. Run this code:"
   ]
  },
  {
   "cell_type": "code",
   "execution_count": 174,
   "metadata": {},
   "outputs": [
    {
     "name": "stdout",
     "output_type": "stream",
     "text": [
      "Your name: Zeki\n",
      "Hello Zeki!\n"
     ]
    }
   ],
   "source": [
    "person = input('Your name: ')\n",
    "greeting = 'Hello {}!'.format(person)\n",
    "print(greeting)"
   ]
  },
  {
   "cell_type": "markdown",
   "metadata": {},
   "source": [
    "There are several new ideas here!\n",
    "\n",
    "The string for the `format` method has a special form, `with braces embedded`. Such a string is called a `format` string. **Places where braces are embedded are replaced by the value of an expression taken from the parameter list for the format method**. There are many variations on the syntax between the braces. In this case we use the syntax where the first (and only) location in the string with braces has a substitution made from the first (and only) parameter.\n",
    "\n",
    "In the code above, **this new string is assigned to the identifier `greeting`**, and then the string is printed.\n",
    "\n",
    "**The identifier `greeting` was introduced to break the operations into a clearer sequence of steps**. However, since the value of `greeting` is only referenced once, it can be eliminated with the more concise version:"
   ]
  },
  {
   "cell_type": "code",
   "execution_count": 175,
   "metadata": {},
   "outputs": [
    {
     "name": "stdout",
     "output_type": "stream",
     "text": [
      "Enter your name: Zeki\n",
      "Hello Zeki!\n"
     ]
    }
   ],
   "source": [
    "person = input('Enter your name: ')\n",
    "print('Hello {}!'.format(person))"
   ]
  },
  {
   "cell_type": "markdown",
   "metadata": {},
   "source": [
    "There can be multiple substitutions, with data of any type. **Next we use floats**. Try original price $2.50 with a 7% discount:"
   ]
  },
  {
   "cell_type": "code",
   "execution_count": 176,
   "metadata": {},
   "outputs": [
    {
     "name": "stdout",
     "output_type": "stream",
     "text": [
      "Enter the original price: $250\n",
      "Enter discount percentage: 5\n",
      "$250.0 discounted by 5.0% is $237.5.\n"
     ]
    }
   ],
   "source": [
    "origPrice = float(input('Enter the original price: $'))\n",
    "discount = float(input('Enter discount percentage: '))\n",
    "newPrice = (1 - discount/100)*origPrice\n",
    "calculation = '${} discounted by {}% is ${}.'.format(origPrice, discount, newPrice)\n",
    "print(calculation)"
   ]
  },
  {
   "cell_type": "markdown",
   "metadata": {},
   "source": [
    "It is important to pass arguments to the format method in the correct order, because they are matched **positionally into the {} places for interpolation where there is more than one.\n",
    "\n",
    "If you used the data suggested, this result is not satisfying. Prices should appear with exactly two places beyond the decimal point, but that is not the default way to display floats.\n",
    "\n",
    "**Format strings can give further information inside the braces showing how to specially format data. In particular floats can be shown with a specific number of decimal places. For two decimal places, put `:.2f` inside the braces for the monetary values**:"
   ]
  },
  {
   "cell_type": "code",
   "execution_count": 177,
   "metadata": {},
   "outputs": [
    {
     "name": "stdout",
     "output_type": "stream",
     "text": [
      "Enter the original price: $55\n",
      "Enter discount percentage: 4\n",
      "$55.00 discounted by 4.0% is $52.80.\n"
     ]
    }
   ],
   "source": [
    "origPrice = float(input('Enter the original price: $'))\n",
    "discount = float(input('Enter discount percentage: '))\n",
    "newPrice = (1 - discount/100)*origPrice\n",
    "calculation = '${:.2f} discounted by {}% is ${:.2f}.'.format(origPrice, discount, newPrice)\n",
    "print(calculation)"
   ]
  },
  {
   "cell_type": "markdown",
   "metadata": {},
   "source": [
    "The 2 in the format modifier can be replaced by another integer to round to that specified number of digits.\n",
    "**This kind of format string depends directly on the order of the parameters to the format method**. \n",
    "\n",
    "It is also important that you give format the same amount of arguments as there are `{}` waiting for interpolation in the string. If you have a `{}` in a string that you do not pass arguments for, you may not get an error, but you will see a weird `undefined` value you probably did not intend suddenly inserted into your string. You can see an example below.\n",
    "\n",
    "For example,"
   ]
  },
  {
   "cell_type": "code",
   "execution_count": 179,
   "metadata": {},
   "outputs": [
    {
     "name": "stdout",
     "output_type": "stream",
     "text": [
      "Hello, Sally. Nice to meet you.\n",
      "Hello, Nice to meet you. Sally.\n"
     ]
    }
   ],
   "source": [
    "name = \"Sally\"\n",
    "greeting = \"Nice to meet you\"\n",
    "s = \"Hello, {}. {}.\"\n",
    "print(s.format(name,greeting)) # will print Hello, Sally. Nice to meet you.\n",
    "print(s.format(greeting,name)) # will print Hello, Nice to meet you. Sally.\n",
    "# print(s.format(name)) # 2 {}s, only one interpolation item! Not ideal."
   ]
  },
  {
   "cell_type": "markdown",
   "metadata": {},
   "source": [
    "**A technical point**: Since braces have special meaning in a format string, there must be a special rule if you want braces to actually be included in the final `formatted string`. The rule is to double the braces: `\\{\\{ and \\}\\}`. For example mathematical set notation uses braces. The initial and final doubled braces in the format string below generate literal braces in the formatted string:"
   ]
  },
  {
   "cell_type": "code",
   "execution_count": 183,
   "metadata": {},
   "outputs": [
    {
     "ename": "ValueError",
     "evalue": "unexpected '{' in field name",
     "output_type": "error",
     "traceback": [
      "\u001b[1;31m---------------------------------------------------------------------------\u001b[0m",
      "\u001b[1;31mValueError\u001b[0m                                Traceback (most recent call last)",
      "\u001b[1;32m<ipython-input-183-620c46fff012>\u001b[0m in \u001b[0;36m<module>\u001b[1;34m()\u001b[0m\n\u001b[0;32m      1\u001b[0m \u001b[0ma\u001b[0m \u001b[1;33m=\u001b[0m \u001b[1;36m5\u001b[0m\u001b[1;33m\u001b[0m\u001b[0m\n\u001b[0;32m      2\u001b[0m \u001b[0mb\u001b[0m \u001b[1;33m=\u001b[0m \u001b[1;36m9\u001b[0m\u001b[1;33m\u001b[0m\u001b[0m\n\u001b[1;32m----> 3\u001b[1;33m \u001b[0msetStr\u001b[0m \u001b[1;33m=\u001b[0m \u001b[1;34m'The set is \\{\\{\\{}, {}}}.'\u001b[0m\u001b[1;33m.\u001b[0m\u001b[0mformat\u001b[0m\u001b[1;33m(\u001b[0m\u001b[0ma\u001b[0m\u001b[1;33m,\u001b[0m \u001b[0mb\u001b[0m\u001b[1;33m)\u001b[0m\u001b[1;33m\u001b[0m\u001b[0m\n\u001b[0m\u001b[0;32m      4\u001b[0m \u001b[0mprint\u001b[0m\u001b[1;33m(\u001b[0m\u001b[0msetStr\u001b[0m\u001b[1;33m)\u001b[0m\u001b[1;33m\u001b[0m\u001b[0m\n",
      "\u001b[1;31mValueError\u001b[0m: unexpected '{' in field name"
     ]
    }
   ],
   "source": [
    "a = 5\n",
    "b = 9\n",
    "setStr = 'The set is \\{\\{\\{}, {}}}.'.format(a, b)\n",
    "print(setStr)"
   ]
  },
  {
   "cell_type": "markdown",
   "metadata": {},
   "source": [
    "Unfortunately, at the time of this writing, the ActiveCode format implementation has a bug, printing doubled braces, but standard Python prints `{5, 9}`."
   ]
  },
  {
   "cell_type": "code",
   "execution_count": 184,
   "metadata": {},
   "outputs": [
    {
     "name": "stdout",
     "output_type": "stream",
     "text": [
      "The set is {5, 9}.\n"
     ]
    }
   ],
   "source": [
    "a = 5\n",
    "b = 9\n",
    "setStr = 'The set is {{{}, {}}}.'.format(a, b)\n",
    "print(setStr)"
   ]
  },
  {
   "cell_type": "code",
   "execution_count": 185,
   "metadata": {},
   "outputs": [
    {
     "name": "stdout",
     "output_type": "stream",
     "text": [
      "sum of 2 and 6 is 8; product: 12.\n"
     ]
    }
   ],
   "source": [
    "# What is printed by the following statements?\n",
    "\n",
    "x = 2\n",
    "y = 6\n",
    "print('sum of {} and {} is {}; product: {}.'.format( x, y, x+y, x*y))"
   ]
  },
  {
   "cell_type": "code",
   "execution_count": 186,
   "metadata": {},
   "outputs": [
    {
     "name": "stdout",
     "output_type": "stream",
     "text": [
      "2.3 2.35 2.3456700\n"
     ]
    }
   ],
   "source": [
    "# What is printed by the following statements?\n",
    "\n",
    "v = 2.34567\n",
    "print('{:.1f} {:.2f} {:.7f}'.format(v, v, v))"
   ]
  },
  {
   "cell_type": "markdown",
   "metadata": {},
   "source": [
    "#### Course 1 assessment 9"
   ]
  },
  {
   "cell_type": "markdown",
   "metadata": {},
   "source": [
    "1. Write code to add `‘horseback riding’` to the third position (i.e., right before volleyball) in the list sports.\n",
    "\n"
   ]
  },
  {
   "cell_type": "code",
   "execution_count": 191,
   "metadata": {},
   "outputs": [
    {
     "name": "stdout",
     "output_type": "stream",
     "text": [
      "['cricket', 'football', 'volleyball', 'horseback riding', 'baseball', 'softball', 'track and field', 'curling', 'ping pong', 'hockey']\n"
     ]
    }
   ],
   "source": [
    "sports = ['cricket', 'football', 'volleyball', 'baseball', 'softball', 'track and field', 'curling', 'ping pong', 'hockey']\n",
    "sports.insert(2, \"horseback riding\")\n",
    "print(sports)"
   ]
  },
  {
   "cell_type": "markdown",
   "metadata": {},
   "source": [
    "2. Write code to take ‘London’ out of the list trav_dest.\n",
    "\n"
   ]
  },
  {
   "cell_type": "code",
   "execution_count": 192,
   "metadata": {},
   "outputs": [
    {
     "name": "stdout",
     "output_type": "stream",
     "text": [
      "['Beirut', 'Milan', 'Pittsburgh', 'Buenos Aires', 'Nairobi', 'Kathmandu', 'Osaka', 'Melbourne']\n"
     ]
    }
   ],
   "source": [
    "trav_dest = ['Beirut', 'Milan', 'Pittsburgh', 'Buenos Aires', 'Nairobi', 'Kathmandu', 'Osaka', 'London', 'Melbourne']\n",
    "#trav_dest.remove(\"London\")\n",
    "trav_dest.pop(7)\n",
    "print(trav_dest)"
   ]
  },
  {
   "cell_type": "markdown",
   "metadata": {},
   "source": [
    "3. Write code to add ‘Guadalajara’ to the end of the list trav_dest using a list method.\n",
    "\n"
   ]
  },
  {
   "cell_type": "code",
   "execution_count": 193,
   "metadata": {},
   "outputs": [
    {
     "name": "stdout",
     "output_type": "stream",
     "text": [
      "['Beirut', 'Milan', 'Pittsburgh', 'Buenos Aires', 'Nairobi', 'Kathmandu', 'Osaka', 'Melbourne', 'Guadalajara']\n"
     ]
    }
   ],
   "source": [
    "trav_dest = ['Beirut', 'Milan', 'Pittsburgh', 'Buenos Aires', 'Nairobi', 'Kathmandu', 'Osaka', 'Melbourne']\n",
    "trav_dest.append(\"Guadalajara\") # append method Adds an element at the end of the list\n",
    "print(trav_dest)\n"
   ]
  },
  {
   "cell_type": "markdown",
   "metadata": {},
   "source": [
    "4. Write code to rearrange the strings in the list `winners` so that they are in alphabetical order from A to Z."
   ]
  },
  {
   "cell_type": "code",
   "execution_count": 205,
   "metadata": {},
   "outputs": [
    {
     "name": "stdout",
     "output_type": "stream",
     "text": [
      "['Alice Munro', 'Alvin E. Roth', 'Kazuo Ishiguro', 'Malala Yousafzai', 'Rainer Weiss', 'Youyou Tu']\n"
     ]
    }
   ],
   "source": [
    "winners = ['Kazuo Ishiguro', 'Rainer Weiss', 'Youyou Tu', 'Malala Yousafzai', 'Alice Munro', 'Alvin E. Roth']\n",
    "winners.sort()\n",
    "print(winners)"
   ]
  },
  {
   "cell_type": "markdown",
   "metadata": {},
   "source": [
    "5. Write code to switch the order of the `winners` list so that it is now Z to A. Assign this list to the variable z_winners.\n"
   ]
  },
  {
   "cell_type": "code",
   "execution_count": 206,
   "metadata": {},
   "outputs": [
    {
     "name": "stdout",
     "output_type": "stream",
     "text": [
      "['Youyou Tu', 'Rainer Weiss', 'Malala Yousafzai', 'Kazuo Ishiguro', 'Alvin E. Roth', 'Alice Munro']\n"
     ]
    }
   ],
   "source": [
    "z_winners = winners\n",
    "z_winners.reverse()\n",
    "print(z_winners)"
   ]
  },
  {
   "cell_type": "markdown",
   "metadata": {},
   "source": [
    "## Accumulating Lists and Strings"
   ]
  },
  {
   "cell_type": "markdown",
   "metadata": {},
   "source": [
    "### The Accumulator Pattern with Lists\n",
    "We can accumulate values into a list rather than accumulating a single numeric value. Consider, for example, the following program which **transforms a list into a new list** by squaring each of the values."
   ]
  },
  {
   "cell_type": "code",
   "execution_count": 196,
   "metadata": {},
   "outputs": [
    {
     "name": "stdout",
     "output_type": "stream",
     "text": [
      "[9, 25, 64]\n"
     ]
    }
   ],
   "source": [
    "nums = [3, 5, 8]\n",
    "accum = []\n",
    "for w in nums:\n",
    "    x = w**2\n",
    "    accum.append(x)\n",
    "print(accum)"
   ]
  },
  {
   "cell_type": "markdown",
   "metadata": {},
   "source": [
    "Here, we **initialize** the accumulator variable to be an empty list, on line 2.\n",
    "\n",
    "We **iterate** through the sequence (line 3). On each iteration we transform the item by squaring it (line 4).\n",
    "\n",
    "The **update** step appends the new item to the list which is stored in the accumulator variable (line 5). The update happens using the `.append()`, **which mutates the list rather than using a reassignment**. Instead, we could have written `accum = accum + [x]`, or `accum += [x]`. In either case, we’d need to concatenate a list containing `x`, not just `x` itself.\n",
    "\n",
    "At the end, we have accumulated a new list of the same length as the original, but with each item transformed into a new item. This is called a mapping operation, and we will revisit it in a later chapter.\n",
    "\n",
    "Note how this differs from mutating the original list, as you saw in a previous section."
   ]
  },
  {
   "cell_type": "code",
   "execution_count": 197,
   "metadata": {},
   "outputs": [
    {
     "name": "stdout",
     "output_type": "stream",
     "text": [
      "[9, 7, 13, 11, 10]\n"
     ]
    }
   ],
   "source": [
    "# What is printed by the following statements?\n",
    "alist = [4,2,8,6,5]\n",
    "blist = [ ]\n",
    "for item in alist:\n",
    "   blist.append(item+5)\n",
    "print(blist)"
   ]
  },
  {
   "cell_type": "code",
   "execution_count": 198,
   "metadata": {},
   "outputs": [
    {
     "name": "stdout",
     "output_type": "stream",
     "text": [
      "[8, 5, 14, 9, 6, 12]\n"
     ]
    }
   ],
   "source": [
    "# What is printed by the following statements?\n",
    "lst= [3,0,9,4,1,7]\n",
    "new_list=[]\n",
    "for i in range(len(lst)):\n",
    "   new_list.append(lst[i]+5)\n",
    "print(new_list)"
   ]
  },
  {
   "cell_type": "code",
   "execution_count": 202,
   "metadata": {},
   "outputs": [
    {
     "data": {
      "text/plain": [
       "[0, 1, 2, 3, 4, 5]"
      ]
     },
     "execution_count": 202,
     "metadata": {},
     "output_type": "execute_result"
    }
   ],
   "source": [
    "list(range(len(lst)))"
   ]
  },
  {
   "cell_type": "markdown",
   "metadata": {},
   "source": [
    "For each word in the list `verb`, add an `-ing` ending. Save this new list in a new list, `ing`."
   ]
  },
  {
   "cell_type": "code",
   "execution_count": 203,
   "metadata": {},
   "outputs": [
    {
     "name": "stdout",
     "output_type": "stream",
     "text": [
      "['kayaking', 'crying', 'walking', 'eating', 'drinking', 'flying']\n"
     ]
    }
   ],
   "source": [
    "verbs = [\"kayak\", \"cry\", \"walk\", \"eat\", \"drink\", \"fly\"]\n",
    "ing = []\n",
    "for words in verbs:\n",
    "    ing.append(words+\"ing\")\n",
    "print(ing)"
   ]
  },
  {
   "cell_type": "markdown",
   "metadata": {},
   "source": [
    "Given the list of numbers, `numbs`, create a new list of those same numbers increased by 5. Save this new list to the variable `newlist`."
   ]
  },
  {
   "cell_type": "code",
   "execution_count": 204,
   "metadata": {},
   "outputs": [
    {
     "name": "stdout",
     "output_type": "stream",
     "text": [
      "[10, 15, 20, 25, 30]\n"
     ]
    }
   ],
   "source": [
    "numbs = [5, 10, 15, 20, 25]\n",
    "newlist = []\n",
    "for i in numbs:\n",
    "    newlist.append(i+5)\n",
    "print(newlist)"
   ]
  },
  {
   "cell_type": "markdown",
   "metadata": {},
   "source": [
    "**Challenge** Now do the same as in the previous problem, but do not create a new list. Overwrite the list `numbs` so that each of the original numbers are increased by 5."
   ]
  },
  {
   "cell_type": "code",
   "execution_count": null,
   "metadata": {},
   "outputs": [],
   "source": []
  },
  {
   "cell_type": "markdown",
   "metadata": {},
   "source": [
    "For each number in `lst_nums`, multiply that number by 2 and append it to a new list called `larger_nums`.\n",
    "\n"
   ]
  },
  {
   "cell_type": "code",
   "execution_count": 1,
   "metadata": {},
   "outputs": [
    {
     "name": "stdout",
     "output_type": "stream",
     "text": [
      "[8, 58, 10.6, 20, 4, 3634, 3934, 18, 62.64]\n"
     ]
    }
   ],
   "source": [
    "lst_nums = [4, 29, 5.3, 10, 2, 1817, 1967, 9, 31.32]\n",
    "larger_nums = []\n",
    "for i in lst_nums:\n",
    "    larger_nums.append(i*2)\n",
    "print(larger_nums)\n"
   ]
  },
  {
   "cell_type": "markdown",
   "metadata": {},
   "source": [
    "### The Accumulator Pattern with Strings"
   ]
  },
  {
   "cell_type": "code",
   "execution_count": 7,
   "metadata": {},
   "outputs": [
    {
     "name": "stdout",
     "output_type": "stream",
     "text": [
      "Enter some textXYZ\n",
      "X-X-Y-Y-Z-Z-\n"
     ]
    }
   ],
   "source": [
    "s = input(\"Enter some text\")\n",
    "ac = \"\"\n",
    "for c in s:\n",
    "    ac = ac + c + \"-\" + c + \"-\"\n",
    "print(ac)"
   ]
  },
  {
   "cell_type": "markdown",
   "metadata": {},
   "source": [
    "Look carefully at line 4 in the above program `(ac = ac + c + \"-\" + c + \"-\")`. In words, it says that the new value of `ac` will be the old value of ac concatenated with the current character, a dash, then the current character and a dash again. We are building the result string character by character.\n",
    "\n",
    "Take a close look also at the initialization of `ac`. We start with an empty string and then begin adding new characters to the end. Also note that I have given it a different name this time, `ac` instead of `accum`. There’s nothing magical about these names. You could use any valid variable and it would work the same (try substituting `x` for `ac` everywhere in the above code)."
   ]
  },
  {
   "cell_type": "code",
   "execution_count": 10,
   "metadata": {},
   "outputs": [
    {
     "name": "stdout",
     "output_type": "stream",
     "text": [
      "Enter some textWW\n",
      "W-W-W-W-\n"
     ]
    }
   ],
   "source": [
    "# for clear understanding of the above ac = ac = empty\n",
    "s = input(\"Enter some text\")\n",
    "x = \"\"\n",
    "for c in s:\n",
    "    x = x + c + \"-\" + c + \"-\"\n",
    "print(x)"
   ]
  },
  {
   "cell_type": "markdown",
   "metadata": {},
   "source": [
    "#### Check your understanding\n",
    "\n",
    "What is printed by the following statements:"
   ]
  },
  {
   "cell_type": "code",
   "execution_count": 11,
   "metadata": {},
   "outputs": [
    {
     "name": "stdout",
     "output_type": "stream",
     "text": [
      "LLAB\n"
     ]
    }
   ],
   "source": [
    "s = \"ball\"\n",
    "r = \"\"\n",
    "for item in s:\n",
    "   r = item.upper() + r\n",
    "print(r)"
   ]
  },
  {
   "cell_type": "markdown",
   "metadata": {},
   "source": [
    "**Yes, the order is reversed due to the order of the concatenation**."
   ]
  },
  {
   "cell_type": "markdown",
   "metadata": {},
   "source": [
    "For each character in the string already saved in the variable `str1`, add each character to a list called `chars`."
   ]
  },
  {
   "cell_type": "code",
   "execution_count": 17,
   "metadata": {},
   "outputs": [
    {
     "name": "stdout",
     "output_type": "stream",
     "text": [
      "['I', ' ', 'l', 'o', 'v', 'e', ' ', 'p', 'y', 't', 'h', 'o', 'n']\n"
     ]
    }
   ],
   "source": [
    "str1 = \"I love python\"\n",
    "#str2 = str1.split()\n",
    "# HINT: what's the accumulator? That should go here.\n",
    "chars3 = \"\".join(str1)\n",
    "chars = []\n",
    "for i in chars3:\n",
    "    chars.append(i)\n",
    "print(chars)"
   ]
  },
  {
   "cell_type": "markdown",
   "metadata": {},
   "source": [
    "Assign an empty string to the variable output. Using the range function, write code to make it so that the variable output has 35 a s inside it (like \"aaaaaaaaaaaaaaaaaaaaaaaaaaaaaaaaaaa\"). Hint: use the accumulation pattern!\n"
   ]
  },
  {
   "cell_type": "code",
   "execution_count": 21,
   "metadata": {},
   "outputs": [
    {
     "name": "stdout",
     "output_type": "stream",
     "text": [
      "aaaaaaaaaaaaaaaaaaaaaaaaaaaaaaaaaaa\n"
     ]
    }
   ],
   "source": [
    "output = \"\"\n",
    "for i in range(35): \n",
    "    output += \"a\"\n",
    "print(output)"
   ]
  },
  {
   "cell_type": "markdown",
   "metadata": {},
   "source": [
    "**For a number, you usually initialize the accumulator to zero. For a list, you initialize it to an empty list. For a string, you initialize the accumulator to an empty string.**"
   ]
  },
  {
   "cell_type": "markdown",
   "metadata": {},
   "source": [
    "## Course 1 Assessment 10\n"
   ]
  },
  {
   "cell_type": "code",
   "execution_count": 22,
   "metadata": {},
   "outputs": [
    {
     "name": "stdout",
     "output_type": "stream",
     "text": [
      "h!\n",
      "e!\n",
      "l!\n",
      "l!\n",
      "o!\n",
      " !\n",
      "w!\n",
      "o!\n",
      "r!\n",
      "l!\n",
      "d!\n",
      "!!\n"
     ]
    }
   ],
   "source": [
    "# Which of these is the accumulator variable?\n",
    "byzo = 'hello world!'\n",
    "c = 0\n",
    "for x in byzo:\n",
    "    z = x + \"!\"\n",
    "    print(z)\n",
    "    c = c + 1"
   ]
  },
  {
   "cell_type": "markdown",
   "metadata": {},
   "source": [
    "### Accumulator Pattern Strategies\n",
    "**When to Use it**\n",
    "\n",
    "Learning to use the accumulator pattern can be similarly confusing. The first step is to recognizing something in the problem statement that suggests an accumulation pattern. Here are a few. You might want to try adding some more of your own.\n",
    "![image](img/03Capture.PNG)"
   ]
  },
  {
   "cell_type": "markdown",
   "metadata": {},
   "source": [
    "#### Before Writing it\n",
    "Before writing any code, we recommend that you first answer the following questions:\n",
    "\n",
    "* What sequence will you iterate through as you accumulate a result? \n",
    "It could be a range of numbers, the letters in a string, or some existing list that you have just as a list of names.\n",
    "\n",
    "* What type of value will you accumulate? \n",
    "    - If your final result will be a number, your accumulator will start out with a number and always have a number even as it is updated each time. \n",
    "    - Similarly, if your final result will be a list, start with a list. \n",
    "    - If your final result will be a string, you’ll probably want to start with a string; one other option is to accumulate a list of strings and then use the `.join()` method at the end to concatenate them all together."
   ]
  },
  {
   "cell_type": "markdown",
   "metadata": {},
   "source": [
    "### Don’t Mutate A List That You Are Iterating Through\n",
    "So far we’ve shown you how to iterate through a list:"
   ]
  },
  {
   "cell_type": "code",
   "execution_count": 25,
   "metadata": {},
   "outputs": [
    {
     "name": "stdout",
     "output_type": "stream",
     "text": [
      "Red\n",
      "Orange\n",
      "Yellow\n",
      "Green\n",
      "Blue\n",
      "Indigo\n",
      "Violet\n"
     ]
    }
   ],
   "source": [
    "colors = [\"Red\", \"Orange\", \"Yellow\", \"Green\", \"Blue\", \"Indigo\", \"Violet\"]\n",
    "for color in colors:\n",
    "    print(color)"
   ]
  },
  {
   "cell_type": "markdown",
   "metadata": {},
   "source": [
    "As well as accumulate a list by appending or deleting items!\n",
    "\n"
   ]
  },
  {
   "cell_type": "code",
   "execution_count": 26,
   "metadata": {},
   "outputs": [
    {
     "name": "stdout",
     "output_type": "stream",
     "text": [
      "['R', 'O', 'Y', 'G', 'B', 'I', 'V']\n"
     ]
    }
   ],
   "source": [
    "colors = [\"Red\", \"Orange\", \"Yellow\", \"Green\", \"Blue\", \"Indigo\", \"Violet\"]\n",
    "initials = []\n",
    "for color in colors:\n",
    "    initials.append(color[0])\n",
    "print(initials)"
   ]
  },
  {
   "cell_type": "markdown",
   "metadata": {},
   "source": [
    "You may be tempted now to iterate through a list and accumulate some data into it or delete data from it, however that often becomes very confusing. In the following code we will filter out all words that begin with P, B, or T."
   ]
  },
  {
   "cell_type": "code",
   "execution_count": 27,
   "metadata": {},
   "outputs": [
    {
     "name": "stdout",
     "output_type": "stream",
     "text": [
      "Red\n",
      "Orange\n",
      "Yellow\n",
      "Green\n",
      "Blue\n",
      "Violet\n",
      "Purple\n",
      "Brown\n",
      "Turquois\n",
      "Beige\n"
     ]
    },
    {
     "ename": "IndexError",
     "evalue": "list index out of range",
     "output_type": "error",
     "traceback": [
      "\u001b[1;31m---------------------------------------------------------------------------\u001b[0m",
      "\u001b[1;31mIndexError\u001b[0m                                Traceback (most recent call last)",
      "\u001b[1;32m<ipython-input-27-3406d8ece12e>\u001b[0m in \u001b[0;36m<module>\u001b[1;34m()\u001b[0m\n\u001b[0;32m      2\u001b[0m \u001b[1;33m\u001b[0m\u001b[0m\n\u001b[0;32m      3\u001b[0m \u001b[1;32mfor\u001b[0m \u001b[0mposition\u001b[0m \u001b[1;32min\u001b[0m \u001b[0mrange\u001b[0m\u001b[1;33m(\u001b[0m\u001b[0mlen\u001b[0m\u001b[1;33m(\u001b[0m\u001b[0mcolors\u001b[0m\u001b[1;33m)\u001b[0m\u001b[1;33m)\u001b[0m\u001b[1;33m:\u001b[0m\u001b[1;33m\u001b[0m\u001b[0m\n\u001b[1;32m----> 4\u001b[1;33m     \u001b[0mcolor\u001b[0m \u001b[1;33m=\u001b[0m \u001b[0mcolors\u001b[0m\u001b[1;33m[\u001b[0m\u001b[0mposition\u001b[0m\u001b[1;33m]\u001b[0m\u001b[1;33m\u001b[0m\u001b[0m\n\u001b[0m\u001b[0;32m      5\u001b[0m     \u001b[0mprint\u001b[0m\u001b[1;33m(\u001b[0m\u001b[0mcolor\u001b[0m\u001b[1;33m)\u001b[0m\u001b[1;33m\u001b[0m\u001b[0m\n\u001b[0;32m      6\u001b[0m     \u001b[1;32mif\u001b[0m \u001b[0mcolor\u001b[0m\u001b[1;33m[\u001b[0m\u001b[1;36m0\u001b[0m\u001b[1;33m]\u001b[0m \u001b[1;32min\u001b[0m \u001b[1;33m[\u001b[0m\u001b[1;34m\"P\"\u001b[0m\u001b[1;33m,\u001b[0m \u001b[1;34m\"B\"\u001b[0m\u001b[1;33m,\u001b[0m \u001b[1;34m\"T\"\u001b[0m\u001b[1;33m]\u001b[0m\u001b[1;33m:\u001b[0m\u001b[1;33m\u001b[0m\u001b[0m\n",
      "\u001b[1;31mIndexError\u001b[0m: list index out of range"
     ]
    }
   ],
   "source": [
    "colors = [\"Red\", \"Orange\", \"Yellow\", \"Green\", \"Blue\", \"Indigo\", \"Violet\", \"Purple\", \"Pink\", \"Brown\", \"Teal\", \"Turquois\", \"Peach\", \"Beige\"]\n",
    "\n",
    "for position in range(len(colors)):\n",
    "    color = colors[position]\n",
    "    print(color)\n",
    "    if color[0] in [\"P\", \"B\", \"T\"]:\n",
    "        del colors[position]\n",
    "\n",
    "print(colors)"
   ]
  },
  {
   "cell_type": "markdown",
   "metadata": {},
   "source": [
    "colors = [\"Red\", \"Orange\", \"Yellow\", \"Green\", \"Blue\", \"Indigo\", \"Violet\"]\n",
    "\n",
    "for color in colors:\n",
    "\n",
    "    if color[0] in [\"A\", \"E\", \"I\", \"O\", \"U\"]:\n",
    "        colors.append(color)\n",
    "print(colors)"
   ]
  },
  {
   "cell_type": "markdown",
   "metadata": {},
   "source": [
    "Though there is not an error, the behavior may not be expected. When we come across a color that begins with a vowel, that color is added to the end of the list. Again, because Python does not reevaluate the iterator variable we are not stuck adding colors that start with vowels for an infinite number of times. That’s good in this case! Ultimately though, it can be confusing to write code like this. We recommend not iterating over a list that you will be mutating within the for loop."
   ]
  },
  {
   "cell_type": "markdown",
   "metadata": {},
   "source": [
    "## Course 1 Assessment 11"
   ]
  },
  {
   "cell_type": "markdown",
   "metadata": {},
   "source": [
    "seqmut-1-4: What will be the value of a after the following code has executed?"
   ]
  },
  {
   "cell_type": "code",
   "execution_count": 1,
   "metadata": {},
   "outputs": [
    {
     "name": "stdout",
     "output_type": "stream",
     "text": [
      "['holiday', 'celebrate!', 'company']\n"
     ]
    }
   ],
   "source": [
    "\n",
    "a = [\"holiday\", \"celebrate!\"]\n",
    "quiet = a\n",
    "quiet.append(\"company\")\n",
    "print(a)"
   ]
  },
  {
   "cell_type": "markdown",
   "metadata": {},
   "source": [
    "seqmut-1-13: Given that we want to accumulate the **total sum of a list of numbers**, which of the following accumulator patterns would be appropriate?"
   ]
  },
  {
   "cell_type": "code",
   "execution_count": 4,
   "metadata": {},
   "outputs": [
    {
     "name": "stdout",
     "output_type": "stream",
     "text": [
      "112\n"
     ]
    }
   ],
   "source": [
    "nums = [4, 5, 2, 93, 3, 5]\n",
    "s = 0\n",
    "for n in nums:\n",
    "    s = s + n\n",
    "print(s)"
   ]
  },
  {
   "cell_type": "markdown",
   "metadata": {},
   "source": [
    "seqmut-1-14: Given that we want to accumulate the **total number of strings in the list**, which of the following accumulator patterns would be appropriate?"
   ]
  },
  {
   "cell_type": "code",
   "execution_count": 5,
   "metadata": {},
   "outputs": [
    {
     "name": "stdout",
     "output_type": "stream",
     "text": [
      "3\n"
     ]
    }
   ],
   "source": [
    "\n",
    "lst = ['plan', 'answer', 5, 9.29, 'order, items', [4]]\n",
    "s = 0\n",
    "for item in lst:\n",
    "    if type(item) == type(\"string\"):\n",
    "        s = s + 1\n",
    "print(s)"
   ]
  },
  {
   "cell_type": "markdown",
   "metadata": {},
   "source": [
    "For each character in the string saved in ael, append that character to a list that should be saved in a variable app."
   ]
  },
  {
   "cell_type": "code",
   "execution_count": 6,
   "metadata": {},
   "outputs": [
    {
     "name": "stdout",
     "output_type": "stream",
     "text": [
      "['p', 'y', 't', 'h', 'o', 'n', '!']\n"
     ]
    }
   ],
   "source": [
    "ael = \"python!\"\n",
    "app = []\n",
    "for i in ael:\n",
    "    app.append(i)\n",
    "print(app)"
   ]
  },
  {
   "cell_type": "markdown",
   "metadata": {},
   "source": [
    "For each string in `wrds`, add ‘ed’ to the end of the word (to make the word past tense). Save these past tense words to a list called `past_wrds`."
   ]
  },
  {
   "cell_type": "code",
   "execution_count": 7,
   "metadata": {},
   "outputs": [
    {
     "name": "stdout",
     "output_type": "stream",
     "text": [
      "['ended', 'worked', 'played', 'started', 'walked', 'looked', 'opened', 'rained', 'learned', 'cleaned']\n"
     ]
    }
   ],
   "source": [
    "wrds = [\"end\", 'work', \"play\", \"start\", \"walk\", \"look\", \"open\", \"rain\", \"learn\", \"clean\"]\n",
    "past_wrds = []\n",
    "for wrd in wrds:\n",
    "    past_wrds.append(wrd+\"ed\")\n",
    "print(past_wrds)"
   ]
  },
  {
   "cell_type": "markdown",
   "metadata": {},
   "source": [
    "### Course 1 Assessment 12"
   ]
  },
  {
   "cell_type": "markdown",
   "metadata": {},
   "source": [
    "1. Below are a set of scores that students have received in the past semester. Write code to determine how many are 90 or above and assign that result to the value `a_scores`."
   ]
  },
  {
   "cell_type": "code",
   "execution_count": 9,
   "metadata": {},
   "outputs": [
    {
     "name": "stdout",
     "output_type": "stream",
     "text": [
      "10\n"
     ]
    }
   ],
   "source": [
    "scores = \"67 80 90 78 93 20 79 89 96 97 92 88 79 68 58 90 98 100 79 74 83 88 80 86 85 70 90 100\"\n",
    "scores_split = scores.split(\" \")\n",
    "a_scores = 0\n",
    "for score in scores_split:\n",
    "    score = int(score)\n",
    "    if score >= 90:\n",
    "        a_scores += 1\n",
    "print(a_scores)"
   ]
  },
  {
   "cell_type": "markdown",
   "metadata": {},
   "source": [
    "2. Write code that uses the string stored in `org` and creates an acronym which is assigned to the variable `acro`. Only the first letter of each word should be used, each letter in the acronym should be a capital letter, and there should be nothing to separate the letters of the acronym. Words that should not be included in the acronym are stored in the list `stopwords`. For example, if `org` was assigned the string “hello to world” then the resulting acronym should be “HW”."
   ]
  },
  {
   "cell_type": "code",
   "execution_count": 10,
   "metadata": {},
   "outputs": [
    {
     "name": "stdout",
     "output_type": "stream",
     "text": [
      "OHSE\n"
     ]
    }
   ],
   "source": [
    "stopwords = ['to', 'a', 'for', 'by', 'an', 'am', 'the', 'so', 'it', 'and', \"The\"]\n",
    "org = \"The organization for health, safety, and education\"\n",
    "org_split = org.split(\" \")\n",
    "acro = \"\"\n",
    "for split in org_split:\n",
    "    if split not in stopwords:\n",
    "        acro = acro + split[0]\n",
    "        acro = acro.upper()\n",
    "print(acro)"
   ]
  },
  {
   "cell_type": "markdown",
   "metadata": {},
   "source": [
    "3. Write code that uses the string stored in `sent` and creates an acronym which is assigned to the variable `acro`. The first two letters of each word should be used, each letter in the acronym should be a capital letter, and each element of the acronym should be separated by a “. ” (dot and space). Words that should not be included in the acronym are stored in the list `stopwords`. For example, if `sent` was assigned the string “height and ewok wonder” then the resulting acronym should be “HE. EW. WO”."
   ]
  },
  {
   "cell_type": "code",
   "execution_count": 11,
   "metadata": {},
   "outputs": [
    {
     "name": "stdout",
     "output_type": "stream",
     "text": [
      "WA. EA. AI. AR. VI\n"
     ]
    }
   ],
   "source": [
    "stopwords = ['to', 'a', 'for', 'by', 'an', 'am', 'the', 'so', 'it', 'and', 'The']\n",
    "sent = \"The water earth and air are vital\"\n",
    "sent_split = sent.split(\" \")\n",
    "acro = \"\"\n",
    "for split in sent_split:\n",
    "    if split not in stopwords:\n",
    "        acro = acro + split[0:2]\n",
    "        acro = acro.upper()\n",
    "        if split != sent_split[-1]:\n",
    "            acro += \". \"   \n",
    "print(acro)"
   ]
  },
  {
   "cell_type": "markdown",
   "metadata": {},
   "source": [
    "4. A palindrome is a phrase that, if reversed, would read the exact same. Write code that checks if `p_phrase` is a palindrome by reversing it and then checking if the reversed version is equal to the original. Assign the reversed version of `p_phrase` to the variable `r_phrase` so that we can check your work."
   ]
  },
  {
   "cell_type": "code",
   "execution_count": 30,
   "metadata": {},
   "outputs": [
    {
     "name": "stdout",
     "output_type": "stream",
     "text": [
      "was I tac a ro rac a ti saw\n"
     ]
    }
   ],
   "source": [
    "p_phrase = \"was it a car or a cat I saw\"\n",
    "r_phrase = p_phrase[::-1]\n",
    "print(r_phrase)"
   ]
  },
  {
   "cell_type": "markdown",
   "metadata": {},
   "source": [
    "5. Provided is a list of data about a store’s inventory where each item in the list represents the name of an item, how much is in stock, and how much it costs. Print out each item in the list with the same formatting, using the .format method (not string concatenation). `For example, the first print statment should read The store has 12 shoes, each for 29.99 USD`."
   ]
  },
  {
   "cell_type": "code",
   "execution_count": 31,
   "metadata": {},
   "outputs": [
    {
     "name": "stdout",
     "output_type": "stream",
     "text": [
      "The store has 12 shoes, each for 29.99 USD.\n",
      "The store has 20 shirts, each for 9.99 USD.\n",
      "The store has 25 sweatpants, each for 15.00 USD.\n",
      "The store has 13 scarves, each for 7.75 USD.\n"
     ]
    }
   ],
   "source": [
    "inventory = [\"shoes, 12, 29.99\", \"shirts, 20, 9.99\", \"sweatpants, 25, 15.00\", \"scarves, 13, 7.75\"]\n",
    "for temp in inventory:\n",
    "    temp = temp.split(',')\n",
    "    item = temp[0]\n",
    "    quant = temp[1]\n",
    "    amount = temp[2]\n",
    "    store=\"The store has{} {}, each for{} USD.\"\n",
    "    store=store.format(quant,item,amount)\n",
    "    print(store)"
   ]
  },
  {
   "cell_type": "code",
   "execution_count": null,
   "metadata": {},
   "outputs": [],
   "source": []
  }
 ],
 "metadata": {
  "kernelspec": {
   "display_name": "Python 3",
   "language": "python",
   "name": "python3"
  },
  "language_info": {
   "codemirror_mode": {
    "name": "ipython",
    "version": 3
   },
   "file_extension": ".py",
   "mimetype": "text/x-python",
   "name": "python",
   "nbconvert_exporter": "python",
   "pygments_lexer": "ipython3",
   "version": "3.6.6"
  }
 },
 "nbformat": 4,
 "nbformat_minor": 2
}
