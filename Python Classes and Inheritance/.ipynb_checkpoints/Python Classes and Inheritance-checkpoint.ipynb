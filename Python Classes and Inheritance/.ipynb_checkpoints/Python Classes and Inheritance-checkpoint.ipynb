{
 "cells": [
  {
   "cell_type": "markdown",
   "metadata": {},
   "source": [
    "<h1 style=\"text-align:center\">Python Classes and Inheritance</h1>\n",
    "<h2> Constructing Classes </h2>\n",
    "<h3>  Introduction: Classes and Objects - The Basics </h3>\n",
    "\n",
    "Python is an __object-oriented programming language__. That means it provides features that support object-oriented programming (__OOP__).\n",
    "\n",
    "Object-oriented programming has its roots in the 1960s, but it wasn’t until the mid 1980s that it became the main programming paradigm used in the creation of new software. It was developed as a way to handle the rapidly increasing size and complexity of software systems and to make it easier to modify these large and complex systems over time.\n",
    "\n",
    "Up to now, some of the programs we have been writing use a procedural programming paradigm. In procedural programming the focus is on writing functions or procedures which operate on data. __In object-oriented programming the focus is on the creation of objects which contain both data and functionality together__. Usually, each object definition corresponds to some object or concept in the real world and the functions that operate on that object correspond to the ways real-world objects interact.\n",
    "\n",
    "In Python, every value is actually an object. Whether it be a dictionary, a list, or even an integer, they are all objects. Programs manipulate those objects either by performing computation with them or by asking them to perform methods. To be more specific, we say that an object has a state and a collection of methods that it can perform. (More about methods below.) The state of an object represents those things that the object knows about itself. The state is stored in instance variables. For example, as we have seen with turtle objects, each turtle has a state consisting of the turtle’s position, its color, its heading and so on. Each turtle also has the ability to go forward, backward, or turn right or left. Individual turtles are different in that even though they are all turtles, they differ in the specific values of the individual state attributes (maybe they are in a different location or have a different heading).\n",
    "\n",
    "<h3> User Defined Classes </h3>\n",
    "\n",
    "We’ve already seen classes like str, int, float and list. These were defined by Python and made available for us to use. However, in many cases when we are solving problems we need to create data objects that are related to the problem we are trying to solve. We need to create our own classes.\n",
    "\n",
    "Now that we understand what a `point` object might look like, we can define a new class. We’ll want our points to each have an `x` and a `y` attribute, so our first class definition looks like this.\n",
    "\n",
    "\n",
    "    class Point:\n",
    "    \"\"\" Point class for representing and manipulating x,y coordinates. \"\"\"\n",
    "\n",
    "    def __init__(self):\n",
    "        \"\"\" Create a new point at the origin \"\"\"\n",
    "        self.x = 0\n",
    "        self.y = 0\n",
    "Class definitions can appear anywhere in a program, but they are usually near the beginning (after the `import` statements). The syntax rules for a class definition are the same as for other compound statements. There is a header which begins with the keyword, `class`, followed by the name of the class, and ending with a colon.\n",
    "\n",
    "If the first line after the class header is a string, it becomes the docstring of the class, and will be recognized by various tools. (This is also the way docstrings work in functions.)\n",
    "\n",
    "Every class should have a method with the special name `__init__`. This __initializer method__, often referred to as the constructor, is automatically called whenever a new instance of `Point` is created. It gives the programmer the opportunity to set up the attributes required within the new instance by giving them their initial state values. The `self` parameter (you could choose any other name, but nobody ever does!) is automatically set to reference the newly created object that needs to be initialized.\n"
   ]
  },
  {
   "cell_type": "code",
   "execution_count": 1,
   "metadata": {},
   "outputs": [
    {
     "name": "stdout",
     "output_type": "stream",
     "text": [
      "Nothing seems to have happened with the points\n"
     ]
    }
   ],
   "source": [
    "class Point:\n",
    "    \"\"\" Point class for representing and manipulating x,y coordinates. \"\"\"\n",
    "\n",
    "    def __init__(self):\n",
    "\n",
    "        self.x = 0\n",
    "        self.y = 0\n",
    "\n",
    "p = Point()         # Instantiate an object of type Point\n",
    "q = Point()         # and make a second point\n",
    "\n",
    "print(\"Nothing seems to have happened with the points\")\n"
   ]
  },
  {
   "cell_type": "markdown",
   "metadata": {},
   "source": [
    "During the initialization of the objects, we created two attributes called x and y for each object, and gave them both the value 0. You will note that when you run the program, nothing happens. It turns out that this is not quite the case. In fact, two Points have been created, each having an x and y coordinate with value 0. However, because we have not asked the program to do anything with the points, we don’t see any other result.\n",
    "\n",
    "The following program adds a few print statements. You can see that the output suggests that each one is a `Point object`. However, notice that the `is` operator returns `False` meaning that they are different objects (we will have more to say about this in a later section)."
   ]
  },
  {
   "cell_type": "code",
   "execution_count": 2,
   "metadata": {},
   "outputs": [
    {
     "name": "stdout",
     "output_type": "stream",
     "text": [
      "<__main__.Point object at 0x0000000005095A90>\n",
      "<__main__.Point object at 0x0000000005095A20>\n",
      "False\n"
     ]
    }
   ],
   "source": [
    "class Point:\n",
    "    \"\"\" Point class for representing and manipulating x,y coordinates. \"\"\"\n",
    "\n",
    "    def __init__(self):\n",
    "\n",
    "        self.x = 0\n",
    "        self.y = 0\n",
    "\n",
    "p = Point()         # Instantiate an object of type Point\n",
    "q = Point()         # and make a second point\n",
    "\n",
    "print(p)\n",
    "print(q)\n",
    "\n",
    "print(p is q)\n"
   ]
  },
  {
   "cell_type": "markdown",
   "metadata": {},
   "source": [
    "A function like `Point` that creates a new object instance is called a __constructor__. Every class automatically uses the name of the class as the name of the constructor function. The definition of the constructor function is done when you write the `__init__` function (method) inside the class definition.\n",
    "\n",
    "It may be helpful to think of a class as a factory for making objects. The class itself isn’t an instance of a point, but it contains the machinery to make point instances. Every time you call the constructor, you’re asking the factory to make you a new object. As the object comes off the production line, its initialization method is executed to get the object properly set up with it’s factory default settings.\n",
    "\n",
    "The combined process of “make me a new object” and “get its settings initialized to the factory default settings” is called __instantiation__."
   ]
  },
  {
   "cell_type": "markdown",
   "metadata": {},
   "source": [
    "___\n",
    "\n",
    "##### Additional Example: Creating Class and Object in Python\n",
    "___"
   ]
  },
  {
   "cell_type": "code",
   "execution_count": 4,
   "metadata": {},
   "outputs": [
    {
     "name": "stdout",
     "output_type": "stream",
     "text": [
      "Blu is a bird\n",
      "Woo is also a bird\n",
      "................\n",
      "Blu is 10 years old\n",
      "Woo is 15 years old\n"
     ]
    }
   ],
   "source": [
    "class Parrot:\n",
    "\n",
    "    # class attribute\n",
    "    species = \"bird\"\n",
    "\n",
    "    # instance attribute\n",
    "    def __init__(self, name, age):\n",
    "        self.name = name\n",
    "        self.age = age\n",
    "\n",
    "# instantiate the Parrot class\n",
    "blu = Parrot(\"Blu\", 10)\n",
    "woo = Parrot(\"Woo\", 15)\n",
    "\n",
    "# access the class attributes\n",
    "print(\"Blu is a {}\".format(blu.__class__.species))\n",
    "print(\"Woo is also a {}\".format(woo.__class__.species))\n",
    "print(\"................\")\n",
    "# access the instance attributes\n",
    "print(\"{} is {} years old\".format( blu.name, blu.age))\n",
    "print(\"{} is {} years old\".format( woo.name, woo.age))"
   ]
  },
  {
   "cell_type": "markdown",
   "metadata": {},
   "source": [
    "### Methods\n",
    "**Methods are functions defined inside the body of a class. They are used to define the behaviors of an object**."
   ]
  },
  {
   "cell_type": "code",
   "execution_count": 6,
   "metadata": {},
   "outputs": [
    {
     "name": "stdout",
     "output_type": "stream",
     "text": [
      "Blu sing  'Happy'\n",
      "Blu is now dancing\n"
     ]
    }
   ],
   "source": [
    "class Parrot:\n",
    "    \n",
    "    # instance attributes\n",
    "    def __init__(self, name, age):\n",
    "        self.name = name\n",
    "        self.age = age\n",
    "        \n",
    "    # instnce method\n",
    "    def sing(self, song):\n",
    "        return \"{} sing {}\".format(self.name, song)\n",
    "    \n",
    "    def dance(self):\n",
    "        return \"{} is now dancing\".format(self.name)\n",
    "\n",
    "# instantiate the object\n",
    "blu = Parrot(\"Blu\", 10)\n",
    "\n",
    "# Call our instance methods\n",
    "print(blu.sing(\" 'Happy'\"))\n",
    "print(blu.dance())"
   ]
  },
  {
   "cell_type": "markdown",
   "metadata": {},
   "source": [
    "In the above program, we define two methods i.e `sing()` and `dance()`. These are called instance methods because they are called on an instance object i.e `blu`."
   ]
  },
  {
   "cell_type": "markdown",
   "metadata": {},
   "source": [
    "## Adding Parameters to the Constructor"
   ]
  },
  {
   "cell_type": "markdown",
   "metadata": {},
   "source": [
    "Our constructor so far can only create points at location (0,0). To create a point at position (7, 6) requires that we provide some additional capability for the user to pass information to the constructor. Since constructors are simply specially named functions, we can use parameters (as we’ve seen before) to provide the specific information.\n",
    "\n",
    "We can make our class constructor more generally usable by putting extra parameters into the `__init__` method, as shown in this example."
   ]
  },
  {
   "cell_type": "code",
   "execution_count": 3,
   "metadata": {},
   "outputs": [],
   "source": [
    "class Point:\n",
    "    \"\"\" Point class for representing and manipulating x,y coordinates. \"\"\"\n",
    "    \n",
    "    def __init__(self, initX, initY):\n",
    "        self.x = initX\n",
    "        self.y = initY\n",
    "        \n",
    "p = Point(7, 6)     \n"
   ]
  },
  {
   "cell_type": "markdown",
   "metadata": {},
   "source": [
    "Now when we create new points, we supply the `x` and `y` coordinates as parameters. When the point is created, the values of `initX` and `initY` are assigned to the state of the object, in the __instance variables__ x and y.\n",
    "\n",
    "This is a common thing to do in the `__init__` method for a class: take in some parameters and save them as instance variables.\n",
    "\n",
    "**Check Your Understanding**\n",
    "\n",
    "Create a class called `NumberSet` that accepts 2 integers as input, and defines two instance variables: `num1` and `num2`, which hold each of the input integers. Then, create an instance of `NumberSet` where its num1 is 6 and its num2 is 10. Save this instance to a variable `t`."
   ]
  },
  {
   "cell_type": "code",
   "execution_count": 4,
   "metadata": {},
   "outputs": [],
   "source": [
    "class NumberSet:\n",
    "    def __init__(self, num1, num2):\n",
    "        self.num1 = num1\n",
    "        self.num2 = num2\n",
    "t = NumberSet(6, 10)"
   ]
  },
  {
   "cell_type": "markdown",
   "metadata": {},
   "source": [
    "### Adding Other Methods to a Class\n",
    "he key advantage of using a class like Point rather than something like a simple tuple (7, 6) now becomes apparent. We can add methods to the Point class that are sensible operations for points. Had we chosen to use a tuple to represent the point, we would not have this capability. Creating a class like Point brings an exceptional amount of “organizational power” to our programs, and to our thinking.\n",
    "\n",
    "A __method__ behaves like a function but it is invoked on a specific instance. For example, with a list bound to variable L, `L.append(7)` calls the function append, with the list itself as the first parameter and 7 as the second parameter. Methods are accessed using dot notation.\n",
    "\n",
    " As we stated earlier, all methods defined in a class that operate on objects of that class will have `self` as their first parameter. Again, this serves as a reference to the object itself which in turn gives access to the state data inside the object."
   ]
  },
  {
   "cell_type": "code",
   "execution_count": 6,
   "metadata": {},
   "outputs": [
    {
     "name": "stdout",
     "output_type": "stream",
     "text": [
      "7\n",
      "6\n"
     ]
    }
   ],
   "source": [
    "class Point:\n",
    "    \n",
    "    def __init__(self, initX, initY):\n",
    "        \n",
    "        self.x = initX\n",
    "        self.y = initY\n",
    "        \n",
    "    def getX(self):\n",
    "        return self.x\n",
    "    \n",
    "    def getY(self):\n",
    "        return self.y\n",
    "    \n",
    "p = Point(7, 6)\n",
    "print(p.getX())\n",
    "print(p.getY())"
   ]
  },
  {
   "cell_type": "markdown",
   "metadata": {},
   "source": [
    "Note that the `getX` method simply returns the value of the instance variable`x` from the object self. Likewise, the `getY` method looks almost the same.\n",
    "\n",
    "Let’s add another method, `distanceFromOrigin`, to see better how methods work. This method will again not need any additional information to do its work, beyond the data stored in the instance variables."
   ]
  },
  {
   "cell_type": "code",
   "execution_count": 7,
   "metadata": {},
   "outputs": [
    {
     "name": "stdout",
     "output_type": "stream",
     "text": [
      "9.219544457292887\n"
     ]
    }
   ],
   "source": [
    "class Point:\n",
    "    \"\"\" Point class for representing and manipulating x,y coordinates. \"\"\"\n",
    "    \n",
    "    def __init__(self, initX, initY):\n",
    "        \n",
    "        self.x = initX\n",
    "        self.y = initY\n",
    "    \n",
    "    def getX(self):\n",
    "        return x\n",
    "    \n",
    "    def getY(self):\n",
    "        return y\n",
    "    \n",
    "    def distanceFromOrigin(self):\n",
    "        return ((self.x ** 2) +(self.y ** 2)) ** 0.5\n",
    "    \n",
    "p = Point(7, 6)\n",
    "print(p.distanceFromOrigin())"
   ]
  },
  {
   "cell_type": "markdown",
   "metadata": {},
   "source": [
    "**Check Your Understanding**\n",
    "\n",
    "Create a class called `Animal` that accepts two numbers as inputs and assigns them respectively to two instance variables: `arms` and `legs`. Create an instance method called `limbs` that, when called, returns the total number of limbs the animal has. To the variable name `spider`, assign an instance of `Animal` that has 4 arms and 4 legs. Call the `limbs` method on the `spider` instance and save the result to the variable name `spidlimbs`."
   ]
  },
  {
   "cell_type": "code",
   "execution_count": 8,
   "metadata": {},
   "outputs": [
    {
     "name": "stdout",
     "output_type": "stream",
     "text": [
      "8\n"
     ]
    }
   ],
   "source": [
    "class Animal:\n",
    "    \n",
    "    def __init__(self, arms, legs):\n",
    "        self.arms = arms\n",
    "        self.legs = legs\n",
    "        \n",
    "    def limbs(self):\n",
    "        return (self.arms + self.legs)\n",
    "    \n",
    "spider = Animal(4 , 4)\n",
    "spidlimbs = spider.limbs()\n",
    "print(spidlimbs)"
   ]
  },
  {
   "cell_type": "markdown",
   "metadata": {},
   "source": [
    "### Example: Creating Instances from Data"
   ]
  },
  {
   "cell_type": "code",
   "execution_count": 22,
   "metadata": {},
   "outputs": [
    {
     "name": "stdout",
     "output_type": "stream",
     "text": [
      "('Detroit', 680250, 'MI')\n",
      "('Ann Arbor', 117070, 'MI')\n",
      "('Pittsburgh', 304391, 'PA')\n",
      "('Mars', 1683, 'PA')\n",
      "('New York', 8406000, 'NY')\n"
     ]
    }
   ],
   "source": [
    "cityNames = ['Detroit', 'Ann Arbor', 'Pittsburgh', 'Mars', 'New York']\n",
    "populations = [680250, 117070, 304391, 1683, 8406000]\n",
    "states = ['MI', 'MI', 'PA', 'PA', 'NY']\n",
    "\n",
    "city_tuples = zip(cityNames, populations, states)\n",
    "#print(city_tuples)\n",
    "\n",
    "class City:\n",
    "    def __init__(self, n, p, s):\n",
    "        self.name = n\n",
    "        self.populations = p\n",
    "        self.states = s\n",
    "    def __str__(self):\n",
    "        return \"{}, {} (pop: {})\".format(self.name, self.states, self.populations)\n",
    "    \n",
    "# createing a list of cities\n",
    "cities = []\n",
    "for city_tup in city_tuples:\n",
    "    print(city_tup)\n",
    "\n",
    "    "
   ]
  },
  {
   "cell_type": "code",
   "execution_count": 25,
   "metadata": {},
   "outputs": [
    {
     "name": "stdout",
     "output_type": "stream",
     "text": [
      "Detroit 680250 MI\n",
      "Ann Arbor 117070 MI\n",
      "Pittsburgh 304391 PA\n",
      "Mars 1683 PA\n",
      "New York 8406000 NY\n"
     ]
    }
   ],
   "source": [
    "cityNames = ['Detroit', 'Ann Arbor', 'Pittsburgh', 'Mars', 'New York']\n",
    "populations = [680250, 117070, 304391, 1683, 8406000]\n",
    "states = ['MI', 'MI', 'PA', 'PA', 'NY']\n",
    "\n",
    "city_tuples = zip(cityNames, populations, states)\n",
    "#print(city_tuples)\n",
    "\n",
    "class City:\n",
    "    def __init__(self, n, p, s):\n",
    "        self.name = n\n",
    "        self.populations = p\n",
    "        self.states = s\n",
    "    def __str__(self):\n",
    "        return \"{}, {} (pop: {})\".format(self.name, self.states, self.populations)\n",
    "#Another way of listing\n",
    "cities = []\n",
    "for city_tup in city_tuples:\n",
    "    name, pop, state = city_tup\n",
    "    print(name, pop, state)\n",
    " "
   ]
  },
  {
   "cell_type": "code",
   "execution_count": 28,
   "metadata": {},
   "outputs": [
    {
     "name": "stdout",
     "output_type": "stream",
     "text": [
      "Detroit, MI (pop: 680250)\n",
      "Ann Arbor, MI (pop: 117070)\n",
      "Pittsburgh, PA (pop: 304391)\n",
      "Mars, PA (pop: 1683)\n",
      "New York, NY (pop: 8406000)\n"
     ]
    }
   ],
   "source": [
    "cityNames = ['Detroit', 'Ann Arbor', 'Pittsburgh', 'Mars', 'New York']\n",
    "populations = [680250, 117070, 304391, 1683, 8406000]\n",
    "states = ['MI', 'MI', 'PA', 'PA', 'NY']\n",
    "\n",
    "city_tuples = zip(cityNames, populations, states)\n",
    "#print(city_tuples)\n",
    "\n",
    "class City:\n",
    "    def __init__(self, n, p, s):\n",
    "        self.name = n\n",
    "        self.populations = p\n",
    "        self.states = s\n",
    "    def __str__(self):\n",
    "        return \"{}, {} (pop: {})\".format(self.name, self.states, self.populations)\n",
    "    \n",
    "# What if we want to create a new city\n",
    "for city_tup in city_tuples:\n",
    "    name, pop, state = city_tup\n",
    "    city = City(name, pop, state) # instance of the city class\n",
    "    print(city)\n",
    "    "
   ]
  },
  {
   "cell_type": "code",
   "execution_count": 29,
   "metadata": {},
   "outputs": [
    {
     "name": "stdout",
     "output_type": "stream",
     "text": [
      "[<__main__.City object at 0x00000000080985F8>, <__main__.City object at 0x0000000008098198>, <__main__.City object at 0x00000000080986D8>, <__main__.City object at 0x0000000008098668>, <__main__.City object at 0x0000000008098710>]\n"
     ]
    }
   ],
   "source": [
    "cityNames = ['Detroit', 'Ann Arbor', 'Pittsburgh', 'Mars', 'New York']\n",
    "populations = [680250, 117070, 304391, 1683, 8406000]\n",
    "states = ['MI', 'MI', 'PA', 'PA', 'NY']\n",
    "\n",
    "city_tuples = zip(cityNames, populations, states)\n",
    "#print(city_tuples)\n",
    "\n",
    "class City:\n",
    "    def __init__(self, n, p, s):\n",
    "        self.name = n\n",
    "        self.populations = p\n",
    "        self.states = s\n",
    "    def __str__(self):\n",
    "        return \"{}, {} (pop: {})\".format(self.name, self.states, self.populations)\n",
    "    \n",
    "# What if we want to create a new city\n",
    "cities = []\n",
    "for city_tup in city_tuples:\n",
    "    name, pop, state = city_tup\n",
    "    city = City(name, pop, state) # instance of the city class\n",
    "    cities.append(city) \n",
    "    \n",
    "print(cities)"
   ]
  },
  {
   "cell_type": "markdown",
   "metadata": {},
   "source": [
    "There are some shorter ways of doing of the last parts in the above programming"
   ]
  },
  {
   "cell_type": "code",
   "execution_count": 36,
   "metadata": {},
   "outputs": [
    {
     "name": "stdout",
     "output_type": "stream",
     "text": [
      "[<__main__.City object at 0x0000000008096DD8>, <__main__.City object at 0x00000000080A3780>, <__main__.City object at 0x00000000080A3588>, <__main__.City object at 0x00000000080A37B8>, <__main__.City object at 0x00000000080A3828>]\n",
      "[]\n"
     ]
    }
   ],
   "source": [
    "cityNames = ['Detroit', 'Ann Arbor', 'Pittsburgh', 'Mars', 'New York']\n",
    "populations = [680250, 117070, 304391, 1683, 8406000]\n",
    "states = ['MI', 'MI', 'PA', 'PA', 'NY']\n",
    "\n",
    "city_tuples = zip(cityNames, populations, states)\n",
    "#print(city_tuples)\n",
    "\n",
    "class City:\n",
    "    def __init__(self, n, p, s):\n",
    "        self.name = n\n",
    "        self.populations = p\n",
    "        self.states = s\n",
    "    def __str__(self):\n",
    "        return \"{}, {} (pop: {})\".format(self.name, self.states, self.populations)\n",
    "    \n",
    "# What if we want to create a new city\n",
    "#cities = []\n",
    "#for city_tup in city_tuples:\n",
    "#    name, pop, state = city_tup\n",
    "#    city = City(name, pop, state) # instance of the city class\n",
    "#    cities.append(city) \n",
    "    \n",
    "cities = [City(n,p,s) for (n,p,s) in city_tuples]\n",
    "print(cities)\n",
    "\n",
    "# or another realy short way of doing this\n",
    "\n",
    "cities = [City(*t) for t in city_tuples] # the * takes the tuples to the list of argument\n",
    "print(cities)\n"
   ]
  },
  {
   "cell_type": "markdown",
   "metadata": {},
   "source": [
    "### Objects as Arguments and Parameters\n",
    "__You can pass an object as an argument to a function, in the usual way__.\n",
    "\n",
    "Here is a simple function called `distance` involving our new `Point` objects. The job of this function is to figure out the distance between two points."
   ]
  },
  {
   "cell_type": "code",
   "execution_count": 41,
   "metadata": {},
   "outputs": [
    {
     "name": "stdout",
     "output_type": "stream",
     "text": [
      "5.0\n"
     ]
    }
   ],
   "source": [
    "import math\n",
    "\n",
    "class Point:\n",
    "    \"\"\"Point class for representing and manipulating x,y coordinates.\"\"\"\n",
    "    \n",
    "    def __init__(self, initX, initY):\n",
    "        \n",
    "        self.x = initX\n",
    "        self.y = initY\n",
    "        \n",
    "    def getX(self):\n",
    "        return self.x\n",
    "    \n",
    "    def getY(self):\n",
    "        return self.y\n",
    "    \n",
    "    def distanceFromOrigin(self):\n",
    "        return ((self.x ** 2) + (self.y ** 2)) ** 0.5\n",
    "\n",
    "# p1 = Point(6, 6)\n",
    "# p1.distanceFromOrigin()\n",
    "\n",
    "def distance(point1, point2):\n",
    "    xdiff = point2.getX() - point1.getX()\n",
    "    ydiff = point2.getY() - point1.getY()\n",
    "    \n",
    "    dist = math.sqrt(xdiff**2 + ydiff**2)\n",
    "    return dist\n",
    "\n",
    "p = Point(4,3)\n",
    "q = Point(0,0)\n",
    "\n",
    "print(distance(p,q))\n",
    "    "
   ]
  },
  {
   "cell_type": "markdown",
   "metadata": {},
   "source": [
    "`distance` takes two points and returns the distance between them. Note that `distance` is not a method of the Point class. You can see this by looking at the indentation pattern. It is not inside the class definition. The other way we can know that `distance` is not a method of Point is that `self` is not included as a formal parameter. In addition, we do not invoke `distance` using the dot notation.\n",
    "\n",
    "We could have made distance be a method of the Point class. Then, we would have called the first parameter self, and would have invoked it using the dot notation, as in the following code. Which way to implement it is a matter of coding style. Both work correctly. "
   ]
  },
  {
   "cell_type": "code",
   "execution_count": 42,
   "metadata": {},
   "outputs": [
    {
     "name": "stdout",
     "output_type": "stream",
     "text": [
      "5.0\n"
     ]
    }
   ],
   "source": [
    "import math\n",
    "\n",
    "class Point:\n",
    "    \"\"\"Point class for representing and manipulating x,y coordinates.\"\"\"\n",
    "    \n",
    "    def __init__(self, initX, initY):\n",
    "        \n",
    "        self.x = initX\n",
    "        self.y = initY\n",
    "        \n",
    "    def getX(self):\n",
    "        return self.x\n",
    "    \n",
    "    def getY(self):\n",
    "        return self.y\n",
    "    \n",
    "    def distanceFromOrigin(self):\n",
    "        return ((self.x ** 2) + (self.y ** 2)) ** 0.5\n",
    "\n",
    "    def distance(self, point2):\n",
    "        xdiff = point2.getX() - self.getX()\n",
    "        ydiff = point2.getY() - self.getY()\n",
    "    \n",
    "        dist = math.sqrt(xdiff**2 + ydiff**2)\n",
    "        return dist\n",
    "\n",
    "p = Point(4,3)\n",
    "q = Point(0,0)\n",
    "\n",
    "print(p.distance(q))\n",
    "    "
   ]
  },
  {
   "cell_type": "markdown",
   "metadata": {},
   "source": [
    "### Converting an Object to a String\n",
    "Consider the example below. The `print` function shown above produces a string representation of the Point `p`. The default functionality provided by Python tells you that `p` is an object of type `Point`. __However, it does not tell you anything about the specific state of the point__.\n"
   ]
  },
  {
   "cell_type": "code",
   "execution_count": 43,
   "metadata": {},
   "outputs": [
    {
     "name": "stdout",
     "output_type": "stream",
     "text": [
      "<__main__.Point object at 0x00000000080B1240>\n"
     ]
    }
   ],
   "source": [
    "class Point:\n",
    "    \"\"\" Point class for representing and manipulating x,y coordinates. \"\"\"\n",
    "\n",
    "    def __init__(self, initX, initY):\n",
    "\n",
    "        self.x = initX\n",
    "        self.y = initY\n",
    "\n",
    "    def getX(self):\n",
    "        return self.x\n",
    "\n",
    "    def getY(self):\n",
    "        return self.y\n",
    "\n",
    "    def distanceFromOrigin(self):\n",
    "        return ((self.x ** 2) + (self.y ** 2)) ** 0.5\n",
    "\n",
    "\n",
    "p = Point(7,6)\n",
    "print(p)\n"
   ]
  },
  {
   "cell_type": "markdown",
   "metadata": {},
   "source": [
    "**We can improve on this representation if we include a special method call `__str__`**"
   ]
  },
  {
   "cell_type": "code",
   "execution_count": 44,
   "metadata": {},
   "outputs": [
    {
     "name": "stdout",
     "output_type": "stream",
     "text": [
      "x = 7, y = 6\n"
     ]
    }
   ],
   "source": [
    "class Point:\n",
    "    \"\"\" Point class for representing and manipulating x,y coordinates. \"\"\"\n",
    "\n",
    "    def __init__(self, initX, initY):\n",
    "\n",
    "        self.x = initX\n",
    "        self.y = initY\n",
    "\n",
    "    def getX(self):\n",
    "        return self.x\n",
    "\n",
    "    def getY(self):\n",
    "        return self.y\n",
    "\n",
    "    def distanceFromOrigin(self):\n",
    "        return ((self.x ** 2) + (self.y ** 2)) ** 0.5\n",
    "    \n",
    "    # Here we can add the __str__ method\n",
    "    def __str__(self):\n",
    "        return \"x = {}, y = {}\".format(self.x, self.y)\n",
    "\n",
    "\n",
    "p = Point(7,6)\n",
    "print(p)"
   ]
  },
  {
   "cell_type": "markdown",
   "metadata": {},
   "source": [
    "**Check Your Understanding**\n",
    "\n",
    "Create a class called `Cereal` that accepts three inputs: 2 strings and 1 integer, and assigns them to 3 instance variables in the constructor: `name`, `brand`, and `fiber`. When an instance of Cereal is printed, the user should see the following: “[name] cereal is produced by [brand] and has [fiber integer] grams of fiber in every serving!” To the variable name `c1`, assign an instance of `Cereal` whose name is `\"Corn Flakes\"`, brand is `\"Kellogg's\"`, and fiber is 2. To the variable name `c2`, assign an instance of Cereal whose name is `\"Honey Nut Cheerios\"`, brand is `\"General Mills\"`, and fiber is 3. Practice printing both!"
   ]
  },
  {
   "cell_type": "markdown",
   "metadata": {},
   "source": [
    "__Way 1__"
   ]
  },
  {
   "cell_type": "code",
   "execution_count": 78,
   "metadata": {},
   "outputs": [
    {
     "name": "stdout",
     "output_type": "stream",
     "text": [
      "Corn Flakes cereal is produced by Kellogg's and has 2 grams of fiber in every serving!\n",
      "Honey Nut Cheerios cereal is produced by General Mills and has 3 grams of fiber in every serving!\n"
     ]
    }
   ],
   "source": [
    "class Cereal:\n",
    "    def __init__(self, name, brand, fiber):\n",
    "        self.name = name\n",
    "        self.brand = brand\n",
    "        self.fiber = fiber\n",
    "        \n",
    "    def cerealtyps(self):\n",
    "        return \"{} cereal is produced by {} and has {} grams of fiber in every serving!\".format(self.name, self.brand, self.fiber)\n",
    "\n",
    "c1 = Cereal(\"Corn Flakes\", \"Kellogg's\", 2)\n",
    "print(c1.cerealtyps())\n",
    "c2 = Cereal(\"Honey Nut Cheerios\", \"General Mills\", 3)\n",
    "print(c2.cerealtyps())\n"
   ]
  },
  {
   "cell_type": "markdown",
   "metadata": {},
   "source": [
    "__Way 2__"
   ]
  },
  {
   "cell_type": "code",
   "execution_count": 79,
   "metadata": {},
   "outputs": [
    {
     "name": "stdout",
     "output_type": "stream",
     "text": [
      "Corn Flakes cereal is produced by Kellogg's and has 2 grams of fiber in every serving!\n",
      "Honey Nut Cheerios cereal is produced by General Mills and has 3 grams of fiber in every serving!\n"
     ]
    }
   ],
   "source": [
    "class Cereal:\n",
    "    def __init__(self, name, brand, fiber):\n",
    "        self.name = name\n",
    "        self.brand = brand\n",
    "        self.fiber = fiber\n",
    "    \n",
    "    def __str__(self):\n",
    "        return \"{} cereal is produced by {} and has {} grams of fiber in every serving!\".format(self.name, self.brand, self.fiber)\n",
    "\n",
    "c1 = Cereal(\"Corn Flakes\", \"Kellogg's\", 2)\n",
    "print(c1)\n",
    "c2 = Cereal(\"Honey Nut Cheerios\", \"General Mills\", 3)\n",
    "print(c2)"
   ]
  },
  {
   "cell_type": "markdown",
   "metadata": {},
   "source": [
    "### Special (dunderscore) Methods\n"
   ]
  },
  {
   "cell_type": "code",
   "execution_count": 83,
   "metadata": {},
   "outputs": [
    {
     "name": "stdout",
     "output_type": "stream",
     "text": [
      "Point(-5, 15)\n",
      "Point(10, 20)\n"
     ]
    }
   ],
   "source": [
    "class Point:\n",
    "    \"\"\" Point class for representing and manipulating x,y coordinates. \"\"\"\n",
    "\n",
    "    def __init__(self, initX, initY):\n",
    "\n",
    "        self.x = initX\n",
    "        self.y = initY\n",
    "\n",
    "    def __str__(self):\n",
    "        return 'Point({}, {})'.format(self.x, self.y)\n",
    "\n",
    "p1 = Point(-5,15)\n",
    "p2 = Point (10,20)\n",
    "print(p1)\n",
    "print(p2)"
   ]
  },
  {
   "cell_type": "markdown",
   "metadata": {},
   "source": [
    "**What if want to add or substruct the two pints? Function of print(p1 + p2) results an error. Threfore we have to add method to perfom the oprations**"
   ]
  },
  {
   "cell_type": "code",
   "execution_count": 88,
   "metadata": {},
   "outputs": [
    {
     "name": "stdout",
     "output_type": "stream",
     "text": [
      "Point(-5, 15)\n",
      "Point(10, 20)\n",
      "Point(5, 35)\n",
      "Point(-15, -5)\n"
     ]
    }
   ],
   "source": [
    "class Point:\n",
    "    \"\"\" Point class for representing and manipulating x,y coordinates. \"\"\"\n",
    "\n",
    "    def __init__(self, initX, initY):\n",
    "        self.x = initX\n",
    "        self.y = initY\n",
    "\n",
    "    def __str__(self):\n",
    "        return 'Point({}, {})'.format(self.x, self.y)\n",
    "    \n",
    "    def __add__(self, otherpoint):\n",
    "        return Point(self.x + otherpoint.x,\n",
    "                    self.y + otherpoint.y)\n",
    "    def __sub__(self, otherpoint):\n",
    "        return Point(self.x - otherpoint.x,\n",
    "                    self.y - otherpoint.y)\n",
    "\n",
    "p1 = Point(-5,15)\n",
    "p2 = Point (10,20)\n",
    "print(p1)\n",
    "print(p2)\n",
    "print(p1 + p2)\n",
    "print(p1 - p2)"
   ]
  },
  {
   "cell_type": "markdown",
   "metadata": {},
   "source": [
    "### Instances as Return Values\n",
    "\n",
    "Functions and methods can return objects. This is actually nothing new since everything in Python is an object and we have been returning values for quite some time. **The difference here is that we want to have the method create an object using the constructor and then return it as the value of the method**.\n",
    "\n",
    "Suppose you have a point object and wish to find the midpoint `halfway` between it and some other target point. We would like to write a method, let’s call it halfway, which takes another `Point` as a parameter and returns the Point that is halfway between the `point` and the target point it accepts as input.\n"
   ]
  },
  {
   "cell_type": "code",
   "execution_count": 89,
   "metadata": {},
   "outputs": [
    {
     "name": "stdout",
     "output_type": "stream",
     "text": [
      "x = 4.0, y = 8.0\n",
      "4.0\n",
      "8.0\n"
     ]
    }
   ],
   "source": [
    "class Point:\n",
    "\n",
    "    def __init__(self, initX, initY):\n",
    "\n",
    "        self.x = initX\n",
    "        self.y = initY\n",
    "\n",
    "    def getX(self):\n",
    "        return self.x\n",
    "\n",
    "    def getY(self):\n",
    "        return self.y\n",
    "\n",
    "    def distanceFromOrigin(self):\n",
    "        return ((self.x ** 2) + (self.y ** 2)) ** 0.5\n",
    "\n",
    "    def __str__(self):\n",
    "        return \"x = {}, y = {}\".format(self.x, self.y)\n",
    "\n",
    "    def halfway(self, target):\n",
    "        mx = (self.x + target.x)/2\n",
    "        my = (self.y + target.y)/2\n",
    "        return Point(mx, my)\n",
    "\n",
    "p = Point(3,4)\n",
    "q = Point(5,12)\n",
    "mid = p.halfway(q)\n",
    "# note that you would have exactly the same result if you instead wrote\n",
    "# mid = q.halfway(p)\n",
    "# because they are both Point objects, and the middle is the same no matter what\n",
    "\n",
    "print(mid)\n",
    "print(mid.getX())\n",
    "print(mid.getY())\n"
   ]
  },
  {
   "cell_type": "markdown",
   "metadata": {},
   "source": [
    "### Sorting Lists of Instances\n",
    "Sorting lists of instances of a class is not fundamentally different from sorting lists of objects of any other type. There is a way to define a default sort order for instances, right in the class definition, but it requires defining a bunch of methods or one complicated method, so we won’t bother with that. Instead, you should just provide a key function as a parameter to sorted (or sort).\n",
    "\n",
    "Note that if you refer to a function by name, you give the name of the function without parentheses after it, because you want the function object itself. The sorted function will take care of calling the function, passing the current item in the list. Thus, in the example below, we write `key=len` and not `key=len()`."
   ]
  },
  {
   "cell_type": "code",
   "execution_count": 91,
   "metadata": {},
   "outputs": [
    {
     "name": "stdout",
     "output_type": "stream",
     "text": [
      "['Apple', 'Cherry', 'Blueberry']\n",
      ".......................\n",
      "['Apple', 'Cherry', 'Blueberry']\n"
     ]
    }
   ],
   "source": [
    "L = [\"Cherry\", \"Apple\", \"Blueberry\"]\n",
    "\n",
    "print(sorted(L, key=len))\n",
    "print(\".......................\")\n",
    "# alternative form using lambda, if you find that easier to understand\n",
    "print(sorted(L, key=lambda x:len(x)))"
   ]
  },
  {
   "cell_type": "markdown",
   "metadata": {},
   "source": [
    "When each of the items in a list is an instance of a class, you need to provide a function that takes one instance as an input, and returns a number. The instances will be sorted by their numbers."
   ]
  },
  {
   "cell_type": "code",
   "execution_count": 94,
   "metadata": {},
   "outputs": [
    {
     "name": "stdout",
     "output_type": "stream",
     "text": [
      "Apple\n",
      "Cherry\n",
      "Blueberry\n"
     ]
    }
   ],
   "source": [
    "class Fruit():\n",
    "    def __init__(self, name, price):\n",
    "        self.name = name\n",
    "        self.price = price\n",
    "        \n",
    "L = [Fruit(\"Cherry\", 10),\n",
    "     Fruit(\"Apple\", 5),\n",
    "     Fruit(\"Blueberry\", 20)]\n",
    "\n",
    "for f in sorted(L, key=lambda x: x.price):\n",
    "    print(f.name)"
   ]
  },
  {
   "cell_type": "markdown",
   "metadata": {},
   "source": [
    "Sometimes you will find it convenient to define a method for the class that does some computation on the data in an instance. In this case, our class is too simple to really illustrate that. But to simulate it, I’ve defined a method `sort_priority` that just returns the price that’s stored in the instance. Now, that method, sort_priority takes one instance as input and returns a number. So it is exactly the kind of function we need to provide as the key parameter for sorted. Here it can get a little confusing: to refer to that method, without actually invoking it, you can refer to `Fruit.sort_priority`. This is analogous to the code above that referred to `len` rather than invoking `len()`."
   ]
  },
  {
   "cell_type": "code",
   "execution_count": 95,
   "metadata": {},
   "outputs": [
    {
     "name": "stdout",
     "output_type": "stream",
     "text": [
      "-----sorted by price, referencing a class method-----\n",
      "Apple\n",
      "Cherry\n",
      "Blueberry\n",
      "---- one more way to do the same thing-----\n",
      "Apple\n",
      "Cherry\n",
      "Blueberry\n"
     ]
    }
   ],
   "source": [
    "class Fruit():\n",
    "    def __init__(self, name, price):\n",
    "        self.name = name\n",
    "        self.price = price\n",
    "\n",
    "    def sort_priority(self):\n",
    "        return self.price\n",
    "L = [Fruit(\"Cherry\", 10), Fruit(\"Apple\", 5), Fruit(\"Blueberry\", 20)]\n",
    "print(\"-----sorted by price, referencing a class method-----\")\n",
    "for f in sorted(L, key=Fruit.sort_priority):\n",
    "    print(f.name)\n",
    "\n",
    "print(\"---- one more way to do the same thing-----\")\n",
    "for f in sorted(L, key=lambda x: x.sort_priority()):\n",
    "    print(f.name)"
   ]
  },
  {
   "cell_type": "markdown",
   "metadata": {},
   "source": [
    "### Class Variables and Instance Variables\n",
    "You have already seen that each instance of a class has its own namespace with its own instance variables. Two instances of the Point class each have their own instance variable x. Setting x in one instance doesn’t affect the other instance.\n",
    "\n",
    "A class can also have class variables. A class variable is set as part of the class definition.\n",
    "\n",
    "For example, consider the following version of the Point class. Here we have added a graph method that generates a string representing a little text-based graph with the Point plotted on the graph. It’s not a very pretty graph, in part because the y-axis is stretched like a rubber band, but you can get the idea from this.\n",
    "\n",
    "Note that there is an assignment to the variable printed_rep on line 4. It is not inside any method. That makes it a class variable. It is accessed in the same way as instance variables. For example, on line 16, there is a reference to self.printed_rep. If you change line 4, you have it print a different character at the x,y coordinates of the Point in the graph."
   ]
  },
  {
   "cell_type": "code",
   "execution_count": 96,
   "metadata": {},
   "outputs": [
    {
     "name": "stdout",
     "output_type": "stream",
     "text": [
      "4\n",
      "3 *\n",
      "2\n",
      "1\n",
      "01234\n",
      "\n",
      "3\n",
      "2  *\n",
      "1\n",
      "0\n",
      "9\n",
      "8\n",
      "7\n",
      "6\n",
      "5\n",
      "4\n",
      "3\n",
      "2\n",
      "1\n",
      "01234567890123\n"
     ]
    }
   ],
   "source": [
    "class Point:\n",
    "    \"\"\" Point class for representing and manipulating x,y coordinates. \"\"\"\n",
    "\n",
    "    printed_rep = \"*\"\n",
    "\n",
    "    def __init__(self, initX, initY):\n",
    "\n",
    "        self.x = initX\n",
    "        self.y = initY\n",
    "\n",
    "    def graph(self):\n",
    "        rows = []\n",
    "        size = max(int(self.x), int(self.y)) + 2\n",
    "        for j in range(size-1) :\n",
    "            if (j+1) == int(self.y):\n",
    "                special_row = str((j+1) % 10) + (\" \"*(int(self.x) -1)) + self.printed_rep\n",
    "                rows.append(special_row)\n",
    "            else:\n",
    "                rows.append(str((j+1) % 10))\n",
    "        rows.reverse()  # put higher values of y first\n",
    "        x_axis = \"\"\n",
    "        for i in range(size):\n",
    "            x_axis += str(i % 10)\n",
    "        rows.append(x_axis)\n",
    "\n",
    "        return \"\\n\".join(rows)\n",
    "\n",
    "\n",
    "p1 = Point(2, 3)\n",
    "p2 = Point(3, 12)\n",
    "print(p1.graph())\n",
    "print()\n",
    "print(p2.graph())"
   ]
  },
  {
   "cell_type": "markdown",
   "metadata": {},
   "source": [
    "### A Tamagotchi Game\n",
    "\n",
    "First, let’s start with a class `Pet`. Each instance of the class will be one electronic pet for the user to take care of. Each instance will have a current state, consisting of three instance variables:\n",
    "* hunger, an integer\n",
    "* boredom, an integer\n",
    "* sounds, a list of strings, each a word that the pet has been taught to say\n",
    "\n",
    "In the `__init__` method, _hunger_ and _boredom_ are initialized to random values between 0 and the threshold for being _hungry_ or _bored_. The `sounds` instance variable is initialized to be a copy of the class variable with the same name. The reason we make a copy of the list is that we will perform destructive operations (appending new sounds to the list). If we didn’t make a copy, then those destructive operations would affect the list that the class variable points to, and thus teaching a sound to any of the pets would teach it to all instances of the class!\n",
    "\n",
    "There is a `clock_tick` method which just increments the boredom and hunger instance variables, simulating the idea that as time passes, the pet gets more bored and hungry.\n",
    "\n",
    "The `__str__` method produces a string representation of the pet’s current state, notably whether it is bored or hungry or whether it is happy. It’s bored if the boredom instance variable is larger than the threshold, which is set as a class variable.\n",
    "\n",
    "To relieve boredom, the pet owner can either teach the pet a new word, using the `teach()` method, or interact with the pet, using the `hi()` method. In response to `teach()`, the pet adds the new word to its list of words. In response to the `hi()` method, it prints out one of the words it knows, randomly picking one from its list of known words. Both `hi()` and `teach()` cause an invocation of the `reduce_boredom()` method. It decrements the boredom state by an amount that it reads from the class variable `boredom_decrement`. The boredom state can never go below 0.\n",
    "\n",
    "To relieve hunger, we call `the feed()` method."
   ]
  },
  {
   "cell_type": "code",
   "execution_count": 97,
   "metadata": {},
   "outputs": [],
   "source": [
    "from random import randrange\n",
    "\n",
    "class Pet():\n",
    "    boredom_decrement = 4\n",
    "    hunger_decrement = 6\n",
    "    boredom_threshold = 5\n",
    "    hunger_threshold = 10\n",
    "    sounds = ['Mrrp']\n",
    "    def __init__(self, name = \"Kitty\"):\n",
    "        self.name = name\n",
    "        self.hunger = randrange(self.hunger_threshold)\n",
    "        self.boredom = randrange(self.boredom_threshold)\n",
    "        self.sounds = self.sounds[:]  # copy the class attribute, so that when we make changes to it, we won't affect the other Pets in the class\n",
    "\n",
    "    def clock_tick(self):\n",
    "        self.boredom += 1\n",
    "        self.hunger += 1\n",
    "\n",
    "    def mood(self):\n",
    "        if self.hunger <= self.hunger_threshold and self.boredom <= self.boredom_threshold:\n",
    "            return \"happy\"\n",
    "        elif self.hunger > self.hunger_threshold:\n",
    "            return \"hungry\"\n",
    "        else:\n",
    "            return \"bored\"\n",
    "\n",
    "    def __str__(self):\n",
    "        state = \"     I'm \" + self.name + \". \"\n",
    "        state += \" I feel \" + self.mood() + \". \"\n",
    "        # state += \"Hunger {} Boredom {} Words {}\".format(self.hunger, self.boredom, self.sounds)\n",
    "        return state\n",
    "\n",
    "    def hi(self):\n",
    "        print(self.sounds[randrange(len(self.sounds))])\n",
    "        self.reduce_boredom()\n",
    "\n",
    "    def teach(self, word):\n",
    "        self.sounds.append(word)\n",
    "        self.reduce_boredom()\n",
    "\n",
    "    def feed(self):\n",
    "        self.reduce_hunger()\n",
    "\n",
    "    def reduce_hunger(self):\n",
    "        self.hunger = max(0, self.hunger - self.hunger_decrement)\n",
    "\n",
    "    def reduce_boredom(self):\n",
    "        self.boredom = max(0, self.boredom - self.boredom_decrement)"
   ]
  },
  {
   "cell_type": "markdown",
   "metadata": {},
   "source": [
    "Let’s try making a pet and playing with it a little. Add some of your own commands, too, and keep printing `p1` to see what the effects are. If you want to directly inspect the state, try printing `p1.boredom` or `p1.hunger` ."
   ]
  },
  {
   "cell_type": "code",
   "execution_count": 98,
   "metadata": {},
   "outputs": [
    {
     "name": "stdout",
     "output_type": "stream",
     "text": [
      "     I'm Fido.  I feel happy. \n",
      "     I'm Fido.  I feel happy. \n",
      "     I'm Fido.  I feel bored. \n",
      "     I'm Fido.  I feel bored. \n",
      "     I'm Fido.  I feel bored. \n",
      "     I'm Fido.  I feel bored. \n",
      "     I'm Fido.  I feel bored. \n",
      "     I'm Fido.  I feel bored. \n",
      "     I'm Fido.  I feel bored. \n",
      "     I'm Fido.  I feel hungry. \n",
      "     I'm Fido.  I feel hungry. \n",
      "Mrrp\n",
      "Mrrp\n",
      "Mrrp\n",
      "Mrrp\n",
      "Mrrp\n",
      "Mrrp\n",
      "Boo\n",
      "Boo\n",
      "Mrrp\n",
      "Mrrp\n",
      "Mrrp\n",
      "     I'm Fido.  I feel happy. \n"
     ]
    }
   ],
   "source": [
    "p1 = Pet(\"Fido\")\n",
    "print(p1)\n",
    "for i in range(10):\n",
    "    p1.clock_tick()\n",
    "    print(p1)\n",
    "p1.feed()\n",
    "p1.hi()\n",
    "p1.teach(\"Boo\")\n",
    "for i in range(10):\n",
    "    p1.hi()\n",
    "print(p1)"
   ]
  },
  {
   "cell_type": "markdown",
   "metadata": {},
   "source": [
    "### Course 4 Assessment 1\n",
    "1. Define a class called `Bike` that accepts a string and a float as input, and assigns those inputs respectively to two instance variables, `color` and `price`. Assign to the variable `testOne` an instance of `Bike` whose color is `blue` and whose `price` is `89.99`. Assign to the variable `testTwo` an instance of `Bike` whose color is `purple` and whose price is `25.0`."
   ]
  },
  {
   "cell_type": "code",
   "execution_count": 128,
   "metadata": {},
   "outputs": [
    {
     "name": "stdout",
     "output_type": "stream",
     "text": [
      "(blue, 89.99)\n",
      "(purple, 25.0)\n"
     ]
    }
   ],
   "source": [
    "class Bike:\n",
    "    def __init__(self, color, price):\n",
    "        self.color = color\n",
    "        self.price = price\n",
    "    def __str__(self):\n",
    "        return '({}, {})'.format(self.color, self.price)\n",
    "        \n",
    "testOne = Bike(\"blue\", 89.99)\n",
    "testTwo = Bike(\"purple\", 25.0)\n",
    "\n",
    "print(testOne)\n",
    "print(testTwo)\n"
   ]
  },
  {
   "cell_type": "markdown",
   "metadata": {},
   "source": [
    "2. Create a class called `AppleBasket` whose constructor accepts two inputs: a string representing a color, and a number representing a quantity of apples. The constructor should initialize two instance variables: `apple_color` and `apple_quantity`. Write a class method called `increase` that increases the quantity by 1 each time it is invoked. You should also write a `__str__` method for this class that returns a string of the format: `\"A basket of [quantity goes here] [color goes here] apples.\" e.g. \"A basket of 4 red apples.\" or \"A basket of 50 blue apples.\"` (Writing some test code that creates instances and assigns values to variables may help you solve this problem!)"
   ]
  },
  {
   "cell_type": "code",
   "execution_count": 113,
   "metadata": {},
   "outputs": [
    {
     "name": "stdout",
     "output_type": "stream",
     "text": [
      "A basket of 10 blue apples.\n"
     ]
    }
   ],
   "source": [
    "class AppleBasket:\n",
    "    def __init__(self, apple_color, apple_quantity):\n",
    "        self.apple_color = apple_color\n",
    "        self.apple_quantity = apple_quantity\n",
    "     \n",
    "    def increase(self):\n",
    "         self.apple_quantity+=1\n",
    "    \n",
    "    def __str__(self):\n",
    "        return \"A basket of {} {} apples.\".format(self.apple_quantity, self.apple_color)\n",
    "\n",
    "p1 = AppleBasket(\"blue\", 10)\n",
    "print(p1)\n",
    "\n"
   ]
  },
  {
   "cell_type": "markdown",
   "metadata": {},
   "source": [
    "3. Define a class called `BankAccount` that accepts the name you want associated with your bank account in a string, and an integer that represents the amount of money in the account. The constructor should initialize two instance variables from those inputs: `name` and `amt`. Add a string method so that when you print an instance of `BankAccount`, you see `\"Your account, [name goes here], has [start_amt goes here] dollars.\"` Create an instance of this class with `\"Bob\"` as the name and `100` as the amount. Save this to the variable `t1`."
   ]
  },
  {
   "cell_type": "code",
   "execution_count": 116,
   "metadata": {},
   "outputs": [
    {
     "name": "stdout",
     "output_type": "stream",
     "text": [
      "Your account, Bob, has 100 dollars.\n"
     ]
    }
   ],
   "source": [
    "class BankAccount:\n",
    "    def __init__(self, name, amt):\n",
    "        self.name = name\n",
    "        self.amt = amt\n",
    "        \n",
    "    def __str__(self):\n",
    "        return \"Your account, {}, has {} dollars.\".format(self.name, self.amt)\n",
    "\n",
    "t1 = BankAccount(\"Bob\", 100)\n",
    "print(t1)"
   ]
  },
  {
   "cell_type": "code",
   "execution_count": null,
   "metadata": {},
   "outputs": [],
   "source": []
  }
 ],
 "metadata": {
  "kernelspec": {
   "display_name": "Python 3",
   "language": "python",
   "name": "python3"
  },
  "language_info": {
   "codemirror_mode": {
    "name": "ipython",
    "version": 3
   },
   "file_extension": ".py",
   "mimetype": "text/x-python",
   "name": "python",
   "nbconvert_exporter": "python",
   "pygments_lexer": "ipython3",
   "version": "3.6.6"
  }
 },
 "nbformat": 4,
 "nbformat_minor": 2
}
